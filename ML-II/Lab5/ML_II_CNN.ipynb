{
  "nbformat": 4,
  "nbformat_minor": 0,
  "metadata": {
    "colab": {
      "provenance": [],
      "collapsed_sections": []
    },
    "kernelspec": {
      "name": "python3",
      "display_name": "Python 3"
    },
    "language_info": {
      "name": "python"
    }
  },
  "cells": [
    {
      "cell_type": "markdown",
      "source": [
        "# ML-II Lab 5 - CNN\n",
        "---\n",
        "## Jay Bhanushali - 60009200047"
      ],
      "metadata": {
        "id": "gw3XfVAy-3u6"
      }
    },
    {
      "cell_type": "code",
      "execution_count": 1,
      "metadata": {
        "id": "PkoV9_RENxtH"
      },
      "outputs": [],
      "source": [
        "import pandas as pd\n",
        "import numpy as np\n",
        "import cv2\n",
        "import matplotlib.pyplot as plt\n",
        "\n",
        "import tensorflow as tf\n",
        "from keras.datasets import mnist\n",
        "from keras.models import Sequential\n",
        "from keras.models import save_model\n",
        "from keras.layers import Dense, Dropout, Flatten, Conv2D, MaxPooling2D\n",
        "from keras.utils import to_categorical\n",
        "from keras.utils.vis_utils import plot_model\n",
        "from keras.losses import categorical_crossentropy\n"
      ]
    },
    {
      "cell_type": "code",
      "source": [
        "(x_train, y_train), (x_test, y_test) = mnist.load_data()\n",
        "print(f\"x_train shape:{x_train.shape}\")\n",
        "print(f\"y_train shape:{y_train.shape}\")\n",
        "\n",
        "# x_train= x_train.reshape(60000,28,28)\n",
        "# x_test= x_test.reshape(x_test.shape[0],28,28)\n",
        "\n",
        "input_shape=(28,28,1)\n",
        "\n",
        "y_train = to_categorical(y_train,10)\n",
        "\n",
        "print(f\"y_train shape:{y_train.shape}\")\n",
        "y_test = to_categorical(y_test,10)\n",
        "\n",
        "x_train= x_train.astype('float32')\n",
        "x_test= x_test.astype('float32')\n",
        "\n",
        "for i in range(1,11):\n",
        "  plt.subplot(5,2,i)\n",
        "  plt.imshow(x_train[i],cmap='gray')"
      ],
      "metadata": {
        "colab": {
          "base_uri": "https://localhost:8080/",
          "height": 356
        },
        "id": "40kUwfu4N2xf",
        "outputId": "d8b13b1f-c1e9-428c-e9f7-a1d144add8a4"
      },
      "execution_count": 2,
      "outputs": [
        {
          "output_type": "stream",
          "name": "stdout",
          "text": [
            "Downloading data from https://storage.googleapis.com/tensorflow/tf-keras-datasets/mnist.npz\n",
            "11490434/11490434 [==============================] - 1s 0us/step\n",
            "x_train shape:(60000, 28, 28)\n",
            "y_train shape:(60000,)\n",
            "y_train shape:(60000, 10)\n"
          ]
        },
        {
          "output_type": "display_data",
          "data": {
            "text/plain": [
              "<Figure size 432x288 with 10 Axes>"
            ],
            "image/png": "[encoded data removed]"
          },
          "metadata": {
            "needs_background": "light"
          }
        }
      ]
    },
    {
      "cell_type": "markdown",
      "source": [
        "### Hyperparameters"
      ],
      "metadata": {
        "id": "p8jaUnWBOjh-"
      }
    },
    {
      "cell_type": "code",
      "source": [
        "x_train /= 255\n",
        "x_test /=255\n",
        "batch_size=64 \n",
        "num_classes=10 \n",
        "epochs=2\n",
        "optimizers = ['Adam', 'Adadelta', 'Adagrad', 'RMSprop', 'SGD'] "
      ],
      "metadata": {
        "id": "2LSxx5o0N-A1"
      },
      "execution_count": 3,
      "outputs": []
    },
    {
      "cell_type": "markdown",
      "source": [
        "### Function to Build the Model"
      ],
      "metadata": {
        "id": "R8njiymxOvPt"
      }
    },
    {
      "cell_type": "code",
      "source": [
        "def build_model(optimizer): \n",
        "\n",
        "  model=Sequential()\n",
        "\n",
        "  # 1st conv layer and 1st pooling\n",
        "  model.add(Conv2D(32,kernel_size=(3,3),activation='relu',input_shape=input_shape)) \n",
        "  model.add(MaxPooling2D(pool_size=(2,2))) \n",
        "\n",
        "  # 2nd conv layer and 2nd pooling\n",
        "  model.add(Conv2D(32,kernel_size=(3,3),activation='relu')) \n",
        "  model.add(MaxPooling2D(pool_size=(2,2))) \n",
        "  model.add(Dropout(0.5)) \n",
        "\n",
        "  # Flattening\n",
        "  model.add(Flatten()) \n",
        "\n",
        "  # Densly connected layer\n",
        "  model.add(Dense(256, activation='relu')) \n",
        "  model.add(Dropout(0.5)) \n",
        "\n",
        "  # last layer\n",
        "  model.add(Dense(num_classes, activation='softmax')) \n",
        "\n",
        "  # model compilatioon\n",
        "  model.compile(loss=categorical_crossentropy, optimizer= optimizer, metrics=['accuracy']) \n",
        "\n",
        "  # print summary of the model\n",
        "  # model.summary()\n",
        "\n",
        "  return model"
      ],
      "metadata": {
        "id": "bhaplnl6Oz8O"
      },
      "execution_count": 4,
      "outputs": []
    },
    {
      "cell_type": "markdown",
      "source": [
        "### Adam"
      ],
      "metadata": {
        "id": "3Klpjm2JYBhC"
      }
    },
    {
      "cell_type": "code",
      "source": [
        "adam = build_model('Adam')\n",
        "adam.summary()\n",
        "plot_model(adam, to_file=\"mnist model\"+ '.jpg', show_shapes=True)\n",
        "hist=adam.fit(x_train, y_train, batch_size=batch_size, epochs=5, verbose=1, validation_data=(x_test,y_test)) "
      ],
      "metadata": {
        "colab": {
          "base_uri": "https://localhost:8080/"
        },
        "id": "al5cSmy-Poyk",
        "outputId": "28e78813-a2aa-4c0d-f4f1-64459c728c15"
      },
      "execution_count": 5,
      "outputs": [
        {
          "output_type": "stream",
          "name": "stdout",
          "text": [
            "Model: \"sequential\"\n",
            "_________________________________________________________________\n",
            " Layer (type)                Output Shape              Param #   \n",
            "=================================================================\n",
            " conv2d (Conv2D)             (None, 26, 26, 32)        320       \n",
            "                                                                 \n",
            " max_pooling2d (MaxPooling2D  (None, 13, 13, 32)       0         \n",
            " )                                                               \n",
            "                                                                 \n",
            " conv2d_1 (Conv2D)           (None, 11, 11, 32)        9248      \n",
            "                                                                 \n",
            " max_pooling2d_1 (MaxPooling  (None, 5, 5, 32)         0         \n",
            " 2D)                                                             \n",
            "                                                                 \n",
            " dropout (Dropout)           (None, 5, 5, 32)          0         \n",
            "                                                                 \n",
            " flatten (Flatten)           (None, 800)               0         \n",
            "                                                                 \n",
            " dense (Dense)               (None, 256)               205056    \n",
            "                                                                 \n",
            " dropout_1 (Dropout)         (None, 256)               0         \n",
            "                                                                 \n",
            " dense_1 (Dense)             (None, 10)                2570      \n",
            "                                                                 \n",
            "=================================================================\n",
            "Total params: 217,194\n",
            "Trainable params: 217,194\n",
            "Non-trainable params: 0\n",
            "_________________________________________________________________\n",
            "Epoch 1/5\n",
            "938/938 [==============================] - 57s 60ms/step - loss: 0.3019 - accuracy: 0.9043 - val_loss: 0.0608 - val_accuracy: 0.9800\n",
            "Epoch 2/5\n",
            "938/938 [==============================] - 49s 52ms/step - loss: 0.1150 - accuracy: 0.9643 - val_loss: 0.0434 - val_accuracy: 0.9846\n",
            "Epoch 3/5\n",
            "938/938 [==============================] - 48s 51ms/step - loss: 0.0894 - accuracy: 0.9718 - val_loss: 0.0367 - val_accuracy: 0.9875\n",
            "Epoch 4/5\n",
            "938/938 [==============================] - 49s 52ms/step - loss: 0.0795 - accuracy: 0.9749 - val_loss: 0.0340 - val_accuracy: 0.9889\n",
            "Epoch 5/5\n",
            "938/938 [==============================] - 53s 56ms/step - loss: 0.0693 - accuracy: 0.9784 - val_loss: 0.0286 - val_accuracy: 0.9895\n"
          ]
        }
      ]
    },
    {
      "cell_type": "code",
      "source": [
        "hist.history"
      ],
      "metadata": {
        "colab": {
          "base_uri": "https://localhost:8080/"
        },
        "id": "d17IvN15TqUN",
        "outputId": "ccd21e6b-ec21-4666-bd6c-4fa593df5b29"
      },
      "execution_count": 6,
      "outputs": [
        {
          "output_type": "execute_result",
          "data": {
            "text/plain": [
              "{'loss': [0.30186939239501953,\n",
              "  0.11497661471366882,\n",
              "  0.08942882716655731,\n",
              "  0.0794670581817627,\n",
              "  0.0693206787109375],\n",
              " 'accuracy': [0.9043166637420654,\n",
              "  0.9642500281333923,\n",
              "  0.9717833399772644,\n",
              "  0.9749000072479248,\n",
              "  0.9784166812896729],\n",
              " 'val_loss': [0.06084666773676872,\n",
              "  0.043421559035778046,\n",
              "  0.03668605163693428,\n",
              "  0.03403635695576668,\n",
              "  0.028643792495131493],\n",
              " 'val_accuracy': [0.9800000190734863,\n",
              "  0.9846000075340271,\n",
              "  0.987500011920929,\n",
              "  0.9889000058174133,\n",
              "  0.9894999861717224]}"
            ]
          },
          "metadata": {},
          "execution_count": 6
        }
      ]
    },
    {
      "cell_type": "code",
      "source": [
        "plt.title('Adam')\n",
        "plt.plot(hist.history['accuracy'])\n",
        "plt.plot(hist.history['val_accuracy'])"
      ],
      "metadata": {
        "colab": {
          "base_uri": "https://localhost:8080/",
          "height": 298
        },
        "id": "DWsqMjTDSPY1",
        "outputId": "ab187fc8-29cd-4903-ac2e-650b8ea66c6c"
      },
      "execution_count": 7,
      "outputs": [
        {
          "output_type": "execute_result",
          "data": {
            "text/plain": [
              "[<matplotlib.lines.Line2D at 0x7eff832b8090>]"
            ]
          },
          "metadata": {},
          "execution_count": 7
        },
        {
          "output_type": "display_data",
          "data": {
            "text/plain": [
              "<Figure size 432x288 with 1 Axes>"
            ],
            "image/png": "[encoded data removed]"
          },
          "metadata": {
            "needs_background": "light"
          }
        }
      ]
    },
    {
      "cell_type": "markdown",
      "source": [
        "### Adadelta"
      ],
      "metadata": {
        "id": "legLNAhiYEbU"
      }
    },
    {
      "cell_type": "code",
      "source": [
        "adadelta = build_model('Adadelta') \n",
        "\n",
        "hist=adadelta.fit(x_train, y_train, batch_size=batch_size, epochs=3, verbose=1, validation_data=(x_test,y_test)) \n",
        "\n",
        "plt.title('Adadelta')\n",
        "plt.plot(hist.history['accuracy'])\n",
        "plt.plot(hist.history['val_accuracy']) "
      ],
      "metadata": {
        "colab": {
          "base_uri": "https://localhost:8080/",
          "height": 402
        },
        "id": "AF4VTsX7PbdE",
        "outputId": "b7c65b88-a391-4adb-cdc3-522c2c20d2f7"
      },
      "execution_count": 8,
      "outputs": [
        {
          "output_type": "stream",
          "name": "stdout",
          "text": [
            "Epoch 1/3\n",
            "938/938 [==============================] - 62s 66ms/step - loss: 2.3173 - accuracy: 0.1085 - val_loss: 2.2915 - val_accuracy: 0.1685\n",
            "Epoch 2/3\n",
            "938/938 [==============================] - 54s 57ms/step - loss: 2.2994 - accuracy: 0.1230 - val_loss: 2.2727 - val_accuracy: 0.2477\n",
            "Epoch 3/3\n",
            "938/938 [==============================] - 53s 57ms/step - loss: 2.2822 - accuracy: 0.1454 - val_loss: 2.2540 - val_accuracy: 0.3414\n"
          ]
        },
        {
          "output_type": "execute_result",
          "data": {
            "text/plain": [
              "[<matplotlib.lines.Line2D at 0x7eff83590490>]"
            ]
          },
          "metadata": {},
          "execution_count": 8
        },
        {
          "output_type": "display_data",
          "data": {
            "text/plain": [
              "<Figure size 432x288 with 1 Axes>"
            ],
            "image/png": "[encoded data removed]"
          },
          "metadata": {
            "needs_background": "light"
          }
        }
      ]
    },
    {
      "cell_type": "markdown",
      "source": [
        "### Adagrad"
      ],
      "metadata": {
        "id": "WSMSw8ATYLRy"
      }
    },
    {
      "cell_type": "code",
      "source": [
        "adagrad = build_model('Adagrad') \n",
        "\n",
        "hist=adagrad.fit(x_train, y_train, batch_size=batch_size, epochs=3, verbose=1, validation_data=(x_test,y_test)) \n",
        "\n",
        "plt.title('Adagrad')\n",
        "plt.plot(hist.history['accuracy'])\n",
        "plt.plot(hist.history['val_accuracy']) "
      ],
      "metadata": {
        "colab": {
          "base_uri": "https://localhost:8080/",
          "height": 402
        },
        "id": "8lG0ZrVtXQRs",
        "outputId": "9ac0cacb-759f-4909-bc25-3c9f2ed3bf62"
      },
      "execution_count": 9,
      "outputs": [
        {
          "output_type": "stream",
          "name": "stdout",
          "text": [
            "Epoch 1/3\n",
            "938/938 [==============================] - 53s 56ms/step - loss: 2.2421 - accuracy: 0.1822 - val_loss: 2.0572 - val_accuracy: 0.6364\n",
            "Epoch 2/3\n",
            "938/938 [==============================] - 55s 59ms/step - loss: 1.8309 - accuracy: 0.4013 - val_loss: 1.1393 - val_accuracy: 0.7812\n",
            "Epoch 3/3\n",
            "938/938 [==============================] - 54s 57ms/step - loss: 1.2794 - accuracy: 0.5780 - val_loss: 0.6970 - val_accuracy: 0.8434\n"
          ]
        },
        {
          "output_type": "execute_result",
          "data": {
            "text/plain": [
              "[<matplotlib.lines.Line2D at 0x7eff7be3aad0>]"
            ]
          },
          "metadata": {},
          "execution_count": 9
        },
        {
          "output_type": "display_data",
          "data": {
            "text/plain": [
              "<Figure size 432x288 with 1 Axes>"
            ],
            "image/png": "[encoded data removed]"
          },
          "metadata": {
            "needs_background": "light"
          }
        }
      ]
    },
    {
      "cell_type": "markdown",
      "source": [
        "### RMSprop"
      ],
      "metadata": {
        "id": "osDnnoJ5YPsB"
      }
    },
    {
      "cell_type": "code",
      "source": [
        "rmsprop = build_model('RMSprop') \n",
        "\n",
        "hist=rmsprop.fit(x_train, y_train, batch_size=batch_size, epochs=3, verbose=1, validation_data=(x_test,y_test)) \n",
        "\n",
        "plt.title('RMSprop')\n",
        "plt.plot(hist.history['accuracy'])\n",
        "plt.plot(hist.history['val_accuracy']) "
      ],
      "metadata": {
        "colab": {
          "base_uri": "https://localhost:8080/",
          "height": 402
        },
        "id": "EG78usqSXS4U",
        "outputId": "961cb894-ab19-44dd-8efe-a4a2cc43aa64"
      },
      "execution_count": 10,
      "outputs": [
        {
          "output_type": "stream",
          "name": "stdout",
          "text": [
            "Epoch 1/3\n",
            "938/938 [==============================] - 57s 60ms/step - loss: 0.2879 - accuracy: 0.9095 - val_loss: 0.0701 - val_accuracy: 0.9792\n",
            "Epoch 2/3\n",
            "938/938 [==============================] - 57s 61ms/step - loss: 0.1145 - accuracy: 0.9640 - val_loss: 0.0458 - val_accuracy: 0.9850\n",
            "Epoch 3/3\n",
            "938/938 [==============================] - 56s 59ms/step - loss: 0.0975 - accuracy: 0.9701 - val_loss: 0.0393 - val_accuracy: 0.9865\n"
          ]
        },
        {
          "output_type": "execute_result",
          "data": {
            "text/plain": [
              "[<matplotlib.lines.Line2D at 0x7eff7bc5e910>]"
            ]
          },
          "metadata": {},
          "execution_count": 10
        },
        {
          "output_type": "display_data",
          "data": {
            "text/plain": [
              "<Figure size 432x288 with 1 Axes>"
            ],
            "image/png": "[encoded data removed]"
          },
          "metadata": {
            "needs_background": "light"
          }
        }
      ]
    },
    {
      "cell_type": "markdown",
      "source": [
        "### SGD"
      ],
      "metadata": {
        "id": "Uwwp14_hYRJS"
      }
    },
    {
      "cell_type": "code",
      "source": [
        "sgd = build_model('SGD') \n",
        "\n",
        "hist=sgd.fit(x_train, y_train, batch_size=batch_size, epochs=3, verbose=1, validation_data=(x_test,y_test)) \n",
        "\n",
        "plt.title('SGD')\n",
        "plt.plot(hist.history['accuracy'])\n",
        "plt.plot(hist.history['val_accuracy']) "
      ],
      "metadata": {
        "colab": {
          "base_uri": "https://localhost:8080/",
          "height": 402
        },
        "id": "ZtNAILu6XxZ6",
        "outputId": "68f6661e-f67f-43bd-9fa6-e0dad1bb1c4c"
      },
      "execution_count": 11,
      "outputs": [
        {
          "output_type": "stream",
          "name": "stdout",
          "text": [
            "Epoch 1/3\n",
            "938/938 [==============================] - 54s 57ms/step - loss: 1.4715 - accuracy: 0.4947 - val_loss: 0.3778 - val_accuracy: 0.9061\n",
            "Epoch 2/3\n",
            "938/938 [==============================] - 54s 58ms/step - loss: 0.5300 - accuracy: 0.8299 - val_loss: 0.2018 - val_accuracy: 0.9460\n",
            "Epoch 3/3\n",
            "938/938 [==============================] - 55s 58ms/step - loss: 0.3740 - accuracy: 0.8828 - val_loss: 0.1514 - val_accuracy: 0.9560\n"
          ]
        },
        {
          "output_type": "execute_result",
          "data": {
            "text/plain": [
              "[<matplotlib.lines.Line2D at 0x7eff7b980e10>]"
            ]
          },
          "metadata": {},
          "execution_count": 11
        },
        {
          "output_type": "display_data",
          "data": {
            "text/plain": [
              "<Figure size 432x288 with 1 Axes>"
            ],
            "image/png": "[encoded data removed]"
          },
          "metadata": {
            "needs_background": "light"
          }
        }
      ]
    },
    {
      "cell_type": "markdown",
      "source": [
        "### Save the model"
      ],
      "metadata": {
        "id": "ASD9R9gEk7NN"
      }
    },
    {
      "cell_type": "code",
      "source": [
        "save_model(adam, 'mnist.h5', save_format='h5')"
      ],
      "metadata": {
        "id": "aNsfHScTkyaL"
      },
      "execution_count": 12,
      "outputs": []
    },
    {
      "cell_type": "markdown",
      "source": [
        "### Load model and predict"
      ],
      "metadata": {
        "id": "VKGJSUiYlUe3"
      }
    },
    {
      "cell_type": "code",
      "source": [
        "def predict_img(model, img):\n",
        "  img = cv2.resize(img, (28,28))\n",
        "  # img = img.astype('float32') / 255\n",
        "  img = np.reshape(img, (1,28,28))\n",
        "  pred = model.predict(img, verbose=0)\n",
        "  # print(pred)\n",
        "  # print(\"Predicted Class: \", np.argmax(pred))\n",
        "  return pred, np.argmax(pred)"
      ],
      "metadata": {
        "id": "mrZ_QwawlT79"
      },
      "execution_count": 13,
      "outputs": []
    },
    {
      "cell_type": "code",
      "source": [
        "img = x_test[1]\n",
        "plt.imshow(img, cmap='gray')\n",
        "pred, class_pred = predict_img(adam, img)\n",
        "print(f\"Predictions: {pred}\\nPredicted Class: {class_pred}\")"
      ],
      "metadata": {
        "colab": {
          "base_uri": "https://localhost:8080/",
          "height": 317
        },
        "id": "OXSDg2TQNrkJ",
        "outputId": "a7cf317c-ee21-4b46-8d78-72a13f5facbf"
      },
      "execution_count": 14,
      "outputs": [
        {
          "output_type": "stream",
          "name": "stdout",
          "text": [
            "Predictions: [[2.2310501e-06 4.9726864e-06 9.9999273e-01 2.1408959e-09 4.4321571e-11\n",
            "  1.4489078e-11 3.7194623e-09 3.1690699e-09 2.1409621e-08 5.4815887e-12]]\n",
            "Predicted Class: 2\n"
          ]
        },
        {
          "output_type": "display_data",
          "data": {
            "text/plain": [
              "<Figure size 432x288 with 1 Axes>"
            ],
            "image/png": "[encoded data removed]"
          },
          "metadata": {
            "needs_background": "light"
          }
        }
      ]
    },
    {
      "cell_type": "code",
      "source": [
        "np.argmax(y_test[1])"
      ],
      "metadata": {
        "colab": {
          "base_uri": "https://localhost:8080/"
        },
        "id": "IegSr_08jwjh",
        "outputId": "498f28be-1959-4925-8ac9-63b17a39dd52"
      },
      "execution_count": 15,
      "outputs": [
        {
          "output_type": "execute_result",
          "data": {
            "text/plain": [
              "2"
            ]
          },
          "metadata": {},
          "execution_count": 15
        }
      ]
    },
    {
      "cell_type": "code",
      "source": [
        "arr = []\n",
        "for i in range(y_test.shape[0]):\n",
        "  img = x_test[i]\n",
        "  # plt.imshow(img, cmap='gray')\n",
        "  pred, class_pred = predict_img(adam, img)\n",
        "  arr.append(class_pred == np.argmax(y_test[i]))\n",
        "# print(arr)\n",
        "print(f\"Accuracy: {sum(arr)/len(arr)*100}%\")"
      ],
      "metadata": {
        "id": "8nKrvpGCSWXf",
        "colab": {
          "base_uri": "https://localhost:8080/"
        },
        "outputId": "2a8c1cea-7153-4fa0-84c2-8613875705b9"
      },
      "execution_count": 66,
      "outputs": [
        {
          "output_type": "stream",
          "name": "stdout",
          "text": [
            "Accuracy: 98.95%\n"
          ]
        }
      ]
    },
    {
      "cell_type": "code",
      "source": [
        "y_test_classes = []\n",
        "for row in y_test:\n",
        "  y_test_classes.append( np.argmax(row) )\n",
        "\n",
        "np.array(y_test_classes)"
      ],
      "metadata": {
        "colab": {
          "base_uri": "https://localhost:8080/"
        },
        "id": "RfjVgpu9063x",
        "outputId": "c8885b74-369f-43c7-fd6a-d452240f6f9b"
      },
      "execution_count": 57,
      "outputs": [
        {
          "output_type": "execute_result",
          "data": {
            "text/plain": [
              "array([7, 2, 1, ..., 4, 5, 6])"
            ]
          },
          "metadata": {},
          "execution_count": 57
        }
      ]
    },
    {
      "cell_type": "code",
      "source": [
        "predictions_classes = []\n",
        "for row in y_test:\n",
        "  predictions_classes.append( np.argmax(row) )\n",
        "\n",
        "np.array(predictions_classes)"
      ],
      "metadata": {
        "colab": {
          "base_uri": "https://localhost:8080/"
        },
        "id": "IljMiIor1bl5",
        "outputId": "ffa1bcef-4ce8-4ce6-8de0-1e268d919a30"
      },
      "execution_count": 59,
      "outputs": [
        {
          "output_type": "execute_result",
          "data": {
            "text/plain": [
              "array([7, 2, 1, ..., 4, 5, 6])"
            ]
          },
          "metadata": {},
          "execution_count": 59
        }
      ]
    },
    {
      "cell_type": "code",
      "source": [
        "cm = tf.math.confusion_matrix(labels=np.array(y_test_classes), predictions=np.array(predictions_classes))"
      ],
      "metadata": {
        "id": "2Mrt2Sea0QxQ"
      },
      "execution_count": 62,
      "outputs": []
    },
    {
      "cell_type": "code",
      "source": [
        "import seaborn as sns"
      ],
      "metadata": {
        "id": "ZA-Azt0s2WhH"
      },
      "execution_count": 61,
      "outputs": []
    },
    {
      "cell_type": "code",
      "source": [
        "sns.heatmap(cm, annot=True)"
      ],
      "metadata": {
        "colab": {
          "base_uri": "https://localhost:8080/",
          "height": 282
        },
        "id": "pqBXtYxX2Yus",
        "outputId": "e702c809-137a-4c19-a539-8790fa580c7f"
      },
      "execution_count": 63,
      "outputs": [
        {
          "output_type": "execute_result",
          "data": {
            "text/plain": [
              "<matplotlib.axes._subplots.AxesSubplot at 0x7eff782d0750>"
            ]
          },
          "metadata": {},
          "execution_count": 63
        },
        {
          "output_type": "display_data",
          "data": {
            "text/plain": [
              "<Figure size 432x288 with 2 Axes>"
            ],
            "image/png": "[encoded data removed]"
          },
          "metadata": {
            "needs_background": "light"
          }
        }
      ]
    }
  ]
}