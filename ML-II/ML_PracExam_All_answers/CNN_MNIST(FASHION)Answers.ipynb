{
  "cells": [
    {
      "cell_type": "markdown",
      "metadata": {
        "id": "Y7bn7eKI9Zfp"
      },
      "source": [
        "**CNN (MNIST DIGIT DATASET)**\n"
      ]
    },
    {
      "cell_type": "markdown",
      "metadata": {
        "id": "S2NnlUwG-F9N"
      },
      "source": [
        "Insert Code wherever represented with \"#***************#\""
      ]
    },
    {
      "cell_type": "markdown",
      "metadata": {
        "id": "K_vch6Ru_S7B"
      },
      "source": [
        "# Importing Libraries"
      ]
    },
    {
      "cell_type": "code",
      "execution_count": 4,
      "metadata": {
        "id": "tqfK9VgKUeOk"
      },
      "outputs": [],
      "source": [
        "import keras\n",
        "import cv2\n",
        "import numpy as np\n",
        "from keras.datasets import fashion_mnist\n",
        "from keras.models import Sequential , load_model\n",
        "from keras.layers import Dense, Dropout, Flatten, Conv2D, MaxPooling2D\n",
        "import matplotlib.pyplot as plt\n",
        "from keras.utils.vis_utils import plot_model\n",
        "\n",
        "from keras.utils import np_utils\n"
      ]
    },
    {
      "cell_type": "markdown",
      "metadata": {
        "id": "YBdpRv6B_uTn"
      },
      "source": [
        "# Data Preprocessing"
      ]
    },
    {
      "cell_type": "code",
      "execution_count": 7,
      "metadata": {
        "colab": {
          "base_uri": "https://localhost:8080/",
          "height": 269
        },
        "id": "qsL8aQe88Eeu",
        "outputId": "4b287c35-58a2-44f3-a9c1-8a9deefb896c"
      },
      "outputs": [
        {
          "data": {
            "image/png": "[encoded data removed]",
            "text/plain": [
              "<Figure size 432x288 with 10 Axes>"
            ]
          },
          "metadata": {
            "needs_background": "light"
          },
          "output_type": "display_data"
        }
      ],
      "source": [
        "(x_train, y_train), (x_test, y_test) = fashion_mnist.load_data()\n",
        "\n",
        "x_train= x_train.reshape(60000,28,28,1)\n",
        "# x_train= x_train.reshape(60000,28,28)\n",
        "\n",
        "x_test= x_test.reshape(x_test.shape[0],28,28,1)\n",
        "# x_test= x_test.reshape(x_test.shape[0],28,28)\n",
        "\n",
        "input_shape=(28,28,1)\n",
        "\n",
        "y_train=keras.utils.np_utils.to_categorical(y_train,10)\n",
        "\n",
        "y_test=keras.utils.np_utils.to_categorical(y_test,10)\n",
        "\n",
        "x_train= x_train.astype('float32')\n",
        "x_test= x_test.astype('float32')\n",
        "\n",
        "for i in range(10):\n",
        "  plt.imshow(x_train[i])\n",
        "  plt.subplot(5,2,i+1)"
      ]
    },
    {
      "cell_type": "markdown",
      "metadata": {
        "id": "0IKub0EVK0Qj"
      },
      "source": [
        "# Build CNN Model"
      ]
    },
    {
      "cell_type": "code",
      "execution_count": 8,
      "metadata": {
        "colab": {
          "base_uri": "https://localhost:8080/"
        },
        "id": "eAOm0vmLBLip",
        "outputId": "0bad3a9d-6e82-43f4-d7a5-b199740e7888"
      },
      "outputs": [
        {
          "name": "stdout",
          "output_type": "stream",
          "text": [
            "Model: \"sequential_1\"\n",
            "_________________________________________________________________\n",
            "Layer (type)                 Output Shape              Param #   \n",
            "=================================================================\n",
            "conv2d_2 (Conv2D)            (None, 26, 26, 32)        320       \n",
            "_________________________________________________________________\n",
            "max_pooling2d_2 (MaxPooling2 (None, 13, 13, 32)        0         \n",
            "_________________________________________________________________\n",
            "conv2d_3 (Conv2D)            (None, 11, 11, 32)        9248      \n",
            "_________________________________________________________________\n",
            "max_pooling2d_3 (MaxPooling2 (None, 5, 5, 32)          0         \n",
            "_________________________________________________________________\n",
            "dropout_2 (Dropout)          (None, 5, 5, 32)          0         \n",
            "_________________________________________________________________\n",
            "flatten_1 (Flatten)          (None, 800)               0         \n",
            "_________________________________________________________________\n",
            "dense_2 (Dense)              (None, 256)               205056    \n",
            "_________________________________________________________________\n",
            "dropout_3 (Dropout)          (None, 256)               0         \n",
            "_________________________________________________________________\n",
            "dense_3 (Dense)              (None, 10)                2570      \n",
            "=================================================================\n",
            "Total params: 217,194\n",
            "Trainable params: 217,194\n",
            "Non-trainable params: 0\n",
            "_________________________________________________________________\n",
            "('You must install pydot (`pip install pydot`) and install graphviz (see instructions at https://graphviz.gitlab.io/download/) ', 'for plot_model/model_to_dot to work.')\n",
            "Epoch 1/2\n",
            "938/938 [==============================] - 107s 80ms/step - loss: 0.7542 - accuracy: 0.7284 - val_loss: 0.4032 - val_accuracy: 0.8561\n",
            "Epoch 2/2\n",
            "938/938 [==============================] - 62s 67ms/step - loss: 0.4006 - accuracy: 0.8545 - val_loss: 0.3667 - val_accuracy: 0.8692\n"
          ]
        }
      ],
      "source": [
        "x_train /= 255\n",
        "x_test /=255\n",
        "batch_size=64 \n",
        "\n",
        "num_classes=10\n",
        "epochs=2\n",
        "\n",
        "def build_model(optimizer): \n",
        "\n",
        "  model=Sequential()\n",
        "\n",
        "  model.add(Conv2D(32,kernel_size=(3,3),activation='relu',input_shape=input_shape)) \n",
        "\n",
        "  model.add(MaxPooling2D(pool_size=(2,2))) \n",
        "\n",
        "  model.add(Conv2D(32,kernel_size=(3,3),activation='relu')) \n",
        "\n",
        "  model.add(MaxPooling2D(pool_size=(2,2))) \n",
        "\n",
        "  model.add(Dropout(0.25)) \n",
        "\n",
        "  model.add(Flatten()) \n",
        "\n",
        "  model.add(Dense(256, activation='relu')) \n",
        "\n",
        "  model.add(Dropout(0.5)) \n",
        "\n",
        "  model.add(Dense(num_classes, activation='softmax')) \n",
        "\n",
        "  model.compile(loss=keras.losses.categorical_crossentropy, optimizer= optimizer, metrics=['accuracy']) \n",
        "  model.summary()\n",
        "\n",
        "  return model \n",
        "\n",
        "# optimizers = ['Adadelta', 'Adagrad', 'Adam', 'RMSprop', 'SGD'] \n",
        "\n",
        "# #for i in optimizers: \n",
        "\n",
        "model = build_model('RMSprop') \n",
        "\n",
        "\n",
        "plot_model(model, to_file=\"mnist model\"+ '.jpg', show_shapes=True)\n",
        "hist=model.fit(x_train, y_train, batch_size=batch_size, epochs=epochs, verbose=1, validation_data=(x_test,y_test)) "
      ]
    },
    {
      "cell_type": "code",
      "execution_count": 9,
      "metadata": {
        "colab": {
          "base_uri": "https://localhost:8080/",
          "height": 282
        },
        "id": "Y-VbkMbGzZ8M",
        "outputId": "38e09472-4bef-4425-9c77-8dcbc0593a5b"
      },
      "outputs": [
        {
          "data": {
            "text/plain": [
              "[<matplotlib.lines.Line2D at 0x21c1c669b50>]"
            ]
          },
          "execution_count": 9,
          "metadata": {},
          "output_type": "execute_result"
        },
        {
          "data": {
            "image/png": "[encoded data removed]",
            "text/plain": [
              "<Figure size 432x288 with 1 Axes>"
            ]
          },
          "metadata": {
            "needs_background": "light"
          },
          "output_type": "display_data"
        }
      ],
      "source": [
        "y1=hist.history['accuracy']\n",
        "y2=hist.history['val_accuracy']\n",
        "plt.plot(y1)\n",
        "plt.plot(y2)"
      ]
    },
    {
      "cell_type": "markdown",
      "metadata": {
        "id": "sN7dbWyxLMSu"
      },
      "source": [
        "# Predict Image"
      ]
    },
    {
      "cell_type": "code",
      "execution_count": 12,
      "metadata": {
        "colab": {
          "base_uri": "https://localhost:8080/",
          "height": 352
        },
        "id": "kegd0MEqEgXD",
        "outputId": "0b3b6aa7-20f0-472a-eaf0-894d4995a040"
      },
      "outputs": [
        {
          "name": "stdout",
          "output_type": "stream",
          "text": [
            "[[1.79071748e-03 1.67716935e-04 9.10828728e-03 9.66540712e-04\n",
            "  2.50917435e-01 1.15697265e-04 7.32813597e-01 6.79846562e-06\n",
            "  4.07859730e-03 3.45722765e-05]]\n",
            "Shirt\n"
          ]
        },
        {
          "data": {
            "text/plain": [
              "<matplotlib.image.AxesImage at 0x21c1c670bb0>"
            ]
          },
          "execution_count": 12,
          "metadata": {},
          "output_type": "execute_result"
        },
        {
          "data": {
            "image/png": "[encoded data removed]",
            "text/plain": [
              "<Figure size 432x288 with 1 Axes>"
            ]
          },
          "metadata": {
            "needs_background": "light"
          },
          "output_type": "display_data"
        }
      ],
      "source": [
        "keras.models.save_model(model, \"mnist.h5\", save_format=\"h5\")\n",
        "labels = {0 : \"T-shirt/top\", 1: \"Trouser\", 2: \"Pullover\", 3: \"Dress\", 4: \"Coat\",\n",
        "          5: \"Sandal\", 6: \"Shirt\", 7: \"Sneaker\", 8: \"Bag\", 9: \"Ankle Boot\"}\n",
        "\n",
        "def predict_image(model, img):\n",
        "  # img = cv2.resize(img, (28,28,1))\n",
        "  img = np.reshape(img,(1, 28, 28,1))\n",
        "  pred = model.predict(img)\n",
        "  img = img.astype('float32')\n",
        "  img /=255\n",
        "  print(pred)\n",
        "  answer = np.argmax(pred)\n",
        "  print(labels[answer])\n",
        "  #label = '' if np.array(pred).size >= 0.5 else 'NORMAL'\n",
        "  #print(\"prediction: \", label, \"P(Pneumonia): \", pred[0][0])\n",
        "\n",
        "\n",
        "m = load_model('./mnist.h5')\n",
        "predict_image(m, x_test[7])\n",
        "plt.imshow(x_test[7],cmap='gray')\n"
      ]
    },
    {
      "cell_type": "markdown",
      "metadata": {
        "id": "1ki_0BmBatUw"
      },
      "source": []
    }
  ],
  "metadata": {
    "colab": {
      "provenance": [],
      "toc_visible": true
    },
    "kernelspec": {
      "display_name": "Python 3",
      "language": "python",
      "name": "python3"
    },
    "language_info": {
      "codemirror_mode": {
        "name": "ipython",
        "version": 3
      },
      "file_extension": ".py",
      "mimetype": "text/x-python",
      "name": "python",
      "nbconvert_exporter": "python",
      "pygments_lexer": "ipython3",
      "version": "3.9.1"
    },
    "vscode": {
      "interpreter": {
        "hash": "07d623e3832b78ce69fa2c095939a54ed4f3e8fe6909ed4ae68f2da80f027625"
      }
    }
  },
  "nbformat": 4,
  "nbformat_minor": 0
}
