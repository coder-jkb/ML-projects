{
  "cells": [
    {
      "cell_type": "markdown",
      "metadata": {
        "id": "vjYxJScN47Gx"
      },
      "source": [
        "# Jay Bhanushali (60009200047)\n",
        "---\n",
        "## Boolean functions using Perceptron model"
      ]
    },
    {
      "cell_type": "markdown",
      "metadata": {
        "id": "TnWN7DVi5au-"
      },
      "source": [
        "### Activation function (step function)"
      ]
    },
    {
      "cell_type": "code",
      "execution_count": 1,
      "metadata": {
        "id": "QL4TABeE565t"
      },
      "outputs": [],
      "source": [
        "import numpy as np\n",
        "import pandas as pd\n",
        "\n",
        "X = [[0,0],[0,1],[1,0],[1,1]] # shape = 4x2"
      ]
    },
    {
      "cell_type": "code",
      "execution_count": 2,
      "metadata": {
        "id": "ucvOuRa347G0"
      },
      "outputs": [],
      "source": [
        "  def activation(yin):\n",
        "    if yin >= 0:\n",
        "      return 1\n",
        "    return 0"
      ]
    },
    {
      "cell_type": "markdown",
      "metadata": {
        "id": "MMkcw6AF5y1F"
      },
      "source": [
        "### Perceptron"
      ]
    },
    {
      "cell_type": "code",
      "execution_count": 3,
      "metadata": {
        "id": "T2V6B0xa506l"
      },
      "outputs": [],
      "source": [
        "def perceptron(x,w,b):\n",
        "  yin = np.dot(w,x) + b\n",
        "  return activation(yin)"
      ]
    },
    {
      "cell_type": "markdown",
      "metadata": {
        "id": "jwuhM6jZ47G1"
      },
      "source": [
        "### AND"
      ]
    },
    {
      "cell_type": "code",
      "execution_count": 4,
      "metadata": {
        "id": "yHCZsSrE47G1"
      },
      "outputs": [],
      "source": [
        "def AND(x):\n",
        "  w = [1,1]\n",
        "  b = -2\n",
        "  return perceptron(x,w,b)"
      ]
    },
    {
      "cell_type": "code",
      "execution_count": 5,
      "metadata": {},
      "outputs": [
        {
          "name": "stdout",
          "output_type": "stream",
          "text": [
            "AND gate\n"
          ]
        },
        {
          "data": {
            "text/html": [
              "<style type=\"text/css\">\n",
              "</style>\n",
              "<table id=\"T_656e1_\">\n",
              "  <thead>\n",
              "    <tr>\n",
              "      <th class=\"col_heading level0 col0\" >X1</th>\n",
              "      <th class=\"col_heading level0 col1\" >X2</th>\n",
              "      <th class=\"col_heading level0 col2\" >Y</th>\n",
              "    </tr>\n",
              "  </thead>\n",
              "  <tbody>\n",
              "    <tr>\n",
              "      <td id=\"T_656e1_row0_col0\" class=\"data row0 col0\" >0</td>\n",
              "      <td id=\"T_656e1_row0_col1\" class=\"data row0 col1\" >0</td>\n",
              "      <td id=\"T_656e1_row0_col2\" class=\"data row0 col2\" >0</td>\n",
              "    </tr>\n",
              "    <tr>\n",
              "      <td id=\"T_656e1_row1_col0\" class=\"data row1 col0\" >0</td>\n",
              "      <td id=\"T_656e1_row1_col1\" class=\"data row1 col1\" >1</td>\n",
              "      <td id=\"T_656e1_row1_col2\" class=\"data row1 col2\" >0</td>\n",
              "    </tr>\n",
              "    <tr>\n",
              "      <td id=\"T_656e1_row2_col0\" class=\"data row2 col0\" >1</td>\n",
              "      <td id=\"T_656e1_row2_col1\" class=\"data row2 col1\" >0</td>\n",
              "      <td id=\"T_656e1_row2_col2\" class=\"data row2 col2\" >0</td>\n",
              "    </tr>\n",
              "    <tr>\n",
              "      <td id=\"T_656e1_row3_col0\" class=\"data row3 col0\" >1</td>\n",
              "      <td id=\"T_656e1_row3_col1\" class=\"data row3 col1\" >1</td>\n",
              "      <td id=\"T_656e1_row3_col2\" class=\"data row3 col2\" >1</td>\n",
              "    </tr>\n",
              "  </tbody>\n",
              "</table>\n"
            ],
            "text/plain": [
              "<pandas.io.formats.style.Styler at 0x153a64985b0>"
            ]
          },
          "execution_count": 5,
          "metadata": {},
          "output_type": "execute_result"
        }
      ],
      "source": [
        "print(\"AND gate\")\n",
        "and_df = pd.DataFrame(columns=['X1', 'X2', 'Y'])\n",
        "for x in X:\n",
        "    and_df = and_df.append({'X1':x[0], 'X2':x[1], 'Y':AND(x)}, ignore_index=True)\n",
        "\n",
        "and_df.style.hide_index()"
      ]
    },
    {
      "cell_type": "markdown",
      "metadata": {
        "id": "a7PvIfuC7Jzf"
      },
      "source": [
        "### OR"
      ]
    },
    {
      "cell_type": "code",
      "execution_count": 6,
      "metadata": {
        "id": "y5lSxMO57Jzg"
      },
      "outputs": [],
      "source": [
        "def OR(x):\n",
        "  w = [1,1]\n",
        "  b = -1\n",
        "  return perceptron(x,w,b)"
      ]
    },
    {
      "cell_type": "code",
      "execution_count": 7,
      "metadata": {
        "colab": {
          "base_uri": "https://localhost:8080/"
        },
        "id": "ROZLqyE69B-J",
        "outputId": "cf333518-6a9f-495f-ec10-fb99fb87fd6b"
      },
      "outputs": [
        {
          "name": "stdout",
          "output_type": "stream",
          "text": [
            "OR gate\n"
          ]
        },
        {
          "data": {
            "text/html": [
              "<style type=\"text/css\">\n",
              "</style>\n",
              "<table id=\"T_50672_\">\n",
              "  <thead>\n",
              "    <tr>\n",
              "      <th class=\"col_heading level0 col0\" >X1</th>\n",
              "      <th class=\"col_heading level0 col1\" >X2</th>\n",
              "      <th class=\"col_heading level0 col2\" >Y</th>\n",
              "    </tr>\n",
              "  </thead>\n",
              "  <tbody>\n",
              "    <tr>\n",
              "      <td id=\"T_50672_row0_col0\" class=\"data row0 col0\" >0</td>\n",
              "      <td id=\"T_50672_row0_col1\" class=\"data row0 col1\" >0</td>\n",
              "      <td id=\"T_50672_row0_col2\" class=\"data row0 col2\" >0</td>\n",
              "    </tr>\n",
              "    <tr>\n",
              "      <td id=\"T_50672_row1_col0\" class=\"data row1 col0\" >0</td>\n",
              "      <td id=\"T_50672_row1_col1\" class=\"data row1 col1\" >1</td>\n",
              "      <td id=\"T_50672_row1_col2\" class=\"data row1 col2\" >1</td>\n",
              "    </tr>\n",
              "    <tr>\n",
              "      <td id=\"T_50672_row2_col0\" class=\"data row2 col0\" >1</td>\n",
              "      <td id=\"T_50672_row2_col1\" class=\"data row2 col1\" >0</td>\n",
              "      <td id=\"T_50672_row2_col2\" class=\"data row2 col2\" >1</td>\n",
              "    </tr>\n",
              "    <tr>\n",
              "      <td id=\"T_50672_row3_col0\" class=\"data row3 col0\" >1</td>\n",
              "      <td id=\"T_50672_row3_col1\" class=\"data row3 col1\" >1</td>\n",
              "      <td id=\"T_50672_row3_col2\" class=\"data row3 col2\" >1</td>\n",
              "    </tr>\n",
              "  </tbody>\n",
              "</table>\n"
            ],
            "text/plain": [
              "<pandas.io.formats.style.Styler at 0x153a55239d0>"
            ]
          },
          "execution_count": 7,
          "metadata": {},
          "output_type": "execute_result"
        }
      ],
      "source": [
        "print(\"OR gate\")\n",
        "or_df = pd.DataFrame(columns=['X1', 'X2', 'Y'])\n",
        "for x in X:\n",
        "    or_df = or_df.append({'X1':x[0], 'X2':x[1], 'Y':OR(x)}, ignore_index=True)\n",
        "\n",
        "or_df.style.hide_index()"
      ]
    },
    {
      "cell_type": "markdown",
      "metadata": {
        "id": "JB5MXpwg7L2G"
      },
      "source": [
        "### NOT"
      ]
    },
    {
      "cell_type": "code",
      "execution_count": 8,
      "metadata": {
        "id": "EnWS2MXX9v7Q"
      },
      "outputs": [],
      "source": [
        "Xnot = [0,1]"
      ]
    },
    {
      "cell_type": "code",
      "execution_count": 9,
      "metadata": {
        "id": "f45idNsS47G2"
      },
      "outputs": [],
      "source": [
        "def NOT(x):\n",
        "  w = -1\n",
        "  b = 0\n",
        "  return perceptron(x,w,b)"
      ]
    },
    {
      "cell_type": "code",
      "execution_count": 17,
      "metadata": {
        "colab": {
          "base_uri": "https://localhost:8080/"
        },
        "id": "BiTEKHhn9EQJ",
        "outputId": "f62f739e-311f-4501-8a7d-62fd629f86d1"
      },
      "outputs": [
        {
          "name": "stdout",
          "output_type": "stream",
          "text": [
            "NOT gate\n"
          ]
        },
        {
          "data": {
            "text/html": [
              "<style type=\"text/css\">\n",
              "</style>\n",
              "<table id=\"T_baa54_\">\n",
              "  <thead>\n",
              "    <tr>\n",
              "      <th class=\"col_heading level0 col0\" >X</th>\n",
              "      <th class=\"col_heading level0 col1\" >Y</th>\n",
              "    </tr>\n",
              "  </thead>\n",
              "  <tbody>\n",
              "    <tr>\n",
              "      <td id=\"T_baa54_row0_col0\" class=\"data row0 col0\" >0</td>\n",
              "      <td id=\"T_baa54_row0_col1\" class=\"data row0 col1\" >1</td>\n",
              "    </tr>\n",
              "    <tr>\n",
              "      <td id=\"T_baa54_row1_col0\" class=\"data row1 col0\" >1</td>\n",
              "      <td id=\"T_baa54_row1_col1\" class=\"data row1 col1\" >0</td>\n",
              "    </tr>\n",
              "  </tbody>\n",
              "</table>\n"
            ],
            "text/plain": [
              "<pandas.io.formats.style.Styler at 0x153e9a3a0d0>"
            ]
          },
          "execution_count": 17,
          "metadata": {},
          "output_type": "execute_result"
        }
      ],
      "source": [
        "print(\"NOT gate\")\n",
        "or_df = pd.DataFrame(columns=['X', 'Y'])\n",
        "for x in Xnot:\n",
        "    or_df = or_df.append({'X':x, 'Y':NOT(x)}, ignore_index=True)\n",
        "\n",
        "or_df.style.hide_index()"
      ]
    },
    {
      "cell_type": "markdown",
      "metadata": {
        "id": "IpZjNqRs_WKG"
      },
      "source": [
        "### NAND"
      ]
    },
    {
      "cell_type": "code",
      "execution_count": 11,
      "metadata": {
        "id": "-yiG_uG67s7i"
      },
      "outputs": [],
      "source": [
        "def NAND(x):\n",
        "  # w = [-1,-1]\n",
        "  # b = 1\n",
        "  # return perceptron(x,w,b)\n",
        "\n",
        "  return NOT(AND(x))"
      ]
    },
    {
      "cell_type": "code",
      "execution_count": 12,
      "metadata": {
        "colab": {
          "base_uri": "https://localhost:8080/"
        },
        "id": "b3ro00vy_nQ1",
        "outputId": "612e6ad7-0b4d-4257-9a1f-0cae9a8d366e"
      },
      "outputs": [
        {
          "name": "stdout",
          "output_type": "stream",
          "text": [
            "NAND gate\n"
          ]
        },
        {
          "data": {
            "text/html": [
              "<style type=\"text/css\">\n",
              "</style>\n",
              "<table id=\"T_5ebac_\">\n",
              "  <thead>\n",
              "    <tr>\n",
              "      <th class=\"col_heading level0 col0\" >X1</th>\n",
              "      <th class=\"col_heading level0 col1\" >X2</th>\n",
              "      <th class=\"col_heading level0 col2\" >Y</th>\n",
              "    </tr>\n",
              "  </thead>\n",
              "  <tbody>\n",
              "    <tr>\n",
              "      <td id=\"T_5ebac_row0_col0\" class=\"data row0 col0\" >0</td>\n",
              "      <td id=\"T_5ebac_row0_col1\" class=\"data row0 col1\" >0</td>\n",
              "      <td id=\"T_5ebac_row0_col2\" class=\"data row0 col2\" >1</td>\n",
              "    </tr>\n",
              "    <tr>\n",
              "      <td id=\"T_5ebac_row1_col0\" class=\"data row1 col0\" >0</td>\n",
              "      <td id=\"T_5ebac_row1_col1\" class=\"data row1 col1\" >1</td>\n",
              "      <td id=\"T_5ebac_row1_col2\" class=\"data row1 col2\" >1</td>\n",
              "    </tr>\n",
              "    <tr>\n",
              "      <td id=\"T_5ebac_row2_col0\" class=\"data row2 col0\" >1</td>\n",
              "      <td id=\"T_5ebac_row2_col1\" class=\"data row2 col1\" >0</td>\n",
              "      <td id=\"T_5ebac_row2_col2\" class=\"data row2 col2\" >1</td>\n",
              "    </tr>\n",
              "    <tr>\n",
              "      <td id=\"T_5ebac_row3_col0\" class=\"data row3 col0\" >1</td>\n",
              "      <td id=\"T_5ebac_row3_col1\" class=\"data row3 col1\" >1</td>\n",
              "      <td id=\"T_5ebac_row3_col2\" class=\"data row3 col2\" >0</td>\n",
              "    </tr>\n",
              "  </tbody>\n",
              "</table>\n"
            ],
            "text/plain": [
              "<pandas.io.formats.style.Styler at 0x153e8e66f40>"
            ]
          },
          "execution_count": 12,
          "metadata": {},
          "output_type": "execute_result"
        }
      ],
      "source": [
        "print(\"NAND gate\")\n",
        "nand_df = pd.DataFrame(columns=['X1', 'X2', 'Y'])\n",
        "for x in X:\n",
        "    nand_df = nand_df.append({'X1':x[0], 'X2':x[1], 'Y':NAND(x)}, ignore_index=True)\n",
        "\n",
        "nand_df.style.hide_index()"
      ]
    },
    {
      "cell_type": "markdown",
      "metadata": {
        "id": "353NyLhv_m0u"
      },
      "source": [
        "### NOR"
      ]
    },
    {
      "cell_type": "code",
      "execution_count": 13,
      "metadata": {
        "id": "5DABH0IBAgj8"
      },
      "outputs": [],
      "source": [
        "def NOR(x):\n",
        "  # w = [-1,-1]\n",
        "  # b = 0\n",
        "  # return perceptron(x,w,b)\n",
        "  return NOT(OR(x))"
      ]
    },
    {
      "cell_type": "code",
      "execution_count": 14,
      "metadata": {
        "colab": {
          "base_uri": "https://localhost:8080/"
        },
        "id": "X011rdVBAmq8",
        "outputId": "354fd4b5-7b08-42ef-edb8-7bf5aca1e259"
      },
      "outputs": [
        {
          "name": "stdout",
          "output_type": "stream",
          "text": [
            "NOR gate\n"
          ]
        },
        {
          "data": {
            "text/html": [
              "<style type=\"text/css\">\n",
              "</style>\n",
              "<table id=\"T_ee088_\">\n",
              "  <thead>\n",
              "    <tr>\n",
              "      <th class=\"col_heading level0 col0\" >X1</th>\n",
              "      <th class=\"col_heading level0 col1\" >X2</th>\n",
              "      <th class=\"col_heading level0 col2\" >Y</th>\n",
              "    </tr>\n",
              "  </thead>\n",
              "  <tbody>\n",
              "    <tr>\n",
              "      <td id=\"T_ee088_row0_col0\" class=\"data row0 col0\" >0</td>\n",
              "      <td id=\"T_ee088_row0_col1\" class=\"data row0 col1\" >0</td>\n",
              "      <td id=\"T_ee088_row0_col2\" class=\"data row0 col2\" >1</td>\n",
              "    </tr>\n",
              "    <tr>\n",
              "      <td id=\"T_ee088_row1_col0\" class=\"data row1 col0\" >0</td>\n",
              "      <td id=\"T_ee088_row1_col1\" class=\"data row1 col1\" >1</td>\n",
              "      <td id=\"T_ee088_row1_col2\" class=\"data row1 col2\" >0</td>\n",
              "    </tr>\n",
              "    <tr>\n",
              "      <td id=\"T_ee088_row2_col0\" class=\"data row2 col0\" >1</td>\n",
              "      <td id=\"T_ee088_row2_col1\" class=\"data row2 col1\" >0</td>\n",
              "      <td id=\"T_ee088_row2_col2\" class=\"data row2 col2\" >0</td>\n",
              "    </tr>\n",
              "    <tr>\n",
              "      <td id=\"T_ee088_row3_col0\" class=\"data row3 col0\" >1</td>\n",
              "      <td id=\"T_ee088_row3_col1\" class=\"data row3 col1\" >1</td>\n",
              "      <td id=\"T_ee088_row3_col2\" class=\"data row3 col2\" >0</td>\n",
              "    </tr>\n",
              "  </tbody>\n",
              "</table>\n"
            ],
            "text/plain": [
              "<pandas.io.formats.style.Styler at 0x153e9a3a4c0>"
            ]
          },
          "execution_count": 14,
          "metadata": {},
          "output_type": "execute_result"
        }
      ],
      "source": [
        "print(\"NOR gate\")\n",
        "nor_df = pd.DataFrame(columns=['X1', 'X2', 'Y'])\n",
        "for x in X:\n",
        "    nor_df = nor_df.append({'X1':x[0], 'X2':x[1], 'Y':NOR(x)}, ignore_index=True)\n",
        "\n",
        "nor_df.style.hide_index()"
      ]
    },
    {
      "cell_type": "markdown",
      "metadata": {
        "id": "FrPOeBeaCh2c"
      },
      "source": [
        "### XOR\n",
        "` Z = (x1+x2) . ~(x1.x2) `"
      ]
    },
    {
      "cell_type": "code",
      "execution_count": 15,
      "metadata": {
        "id": "J2S7zGiwBKh0"
      },
      "outputs": [],
      "source": [
        "def XOR(x):\n",
        "  z1 = NAND(x)\n",
        "  z2 = OR(x)\n",
        "  return(AND([z1,z2]))"
      ]
    },
    {
      "cell_type": "code",
      "execution_count": 16,
      "metadata": {
        "colab": {
          "base_uri": "https://localhost:8080/"
        },
        "id": "cIMS_IiKERUU",
        "outputId": "879b1314-4023-4840-e0ac-b3b515eba767"
      },
      "outputs": [
        {
          "name": "stdout",
          "output_type": "stream",
          "text": [
            "XOR gate\n"
          ]
        },
        {
          "data": {
            "text/html": [
              "<style type=\"text/css\">\n",
              "</style>\n",
              "<table id=\"T_8bb0b_\">\n",
              "  <thead>\n",
              "    <tr>\n",
              "      <th class=\"col_heading level0 col0\" >X1</th>\n",
              "      <th class=\"col_heading level0 col1\" >X2</th>\n",
              "      <th class=\"col_heading level0 col2\" >Y</th>\n",
              "    </tr>\n",
              "  </thead>\n",
              "  <tbody>\n",
              "    <tr>\n",
              "      <td id=\"T_8bb0b_row0_col0\" class=\"data row0 col0\" >0</td>\n",
              "      <td id=\"T_8bb0b_row0_col1\" class=\"data row0 col1\" >0</td>\n",
              "      <td id=\"T_8bb0b_row0_col2\" class=\"data row0 col2\" >0</td>\n",
              "    </tr>\n",
              "    <tr>\n",
              "      <td id=\"T_8bb0b_row1_col0\" class=\"data row1 col0\" >0</td>\n",
              "      <td id=\"T_8bb0b_row1_col1\" class=\"data row1 col1\" >1</td>\n",
              "      <td id=\"T_8bb0b_row1_col2\" class=\"data row1 col2\" >1</td>\n",
              "    </tr>\n",
              "    <tr>\n",
              "      <td id=\"T_8bb0b_row2_col0\" class=\"data row2 col0\" >1</td>\n",
              "      <td id=\"T_8bb0b_row2_col1\" class=\"data row2 col1\" >0</td>\n",
              "      <td id=\"T_8bb0b_row2_col2\" class=\"data row2 col2\" >1</td>\n",
              "    </tr>\n",
              "    <tr>\n",
              "      <td id=\"T_8bb0b_row3_col0\" class=\"data row3 col0\" >1</td>\n",
              "      <td id=\"T_8bb0b_row3_col1\" class=\"data row3 col1\" >1</td>\n",
              "      <td id=\"T_8bb0b_row3_col2\" class=\"data row3 col2\" >0</td>\n",
              "    </tr>\n",
              "  </tbody>\n",
              "</table>\n"
            ],
            "text/plain": [
              "<pandas.io.formats.style.Styler at 0x153a6498640>"
            ]
          },
          "execution_count": 16,
          "metadata": {},
          "output_type": "execute_result"
        }
      ],
      "source": [
        "print(\"XOR gate\")\n",
        "xor_df = pd.DataFrame(columns=['X1', 'X2', 'Y'])\n",
        "for x in X:\n",
        "    xor_df = xor_df.append({'X1':x[0], 'X2':x[1], 'Y':XOR(x)}, ignore_index=True)\n",
        "\n",
        "xor_df.style.hide_index()"
      ]
    }
  ],
  "metadata": {
    "colab": {
      "collapsed_sections": [],
      "provenance": [],
      "toc_visible": true
    },
    "kernelspec": {
      "display_name": "Python 3.9.1 64-bit",
      "language": "python",
      "name": "python3"
    },
    "language_info": {
      "codemirror_mode": {
        "name": "ipython",
        "version": 3
      },
      "file_extension": ".py",
      "mimetype": "text/x-python",
      "name": "python",
      "nbconvert_exporter": "python",
      "pygments_lexer": "ipython3",
      "version": "3.9.1"
    },
    "orig_nbformat": 4,
    "vscode": {
      "interpreter": {
        "hash": "07d623e3832b78ce69fa2c095939a54ed4f3e8fe6909ed4ae68f2da80f027625"
      }
    }
  },
  "nbformat": 4,
  "nbformat_minor": 0
}
