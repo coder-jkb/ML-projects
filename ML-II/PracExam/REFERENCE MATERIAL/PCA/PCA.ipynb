{
 "cells": [
  {
   "attachments": {},
   "cell_type": "markdown",
   "metadata": {},
   "source": [
    "Qn. Implement dimensionality reduction using **PCA**\n",
    "\n",
    "1. Use the Iris Dataset present in the scikit-learn library\n",
    "2. implement PCA to reduce dimension into 2 dimensions [PC1, PC2]\n",
    "4. Display new reduced dimension values\n",
    "5. Plot appropriate graph/ label w.r.t. principal component."
   ]
  },
  {
   "cell_type": "code",
   "execution_count": null,
   "metadata": {},
   "outputs": [],
   "source": [
    "import numpy as np\n",
    "import pandas as pd\n",
    "from sklearn.decomposition import PCA\n",
    "import matplotlib.pyplot as plt\n",
    "from sklearn import datasets\n",
    "from sklearn.preprocessing import MinMaxScaler"
   ]
  },
  {
   "cell_type": "code",
   "execution_count": null,
   "metadata": {},
   "outputs": [],
   "source": [
    "# Loading the dataset\n",
    "iris = datasets.load_iris()\n",
    "\n",
    "X = iris.data\n",
    "y = iris.target\n",
    "print(\"X:\",X[0])\n",
    "target_names = iris.target_names\n",
    "\n",
    "\n",
    "# Scaling the data\n",
    "scaler = MinMaxScaler()\n",
    "scaler.fit(X)\n",
    "X_scaled = scaler.transform(X)"
   ]
  },
  {
   "cell_type": "code",
   "execution_count": null,
   "metadata": {},
   "outputs": [],
   "source": [
    "# Define a function for plotting graphs\n",
    "def plot3clusters(X, title, vtitle):\n",
    "    pass\n",
    "\n",
    "\n",
    "# Implement and visualize PCA\n",
    "pca = None\n",
    "\n",
    "#************************#"
   ]
  }
 ],
 "metadata": {
  "kernelspec": {
   "display_name": "Python 3",
   "language": "python",
   "name": "python3"
  },
  "language_info": {
   "name": "python",
   "version": "3.9.1 (tags/v3.9.1:1e5d33e, Dec  7 2020, 17:08:21) [MSC v.1927 64 bit (AMD64)]"
  },
  "orig_nbformat": 4,
  "vscode": {
   "interpreter": {
    "hash": "07d623e3832b78ce69fa2c095939a54ed4f3e8fe6909ed4ae68f2da80f027625"
   }
  }
 },
 "nbformat": 4,
 "nbformat_minor": 2
}
