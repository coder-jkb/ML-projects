{
  "cells": [
    {
      "cell_type": "markdown",
      "metadata": {
        "id": "Y7bn7eKI9Zfp"
      },
      "source": [
        "**CNN (MNIST DIGIT DATASET)**\n"
      ]
    },
    {
      "cell_type": "markdown",
      "metadata": {
        "id": "S2NnlUwG-F9N"
      },
      "source": [
        "Insert Code wherever represented with \"#***************#\""
      ]
    },
    {
      "cell_type": "markdown",
      "metadata": {
        "id": "K_vch6Ru_S7B"
      },
      "source": [
        "# Importing Libraries"
      ]
    },
    {
      "cell_type": "code",
      "execution_count": 6,
      "metadata": {
        "id": "tqfK9VgKUeOk"
      },
      "outputs": [],
      "source": [
        "import keras\n",
        "import cv2\n",
        "import numpy as np\n",
        "from keras.datasets import fashion_mnist\n",
        "from keras.models import Sequential , load_model\n",
        "from keras.layers import Dense, Dropout, Flatten, Conv2D, MaxPooling2D\n",
        "import matplotlib.pyplot as plt\n",
        "from keras.utils.vis_utils import plot_model\n",
        "\n",
        "# added by me to solve the error 'module 'keras.utils' has no attribute 'to_categorical''\n",
        "from keras.utils import np_utils"
      ]
    },
    {
      "cell_type": "markdown",
      "metadata": {
        "id": "YBdpRv6B_uTn"
      },
      "source": [
        "# Data Preprocessing"
      ]
    },
    {
      "cell_type": "code",
      "execution_count": 17,
      "metadata": {
        "colab": {
          "base_uri": "https://localhost:8080/",
          "height": 269
        },
        "id": "qsL8aQe88Eeu",
        "outputId": "4b287c35-58a2-44f3-a9c1-8a9deefb896c"
      },
      "outputs": [
        {
          "data": {
            "image/png": "[encoded data removed]",
            "text/plain": [
              "<Figure size 432x288 with 10 Axes>"
            ]
          },
          "metadata": {
            "needs_background": "light"
          },
          "output_type": "display_data"
        }
      ],
      "source": [
        "(x_train, y_train), (x_test, y_test) = fashion_mnist.load_data()\n",
        "\n",
        "# x_train= x_train.reshape(60000,28,28)\n",
        "x_train= x_train.reshape(60000,28,28,1)\n",
        "\n",
        "# x_test= x_test.reshape(x_test.shape[0],28,28)\n",
        "x_test= x_test.reshape(x_test.shape[0],28,28,1) # reshaped to resolve error encunterd while fitting\n",
        "\n",
        "input_shape=(28,28,1)\n",
        "\n",
        "y_train=keras.utils.np_utils.to_categorical(y_train,10)\n",
        "\n",
        "y_test=keras.utils.np_utils.to_categorical(y_test,10)\n",
        "\n",
        "x_train= x_train.astype('float32')\n",
        "x_test= x_test.astype('float32')\n",
        "\n",
        "for i in range(10):\n",
        "  plt.imshow(x_train[i])\n",
        "  plt.subplot(5,2,i+1)"
      ]
    },
    {
      "cell_type": "markdown",
      "metadata": {
        "id": "0IKub0EVK0Qj"
      },
      "source": [
        "# Build CNN Model"
      ]
    },
    {
      "cell_type": "code",
      "execution_count": 18,
      "metadata": {
        "colab": {
          "base_uri": "https://localhost:8080/"
        },
        "id": "eAOm0vmLBLip",
        "outputId": "0bad3a9d-6e82-43f4-d7a5-b199740e7888"
      },
      "outputs": [
        {
          "name": "stdout",
          "output_type": "stream",
          "text": [
            "Model: \"sequential_3\"\n",
            "_________________________________________________________________\n",
            "Layer (type)                 Output Shape              Param #   \n",
            "=================================================================\n",
            "conv2d_6 (Conv2D)            (None, 26, 26, 32)        320       \n",
            "_________________________________________________________________\n",
            "max_pooling2d_6 (MaxPooling2 (None, 13, 13, 32)        0         \n",
            "_________________________________________________________________\n",
            "conv2d_7 (Conv2D)            (None, 11, 11, 32)        9248      \n",
            "_________________________________________________________________\n",
            "max_pooling2d_7 (MaxPooling2 (None, 5, 5, 32)          0         \n",
            "_________________________________________________________________\n",
            "dropout_6 (Dropout)          (None, 5, 5, 32)          0         \n",
            "_________________________________________________________________\n",
            "flatten_3 (Flatten)          (None, 800)               0         \n",
            "_________________________________________________________________\n",
            "dense_6 (Dense)              (None, 256)               205056    \n",
            "_________________________________________________________________\n",
            "dropout_7 (Dropout)          (None, 256)               0         \n",
            "_________________________________________________________________\n",
            "dense_7 (Dense)              (None, 10)                2570      \n",
            "=================================================================\n",
            "Total params: 217,194\n",
            "Trainable params: 217,194\n",
            "Non-trainable params: 0\n",
            "_________________________________________________________________\n",
            "('You must install pydot (`pip install pydot`) and install graphviz (see instructions at https://graphviz.gitlab.io/download/) ', 'for plot_model/model_to_dot to work.')\n",
            "Epoch 1/5\n",
            "938/938 [==============================] - 108s 72ms/step - loss: 0.7750 - accuracy: 0.7180 - val_loss: 0.3896 - val_accuracy: 0.8608\n",
            "Epoch 2/5\n",
            "938/938 [==============================] - 67s 71ms/step - loss: 0.3828 - accuracy: 0.8604 - val_loss: 0.3304 - val_accuracy: 0.8794\n",
            "Epoch 3/5\n",
            "938/938 [==============================] - 59s 63ms/step - loss: 0.3304 - accuracy: 0.8769 - val_loss: 0.3056 - val_accuracy: 0.8906\n",
            "Epoch 4/5\n",
            "938/938 [==============================] - 60s 64ms/step - loss: 0.2937 - accuracy: 0.8923 - val_loss: 0.2837 - val_accuracy: 0.8946\n",
            "Epoch 5/5\n",
            "938/938 [==============================] - 59s 63ms/step - loss: 0.2734 - accuracy: 0.8984 - val_loss: 0.2667 - val_accuracy: 0.9018\n"
          ]
        }
      ],
      "source": [
        "x_train /= 255\n",
        "x_test /=255\n",
        "model = None  #Initialize model here\n",
        "epochs = 5\n",
        "batch_size = 64\n",
        "'''\n",
        "Define batch size of 64 , \n",
        "No of classes (interpret from data)\n",
        "Train for 5 epochs\n",
        "\n",
        "'''\n",
        "\n",
        "def build_model(optimizer): \n",
        "\n",
        "  '''\n",
        "  Define a sequential model with categorical cross entropy as loss function consisting\n",
        "  2 convolution and 2 pooling layers with relu as activation function followed by\n",
        "  droput -> flatten -> dense -> dropout -> dense\n",
        "\n",
        "  Convolution layer - (kernel size = (3*3))\n",
        "  Pooling layer - (pool size = (2*2))\n",
        "\n",
        "  '''\n",
        "\n",
        "  #****** INSERT MODEL CODE HERE ******\n",
        "  model = Sequential([\n",
        "    Conv2D(filters=32,kernel_size=(3,3),activation='relu',input_shape=input_shape),\n",
        "    MaxPooling2D(pool_size=(2,2)),\n",
        "    Conv2D(filters=32,kernel_size=(3,3),activation='relu'),\n",
        "    MaxPooling2D(pool_size=(2,2)),\n",
        "    Dropout(0.25),\n",
        "    Flatten(),\n",
        "    Dense(256, activation='relu'),\n",
        "    Dropout(0.25),\n",
        "    Dense(10,activation='softmax')\n",
        "  ])\n",
        "  model.compile(loss=keras.losses.categorical_crossentropy,optimizer=optimizer,metrics=['accuracy'])\n",
        "  model.summary()\n",
        "\n",
        "  return model \n",
        "\n",
        "#**** call build model with RMSprop and SGDOptimizer Optimizer ****\n",
        "model = build_model('Adam')\n",
        "\n",
        "plot_model(model, to_file=\"mnist model\"+ '.jpg', show_shapes=True)\n",
        "hist=model.fit(x_train, y_train, batch_size=batch_size, epochs=epochs, verbose=1, validation_data=(x_test,y_test)) "
      ]
    },
    {
      "cell_type": "code",
      "execution_count": 19,
      "metadata": {
        "colab": {
          "base_uri": "https://localhost:8080/",
          "height": 282
        },
        "id": "Y-VbkMbGzZ8M",
        "outputId": "38e09472-4bef-4425-9c77-8dcbc0593a5b"
      },
      "outputs": [
        {
          "data": {
            "text/plain": [
              "[<matplotlib.lines.Line2D at 0x1f9016a5580>]"
            ]
          },
          "execution_count": 19,
          "metadata": {},
          "output_type": "execute_result"
        },
        {
          "data": {
            "image/png": "[encoded data removed]",
            "text/plain": [
              "<Figure size 432x288 with 1 Axes>"
            ]
          },
          "metadata": {
            "needs_background": "light"
          },
          "output_type": "display_data"
        }
      ],
      "source": [
        "y1=hist.history['accuracy']\n",
        "y2=hist.history['val_accuracy']\n",
        "plt.plot(y1)\n",
        "plt.plot(y2)"
      ]
    },
    {
      "cell_type": "markdown",
      "metadata": {
        "id": "sN7dbWyxLMSu"
      },
      "source": [
        "# Predict Image"
      ]
    },
    {
      "cell_type": "code",
      "execution_count": 20,
      "metadata": {
        "colab": {
          "base_uri": "https://localhost:8080/",
          "height": 352
        },
        "id": "kegd0MEqEgXD",
        "outputId": "0b3b6aa7-20f0-472a-eaf0-894d4995a040"
      },
      "outputs": [
        {
          "name": "stdout",
          "output_type": "stream",
          "text": [
            "[[1.86617341e-04 5.34295305e-06 9.64825565e-04 1.05820895e-04\n",
            "  8.83492827e-02 5.05907883e-06 9.09777999e-01 6.73951604e-07\n",
            "  6.01304986e-04 3.14874865e-06]]\n",
            "Shirt\n"
          ]
        },
        {
          "data": {
            "text/plain": [
              "<matplotlib.image.AxesImage at 0x1f97e727610>"
            ]
          },
          "execution_count": 20,
          "metadata": {},
          "output_type": "execute_result"
        },
        {
          "data": {
            "image/png": "[encoded data removed]",
            "text/plain": [
              "<Figure size 432x288 with 1 Axes>"
            ]
          },
          "metadata": {
            "needs_background": "light"
          },
          "output_type": "display_data"
        }
      ],
      "source": [
        "keras.models.save_model(model, \"mnist.h5\", save_format=\"h5\")\n",
        "\n",
        "labels = {0 : \"T-shirt/top\", 1: \"Trouser\", 2: \"Pullover\", 3: \"Dress\", 4: \"Coat\",\n",
        "          5: \"Sandal\", 6: \"Shirt\", 7: \"Sneaker\", 8: \"Bag\", 9: \"Ankle Boot\"}\n",
        "\n",
        "def predict_image(model, img):\n",
        "\n",
        "  '''\n",
        "  Reshape the image into (1,28,28)\n",
        "  predict the answer and print it\n",
        "\n",
        "  '''\n",
        "  #**** Insert code here ****\n",
        "  img = img.reshape(1,28,28,1)\n",
        "  prediction = model.predict(img)\n",
        "  print(prediction)\n",
        "  pred_index = np.argmax(prediction)\n",
        "  print(labels[pred_index])\n",
        "\n",
        "\n",
        "m = load_model('mnist.h5')\n",
        "predict_image(m, x_test[7])\n",
        "plt.imshow(x_test[7],cmap='gray')\n"
      ]
    },
    {
      "cell_type": "markdown",
      "metadata": {
        "id": "1ki_0BmBatUw"
      },
      "source": []
    }
  ],
  "metadata": {
    "colab": {
      "provenance": [],
      "toc_visible": true
    },
    "kernelspec": {
      "display_name": "Python 3",
      "language": "python",
      "name": "python3"
    },
    "language_info": {
      "codemirror_mode": {
        "name": "ipython",
        "version": 3
      },
      "file_extension": ".py",
      "mimetype": "text/x-python",
      "name": "python",
      "nbconvert_exporter": "python",
      "pygments_lexer": "ipython3",
      "version": "3.9.1"
    },
    "vscode": {
      "interpreter": {
        "hash": "07d623e3832b78ce69fa2c095939a54ed4f3e8fe6909ed4ae68f2da80f027625"
      }
    }
  },
  "nbformat": 4,
  "nbformat_minor": 0
}
