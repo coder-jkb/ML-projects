{
 "cells": [
  {
   "cell_type": "markdown",
   "metadata": {},
   "source": [
    "# Jay Bhanushali\n",
    "## ML-II Lab 4"
   ]
  },
  {
   "cell_type": "markdown",
   "metadata": {
    "id": "RzBSB0wFPfIm"
   },
   "source": [
    "## Imports"
   ]
  },
  {
   "cell_type": "code",
   "execution_count": null,
   "metadata": {
    "id": "k6-sIKyOPUwe"
   },
   "outputs": [],
   "source": [
    "import numpy as np\n",
    "import pandas as pd\n",
    "from sklearn import datasets\n",
    "import matplotlib.pyplot as plt"
   ]
  },
  {
   "cell_type": "markdown",
   "metadata": {
    "id": "_ZM0XqLCPj5G"
   },
   "source": [
    "## Initializing hyperparams"
   ]
  },
  {
   "cell_type": "code",
   "execution_count": 2,
   "metadata": {
    "id": "MNc4XmjEPcue"
   },
   "outputs": [],
   "source": [
    "n_epochs = 300\n",
    "epochs = list(range(n_epochs))\n",
    "c = 1"
   ]
  },
  {
   "cell_type": "markdown",
   "metadata": {
    "id": "xEv98rEMPo6O"
   },
   "source": [
    "## Functions required to build the NN"
   ]
  },
  {
   "cell_type": "code",
   "execution_count": 3,
   "metadata": {
    "id": "gDtVFLTLPv1o"
   },
   "outputs": [],
   "source": [
    "def activation(x,w,b):\n",
    "    y_in = np.dot(w,x) + b\n",
    "    y_hat = 1/(1+ np.exp(-(y_in)))\n",
    "    return y_hat\n",
    "\n",
    "# change in weight (w)\n",
    "def delta_w(x, y, y_hat):\n",
    "    dw = c * (-2)* (y-y_hat) * (y_hat*(1-y_hat)) * x\n",
    "    return dw\n",
    "\n",
    "# change in bias (b)\n",
    "def delta_b(y, y_hat):\n",
    "    db = c * (-2) * (y-y_hat) * (y_hat*(1-y_hat))\n",
    "    return db"
   ]
  },
  {
   "cell_type": "markdown",
   "metadata": {
    "id": "y8SEMmPYP-Sc"
   },
   "source": [
    "## Input (X) and Output (Y)"
   ]
  },
  {
   "cell_type": "code",
   "execution_count": 4,
   "metadata": {
    "id": "Mskk0OSTQFdO"
   },
   "outputs": [],
   "source": [
    "X = [0.5, 2.5]\n",
    "Y = [0.2, 0.9]"
   ]
  },
  {
   "cell_type": "markdown",
   "metadata": {
    "id": "8A-qJTaoQFMG"
   },
   "source": [
    "## Batch Gradient Descent"
   ]
  },
  {
   "cell_type": "code",
   "execution_count": 5,
   "metadata": {
    "id": "_WmENBKkQORd"
   },
   "outputs": [],
   "source": [
    "def gradient_descent(Xin, Yin):\n",
    "    ws_gd = []\n",
    "    w, b = -2, -2\n",
    "    print(f'Old w: {w}, b: {b}')\n",
    "    n = len(Xin)\n",
    "    for epoch in range(n_epochs):\n",
    "        dw, db = 0,0\n",
    "        for x,y in zip(Xin,Yin):\n",
    "            y_hat = activation(x,w,b)\n",
    "            # print(y_hat)\n",
    "            if y_hat != y:\n",
    "                dw += delta_w(x, y, y_hat)\n",
    "                db += delta_b(y, y_hat)\n",
    "\n",
    "        w -= dw/n\n",
    "        b -= db/n\n",
    "        ws_gd.append(w)\n",
    "\n",
    "    # print(y_hat)\n",
    "    print(f'New w: {round(w,3)}, b: {round(b,3)}\\n')\n",
    "    return ws_gd"
   ]
  },
  {
   "cell_type": "code",
   "execution_count": 6,
   "metadata": {
    "colab": {
     "base_uri": "https://localhost:8080/"
    },
    "id": "K2RDXlZYQR-p",
    "outputId": "c53db591-e3f0-4cd9-d3f9-606a1d9afd6a"
   },
   "outputs": [
    {
     "name": "stdout",
     "output_type": "stream",
     "text": [
      "Old w: -2, b: -2\n",
      "New w: 1.733, b: -2.198\n",
      "\n"
     ]
    }
   ],
   "source": [
    "ws_gd = gradient_descent(X,Y)"
   ]
  },
  {
   "cell_type": "code",
   "execution_count": 7,
   "metadata": {
    "id": "URoGnnI1UDDa"
   },
   "outputs": [],
   "source": [
    "def miniBatchGD(Xin,Yin):\n",
    "    ws_mbgd = []\n",
    "    w,b = -2, -2\n",
    "    batchSize = 1\n",
    "    print(f'Old w: {w}, b: {b}')\n",
    "\n",
    "    for epoch in epochs:\n",
    "        dw, db, counter = 0, 0, 0\n",
    "        for x,y in zip(Xin,Yin):\n",
    "            y_hat = activation(x,w,b)\n",
    "            # print(y_hat)\n",
    "            dw += delta_w(x, y, y_hat)\n",
    "            db += delta_b(y, y_hat)\n",
    "            counter += 1\n",
    "            if counter % batchSize == 0:\n",
    "                w -= (c * dw)\n",
    "                b -= (c * db)\n",
    "        \n",
    "        ws_mbgd.append(w)\n",
    "    \n",
    "    print(f'New w: {round(w,3)}, b: {round(b,3)}\\n')\n",
    "    return ws_mbgd"
   ]
  },
  {
   "cell_type": "code",
   "execution_count": 8,
   "metadata": {
    "colab": {
     "base_uri": "https://localhost:8080/"
    },
    "id": "EWF4WV5RVyFe",
    "outputId": "a14d22f8-2aaa-4ad9-9403-b575d7fb6273"
   },
   "outputs": [
    {
     "name": "stdout",
     "output_type": "stream",
     "text": [
      "Old w: -2, b: -2\n",
      "New w: 1.792, b: -2.282\n",
      "\n"
     ]
    }
   ],
   "source": [
    "ws_mbgd = miniBatchGD(X,Y)"
   ]
  },
  {
   "cell_type": "code",
   "execution_count": 9,
   "metadata": {
    "id": "Ed27iwvNV0Fe"
   },
   "outputs": [],
   "source": [
    "def sgdMomentum(Xin, Yin):\n",
    "    ws_sgdm = []\n",
    "    w,b = -2, -2\n",
    "    beta = 0.9\n",
    "    print(f'Old w: {w}, b: {b}')\n",
    "    \n",
    "    for epoch in epochs:\n",
    "        dw,db,vw,vb = 0,0,0,0\n",
    "        for x,y in zip(Xin,Yin):\n",
    "            y_hat = activation(x,w,b)\n",
    "            # print(y_hat)\n",
    "            dw += delta_w(x, y, y_hat)\n",
    "            db += delta_b(y, y_hat)\n",
    "        vw = beta * vw + (1-beta) * dw\n",
    "        vb = beta * vb + (1-beta) * db\n",
    "\n",
    "        w -= c * vw\n",
    "        b -= c * vb\n",
    "        ws_sgdm.append(w)\n",
    "    \n",
    "    print(f'New w: {round(w,3)}, b: {round(b,3)}\\n')\n",
    "    return ws_sgdm"
   ]
  },
  {
   "cell_type": "code",
   "execution_count": 10,
   "metadata": {
    "colab": {
     "base_uri": "https://localhost:8080/"
    },
    "id": "ZPlMXORrV5LC",
    "outputId": "3b4f925e-b62f-44ed-8d42-1845d46b7720"
   },
   "outputs": [
    {
     "name": "stdout",
     "output_type": "stream",
     "text": [
      "Old w: -2, b: -2\n",
      "New w: -1.413, b: -1.372\n",
      "\n"
     ]
    }
   ],
   "source": [
    "ws_sgdm = sgdMomentum(X,Y)\n",
    "plt.show()"
   ]
  },
  {
   "cell_type": "code",
   "execution_count": 11,
   "metadata": {
    "id": "557TgPHVV7AL"
   },
   "outputs": [],
   "source": [
    "def NAG(Xin, Yin):\n",
    "    ws_nag = []\n",
    "    beta = 0.9\n",
    "    w,b = -2, -2\n",
    "    print(f'Old w: {w}, b: {b}')\n",
    "\n",
    "    for epoch in epochs:\n",
    "        dw, db, vw, vb = 0,0,0,0\n",
    "        for x,y in zip(Xin,Yin):\n",
    "            vw += beta * vw\n",
    "            vb += beta * vb\n",
    "            wt = w - vw\n",
    "            bt = b - vb\n",
    "            y_hat = activation(x,w,b)\n",
    "            # print(y_hat)\n",
    "            dw += delta_w(x, y, y_hat)\n",
    "            db += delta_b(y, y_hat)\n",
    "            w -= c * (beta * vw + (1-beta) * dw)\n",
    "            b -= c * (beta * vb + (1-beta) * db)\n",
    "        ws_nag.append(w)\n",
    "\n",
    "    print(f'New w: {round(w,3)}, b: {round(b,3)}\\n')\n",
    "    return ws_nag"
   ]
  },
  {
   "cell_type": "code",
   "execution_count": 12,
   "metadata": {
    "colab": {
     "base_uri": "https://localhost:8080/"
    },
    "id": "tjFlV0IvWDbn",
    "outputId": "bb4e327d-d773-4a6e-d754-6b14ccfd6e4c"
   },
   "outputs": [
    {
     "name": "stdout",
     "output_type": "stream",
     "text": [
      "Old w: -2, b: -2\n",
      "New w: 0.529, b: -0.649\n",
      "\n"
     ]
    }
   ],
   "source": [
    "ws_nag = NAG(X,Y)"
   ]
  },
  {
   "cell_type": "code",
   "execution_count": 13,
   "metadata": {
    "id": "D2AlVhkYWFEC"
   },
   "outputs": [],
   "source": [
    "def adagrad(Xin, Yin):\n",
    "    eps = 2\n",
    "    beta = 0.9\n",
    "    w,b = -2, -2\n",
    "\n",
    "    ws_adagrad = []\n",
    "    print(f'Old w: {w}, b: {b}')\n",
    "\n",
    "    for epoch in epochs:\n",
    "        dw, db = 0, 0\n",
    "        for x, y in zip(Xin, Yin):\n",
    "            y_hat = activation(x,w,b)\n",
    "            dw += delta_w(x, y, y_hat)\n",
    "            db += delta_b(y, y_hat)\n",
    "\n",
    "        w -= (c/(np.sqrt(dw**2 + eps)))*dw\n",
    "        b -= (c/(np.sqrt(db**2 + eps)))*db\n",
    "\n",
    "        ws_adagrad.append(w)\n",
    "\n",
    "    print(f'New w: {round(w,3)}, b: {round(b,3)}\\n')\n",
    "    return ws_adagrad"
   ]
  },
  {
   "cell_type": "code",
   "execution_count": 14,
   "metadata": {
    "colab": {
     "base_uri": "https://localhost:8080/"
    },
    "id": "mlyLCKvVWJ7v",
    "outputId": "db4ea47f-c877-4653-fd14-10d2d129db2b"
   },
   "outputs": [
    {
     "name": "stdout",
     "output_type": "stream",
     "text": [
      "Old w: -2, b: -2\n",
      "New w: 1.776, b: -2.26\n",
      "\n"
     ]
    }
   ],
   "source": [
    "ws_adagrad = adagrad(X, Y)"
   ]
  },
  {
   "cell_type": "markdown",
   "metadata": {
    "id": "rJAcGHAIWN8q"
   },
   "source": [
    "## ADA Delta / RMSprop"
   ]
  },
  {
   "cell_type": "code",
   "execution_count": 15,
   "metadata": {
    "id": "j4zl1S_wWUDP"
   },
   "outputs": [],
   "source": [
    "def adadelta(Xin, Yin):\n",
    "    eps = 2\n",
    "    beta = 0.9\n",
    "    w,b = -2, -2\n",
    "    \n",
    "    ws_adaDelta = []\n",
    "    print(f'Old w: {w}, b: {b}')\n",
    "\n",
    "    for epoch in epochs:\n",
    "        dw,db = 0,0\n",
    "        vw, vb = 0,0\n",
    "        for x, y in zip(Xin, Yin):\n",
    "            y_hat = activation(x,w,b)\n",
    "            dw += delta_w(x, y, y_hat)\n",
    "            db += delta_b(y, y_hat)\n",
    "\n",
    "        vw = beta * vw + (1-beta) * dw\n",
    "        vb = beta * vb + (1-beta) * db\n",
    "\n",
    "        w = w - (c/(np.sqrt(vw + eps)))*dw**2\n",
    "        b = b - (c/(np.sqrt(vb  + eps)))*db**2\n",
    "\n",
    "        ws_adaDelta.append(w)\n",
    "\n",
    "    print(f'New w: {round(w,3)}, b: {round(b,3)}\\n')\n",
    "    return ws_adaDelta"
   ]
  },
  {
   "cell_type": "code",
   "execution_count": 16,
   "metadata": {
    "colab": {
     "base_uri": "https://localhost:8080/"
    },
    "id": "3KzbcjGSWXWO",
    "outputId": "b9ff11e8-ac64-4c46-e615-3797719099ea"
   },
   "outputs": [
    {
     "name": "stdout",
     "output_type": "stream",
     "text": [
      "Old w: -2, b: -2\n",
      "New w: -2.024, b: -2.048\n",
      "\n"
     ]
    }
   ],
   "source": [
    "ws_adaDelta = adadelta(X, Y)"
   ]
  },
  {
   "cell_type": "markdown",
   "metadata": {
    "id": "756OSCvIWZrG"
   },
   "source": [
    "## Adam"
   ]
  },
  {
   "cell_type": "code",
   "execution_count": 17,
   "metadata": {
    "id": "uv8bNd0wWbMp"
   },
   "outputs": [],
   "source": [
    "def Adam(Xin, Yin):\n",
    "    eps = 2\n",
    "    beta1, beta2 = 0.45, 0.85\n",
    "    w,b = -2, -2\n",
    "    \n",
    "    ws_adam = []\n",
    "    print(f'Old w: {w}, b: {b}')\n",
    "\n",
    "    for epoch in epochs:\n",
    "        dw,db = 0,0\n",
    "        vw, vb = 0,0\n",
    "        v_ww,v_bb=0,0\n",
    "\n",
    "        for x, y in zip(Xin, Yin):\n",
    "            y_hat = activation(x,w,b)\n",
    "            dw += delta_w(x, y, y_hat)\n",
    "            db += delta_b(y, y_hat)\n",
    "\n",
    "        vw = beta1 * vw + (1-beta1) * dw\n",
    "        vb = beta1 * vb + (1-beta1) * db\n",
    "\n",
    "        v_ww = beta2 * v_ww + (1-beta2) * dw**2 \n",
    "        v_bb = beta2 * v_bb + (1-beta2) * db**2\n",
    "\n",
    "        v_wwh = v_ww/(1-beta2)**epoch\n",
    "        v_bbh = v_bb/(1-beta2)**epoch\n",
    "\n",
    "        v_wh = vw/(1-beta1)**epoch\n",
    "        v_bh = vb/(1-beta1)**epoch\n",
    "\n",
    "        w = w - (c*v_wh/(np.sqrt(v_wwh+eps)))*dw\n",
    "        b = b - (c*v_bh/(np.sqrt(v_bbh+eps)))*db\n",
    "        \n",
    "        ws_adam.append(w)\n",
    "    \n",
    "    print(f'New w: {round(w,3)}, b: {round(b,3)}\\n')\n",
    "    return ws_adam"
   ]
  },
  {
   "cell_type": "code",
   "execution_count": 18,
   "metadata": {
    "colab": {
     "base_uri": "https://localhost:8080/"
    },
    "id": "5bgiIaeKWdru",
    "outputId": "ef13f43e-3127-49e9-e132-18ca0b62553b"
   },
   "outputs": [
    {
     "name": "stdout",
     "output_type": "stream",
     "text": [
      "Old w: -2, b: -2\n",
      "New w: -2.008, b: -2.012\n",
      "\n"
     ]
    }
   ],
   "source": [
    "ws_adam = Adam(X, Y)"
   ]
  },
  {
   "cell_type": "markdown",
   "metadata": {
    "id": "FqreymwIWf_y"
   },
   "source": [
    "## Analysis of all Optimizers"
   ]
  },
  {
   "cell_type": "code",
   "execution_count": 19,
   "metadata": {
    "colab": {
     "base_uri": "https://localhost:8080/",
     "height": 700
    },
    "id": "9ODT4HDwWoTe",
    "outputId": "35d688dc-c20b-4f18-b2be-b711314c6c2d"
   },
   "outputs": [
    {
     "data": {
      "image/png": "[encoded data removed]",
      "text/plain": [
       "<Figure size 864x864 with 1 Axes>"
      ]
     },
     "metadata": {
      "needs_background": "light"
     },
     "output_type": "display_data"
    }
   ],
   "source": [
    "plt.figure(figsize=(12,12))\n",
    "plt.plot(epochs, ws_gd, color='orange')\n",
    "plt.plot(epochs, ws_mbgd, color='pink')\n",
    "plt.plot(epochs, ws_sgdm, color='y')\n",
    "plt.plot(epochs, ws_nag, color='g')\n",
    "plt.plot(epochs, ws_adagrad, color='cyan')\n",
    "plt.plot(epochs, ws_adaDelta, color='b')\n",
    "plt.plot(epochs, ws_adam, color='r')\n",
    "plt.legend([\"Batch GD\", \"Mini Batch GD\", \"SGD Momentum\", \"NAG\", \"Adagrad\", \"AdaDelta\", \"Adam\"], loc =\"best\")\n",
    "plt.show()"
   ]
  }
 ],
 "metadata": {
  "colab": {
   "provenance": []
  },
  "kernelspec": {
   "display_name": "Python 3",
   "language": "python",
   "name": "python3"
  },
  "language_info": {
   "codemirror_mode": {
    "name": "ipython",
    "version": 3
   },
   "file_extension": ".py",
   "mimetype": "text/x-python",
   "name": "python",
   "nbconvert_exporter": "python",
   "pygments_lexer": "ipython3",
   "version": "3.8.8"
  }
 },
 "nbformat": 4,
 "nbformat_minor": 1
}
