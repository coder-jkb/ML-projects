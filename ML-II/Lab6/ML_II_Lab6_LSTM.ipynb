{
  "cells": [
    {
      "cell_type": "markdown",
      "source": [
        "# Jay Bhanushali - 60009200047\n",
        "---\n",
        "# ML-II Lab 6: LSTM"
      ],
      "metadata": {
        "id": "L9btsMhmOU-I"
      }
    },
    {
      "cell_type": "code",
      "execution_count": null,
      "metadata": {
        "id": "-HQmhSkD10dq"
      },
      "outputs": [],
      "source": [
        "import numpy\n",
        "import seaborn as sns\n",
        "import tensorflow as tf\n",
        "import matplotlib.pyplot as plt\n",
        "from keras.datasets import imdb\n",
        "from keras.models import Sequential\n",
        "from keras.preprocessing import sequence\n",
        "from keras.layers import Dense, LSTM, Embedding\n",
        "from keras_preprocessing.sequence import pad_sequences"
      ]
    },
    {
      "cell_type": "code",
      "execution_count": null,
      "metadata": {
        "id": "WKKlKKsy3ZeT",
        "colab": {
          "base_uri": "https://localhost:8080/"
        },
        "outputId": "43536e93-068f-4658-a728-5d75f7475b84"
      },
      "outputs": [
        {
          "output_type": "stream",
          "name": "stdout",
          "text": [
            "Downloading data from https://storage.googleapis.com/tensorflow/tf-keras-datasets/imdb.npz\n",
            "17464789/17464789 [==============================] - 0s 0us/step\n"
          ]
        }
      ],
      "source": [
        "top_words = 5000\n",
        "(X_train, Y_train), (X_test, Y_test) = imdb.load_data(num_words=top_words)"
      ]
    },
    {
      "cell_type": "code",
      "execution_count": null,
      "metadata": {
        "id": "oILf-5_z3a35",
        "outputId": "c0236943-6858-4499-f25a-9b14ea71be32",
        "colab": {
          "base_uri": "https://localhost:8080/"
        }
      },
      "outputs": [
        {
          "output_type": "stream",
          "name": "stdout",
          "text": [
            "189\n"
          ]
        }
      ],
      "source": [
        "print(len(X_train[1]))"
      ]
    },
    {
      "cell_type": "code",
      "execution_count": null,
      "metadata": {
        "id": "J9OUayrQ3cBJ",
        "outputId": "794a1e4b-26d1-4609-f4ee-e87bccde17ad",
        "colab": {
          "base_uri": "https://localhost:8080/"
        }
      },
      "outputs": [
        {
          "output_type": "stream",
          "name": "stdout",
          "text": [
            "(25000, 600) (25000,)\n",
            "(25000, 600) (25000,)\n"
          ]
        }
      ],
      "source": [
        "max_review_length = 600\n",
        "X_train = pad_sequences(X_train, maxlen=max_review_length)\n",
        "X_test = pad_sequences(X_test, maxlen=max_review_length)\n",
        "\n",
        "print(X_train.shape, Y_train.shape)\n",
        "print(X_test.shape, Y_test.shape)"
      ]
    },
    {
      "cell_type": "code",
      "execution_count": null,
      "metadata": {
        "id": "G1_PRdMR3dpx"
      },
      "outputs": [],
      "source": [
        "embedding_vector_length = 64\n",
        "\n",
        "model = Sequential([\n",
        "    Embedding(top_words + 1, embedding_vector_length, input_length=max_review_length),\n",
        "    LSTM(200),\n",
        "    Dense(50, activation='relu'),\n",
        "    Dense(100, activation='relu'),\n",
        "    Dense(50, activation='relu'),\n",
        "    Dense(1, activation='sigmoid')\n",
        "])\n",
        "\n",
        "model.compile(loss='binary_crossentropy', optimizer='adam', metrics=['accuracy'])"
      ]
    },
    {
      "cell_type": "code",
      "source": [
        "model.summary()"
      ],
      "metadata": {
        "colab": {
          "base_uri": "https://localhost:8080/"
        },
        "id": "TQPDn7LSROHW",
        "outputId": "6031636e-15f5-4fc9-e65c-9cd5e9fe6e02"
      },
      "execution_count": null,
      "outputs": [
        {
          "output_type": "stream",
          "name": "stdout",
          "text": [
            "Model: \"sequential\"\n",
            "_________________________________________________________________\n",
            " Layer (type)                Output Shape              Param #   \n",
            "=================================================================\n",
            " embedding (Embedding)       (None, 600, 64)           320064    \n",
            "                                                                 \n",
            " lstm (LSTM)                 (None, 200)               212000    \n",
            "                                                                 \n",
            " dense (Dense)               (None, 50)                10050     \n",
            "                                                                 \n",
            " dense_1 (Dense)             (None, 100)               5100      \n",
            "                                                                 \n",
            " dense_2 (Dense)             (None, 50)                5050      \n",
            "                                                                 \n",
            " dense_3 (Dense)             (None, 1)                 51        \n",
            "                                                                 \n",
            "=================================================================\n",
            "Total params: 552,315\n",
            "Trainable params: 552,315\n",
            "Non-trainable params: 0\n",
            "_________________________________________________________________\n",
            "None\n"
          ]
        }
      ]
    },
    {
      "cell_type": "code",
      "execution_count": null,
      "metadata": {
        "id": "RSY2soKK3fux"
      },
      "outputs": [],
      "source": [
        "hist=model.fit(X_train, Y_train, epochs=100, batch_size=64, verbose=0, validation_data=(X_test,Y_test))"
      ]
    },
    {
      "cell_type": "code",
      "source": [
        "scores = model.evaluate(X_test, Y_test, verbose=0)"
      ],
      "metadata": {
        "id": "-ZFTpXr1Rblm"
      },
      "execution_count": null,
      "outputs": []
    },
    {
      "cell_type": "code",
      "source": [
        "print(\"Accuracy: %.2f%%\" % (scores[1]*100))"
      ],
      "metadata": {
        "colab": {
          "base_uri": "https://localhost:8080/"
        },
        "id": "rw9yJVgyRgP3",
        "outputId": "74ca7d57-c2ef-4eba-de01-39cce3590474"
      },
      "execution_count": null,
      "outputs": [
        {
          "output_type": "stream",
          "name": "stdout",
          "text": [
            "Accuracy: 85.89%\n"
          ]
        }
      ]
    },
    {
      "cell_type": "code",
      "execution_count": null,
      "metadata": {
        "id": "qk75Y2oLxvgG",
        "outputId": "7a486c60-98dd-4867-9d71-405ba822bba4",
        "colab": {
          "base_uri": "https://localhost:8080/",
          "height": 265
        }
      },
      "outputs": [
        {
          "output_type": "display_data",
          "data": {
            "text/plain": [
              "<Figure size 432x288 with 1 Axes>"
            ],
            "image/png": "[encoded data removed]"
          },
          "metadata": {
            "needs_background": "light"
          }
        }
      ],
      "source": [
        "plt.plot(hist.history['accuracy'], color='r')\n",
        "plt.plot(hist.history['val_accuracy'], color='b')\n",
        "plt.legend(['Training Accuracy', 'Testing Accuracy'])\n",
        "plt.show()"
      ]
    },
    {
      "cell_type": "code",
      "execution_count": null,
      "metadata": {
        "id": "ljHLeFMbxvgH",
        "colab": {
          "base_uri": "https://localhost:8080/"
        },
        "outputId": "5d379df2-5694-4d98-8abd-099cb928b199"
      },
      "outputs": [
        {
          "output_type": "stream",
          "name": "stdout",
          "text": [
            "782/782 [==============================] - 11s 13ms/step\n"
          ]
        }
      ],
      "source": [
        "Y_pred = model.predict(X_test)"
      ]
    },
    {
      "cell_type": "code",
      "source": [
        "print(Y_pred[:5])"
      ],
      "metadata": {
        "colab": {
          "base_uri": "https://localhost:8080/"
        },
        "id": "tjihJ0usT_HB",
        "outputId": "4d7f401e-42d6-4098-8fb8-9afb06348d62"
      },
      "execution_count": null,
      "outputs": [
        {
          "output_type": "stream",
          "name": "stdout",
          "text": [
            "[[4.854946e-15]\n",
            " [1.000000e+00]\n",
            " [6.466512e-10]\n",
            " [1.000000e+00]\n",
            " [1.000000e+00]]\n"
          ]
        }
      ]
    },
    {
      "cell_type": "code",
      "source": [
        "for i in range(len(Y_pred)):\n",
        "    if(Y_pred[i] >= 0.5):\n",
        "        Y_pred[i] = int(1)\n",
        "    else:\n",
        "        Y_pred[i] = int(0)"
      ],
      "metadata": {
        "id": "7Nt_UBRoULvI"
      },
      "execution_count": null,
      "outputs": []
    },
    {
      "cell_type": "code",
      "source": [
        "print(Y_pred[:5])"
      ],
      "metadata": {
        "colab": {
          "base_uri": "https://localhost:8080/"
        },
        "id": "FrxFm9ISU2hH",
        "outputId": "46e5dc24-9f97-4ef9-b637-853dfb3e9030"
      },
      "execution_count": null,
      "outputs": [
        {
          "output_type": "stream",
          "name": "stdout",
          "text": [
            "[[0.]\n",
            " [1.]\n",
            " [0.]\n",
            " [1.]\n",
            " [1.]]\n"
          ]
        }
      ]
    },
    {
      "cell_type": "code",
      "source": [
        "incorr = 0\n",
        "for i in range(len(Y_pred)):\n",
        "    if Y_pred[i] != Y_test[i]:\n",
        "        incorr += 1\n",
        "\n",
        "print(incorr,'/',len(Y_pred))"
      ],
      "metadata": {
        "colab": {
          "base_uri": "https://localhost:8080/"
        },
        "id": "s5FhyxnVSJ2d",
        "outputId": "167e7068-192a-478c-85c7-85f5b96b29ff"
      },
      "execution_count": null,
      "outputs": [
        {
          "output_type": "stream",
          "name": "stdout",
          "text": [
            "3528 / 25000\n"
          ]
        }
      ]
    },
    {
      "cell_type": "code",
      "source": [
        "confuse_mat = tf.math.confusion_matrix(labels=Y_pred, predictions=Y_test)\n",
        "plt.figure(figsize=(15,8))\n",
        "sns.heatmap(confuse_mat, annot=True, fmt='d')\n",
        "plt.xlabel('Predicted Value')\n",
        "plt.ylabel('True Value')\n",
        "plt.show()"
      ],
      "metadata": {
        "colab": {
          "base_uri": "https://localhost:8080/",
          "height": 497
        },
        "id": "n4Cs1tC9U0iQ",
        "outputId": "15f517ff-f7af-4d7c-80e9-8f30b5058640"
      },
      "execution_count": null,
      "outputs": [
        {
          "output_type": "display_data",
          "data": {
            "text/plain": [
              "<Figure size 1080x576 with 2 Axes>"
            ],
            "image/png": "[encoded data removed]"
          },
          "metadata": {
            "needs_background": "light"
          }
        }
      ]
    }
  ],
  "metadata": {
    "colab": {
      "provenance": []
    },
    "kernelspec": {
      "display_name": "Python 3 (ipykernel)",
      "language": "python",
      "name": "python3"
    },
    "language_info": {
      "codemirror_mode": {
        "name": "ipython",
        "version": 3
      },
      "file_extension": ".py",
      "mimetype": "text/x-python",
      "name": "python",
      "nbconvert_exporter": "python",
      "pygments_lexer": "ipython3",
      "version": "3.10.0"
    },
    "accelerator": "GPU",
    "gpuClass": "standard"
  },
  "nbformat": 4,
  "nbformat_minor": 0
}