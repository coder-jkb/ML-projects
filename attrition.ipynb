{
  "cells": [
    {
      "cell_type": "markdown",
      "metadata": {
        "id": "view-in-github",
        "colab_type": "text"
      },
      "source": [
        "<a href=\"https://colab.research.google.com/github/coder-jkb/ML-projects/blob/main/attrition.ipynb\" target=\"_parent\"><img src=\"https://colab.research.google.com/assets/colab-badge.svg\" alt=\"Open In Colab\"/></a>"
      ]
    },
    {
      "cell_type": "markdown",
      "metadata": {
        "id": "EqGkqnT0oG98"
      },
      "source": [
        "# Jay Bhanushali\n",
        "## Analysis & Prediction on Attrition dataset "
      ]
    },
    {
      "cell_type": "markdown",
      "metadata": {
        "id": "Gk1lGvzYoG-G"
      },
      "source": [
        "## **Index**\n",
        "1. Required Libraries\n",
        "2. Importing datasets\n",
        "3. Statistical overview of data\n",
        "4. Some visualizations\n",
        "5. Pre-processing (Label Encoding)\n",
        "6. Dropping unnecessary features\n",
        "7. Train Test Split\n",
        "8. Making the model\n",
        "9. Summary of all the models"
      ]
    },
    {
      "cell_type": "markdown",
      "metadata": {
        "id": "swTrGJ2LoG-I"
      },
      "source": [
        "## **1. Required Libraries**"
      ]
    },
    {
      "cell_type": "code",
      "execution_count": null,
      "metadata": {
        "id": "89tPQF2zoG-J"
      },
      "outputs": [],
      "source": [
        "# libraries to handle DataFrame and Numpy Array\n",
        "import numpy as np\n",
        "import pandas as pd\n",
        "\n",
        "# visualization libraries\n",
        "import seaborn as sns\n",
        "import matplotlib.pyplot as plt\n",
        "\n",
        "# pre-processing & others\n",
        "from sklearn.preprocessing import LabelEncoder\n",
        "from sklearn.model_selection import train_test_split\n",
        "from sklearn.metrics import accuracy_score\n",
        "\n",
        "# Models: \n",
        "from sklearn.tree import DecisionTreeClassifier, plot_tree\n",
        "from sklearn.linear_model import LogisticRegression\n",
        "from sklearn.ensemble import RandomForestClassifier\n",
        "from sklearn.svm import SVC\n",
        "from sklearn.cluster import KMeans"
      ]
    },
    {
      "cell_type": "markdown",
      "metadata": {
        "id": "HpMUp_KToG-M"
      },
      "source": [
        "## **2. Importing dataset**"
      ]
    },
    {
      "cell_type": "code",
      "execution_count": null,
      "metadata": {
        "id": "wAq9SLR0oG-N",
        "outputId": "def86ee1-5a8c-4d95-9bab-c80920d08c2d"
      },
      "outputs": [
        {
          "data": {
            "text/html": [
              "<div>\n",
              "<style scoped>\n",
              "    .dataframe tbody tr th:only-of-type {\n",
              "        vertical-align: middle;\n",
              "    }\n",
              "\n",
              "    .dataframe tbody tr th {\n",
              "        vertical-align: top;\n",
              "    }\n",
              "\n",
              "    .dataframe thead th {\n",
              "        text-align: right;\n",
              "    }\n",
              "</style>\n",
              "<table border=\"1\" class=\"dataframe\">\n",
              "  <thead>\n",
              "    <tr style=\"text-align: right;\">\n",
              "      <th></th>\n",
              "      <th>Employee Count</th>\n",
              "      <th>Employee ID</th>\n",
              "      <th>Department</th>\n",
              "      <th>Job Role</th>\n",
              "      <th>Gender</th>\n",
              "      <th>Age</th>\n",
              "      <th>Marital Status</th>\n",
              "      <th>Education</th>\n",
              "      <th>Education Field</th>\n",
              "      <th>Business Travel</th>\n",
              "      <th>...</th>\n",
              "      <th>Total Working Years</th>\n",
              "      <th>Years At Company</th>\n",
              "      <th>Years In Current Role</th>\n",
              "      <th>Years Since Last Promotion</th>\n",
              "      <th>Years With Curr Manager</th>\n",
              "      <th>Environment Satisfaction</th>\n",
              "      <th>Training Times Last Year</th>\n",
              "      <th>Work Life Balance</th>\n",
              "      <th>Relationship Satisfaction</th>\n",
              "      <th>Attrition (Yes/No)</th>\n",
              "    </tr>\n",
              "  </thead>\n",
              "  <tbody>\n",
              "    <tr>\n",
              "      <th>0</th>\n",
              "      <td>1</td>\n",
              "      <td>1</td>\n",
              "      <td>Sales</td>\n",
              "      <td>Sales Executive</td>\n",
              "      <td>Female</td>\n",
              "      <td>41</td>\n",
              "      <td>Single</td>\n",
              "      <td>College</td>\n",
              "      <td>Life Sciences</td>\n",
              "      <td>Travel_Rarely</td>\n",
              "      <td>...</td>\n",
              "      <td>8</td>\n",
              "      <td>6</td>\n",
              "      <td>4</td>\n",
              "      <td>0</td>\n",
              "      <td>5</td>\n",
              "      <td>Medium</td>\n",
              "      <td>0</td>\n",
              "      <td>Bad</td>\n",
              "      <td>Low</td>\n",
              "      <td>Yes</td>\n",
              "    </tr>\n",
              "    <tr>\n",
              "      <th>1</th>\n",
              "      <td>1</td>\n",
              "      <td>2</td>\n",
              "      <td>Research &amp; Development</td>\n",
              "      <td>Research Scientist</td>\n",
              "      <td>Male</td>\n",
              "      <td>49</td>\n",
              "      <td>Married</td>\n",
              "      <td>Below College</td>\n",
              "      <td>Life Sciences</td>\n",
              "      <td>Travel_Frequently</td>\n",
              "      <td>...</td>\n",
              "      <td>10</td>\n",
              "      <td>10</td>\n",
              "      <td>7</td>\n",
              "      <td>1</td>\n",
              "      <td>7</td>\n",
              "      <td>High</td>\n",
              "      <td>3</td>\n",
              "      <td>Better</td>\n",
              "      <td>Very High</td>\n",
              "      <td>No</td>\n",
              "    </tr>\n",
              "    <tr>\n",
              "      <th>2</th>\n",
              "      <td>1</td>\n",
              "      <td>4</td>\n",
              "      <td>Research &amp; Development</td>\n",
              "      <td>Laboratory Technician</td>\n",
              "      <td>Male</td>\n",
              "      <td>37</td>\n",
              "      <td>Single</td>\n",
              "      <td>College</td>\n",
              "      <td>Other</td>\n",
              "      <td>Travel_Rarely</td>\n",
              "      <td>...</td>\n",
              "      <td>7</td>\n",
              "      <td>0</td>\n",
              "      <td>0</td>\n",
              "      <td>0</td>\n",
              "      <td>0</td>\n",
              "      <td>Low</td>\n",
              "      <td>3</td>\n",
              "      <td>Bad</td>\n",
              "      <td>Medium</td>\n",
              "      <td>Yes</td>\n",
              "    </tr>\n",
              "    <tr>\n",
              "      <th>3</th>\n",
              "      <td>1</td>\n",
              "      <td>5</td>\n",
              "      <td>Research &amp; Development</td>\n",
              "      <td>Research Scientist</td>\n",
              "      <td>Female</td>\n",
              "      <td>33</td>\n",
              "      <td>Married</td>\n",
              "      <td>Master</td>\n",
              "      <td>Life Sciences</td>\n",
              "      <td>Travel_Frequently</td>\n",
              "      <td>...</td>\n",
              "      <td>8</td>\n",
              "      <td>8</td>\n",
              "      <td>7</td>\n",
              "      <td>3</td>\n",
              "      <td>0</td>\n",
              "      <td>Very High</td>\n",
              "      <td>3</td>\n",
              "      <td>Better</td>\n",
              "      <td>High</td>\n",
              "      <td>No</td>\n",
              "    </tr>\n",
              "    <tr>\n",
              "      <th>4</th>\n",
              "      <td>1</td>\n",
              "      <td>7</td>\n",
              "      <td>Research &amp; Development</td>\n",
              "      <td>Laboratory Technician</td>\n",
              "      <td>Male</td>\n",
              "      <td>27</td>\n",
              "      <td>Married</td>\n",
              "      <td>Below College</td>\n",
              "      <td>Medical</td>\n",
              "      <td>Travel_Rarely</td>\n",
              "      <td>...</td>\n",
              "      <td>6</td>\n",
              "      <td>2</td>\n",
              "      <td>2</td>\n",
              "      <td>2</td>\n",
              "      <td>2</td>\n",
              "      <td>Low</td>\n",
              "      <td>3</td>\n",
              "      <td>Better</td>\n",
              "      <td>Very High</td>\n",
              "      <td>No</td>\n",
              "    </tr>\n",
              "  </tbody>\n",
              "</table>\n",
              "<p>5 rows × 29 columns</p>\n",
              "</div>"
            ],
            "text/plain": [
              "   Employee Count  Employee ID              Department               Job Role  \\\n",
              "0               1            1                   Sales        Sales Executive   \n",
              "1               1            2  Research & Development     Research Scientist   \n",
              "2               1            4  Research & Development  Laboratory Technician   \n",
              "3               1            5  Research & Development     Research Scientist   \n",
              "4               1            7  Research & Development  Laboratory Technician   \n",
              "\n",
              "   Gender  Age Marital Status      Education Education Field  \\\n",
              "0  Female   41         Single        College   Life Sciences   \n",
              "1    Male   49        Married  Below College   Life Sciences   \n",
              "2    Male   37         Single        College           Other   \n",
              "3  Female   33        Married         Master   Life Sciences   \n",
              "4    Male   27        Married  Below College         Medical   \n",
              "\n",
              "     Business Travel  ...  Total Working Years Years At Company  \\\n",
              "0      Travel_Rarely  ...                    8                6   \n",
              "1  Travel_Frequently  ...                   10               10   \n",
              "2      Travel_Rarely  ...                    7                0   \n",
              "3  Travel_Frequently  ...                    8                8   \n",
              "4      Travel_Rarely  ...                    6                2   \n",
              "\n",
              "   Years In Current Role Years Since Last Promotion  Years With Curr Manager  \\\n",
              "0                      4                          0                        5   \n",
              "1                      7                          1                        7   \n",
              "2                      0                          0                        0   \n",
              "3                      7                          3                        0   \n",
              "4                      2                          2                        2   \n",
              "\n",
              "   Environment Satisfaction  Training Times Last Year Work Life Balance  \\\n",
              "0                    Medium                         0               Bad   \n",
              "1                      High                         3            Better   \n",
              "2                       Low                         3               Bad   \n",
              "3                 Very High                         3            Better   \n",
              "4                       Low                         3            Better   \n",
              "\n",
              "   Relationship Satisfaction  Attrition (Yes/No)  \n",
              "0                        Low                 Yes  \n",
              "1                  Very High                  No  \n",
              "2                     Medium                 Yes  \n",
              "3                       High                  No  \n",
              "4                  Very High                  No  \n",
              "\n",
              "[5 rows x 29 columns]"
            ]
          },
          "execution_count": 2,
          "metadata": {},
          "output_type": "execute_result"
        }
      ],
      "source": [
        "# importing directly from drive link\n",
        "url = \"https://drive.google.com/file/d/1411Dl3FmdBcVrEg_T1x0FRSQ1T9JVFUv/view?usp=sharing\"\n",
        "url = \"https://drive.google.com/uc?id=\" + url.split('/')[-2]\n",
        "\n",
        "data = pd.read_csv(url)\n",
        "\n",
        "# data = pd.read_csv(\"Employee-turnover.csv\")\n",
        "data.head()"
      ]
    },
    {
      "cell_type": "code",
      "execution_count": null,
      "metadata": {
        "id": "wDpy5uGKoG-Q",
        "outputId": "a82af041-62d4-4b54-edc9-907f4a3fbf3d"
      },
      "outputs": [
        {
          "name": "stdout",
          "output_type": "stream",
          "text": [
            "<class 'pandas.core.frame.DataFrame'>\n",
            "RangeIndex: 1470 entries, 0 to 1469\n",
            "Data columns (total 29 columns):\n",
            " #   Column                      Non-Null Count  Dtype \n",
            "---  ------                      --------------  ----- \n",
            " 0   Employee Count              1470 non-null   int64 \n",
            " 1   Employee ID                 1470 non-null   int64 \n",
            " 2   Department                  1470 non-null   object\n",
            " 3   Job Role                    1470 non-null   object\n",
            " 4   Gender                      1470 non-null   object\n",
            " 5   Age                         1470 non-null   int64 \n",
            " 6   Marital Status              1470 non-null   object\n",
            " 7   Education                   1470 non-null   object\n",
            " 8   Education Field             1470 non-null   object\n",
            " 9   Business Travel             1470 non-null   object\n",
            " 10  Distance From Home (kms)    1470 non-null   int64 \n",
            " 11  Job Involvement             1470 non-null   object\n",
            " 12  Job Level                   1470 non-null   int64 \n",
            " 13  Job Satisfaction            1470 non-null   object\n",
            " 14  Monthly Income (USD)        1470 non-null   int64 \n",
            " 15  Salary Hike (%)             1470 non-null   int64 \n",
            " 16  Stock Option Level          1470 non-null   int64 \n",
            " 17  Over Time                   1470 non-null   object\n",
            " 18  No. of Companies Worked     1470 non-null   int64 \n",
            " 19  Total Working Years         1470 non-null   int64 \n",
            " 20  Years At Company            1470 non-null   int64 \n",
            " 21  Years In Current Role       1470 non-null   int64 \n",
            " 22  Years Since Last Promotion  1470 non-null   int64 \n",
            " 23  Years With Curr Manager     1470 non-null   int64 \n",
            " 24  Environment Satisfaction    1470 non-null   object\n",
            " 25  Training Times Last Year    1470 non-null   int64 \n",
            " 26  Work Life Balance           1470 non-null   object\n",
            " 27  Relationship Satisfaction   1470 non-null   object\n",
            " 28  Attrition (Yes/No)          1470 non-null   object\n",
            "dtypes: int64(15), object(14)\n",
            "memory usage: 333.2+ KB\n"
          ]
        }
      ],
      "source": [
        "data.info()"
      ]
    },
    {
      "cell_type": "code",
      "execution_count": null,
      "metadata": {
        "id": "rpL3gHfboG-R",
        "outputId": "c5c89ff5-964c-40ef-c386-de89256410d9"
      },
      "outputs": [
        {
          "name": "stdout",
          "output_type": "stream",
          "text": [
            "Duplicate values =  0\n"
          ]
        }
      ],
      "source": [
        "# checking for duplicates\n",
        "print(\"Duplicate values = \",data.duplicated().sum() )"
      ]
    },
    {
      "cell_type": "code",
      "execution_count": null,
      "metadata": {
        "id": "NftNqmYaoG-S",
        "outputId": "f96a2f1c-85f7-4c1d-ce69-68917437be22"
      },
      "outputs": [
        {
          "data": {
            "text/plain": [
              "1    1470\n",
              "Name: Employee Count, dtype: int64"
            ]
          },
          "execution_count": 5,
          "metadata": {},
          "output_type": "execute_result"
        }
      ],
      "source": [
        "pd.value_counts(data[\"Employee Count\"])"
      ]
    },
    {
      "cell_type": "code",
      "execution_count": null,
      "metadata": {
        "id": "9I2VrV52oG-U"
      },
      "outputs": [],
      "source": [
        "data.drop(\"Employee Count\", axis=1, inplace=True)\n",
        "data.drop(\"Employee ID\", axis=1, inplace=True)"
      ]
    },
    {
      "cell_type": "markdown",
      "metadata": {
        "id": "ybdzBsAAoG-V"
      },
      "source": [
        "We dropped the column ```Employee Count``` because it only has value *1* \n",
        "\n",
        "```Employee Id``` and ```Employee Count``` are of no significanse "
      ]
    },
    {
      "cell_type": "markdown",
      "metadata": {
        "id": "da4xgaPooG-W"
      },
      "source": [
        "From above info we can see that\n",
        "- the dataset has 28 columns and 1470 rows\n",
        "- no null values, no duplicate values"
      ]
    },
    {
      "cell_type": "code",
      "execution_count": null,
      "metadata": {
        "id": "nYwC6AytoG-W",
        "outputId": "2710e8ad-0dbf-4778-e7dd-2951bb51bc9a"
      },
      "outputs": [
        {
          "data": {
            "text/html": [
              "<div>\n",
              "<style scoped>\n",
              "    .dataframe tbody tr th:only-of-type {\n",
              "        vertical-align: middle;\n",
              "    }\n",
              "\n",
              "    .dataframe tbody tr th {\n",
              "        vertical-align: top;\n",
              "    }\n",
              "\n",
              "    .dataframe thead th {\n",
              "        text-align: right;\n",
              "    }\n",
              "</style>\n",
              "<table border=\"1\" class=\"dataframe\">\n",
              "  <thead>\n",
              "    <tr style=\"text-align: right;\">\n",
              "      <th></th>\n",
              "      <th>Department</th>\n",
              "      <th>Job Role</th>\n",
              "      <th>Gender</th>\n",
              "      <th>Age</th>\n",
              "      <th>Marital Status</th>\n",
              "      <th>Education</th>\n",
              "      <th>Education Field</th>\n",
              "      <th>Business Travel</th>\n",
              "      <th>Distance From Home (kms)</th>\n",
              "      <th>Job Involvement</th>\n",
              "      <th>...</th>\n",
              "      <th>Total Working Years</th>\n",
              "      <th>Years At Company</th>\n",
              "      <th>Years In Current Role</th>\n",
              "      <th>Years Since Last Promotion</th>\n",
              "      <th>Years With Curr Manager</th>\n",
              "      <th>Environment Satisfaction</th>\n",
              "      <th>Training Times Last Year</th>\n",
              "      <th>Work Life Balance</th>\n",
              "      <th>Relationship Satisfaction</th>\n",
              "      <th>Attrition (Yes/No)</th>\n",
              "    </tr>\n",
              "  </thead>\n",
              "  <tbody>\n",
              "    <tr>\n",
              "      <th>0</th>\n",
              "      <td>Sales</td>\n",
              "      <td>Sales Executive</td>\n",
              "      <td>Female</td>\n",
              "      <td>41</td>\n",
              "      <td>Single</td>\n",
              "      <td>College</td>\n",
              "      <td>Life Sciences</td>\n",
              "      <td>Travel_Rarely</td>\n",
              "      <td>1</td>\n",
              "      <td>High</td>\n",
              "      <td>...</td>\n",
              "      <td>8</td>\n",
              "      <td>6</td>\n",
              "      <td>4</td>\n",
              "      <td>0</td>\n",
              "      <td>5</td>\n",
              "      <td>Medium</td>\n",
              "      <td>0</td>\n",
              "      <td>Bad</td>\n",
              "      <td>Low</td>\n",
              "      <td>Yes</td>\n",
              "    </tr>\n",
              "    <tr>\n",
              "      <th>1</th>\n",
              "      <td>Research &amp; Development</td>\n",
              "      <td>Research Scientist</td>\n",
              "      <td>Male</td>\n",
              "      <td>49</td>\n",
              "      <td>Married</td>\n",
              "      <td>Below College</td>\n",
              "      <td>Life Sciences</td>\n",
              "      <td>Travel_Frequently</td>\n",
              "      <td>8</td>\n",
              "      <td>Medium</td>\n",
              "      <td>...</td>\n",
              "      <td>10</td>\n",
              "      <td>10</td>\n",
              "      <td>7</td>\n",
              "      <td>1</td>\n",
              "      <td>7</td>\n",
              "      <td>High</td>\n",
              "      <td>3</td>\n",
              "      <td>Better</td>\n",
              "      <td>Very High</td>\n",
              "      <td>No</td>\n",
              "    </tr>\n",
              "    <tr>\n",
              "      <th>2</th>\n",
              "      <td>Research &amp; Development</td>\n",
              "      <td>Laboratory Technician</td>\n",
              "      <td>Male</td>\n",
              "      <td>37</td>\n",
              "      <td>Single</td>\n",
              "      <td>College</td>\n",
              "      <td>Other</td>\n",
              "      <td>Travel_Rarely</td>\n",
              "      <td>2</td>\n",
              "      <td>Medium</td>\n",
              "      <td>...</td>\n",
              "      <td>7</td>\n",
              "      <td>0</td>\n",
              "      <td>0</td>\n",
              "      <td>0</td>\n",
              "      <td>0</td>\n",
              "      <td>Low</td>\n",
              "      <td>3</td>\n",
              "      <td>Bad</td>\n",
              "      <td>Medium</td>\n",
              "      <td>Yes</td>\n",
              "    </tr>\n",
              "    <tr>\n",
              "      <th>3</th>\n",
              "      <td>Research &amp; Development</td>\n",
              "      <td>Research Scientist</td>\n",
              "      <td>Female</td>\n",
              "      <td>33</td>\n",
              "      <td>Married</td>\n",
              "      <td>Master</td>\n",
              "      <td>Life Sciences</td>\n",
              "      <td>Travel_Frequently</td>\n",
              "      <td>3</td>\n",
              "      <td>High</td>\n",
              "      <td>...</td>\n",
              "      <td>8</td>\n",
              "      <td>8</td>\n",
              "      <td>7</td>\n",
              "      <td>3</td>\n",
              "      <td>0</td>\n",
              "      <td>Very High</td>\n",
              "      <td>3</td>\n",
              "      <td>Better</td>\n",
              "      <td>High</td>\n",
              "      <td>No</td>\n",
              "    </tr>\n",
              "    <tr>\n",
              "      <th>4</th>\n",
              "      <td>Research &amp; Development</td>\n",
              "      <td>Laboratory Technician</td>\n",
              "      <td>Male</td>\n",
              "      <td>27</td>\n",
              "      <td>Married</td>\n",
              "      <td>Below College</td>\n",
              "      <td>Medical</td>\n",
              "      <td>Travel_Rarely</td>\n",
              "      <td>2</td>\n",
              "      <td>High</td>\n",
              "      <td>...</td>\n",
              "      <td>6</td>\n",
              "      <td>2</td>\n",
              "      <td>2</td>\n",
              "      <td>2</td>\n",
              "      <td>2</td>\n",
              "      <td>Low</td>\n",
              "      <td>3</td>\n",
              "      <td>Better</td>\n",
              "      <td>Very High</td>\n",
              "      <td>No</td>\n",
              "    </tr>\n",
              "    <tr>\n",
              "      <th>5</th>\n",
              "      <td>Research &amp; Development</td>\n",
              "      <td>Laboratory Technician</td>\n",
              "      <td>Male</td>\n",
              "      <td>32</td>\n",
              "      <td>Single</td>\n",
              "      <td>College</td>\n",
              "      <td>Life Sciences</td>\n",
              "      <td>Travel_Frequently</td>\n",
              "      <td>2</td>\n",
              "      <td>High</td>\n",
              "      <td>...</td>\n",
              "      <td>8</td>\n",
              "      <td>7</td>\n",
              "      <td>7</td>\n",
              "      <td>3</td>\n",
              "      <td>6</td>\n",
              "      <td>Very High</td>\n",
              "      <td>2</td>\n",
              "      <td>Good</td>\n",
              "      <td>High</td>\n",
              "      <td>No</td>\n",
              "    </tr>\n",
              "    <tr>\n",
              "      <th>6</th>\n",
              "      <td>Research &amp; Development</td>\n",
              "      <td>Laboratory Technician</td>\n",
              "      <td>Female</td>\n",
              "      <td>59</td>\n",
              "      <td>Married</td>\n",
              "      <td>Bachelor</td>\n",
              "      <td>Medical</td>\n",
              "      <td>Travel_Rarely</td>\n",
              "      <td>3</td>\n",
              "      <td>Very High</td>\n",
              "      <td>...</td>\n",
              "      <td>12</td>\n",
              "      <td>1</td>\n",
              "      <td>0</td>\n",
              "      <td>0</td>\n",
              "      <td>0</td>\n",
              "      <td>High</td>\n",
              "      <td>3</td>\n",
              "      <td>Good</td>\n",
              "      <td>Low</td>\n",
              "      <td>No</td>\n",
              "    </tr>\n",
              "    <tr>\n",
              "      <th>7</th>\n",
              "      <td>Research &amp; Development</td>\n",
              "      <td>Laboratory Technician</td>\n",
              "      <td>Male</td>\n",
              "      <td>30</td>\n",
              "      <td>Divorced</td>\n",
              "      <td>Below College</td>\n",
              "      <td>Life Sciences</td>\n",
              "      <td>Travel_Rarely</td>\n",
              "      <td>24</td>\n",
              "      <td>High</td>\n",
              "      <td>...</td>\n",
              "      <td>1</td>\n",
              "      <td>1</td>\n",
              "      <td>0</td>\n",
              "      <td>0</td>\n",
              "      <td>0</td>\n",
              "      <td>Very High</td>\n",
              "      <td>2</td>\n",
              "      <td>Better</td>\n",
              "      <td>Medium</td>\n",
              "      <td>No</td>\n",
              "    </tr>\n",
              "    <tr>\n",
              "      <th>8</th>\n",
              "      <td>Research &amp; Development</td>\n",
              "      <td>Manufacturing Director</td>\n",
              "      <td>Male</td>\n",
              "      <td>38</td>\n",
              "      <td>Single</td>\n",
              "      <td>Bachelor</td>\n",
              "      <td>Life Sciences</td>\n",
              "      <td>Travel_Frequently</td>\n",
              "      <td>23</td>\n",
              "      <td>Medium</td>\n",
              "      <td>...</td>\n",
              "      <td>10</td>\n",
              "      <td>9</td>\n",
              "      <td>7</td>\n",
              "      <td>1</td>\n",
              "      <td>8</td>\n",
              "      <td>Very High</td>\n",
              "      <td>2</td>\n",
              "      <td>Better</td>\n",
              "      <td>Medium</td>\n",
              "      <td>No</td>\n",
              "    </tr>\n",
              "    <tr>\n",
              "      <th>9</th>\n",
              "      <td>Research &amp; Development</td>\n",
              "      <td>Healthcare Representative</td>\n",
              "      <td>Male</td>\n",
              "      <td>36</td>\n",
              "      <td>Married</td>\n",
              "      <td>Bachelor</td>\n",
              "      <td>Medical</td>\n",
              "      <td>Travel_Rarely</td>\n",
              "      <td>27</td>\n",
              "      <td>High</td>\n",
              "      <td>...</td>\n",
              "      <td>17</td>\n",
              "      <td>7</td>\n",
              "      <td>7</td>\n",
              "      <td>7</td>\n",
              "      <td>7</td>\n",
              "      <td>High</td>\n",
              "      <td>3</td>\n",
              "      <td>Good</td>\n",
              "      <td>Medium</td>\n",
              "      <td>No</td>\n",
              "    </tr>\n",
              "  </tbody>\n",
              "</table>\n",
              "<p>10 rows × 27 columns</p>\n",
              "</div>"
            ],
            "text/plain": [
              "               Department                   Job Role  Gender  Age  \\\n",
              "0                   Sales            Sales Executive  Female   41   \n",
              "1  Research & Development         Research Scientist    Male   49   \n",
              "2  Research & Development      Laboratory Technician    Male   37   \n",
              "3  Research & Development         Research Scientist  Female   33   \n",
              "4  Research & Development      Laboratory Technician    Male   27   \n",
              "5  Research & Development      Laboratory Technician    Male   32   \n",
              "6  Research & Development      Laboratory Technician  Female   59   \n",
              "7  Research & Development      Laboratory Technician    Male   30   \n",
              "8  Research & Development     Manufacturing Director    Male   38   \n",
              "9  Research & Development  Healthcare Representative    Male   36   \n",
              "\n",
              "  Marital Status      Education Education Field    Business Travel  \\\n",
              "0         Single        College   Life Sciences      Travel_Rarely   \n",
              "1        Married  Below College   Life Sciences  Travel_Frequently   \n",
              "2         Single        College           Other      Travel_Rarely   \n",
              "3        Married         Master   Life Sciences  Travel_Frequently   \n",
              "4        Married  Below College         Medical      Travel_Rarely   \n",
              "5         Single        College   Life Sciences  Travel_Frequently   \n",
              "6        Married       Bachelor         Medical      Travel_Rarely   \n",
              "7       Divorced  Below College   Life Sciences      Travel_Rarely   \n",
              "8         Single       Bachelor   Life Sciences  Travel_Frequently   \n",
              "9        Married       Bachelor         Medical      Travel_Rarely   \n",
              "\n",
              "   Distance From Home (kms) Job Involvement  ...  Total Working Years  \\\n",
              "0                         1            High  ...                    8   \n",
              "1                         8          Medium  ...                   10   \n",
              "2                         2          Medium  ...                    7   \n",
              "3                         3            High  ...                    8   \n",
              "4                         2            High  ...                    6   \n",
              "5                         2            High  ...                    8   \n",
              "6                         3       Very High  ...                   12   \n",
              "7                        24            High  ...                    1   \n",
              "8                        23          Medium  ...                   10   \n",
              "9                        27            High  ...                   17   \n",
              "\n",
              "  Years At Company  Years In Current Role  Years Since Last Promotion  \\\n",
              "0                6                      4                           0   \n",
              "1               10                      7                           1   \n",
              "2                0                      0                           0   \n",
              "3                8                      7                           3   \n",
              "4                2                      2                           2   \n",
              "5                7                      7                           3   \n",
              "6                1                      0                           0   \n",
              "7                1                      0                           0   \n",
              "8                9                      7                           1   \n",
              "9                7                      7                           7   \n",
              "\n",
              "   Years With Curr Manager Environment Satisfaction  Training Times Last Year  \\\n",
              "0                        5                   Medium                         0   \n",
              "1                        7                     High                         3   \n",
              "2                        0                      Low                         3   \n",
              "3                        0                Very High                         3   \n",
              "4                        2                      Low                         3   \n",
              "5                        6                Very High                         2   \n",
              "6                        0                     High                         3   \n",
              "7                        0                Very High                         2   \n",
              "8                        8                Very High                         2   \n",
              "9                        7                     High                         3   \n",
              "\n",
              "   Work Life Balance  Relationship Satisfaction  Attrition (Yes/No)  \n",
              "0                Bad                        Low                 Yes  \n",
              "1             Better                  Very High                  No  \n",
              "2                Bad                     Medium                 Yes  \n",
              "3             Better                       High                  No  \n",
              "4             Better                  Very High                  No  \n",
              "5               Good                       High                  No  \n",
              "6               Good                        Low                  No  \n",
              "7             Better                     Medium                  No  \n",
              "8             Better                     Medium                  No  \n",
              "9               Good                     Medium                  No  \n",
              "\n",
              "[10 rows x 27 columns]"
            ]
          },
          "execution_count": 7,
          "metadata": {},
          "output_type": "execute_result"
        }
      ],
      "source": [
        "data.head(10)"
      ]
    },
    {
      "cell_type": "code",
      "execution_count": null,
      "metadata": {
        "id": "p6axkspSoG-X"
      },
      "outputs": [],
      "source": [
        "# label encoding Attrition column\n",
        "le = LabelEncoder()\n",
        "data[\"Attrition (Yes/No)\"] = le.fit_transform(data[\"Attrition (Yes/No)\"])"
      ]
    },
    {
      "cell_type": "code",
      "execution_count": null,
      "metadata": {
        "id": "MaM61yxHoG-Y",
        "outputId": "ee9414bb-dee2-4859-87a0-067cf5488dcc"
      },
      "outputs": [
        {
          "data": {
            "text/html": [
              "<div>\n",
              "<style scoped>\n",
              "    .dataframe tbody tr th:only-of-type {\n",
              "        vertical-align: middle;\n",
              "    }\n",
              "\n",
              "    .dataframe tbody tr th {\n",
              "        vertical-align: top;\n",
              "    }\n",
              "\n",
              "    .dataframe thead th {\n",
              "        text-align: right;\n",
              "    }\n",
              "</style>\n",
              "<table border=\"1\" class=\"dataframe\">\n",
              "  <thead>\n",
              "    <tr style=\"text-align: right;\">\n",
              "      <th></th>\n",
              "      <th>Department</th>\n",
              "      <th>Job Role</th>\n",
              "      <th>Gender</th>\n",
              "      <th>Age</th>\n",
              "      <th>Marital Status</th>\n",
              "      <th>Education</th>\n",
              "      <th>Education Field</th>\n",
              "      <th>Business Travel</th>\n",
              "      <th>Distance From Home (kms)</th>\n",
              "      <th>Job Involvement</th>\n",
              "      <th>...</th>\n",
              "      <th>Total Working Years</th>\n",
              "      <th>Years At Company</th>\n",
              "      <th>Years In Current Role</th>\n",
              "      <th>Years Since Last Promotion</th>\n",
              "      <th>Years With Curr Manager</th>\n",
              "      <th>Environment Satisfaction</th>\n",
              "      <th>Training Times Last Year</th>\n",
              "      <th>Work Life Balance</th>\n",
              "      <th>Relationship Satisfaction</th>\n",
              "      <th>Attrition (Yes/No)</th>\n",
              "    </tr>\n",
              "  </thead>\n",
              "  <tbody>\n",
              "    <tr>\n",
              "      <th>0</th>\n",
              "      <td>Sales</td>\n",
              "      <td>Sales Executive</td>\n",
              "      <td>Female</td>\n",
              "      <td>41</td>\n",
              "      <td>Single</td>\n",
              "      <td>College</td>\n",
              "      <td>Life Sciences</td>\n",
              "      <td>Travel_Rarely</td>\n",
              "      <td>1</td>\n",
              "      <td>High</td>\n",
              "      <td>...</td>\n",
              "      <td>8</td>\n",
              "      <td>6</td>\n",
              "      <td>4</td>\n",
              "      <td>0</td>\n",
              "      <td>5</td>\n",
              "      <td>Medium</td>\n",
              "      <td>0</td>\n",
              "      <td>Bad</td>\n",
              "      <td>Low</td>\n",
              "      <td>1</td>\n",
              "    </tr>\n",
              "    <tr>\n",
              "      <th>1</th>\n",
              "      <td>Research &amp; Development</td>\n",
              "      <td>Research Scientist</td>\n",
              "      <td>Male</td>\n",
              "      <td>49</td>\n",
              "      <td>Married</td>\n",
              "      <td>Below College</td>\n",
              "      <td>Life Sciences</td>\n",
              "      <td>Travel_Frequently</td>\n",
              "      <td>8</td>\n",
              "      <td>Medium</td>\n",
              "      <td>...</td>\n",
              "      <td>10</td>\n",
              "      <td>10</td>\n",
              "      <td>7</td>\n",
              "      <td>1</td>\n",
              "      <td>7</td>\n",
              "      <td>High</td>\n",
              "      <td>3</td>\n",
              "      <td>Better</td>\n",
              "      <td>Very High</td>\n",
              "      <td>0</td>\n",
              "    </tr>\n",
              "    <tr>\n",
              "      <th>2</th>\n",
              "      <td>Research &amp; Development</td>\n",
              "      <td>Laboratory Technician</td>\n",
              "      <td>Male</td>\n",
              "      <td>37</td>\n",
              "      <td>Single</td>\n",
              "      <td>College</td>\n",
              "      <td>Other</td>\n",
              "      <td>Travel_Rarely</td>\n",
              "      <td>2</td>\n",
              "      <td>Medium</td>\n",
              "      <td>...</td>\n",
              "      <td>7</td>\n",
              "      <td>0</td>\n",
              "      <td>0</td>\n",
              "      <td>0</td>\n",
              "      <td>0</td>\n",
              "      <td>Low</td>\n",
              "      <td>3</td>\n",
              "      <td>Bad</td>\n",
              "      <td>Medium</td>\n",
              "      <td>1</td>\n",
              "    </tr>\n",
              "    <tr>\n",
              "      <th>3</th>\n",
              "      <td>Research &amp; Development</td>\n",
              "      <td>Research Scientist</td>\n",
              "      <td>Female</td>\n",
              "      <td>33</td>\n",
              "      <td>Married</td>\n",
              "      <td>Master</td>\n",
              "      <td>Life Sciences</td>\n",
              "      <td>Travel_Frequently</td>\n",
              "      <td>3</td>\n",
              "      <td>High</td>\n",
              "      <td>...</td>\n",
              "      <td>8</td>\n",
              "      <td>8</td>\n",
              "      <td>7</td>\n",
              "      <td>3</td>\n",
              "      <td>0</td>\n",
              "      <td>Very High</td>\n",
              "      <td>3</td>\n",
              "      <td>Better</td>\n",
              "      <td>High</td>\n",
              "      <td>0</td>\n",
              "    </tr>\n",
              "    <tr>\n",
              "      <th>4</th>\n",
              "      <td>Research &amp; Development</td>\n",
              "      <td>Laboratory Technician</td>\n",
              "      <td>Male</td>\n",
              "      <td>27</td>\n",
              "      <td>Married</td>\n",
              "      <td>Below College</td>\n",
              "      <td>Medical</td>\n",
              "      <td>Travel_Rarely</td>\n",
              "      <td>2</td>\n",
              "      <td>High</td>\n",
              "      <td>...</td>\n",
              "      <td>6</td>\n",
              "      <td>2</td>\n",
              "      <td>2</td>\n",
              "      <td>2</td>\n",
              "      <td>2</td>\n",
              "      <td>Low</td>\n",
              "      <td>3</td>\n",
              "      <td>Better</td>\n",
              "      <td>Very High</td>\n",
              "      <td>0</td>\n",
              "    </tr>\n",
              "    <tr>\n",
              "      <th>5</th>\n",
              "      <td>Research &amp; Development</td>\n",
              "      <td>Laboratory Technician</td>\n",
              "      <td>Male</td>\n",
              "      <td>32</td>\n",
              "      <td>Single</td>\n",
              "      <td>College</td>\n",
              "      <td>Life Sciences</td>\n",
              "      <td>Travel_Frequently</td>\n",
              "      <td>2</td>\n",
              "      <td>High</td>\n",
              "      <td>...</td>\n",
              "      <td>8</td>\n",
              "      <td>7</td>\n",
              "      <td>7</td>\n",
              "      <td>3</td>\n",
              "      <td>6</td>\n",
              "      <td>Very High</td>\n",
              "      <td>2</td>\n",
              "      <td>Good</td>\n",
              "      <td>High</td>\n",
              "      <td>0</td>\n",
              "    </tr>\n",
              "    <tr>\n",
              "      <th>6</th>\n",
              "      <td>Research &amp; Development</td>\n",
              "      <td>Laboratory Technician</td>\n",
              "      <td>Female</td>\n",
              "      <td>59</td>\n",
              "      <td>Married</td>\n",
              "      <td>Bachelor</td>\n",
              "      <td>Medical</td>\n",
              "      <td>Travel_Rarely</td>\n",
              "      <td>3</td>\n",
              "      <td>Very High</td>\n",
              "      <td>...</td>\n",
              "      <td>12</td>\n",
              "      <td>1</td>\n",
              "      <td>0</td>\n",
              "      <td>0</td>\n",
              "      <td>0</td>\n",
              "      <td>High</td>\n",
              "      <td>3</td>\n",
              "      <td>Good</td>\n",
              "      <td>Low</td>\n",
              "      <td>0</td>\n",
              "    </tr>\n",
              "    <tr>\n",
              "      <th>7</th>\n",
              "      <td>Research &amp; Development</td>\n",
              "      <td>Laboratory Technician</td>\n",
              "      <td>Male</td>\n",
              "      <td>30</td>\n",
              "      <td>Divorced</td>\n",
              "      <td>Below College</td>\n",
              "      <td>Life Sciences</td>\n",
              "      <td>Travel_Rarely</td>\n",
              "      <td>24</td>\n",
              "      <td>High</td>\n",
              "      <td>...</td>\n",
              "      <td>1</td>\n",
              "      <td>1</td>\n",
              "      <td>0</td>\n",
              "      <td>0</td>\n",
              "      <td>0</td>\n",
              "      <td>Very High</td>\n",
              "      <td>2</td>\n",
              "      <td>Better</td>\n",
              "      <td>Medium</td>\n",
              "      <td>0</td>\n",
              "    </tr>\n",
              "    <tr>\n",
              "      <th>8</th>\n",
              "      <td>Research &amp; Development</td>\n",
              "      <td>Manufacturing Director</td>\n",
              "      <td>Male</td>\n",
              "      <td>38</td>\n",
              "      <td>Single</td>\n",
              "      <td>Bachelor</td>\n",
              "      <td>Life Sciences</td>\n",
              "      <td>Travel_Frequently</td>\n",
              "      <td>23</td>\n",
              "      <td>Medium</td>\n",
              "      <td>...</td>\n",
              "      <td>10</td>\n",
              "      <td>9</td>\n",
              "      <td>7</td>\n",
              "      <td>1</td>\n",
              "      <td>8</td>\n",
              "      <td>Very High</td>\n",
              "      <td>2</td>\n",
              "      <td>Better</td>\n",
              "      <td>Medium</td>\n",
              "      <td>0</td>\n",
              "    </tr>\n",
              "    <tr>\n",
              "      <th>9</th>\n",
              "      <td>Research &amp; Development</td>\n",
              "      <td>Healthcare Representative</td>\n",
              "      <td>Male</td>\n",
              "      <td>36</td>\n",
              "      <td>Married</td>\n",
              "      <td>Bachelor</td>\n",
              "      <td>Medical</td>\n",
              "      <td>Travel_Rarely</td>\n",
              "      <td>27</td>\n",
              "      <td>High</td>\n",
              "      <td>...</td>\n",
              "      <td>17</td>\n",
              "      <td>7</td>\n",
              "      <td>7</td>\n",
              "      <td>7</td>\n",
              "      <td>7</td>\n",
              "      <td>High</td>\n",
              "      <td>3</td>\n",
              "      <td>Good</td>\n",
              "      <td>Medium</td>\n",
              "      <td>0</td>\n",
              "    </tr>\n",
              "  </tbody>\n",
              "</table>\n",
              "<p>10 rows × 27 columns</p>\n",
              "</div>"
            ],
            "text/plain": [
              "               Department                   Job Role  Gender  Age  \\\n",
              "0                   Sales            Sales Executive  Female   41   \n",
              "1  Research & Development         Research Scientist    Male   49   \n",
              "2  Research & Development      Laboratory Technician    Male   37   \n",
              "3  Research & Development         Research Scientist  Female   33   \n",
              "4  Research & Development      Laboratory Technician    Male   27   \n",
              "5  Research & Development      Laboratory Technician    Male   32   \n",
              "6  Research & Development      Laboratory Technician  Female   59   \n",
              "7  Research & Development      Laboratory Technician    Male   30   \n",
              "8  Research & Development     Manufacturing Director    Male   38   \n",
              "9  Research & Development  Healthcare Representative    Male   36   \n",
              "\n",
              "  Marital Status      Education Education Field    Business Travel  \\\n",
              "0         Single        College   Life Sciences      Travel_Rarely   \n",
              "1        Married  Below College   Life Sciences  Travel_Frequently   \n",
              "2         Single        College           Other      Travel_Rarely   \n",
              "3        Married         Master   Life Sciences  Travel_Frequently   \n",
              "4        Married  Below College         Medical      Travel_Rarely   \n",
              "5         Single        College   Life Sciences  Travel_Frequently   \n",
              "6        Married       Bachelor         Medical      Travel_Rarely   \n",
              "7       Divorced  Below College   Life Sciences      Travel_Rarely   \n",
              "8         Single       Bachelor   Life Sciences  Travel_Frequently   \n",
              "9        Married       Bachelor         Medical      Travel_Rarely   \n",
              "\n",
              "   Distance From Home (kms) Job Involvement  ...  Total Working Years  \\\n",
              "0                         1            High  ...                    8   \n",
              "1                         8          Medium  ...                   10   \n",
              "2                         2          Medium  ...                    7   \n",
              "3                         3            High  ...                    8   \n",
              "4                         2            High  ...                    6   \n",
              "5                         2            High  ...                    8   \n",
              "6                         3       Very High  ...                   12   \n",
              "7                        24            High  ...                    1   \n",
              "8                        23          Medium  ...                   10   \n",
              "9                        27            High  ...                   17   \n",
              "\n",
              "  Years At Company  Years In Current Role  Years Since Last Promotion  \\\n",
              "0                6                      4                           0   \n",
              "1               10                      7                           1   \n",
              "2                0                      0                           0   \n",
              "3                8                      7                           3   \n",
              "4                2                      2                           2   \n",
              "5                7                      7                           3   \n",
              "6                1                      0                           0   \n",
              "7                1                      0                           0   \n",
              "8                9                      7                           1   \n",
              "9                7                      7                           7   \n",
              "\n",
              "   Years With Curr Manager Environment Satisfaction  Training Times Last Year  \\\n",
              "0                        5                   Medium                         0   \n",
              "1                        7                     High                         3   \n",
              "2                        0                      Low                         3   \n",
              "3                        0                Very High                         3   \n",
              "4                        2                      Low                         3   \n",
              "5                        6                Very High                         2   \n",
              "6                        0                     High                         3   \n",
              "7                        0                Very High                         2   \n",
              "8                        8                Very High                         2   \n",
              "9                        7                     High                         3   \n",
              "\n",
              "   Work Life Balance  Relationship Satisfaction  Attrition (Yes/No)  \n",
              "0                Bad                        Low                   1  \n",
              "1             Better                  Very High                   0  \n",
              "2                Bad                     Medium                   1  \n",
              "3             Better                       High                   0  \n",
              "4             Better                  Very High                   0  \n",
              "5               Good                       High                   0  \n",
              "6               Good                        Low                   0  \n",
              "7             Better                     Medium                   0  \n",
              "8             Better                     Medium                   0  \n",
              "9               Good                     Medium                   0  \n",
              "\n",
              "[10 rows x 27 columns]"
            ]
          },
          "execution_count": 9,
          "metadata": {},
          "output_type": "execute_result"
        }
      ],
      "source": [
        "data.head(10)"
      ]
    },
    {
      "cell_type": "markdown",
      "metadata": {
        "id": "ScuVYY9XoG-Z"
      },
      "source": [
        "## **3. Statistical overview of data**"
      ]
    },
    {
      "cell_type": "code",
      "execution_count": null,
      "metadata": {
        "id": "2mLtwA3yoG-a",
        "outputId": "30f56443-542c-4666-dd2b-b7094c776f05"
      },
      "outputs": [
        {
          "data": {
            "text/html": [
              "<div>\n",
              "<style scoped>\n",
              "    .dataframe tbody tr th:only-of-type {\n",
              "        vertical-align: middle;\n",
              "    }\n",
              "\n",
              "    .dataframe tbody tr th {\n",
              "        vertical-align: top;\n",
              "    }\n",
              "\n",
              "    .dataframe thead th {\n",
              "        text-align: right;\n",
              "    }\n",
              "</style>\n",
              "<table border=\"1\" class=\"dataframe\">\n",
              "  <thead>\n",
              "    <tr style=\"text-align: right;\">\n",
              "      <th></th>\n",
              "      <th>Age</th>\n",
              "      <th>Distance From Home (kms)</th>\n",
              "      <th>Job Level</th>\n",
              "      <th>Monthly Income (USD)</th>\n",
              "      <th>Salary Hike (%)</th>\n",
              "      <th>Stock Option Level</th>\n",
              "      <th>No. of Companies Worked</th>\n",
              "      <th>Total Working Years</th>\n",
              "      <th>Years At Company</th>\n",
              "      <th>Years In Current Role</th>\n",
              "      <th>Years Since Last Promotion</th>\n",
              "      <th>Years With Curr Manager</th>\n",
              "      <th>Training Times Last Year</th>\n",
              "      <th>Attrition (Yes/No)</th>\n",
              "    </tr>\n",
              "  </thead>\n",
              "  <tbody>\n",
              "    <tr>\n",
              "      <th>count</th>\n",
              "      <td>1470.000000</td>\n",
              "      <td>1470.000000</td>\n",
              "      <td>1470.000000</td>\n",
              "      <td>1470.000000</td>\n",
              "      <td>1470.000000</td>\n",
              "      <td>1470.000000</td>\n",
              "      <td>1470.000000</td>\n",
              "      <td>1470.000000</td>\n",
              "      <td>1470.000000</td>\n",
              "      <td>1470.000000</td>\n",
              "      <td>1470.000000</td>\n",
              "      <td>1470.000000</td>\n",
              "      <td>1470.000000</td>\n",
              "      <td>1470.000000</td>\n",
              "    </tr>\n",
              "    <tr>\n",
              "      <th>mean</th>\n",
              "      <td>36.923810</td>\n",
              "      <td>9.192517</td>\n",
              "      <td>2.063946</td>\n",
              "      <td>6502.931293</td>\n",
              "      <td>14.951701</td>\n",
              "      <td>0.793878</td>\n",
              "      <td>2.689116</td>\n",
              "      <td>11.279592</td>\n",
              "      <td>7.008163</td>\n",
              "      <td>4.229252</td>\n",
              "      <td>2.187755</td>\n",
              "      <td>4.123129</td>\n",
              "      <td>2.799320</td>\n",
              "      <td>0.161224</td>\n",
              "    </tr>\n",
              "    <tr>\n",
              "      <th>std</th>\n",
              "      <td>9.135373</td>\n",
              "      <td>8.106864</td>\n",
              "      <td>1.106940</td>\n",
              "      <td>4707.956783</td>\n",
              "      <td>3.533904</td>\n",
              "      <td>0.852077</td>\n",
              "      <td>2.494231</td>\n",
              "      <td>7.780782</td>\n",
              "      <td>6.126525</td>\n",
              "      <td>3.623137</td>\n",
              "      <td>3.222430</td>\n",
              "      <td>3.568136</td>\n",
              "      <td>1.289271</td>\n",
              "      <td>0.367863</td>\n",
              "    </tr>\n",
              "    <tr>\n",
              "      <th>min</th>\n",
              "      <td>18.000000</td>\n",
              "      <td>1.000000</td>\n",
              "      <td>1.000000</td>\n",
              "      <td>1009.000000</td>\n",
              "      <td>10.000000</td>\n",
              "      <td>0.000000</td>\n",
              "      <td>0.000000</td>\n",
              "      <td>0.000000</td>\n",
              "      <td>0.000000</td>\n",
              "      <td>0.000000</td>\n",
              "      <td>0.000000</td>\n",
              "      <td>0.000000</td>\n",
              "      <td>0.000000</td>\n",
              "      <td>0.000000</td>\n",
              "    </tr>\n",
              "    <tr>\n",
              "      <th>25%</th>\n",
              "      <td>30.000000</td>\n",
              "      <td>2.000000</td>\n",
              "      <td>1.000000</td>\n",
              "      <td>2911.000000</td>\n",
              "      <td>12.000000</td>\n",
              "      <td>0.000000</td>\n",
              "      <td>1.000000</td>\n",
              "      <td>6.000000</td>\n",
              "      <td>3.000000</td>\n",
              "      <td>2.000000</td>\n",
              "      <td>0.000000</td>\n",
              "      <td>2.000000</td>\n",
              "      <td>2.000000</td>\n",
              "      <td>0.000000</td>\n",
              "    </tr>\n",
              "    <tr>\n",
              "      <th>50%</th>\n",
              "      <td>36.000000</td>\n",
              "      <td>7.000000</td>\n",
              "      <td>2.000000</td>\n",
              "      <td>4919.000000</td>\n",
              "      <td>14.000000</td>\n",
              "      <td>1.000000</td>\n",
              "      <td>2.000000</td>\n",
              "      <td>10.000000</td>\n",
              "      <td>5.000000</td>\n",
              "      <td>3.000000</td>\n",
              "      <td>1.000000</td>\n",
              "      <td>3.000000</td>\n",
              "      <td>3.000000</td>\n",
              "      <td>0.000000</td>\n",
              "    </tr>\n",
              "    <tr>\n",
              "      <th>75%</th>\n",
              "      <td>43.000000</td>\n",
              "      <td>14.000000</td>\n",
              "      <td>3.000000</td>\n",
              "      <td>8379.000000</td>\n",
              "      <td>17.000000</td>\n",
              "      <td>1.000000</td>\n",
              "      <td>4.000000</td>\n",
              "      <td>15.000000</td>\n",
              "      <td>9.000000</td>\n",
              "      <td>7.000000</td>\n",
              "      <td>3.000000</td>\n",
              "      <td>7.000000</td>\n",
              "      <td>3.000000</td>\n",
              "      <td>0.000000</td>\n",
              "    </tr>\n",
              "    <tr>\n",
              "      <th>max</th>\n",
              "      <td>60.000000</td>\n",
              "      <td>29.000000</td>\n",
              "      <td>5.000000</td>\n",
              "      <td>19999.000000</td>\n",
              "      <td>25.000000</td>\n",
              "      <td>3.000000</td>\n",
              "      <td>9.000000</td>\n",
              "      <td>40.000000</td>\n",
              "      <td>40.000000</td>\n",
              "      <td>18.000000</td>\n",
              "      <td>15.000000</td>\n",
              "      <td>17.000000</td>\n",
              "      <td>6.000000</td>\n",
              "      <td>1.000000</td>\n",
              "    </tr>\n",
              "  </tbody>\n",
              "</table>\n",
              "</div>"
            ],
            "text/plain": [
              "               Age  Distance From Home (kms)    Job Level  \\\n",
              "count  1470.000000               1470.000000  1470.000000   \n",
              "mean     36.923810                  9.192517     2.063946   \n",
              "std       9.135373                  8.106864     1.106940   \n",
              "min      18.000000                  1.000000     1.000000   \n",
              "25%      30.000000                  2.000000     1.000000   \n",
              "50%      36.000000                  7.000000     2.000000   \n",
              "75%      43.000000                 14.000000     3.000000   \n",
              "max      60.000000                 29.000000     5.000000   \n",
              "\n",
              "       Monthly Income (USD)  Salary Hike (%)  Stock Option Level  \\\n",
              "count           1470.000000      1470.000000         1470.000000   \n",
              "mean            6502.931293        14.951701            0.793878   \n",
              "std             4707.956783         3.533904            0.852077   \n",
              "min             1009.000000        10.000000            0.000000   \n",
              "25%             2911.000000        12.000000            0.000000   \n",
              "50%             4919.000000        14.000000            1.000000   \n",
              "75%             8379.000000        17.000000            1.000000   \n",
              "max            19999.000000        25.000000            3.000000   \n",
              "\n",
              "       No. of Companies Worked  Total Working Years  Years At Company  \\\n",
              "count              1470.000000          1470.000000       1470.000000   \n",
              "mean                  2.689116            11.279592          7.008163   \n",
              "std                   2.494231             7.780782          6.126525   \n",
              "min                   0.000000             0.000000          0.000000   \n",
              "25%                   1.000000             6.000000          3.000000   \n",
              "50%                   2.000000            10.000000          5.000000   \n",
              "75%                   4.000000            15.000000          9.000000   \n",
              "max                   9.000000            40.000000         40.000000   \n",
              "\n",
              "       Years In Current Role  Years Since Last Promotion  \\\n",
              "count            1470.000000                 1470.000000   \n",
              "mean                4.229252                    2.187755   \n",
              "std                 3.623137                    3.222430   \n",
              "min                 0.000000                    0.000000   \n",
              "25%                 2.000000                    0.000000   \n",
              "50%                 3.000000                    1.000000   \n",
              "75%                 7.000000                    3.000000   \n",
              "max                18.000000                   15.000000   \n",
              "\n",
              "       Years With Curr Manager  Training Times Last Year  Attrition (Yes/No)  \n",
              "count              1470.000000               1470.000000         1470.000000  \n",
              "mean                  4.123129                  2.799320            0.161224  \n",
              "std                   3.568136                  1.289271            0.367863  \n",
              "min                   0.000000                  0.000000            0.000000  \n",
              "25%                   2.000000                  2.000000            0.000000  \n",
              "50%                   3.000000                  3.000000            0.000000  \n",
              "75%                   7.000000                  3.000000            0.000000  \n",
              "max                  17.000000                  6.000000            1.000000  "
            ]
          },
          "execution_count": 10,
          "metadata": {},
          "output_type": "execute_result"
        }
      ],
      "source": [
        "data.describe()"
      ]
    },
    {
      "cell_type": "markdown",
      "metadata": {
        "id": "k4LfkLUkoG-b"
      },
      "source": [
        "## **4. Some visualizations**"
      ]
    },
    {
      "cell_type": "code",
      "execution_count": null,
      "metadata": {
        "id": "vpOQaTK_oG-c",
        "outputId": "11184652-edd2-4740-870e-27472ba124ef"
      },
      "outputs": [
        {
          "data": {
            "text/plain": [
              "([<matplotlib.patches.Wedge at 0x2ae77013790>,\n",
              "  <matplotlib.patches.Wedge at 0x2ae77013d90>],\n",
              " [Text(-0.9618916732177651, 0.5336332157899547, 'No'),\n",
              "  Text(0.961891673217765, -0.5336332157899547, 'Yes')],\n",
              " [Text(-0.5246681853915082, 0.29107266315815705, '83.9%'),\n",
              "  Text(0.5246681853915082, -0.2910726631581571, '16.1%')])"
            ]
          },
          "execution_count": 11,
          "metadata": {},
          "output_type": "execute_result"
        },
        {
          "data": {
            "image/png": "[encoded data removed]",
            "text/plain": [
              "<Figure size 432x288 with 1 Axes>"
            ]
          },
          "metadata": {},
          "output_type": "display_data"
        }
      ],
      "source": [
        "plt.pie(data[\"Attrition (Yes/No)\"].value_counts(), \n",
        "        labels = ['No', 'Yes'], autopct='%1.1f%%')"
      ]
    },
    {
      "cell_type": "markdown",
      "metadata": {
        "id": "1aLozTjToG-d"
      },
      "source": [
        "In the given dataset only **16%** people are not attrited, \n",
        "\n",
        "which depicts the imbalance in dataset, \n",
        "\n",
        "hence Ensemble models (like Random Forest) can learn better in this scenario"
      ]
    },
    {
      "cell_type": "code",
      "execution_count": null,
      "metadata": {
        "id": "xMMM7J-goG-e",
        "outputId": "f2f96841-c89e-4c40-a24d-9eb2e8034795"
      },
      "outputs": [
        {
          "data": {
            "text/plain": [
              "Male      882\n",
              "Female    588\n",
              "Name: Gender, dtype: int64"
            ]
          },
          "execution_count": 12,
          "metadata": {},
          "output_type": "execute_result"
        }
      ],
      "source": [
        "data[\"Gender\"].value_counts()"
      ]
    },
    {
      "cell_type": "code",
      "execution_count": null,
      "metadata": {
        "id": "bV7K3vuPoG-f",
        "outputId": "830213cf-d92e-4232-fd4c-2298d3ea752f"
      },
      "outputs": [
        {
          "data": {
            "text/plain": [
              "<seaborn.axisgrid.FacetGrid at 0x2ae76f944c0>"
            ]
          },
          "execution_count": 13,
          "metadata": {},
          "output_type": "execute_result"
        },
        {
          "data": {
            "image/png": "[encoded data removed]",
            "text/plain": [
              "<Figure size 432.125x360 with 1 Axes>"
            ]
          },
          "metadata": {
            "needs_background": "light"
          },
          "output_type": "display_data"
        }
      ],
      "source": [
        "sns.catplot(data=data,x=\"Attrition (Yes/No)\",hue=\"Gender\",kind=\"count\")"
      ]
    },
    {
      "cell_type": "markdown",
      "metadata": {
        "id": "GAPJHWu-oG-g"
      },
      "source": [
        "We can see a higher Attrition in Males, this could be because the cont of males is higher than females.\n",
        "<table>\n",
        "<tr><td>Males</td><td>Females</td></tr>\n",
        "<tr><td>882</td><td>588</td></tr>\n",
        "</table>\n",
        "Male:Female ratio is 3:2"
      ]
    },
    {
      "cell_type": "code",
      "execution_count": null,
      "metadata": {
        "id": "Jg5IAGL7oG-h",
        "outputId": "f22cfe4a-1804-4a34-84b2-777402fb93b1"
      },
      "outputs": [
        {
          "data": {
            "text/plain": [
              "<AxesSubplot:xlabel='Department', ylabel='Attrition (Yes/No)'>"
            ]
          },
          "execution_count": 14,
          "metadata": {},
          "output_type": "execute_result"
        },
        {
          "data": {
            "image/png": "[encoded data removed]",
            "text/plain": [
              "<Figure size 432x288 with 1 Axes>"
            ]
          },
          "metadata": {
            "needs_background": "light"
          },
          "output_type": "display_data"
        }
      ],
      "source": [
        "sns.barplot(data=data,x=\"Department\",y=\"Attrition (Yes/No)\")"
      ]
    },
    {
      "cell_type": "markdown",
      "metadata": {
        "id": "9qlw-bq9oG-i"
      },
      "source": [
        "Attrition in HR is more as compared to other departments."
      ]
    },
    {
      "cell_type": "code",
      "execution_count": null,
      "metadata": {
        "id": "TcoyiPNXoG-i",
        "outputId": "4b800ce9-87c7-4ceb-e92b-f027649b7d91"
      },
      "outputs": [
        {
          "data": {
            "text/plain": [
              "<AxesSubplot:xlabel='Environment Satisfaction', ylabel='Attrition (Yes/No)'>"
            ]
          },
          "execution_count": 15,
          "metadata": {},
          "output_type": "execute_result"
        },
        {
          "data": {
            "image/png": "[encoded data removed]",
            "text/plain": [
              "<Figure size 432x288 with 1 Axes>"
            ]
          },
          "metadata": {
            "needs_background": "light"
          },
          "output_type": "display_data"
        }
      ],
      "source": [
        "sns.barplot(data=data,x=\"Environment Satisfaction\",y=\"Attrition (Yes/No)\")"
      ]
    },
    {
      "cell_type": "markdown",
      "metadata": {
        "id": "Al08eRLboG-j"
      },
      "source": [
        "It is clear that employees with low environment satisfaction have maximum attrition"
      ]
    },
    {
      "cell_type": "code",
      "execution_count": null,
      "metadata": {
        "id": "dPzOaKWGoG-j",
        "outputId": "ef36ef97-bb6b-4c55-b5d7-a9f090a32294"
      },
      "outputs": [
        {
          "data": {
            "text/plain": [
              "<AxesSubplot:xlabel='Business Travel', ylabel='Attrition (Yes/No)'>"
            ]
          },
          "execution_count": 16,
          "metadata": {},
          "output_type": "execute_result"
        },
        {
          "data": {
            "image/png": "[encoded data removed]",
            "text/plain": [
              "<Figure size 432x288 with 1 Axes>"
            ]
          },
          "metadata": {
            "needs_background": "light"
          },
          "output_type": "display_data"
        }
      ],
      "source": [
        "sns.barplot(data=data,x=\"Business Travel\",y=\"Attrition (Yes/No)\")"
      ]
    },
    {
      "cell_type": "markdown",
      "metadata": {
        "id": "leqeWl88oG-k"
      },
      "source": [
        "Employees who donot travel frequently have beeen reatained \n",
        "\n",
        "where as those who travel a lot have also attrited the most"
      ]
    },
    {
      "cell_type": "code",
      "execution_count": null,
      "metadata": {
        "id": "EvexuR4IoG-l",
        "outputId": "196a4c3d-79ec-4fac-ad54-3cb6f76a1e54"
      },
      "outputs": [
        {
          "data": {
            "text/plain": [
              "<seaborn.axisgrid.FacetGrid at 0x2ae771c4070>"
            ]
          },
          "execution_count": 17,
          "metadata": {},
          "output_type": "execute_result"
        },
        {
          "data": {
            "image/png": "[encoded data removed]",
            "text/plain": [
              "<Figure size 360x360 with 1 Axes>"
            ]
          },
          "metadata": {
            "needs_background": "light"
          },
          "output_type": "display_data"
        }
      ],
      "source": [
        "sns.catplot(data=data,x=\"Work Life Balance\",y=\"Attrition (Yes/No)\",kind=\"bar\")"
      ]
    },
    {
      "cell_type": "markdown",
      "metadata": {
        "id": "sKHaB5EfoG-l"
      },
      "source": [
        "Employees with bad Work Life Balance tend to quit as compared to all other employees."
      ]
    },
    {
      "cell_type": "code",
      "execution_count": null,
      "metadata": {
        "id": "pJ3dNELXoG-m",
        "outputId": "9acb0e65-b29d-48cf-9a2f-16c3e5fd53fc"
      },
      "outputs": [
        {
          "data": {
            "text/plain": [
              "<seaborn.axisgrid.FacetGrid at 0x2ae772315e0>"
            ]
          },
          "execution_count": 18,
          "metadata": {},
          "output_type": "execute_result"
        },
        {
          "data": {
            "image/png": "[encoded data removed]",
            "text/plain": [
              "<Figure size 360x360 with 1 Axes>"
            ]
          },
          "metadata": {
            "needs_background": "light"
          },
          "output_type": "display_data"
        }
      ],
      "source": [
        "sns.catplot(data=data,x=\"Salary Hike (%)\",y=\"Attrition (Yes/No)\",kind=\"bar\")"
      ]
    },
    {
      "cell_type": "markdown",
      "metadata": {
        "id": "MYVwanCIoG-m"
      },
      "source": [
        "Low salary hike is a reason for attrition"
      ]
    },
    {
      "cell_type": "code",
      "execution_count": null,
      "metadata": {
        "id": "LE6lpodYoG-n",
        "outputId": "ecb4469f-c3bd-4120-c029-4bc13d3739cc"
      },
      "outputs": [
        {
          "data": {
            "text/plain": [
              "<AxesSubplot:xlabel='Job Level', ylabel='Attrition (Yes/No)'>"
            ]
          },
          "execution_count": 19,
          "metadata": {},
          "output_type": "execute_result"
        },
        {
          "data": {
            "image/png": "[encoded data removed]",
            "text/plain": [
              "<Figure size 432x288 with 1 Axes>"
            ]
          },
          "metadata": {
            "needs_background": "light"
          },
          "output_type": "display_data"
        }
      ],
      "source": [
        "sns.barplot(data=data,x=\"Job Level\",y=\"Attrition (Yes/No)\")"
      ]
    },
    {
      "cell_type": "markdown",
      "metadata": {
        "id": "L_j3LsJ0oG-n"
      },
      "source": [
        "Employees with lower job level have attrited more where as those with higher levels have retained"
      ]
    },
    {
      "cell_type": "code",
      "execution_count": null,
      "metadata": {
        "id": "0ORUy8jIoG-o",
        "outputId": "0be393cb-d8b9-4adc-bdd1-0392e8b775f9"
      },
      "outputs": [
        {
          "data": {
            "text/plain": [
              "<seaborn.axisgrid.FacetGrid at 0x2ae77246fa0>"
            ]
          },
          "execution_count": 20,
          "metadata": {},
          "output_type": "execute_result"
        },
        {
          "data": {
            "image/png": "[encoded data removed]",
            "text/plain": [
              "<Figure size 360x360 with 1 Axes>"
            ]
          },
          "metadata": {
            "needs_background": "light"
          },
          "output_type": "display_data"
        }
      ],
      "source": [
        "sns.catplot(data=data,x=\"Over Time\",y=\"Attrition (Yes/No)\",kind=\"bar\")"
      ]
    },
    {
      "cell_type": "markdown",
      "metadata": {
        "id": "kwa5UROMoG-o"
      },
      "source": [
        "We can see much higher attrition in mployees who worked over time"
      ]
    },
    {
      "cell_type": "code",
      "execution_count": null,
      "metadata": {
        "id": "g1PNHWTloG-p"
      },
      "outputs": [],
      "source": [
        "corr = data.corr()"
      ]
    },
    {
      "cell_type": "code",
      "execution_count": null,
      "metadata": {
        "id": "Jh23jyGDoG-p",
        "outputId": "6aaa7dd2-854f-4bfa-d6dd-1d01cb33c217"
      },
      "outputs": [
        {
          "data": {
            "text/plain": [
              "<AxesSubplot:>"
            ]
          },
          "execution_count": 22,
          "metadata": {},
          "output_type": "execute_result"
        },
        {
          "data": {
            "image/png": "[encoded data removed]",
            "text/plain": [
              "<Figure size 720x720 with 2 Axes>"
            ]
          },
          "metadata": {
            "needs_background": "light"
          },
          "output_type": "display_data"
        }
      ],
      "source": [
        "fig, axis = plt.subplots(figsize=(10,10))\n",
        "sns.heatmap(ax=axis, data = corr, \n",
        "            square=True, linewidth=0.1,annot=True, annot_kws={\"fontsize\":8})"
      ]
    },
    {
      "cell_type": "markdown",
      "metadata": {
        "id": "bJ22v7sMoG-q"
      },
      "source": [
        "There is little to no correlation among the columns except\n",
        "\n",
        "Job Level and Monthly Income, which is simply because \n",
        "\n",
        "employee with higher job level will have a higher salary "
      ]
    },
    {
      "cell_type": "markdown",
      "metadata": {
        "id": "_OEQ9x3voG-r"
      },
      "source": [
        "## **5. Pre-processing (Label Encoding)**"
      ]
    },
    {
      "cell_type": "code",
      "execution_count": null,
      "metadata": {
        "id": "x7NGMwm9oG-r"
      },
      "outputs": [],
      "source": [
        "# getting all object type columns\n",
        "object_cols = data.select_dtypes(include='object').columns\n",
        "# label encoding all object type coumns\n",
        "for col in object_cols:\n",
        "    data[col] = le.fit_transform(data[col])"
      ]
    },
    {
      "cell_type": "markdown",
      "metadata": {
        "id": "SROsvTgzoG-s"
      },
      "source": [
        "## **6. Dropping unnecessary features**"
      ]
    },
    {
      "cell_type": "code",
      "execution_count": null,
      "metadata": {
        "id": "aaqSCKmIoG-s"
      },
      "outputs": [],
      "source": [
        "data.drop(['Marital Status','Training Times Last Year','Age'],axis=1,inplace=True)"
      ]
    },
    {
      "cell_type": "markdown",
      "metadata": {
        "id": "nSivbA9aoG-s"
      },
      "source": [
        "## **7. Train Test Split**"
      ]
    },
    {
      "cell_type": "code",
      "execution_count": null,
      "metadata": {
        "id": "DUvn37NmoG-t"
      },
      "outputs": [],
      "source": [
        "# X => all columns except Attrition (Yes/No), which is to be predicted\n",
        "X = data.drop(\"Attrition (Yes/No)\", axis=1)\n",
        "\n",
        "# y => Attrition (Yes/No) \n",
        "y = data[\"Attrition (Yes/No)\"]"
      ]
    },
    {
      "cell_type": "code",
      "execution_count": null,
      "metadata": {
        "id": "J-KU4FNcoG-t",
        "outputId": "3c7f4b11-7423-421c-8935-8c470cc63ca8"
      },
      "outputs": [
        {
          "name": "stdout",
          "output_type": "stream",
          "text": [
            "(1470, 23)\n",
            "(1470,)\n"
          ]
        }
      ],
      "source": [
        "print(X.shape)\n",
        "print(y.shape)"
      ]
    },
    {
      "cell_type": "code",
      "execution_count": null,
      "metadata": {
        "id": "lvgyDvVpoG-u",
        "outputId": "7003f941-3088-4cbf-f9dd-8081662b3d86"
      },
      "outputs": [
        {
          "data": {
            "text/html": [
              "<div>\n",
              "<style scoped>\n",
              "    .dataframe tbody tr th:only-of-type {\n",
              "        vertical-align: middle;\n",
              "    }\n",
              "\n",
              "    .dataframe tbody tr th {\n",
              "        vertical-align: top;\n",
              "    }\n",
              "\n",
              "    .dataframe thead th {\n",
              "        text-align: right;\n",
              "    }\n",
              "</style>\n",
              "<table border=\"1\" class=\"dataframe\">\n",
              "  <thead>\n",
              "    <tr style=\"text-align: right;\">\n",
              "      <th></th>\n",
              "      <th>Department</th>\n",
              "      <th>Job Role</th>\n",
              "      <th>Gender</th>\n",
              "      <th>Education</th>\n",
              "      <th>Education Field</th>\n",
              "      <th>Business Travel</th>\n",
              "      <th>Distance From Home (kms)</th>\n",
              "      <th>Job Involvement</th>\n",
              "      <th>Job Level</th>\n",
              "      <th>Job Satisfaction</th>\n",
              "      <th>...</th>\n",
              "      <th>Over Time</th>\n",
              "      <th>No. of Companies Worked</th>\n",
              "      <th>Total Working Years</th>\n",
              "      <th>Years At Company</th>\n",
              "      <th>Years In Current Role</th>\n",
              "      <th>Years Since Last Promotion</th>\n",
              "      <th>Years With Curr Manager</th>\n",
              "      <th>Environment Satisfaction</th>\n",
              "      <th>Work Life Balance</th>\n",
              "      <th>Relationship Satisfaction</th>\n",
              "    </tr>\n",
              "  </thead>\n",
              "  <tbody>\n",
              "    <tr>\n",
              "      <th>0</th>\n",
              "      <td>2</td>\n",
              "      <td>7</td>\n",
              "      <td>0</td>\n",
              "      <td>2</td>\n",
              "      <td>1</td>\n",
              "      <td>2</td>\n",
              "      <td>1</td>\n",
              "      <td>0</td>\n",
              "      <td>2</td>\n",
              "      <td>3</td>\n",
              "      <td>...</td>\n",
              "      <td>1</td>\n",
              "      <td>2</td>\n",
              "      <td>8</td>\n",
              "      <td>6</td>\n",
              "      <td>4</td>\n",
              "      <td>0</td>\n",
              "      <td>5</td>\n",
              "      <td>2</td>\n",
              "      <td>0</td>\n",
              "      <td>1</td>\n",
              "    </tr>\n",
              "    <tr>\n",
              "      <th>1</th>\n",
              "      <td>1</td>\n",
              "      <td>6</td>\n",
              "      <td>1</td>\n",
              "      <td>1</td>\n",
              "      <td>1</td>\n",
              "      <td>1</td>\n",
              "      <td>8</td>\n",
              "      <td>2</td>\n",
              "      <td>2</td>\n",
              "      <td>2</td>\n",
              "      <td>...</td>\n",
              "      <td>0</td>\n",
              "      <td>1</td>\n",
              "      <td>10</td>\n",
              "      <td>10</td>\n",
              "      <td>7</td>\n",
              "      <td>1</td>\n",
              "      <td>7</td>\n",
              "      <td>0</td>\n",
              "      <td>2</td>\n",
              "      <td>3</td>\n",
              "    </tr>\n",
              "    <tr>\n",
              "      <th>2</th>\n",
              "      <td>1</td>\n",
              "      <td>2</td>\n",
              "      <td>1</td>\n",
              "      <td>2</td>\n",
              "      <td>4</td>\n",
              "      <td>2</td>\n",
              "      <td>2</td>\n",
              "      <td>2</td>\n",
              "      <td>1</td>\n",
              "      <td>0</td>\n",
              "      <td>...</td>\n",
              "      <td>1</td>\n",
              "      <td>6</td>\n",
              "      <td>7</td>\n",
              "      <td>0</td>\n",
              "      <td>0</td>\n",
              "      <td>0</td>\n",
              "      <td>0</td>\n",
              "      <td>1</td>\n",
              "      <td>0</td>\n",
              "      <td>2</td>\n",
              "    </tr>\n",
              "    <tr>\n",
              "      <th>3</th>\n",
              "      <td>1</td>\n",
              "      <td>6</td>\n",
              "      <td>0</td>\n",
              "      <td>4</td>\n",
              "      <td>1</td>\n",
              "      <td>1</td>\n",
              "      <td>3</td>\n",
              "      <td>0</td>\n",
              "      <td>1</td>\n",
              "      <td>0</td>\n",
              "      <td>...</td>\n",
              "      <td>1</td>\n",
              "      <td>1</td>\n",
              "      <td>8</td>\n",
              "      <td>8</td>\n",
              "      <td>7</td>\n",
              "      <td>3</td>\n",
              "      <td>0</td>\n",
              "      <td>3</td>\n",
              "      <td>2</td>\n",
              "      <td>0</td>\n",
              "    </tr>\n",
              "    <tr>\n",
              "      <th>4</th>\n",
              "      <td>1</td>\n",
              "      <td>2</td>\n",
              "      <td>1</td>\n",
              "      <td>1</td>\n",
              "      <td>3</td>\n",
              "      <td>2</td>\n",
              "      <td>2</td>\n",
              "      <td>0</td>\n",
              "      <td>1</td>\n",
              "      <td>2</td>\n",
              "      <td>...</td>\n",
              "      <td>0</td>\n",
              "      <td>9</td>\n",
              "      <td>6</td>\n",
              "      <td>2</td>\n",
              "      <td>2</td>\n",
              "      <td>2</td>\n",
              "      <td>2</td>\n",
              "      <td>1</td>\n",
              "      <td>2</td>\n",
              "      <td>3</td>\n",
              "    </tr>\n",
              "  </tbody>\n",
              "</table>\n",
              "<p>5 rows × 23 columns</p>\n",
              "</div>"
            ],
            "text/plain": [
              "   Department  Job Role  Gender  Education  Education Field  Business Travel  \\\n",
              "0           2         7       0          2                1                2   \n",
              "1           1         6       1          1                1                1   \n",
              "2           1         2       1          2                4                2   \n",
              "3           1         6       0          4                1                1   \n",
              "4           1         2       1          1                3                2   \n",
              "\n",
              "   Distance From Home (kms)  Job Involvement  Job Level  Job Satisfaction  \\\n",
              "0                         1                0          2                 3   \n",
              "1                         8                2          2                 2   \n",
              "2                         2                2          1                 0   \n",
              "3                         3                0          1                 0   \n",
              "4                         2                0          1                 2   \n",
              "\n",
              "   ...  Over Time  No. of Companies Worked  Total Working Years  \\\n",
              "0  ...          1                        2                    8   \n",
              "1  ...          0                        1                   10   \n",
              "2  ...          1                        6                    7   \n",
              "3  ...          1                        1                    8   \n",
              "4  ...          0                        9                    6   \n",
              "\n",
              "   Years At Company  Years In Current Role  Years Since Last Promotion  \\\n",
              "0                 6                      4                           0   \n",
              "1                10                      7                           1   \n",
              "2                 0                      0                           0   \n",
              "3                 8                      7                           3   \n",
              "4                 2                      2                           2   \n",
              "\n",
              "   Years With Curr Manager  Environment Satisfaction  Work Life Balance  \\\n",
              "0                        5                         2                  0   \n",
              "1                        7                         0                  2   \n",
              "2                        0                         1                  0   \n",
              "3                        0                         3                  2   \n",
              "4                        2                         1                  2   \n",
              "\n",
              "   Relationship Satisfaction  \n",
              "0                          1  \n",
              "1                          3  \n",
              "2                          2  \n",
              "3                          0  \n",
              "4                          3  \n",
              "\n",
              "[5 rows x 23 columns]"
            ]
          },
          "execution_count": 27,
          "metadata": {},
          "output_type": "execute_result"
        }
      ],
      "source": [
        "X.head(5)"
      ]
    },
    {
      "cell_type": "code",
      "execution_count": null,
      "metadata": {
        "id": "sc_59n9coG-v",
        "outputId": "71c3bd4c-9496-4197-d775-82ede414c35e"
      },
      "outputs": [
        {
          "data": {
            "text/plain": [
              "0       1\n",
              "1       0\n",
              "2       1\n",
              "3       0\n",
              "4       0\n",
              "       ..\n",
              "1465    0\n",
              "1466    0\n",
              "1467    0\n",
              "1468    0\n",
              "1469    0\n",
              "Name: Attrition (Yes/No), Length: 1470, dtype: int32"
            ]
          },
          "execution_count": 28,
          "metadata": {},
          "output_type": "execute_result"
        }
      ],
      "source": [
        "y"
      ]
    },
    {
      "cell_type": "code",
      "execution_count": null,
      "metadata": {
        "id": "2MCNNzAyoG-v"
      },
      "outputs": [],
      "source": [
        "# 70% data is train set, 30% is test set\n",
        "X_train, X_test, y_train,  y_test = train_test_split(X,y,test_size=0.3, random_state=0)"
      ]
    },
    {
      "cell_type": "markdown",
      "metadata": {
        "id": "aVJxAE9IoG-v"
      },
      "source": [
        "## **8. Making the model**"
      ]
    },
    {
      "cell_type": "code",
      "execution_count": null,
      "metadata": {
        "id": "XcqKVkTKoG-w"
      },
      "outputs": [],
      "source": [
        "def  prediction_and_accuracy(model, X_train, X_test, y_train, y_test, txt):\n",
        "    y_pred_train = model.predict(X_train)\n",
        "    y_pred_test= model.predict(X_test)\n",
        "    train_acc = round( accuracy_score(y_train, y_pred_train)*100 , 2)\n",
        "    test_acc = round( accuracy_score(y_test, y_pred_test)*100 , 2)\n",
        "    print(txt)\n",
        "    print(f\"|__Training Accuracy = {train_acc}%\")\n",
        "    print(f\"|__Testing Accuracy = {test_acc}%\")"
      ]
    },
    {
      "cell_type": "markdown",
      "metadata": {
        "id": "pwsbpl1qoG-w"
      },
      "source": [
        "### *Decision Tree Classification (using Gini Index)*"
      ]
    },
    {
      "cell_type": "code",
      "execution_count": null,
      "metadata": {
        "id": "b4qq_2cXoG-w",
        "outputId": "67963e35-b1f0-45d3-e016-06d8a9c65159"
      },
      "outputs": [
        {
          "name": "stdout",
          "output_type": "stream",
          "text": [
            "Performance of Decision Tree Classifier (depth: 10):\n",
            "|__Training Accuracy = 98.35%\n",
            "|__Testing Accuracy = 86.85%\n"
          ]
        }
      ],
      "source": [
        "d = 10\n",
        "dt = DecisionTreeClassifier(max_depth=d).fit(X_train, y_train)\n",
        "prediction_and_accuracy(dt, X_train, X_test, y_train, y_test,\n",
        "                            f\"Performance of Decision Tree Classifier (depth: {d}):\")"
      ]
    },
    {
      "cell_type": "markdown",
      "metadata": {
        "id": "0qKG4ClGoG-x"
      },
      "source": [
        "### Logistic Regression"
      ]
    },
    {
      "cell_type": "code",
      "execution_count": null,
      "metadata": {
        "id": "-f8W5In_oG-x",
        "outputId": "b9f1fc80-22dd-4639-9b65-fb67153aa8ca"
      },
      "outputs": [
        {
          "name": "stdout",
          "output_type": "stream",
          "text": [
            "Performance of Logistic Regression:\n",
            "|__Training Accuracy = 88.44%\n",
            "|__Testing Accuracy = 87.98%\n"
          ]
        }
      ],
      "source": [
        "lr = LogisticRegression(max_iter=3000).fit(X_train, y_train)\n",
        "prediction_and_accuracy(lr, X_train, X_test, y_train, y_test,\n",
        "                        \"Performance of Logistic Regression:\")"
      ]
    },
    {
      "cell_type": "markdown",
      "metadata": {
        "id": "7_w2hvx5oG-y"
      },
      "source": [
        "### Random Forest"
      ]
    },
    {
      "cell_type": "code",
      "execution_count": null,
      "metadata": {
        "id": "ovNjdAMAoG-y",
        "outputId": "5a022c3f-1f3b-4072-9fba-2345cacd2513"
      },
      "outputs": [
        {
          "name": "stdout",
          "output_type": "stream",
          "text": [
            "Performance of Random Forest Classfifier:\n",
            "|__Training Accuracy = 99.9%\n",
            "|__Testing Accuracy = 89.34%\n"
          ]
        }
      ],
      "source": [
        "# As Gini was used in DT classifier\n",
        "# let us use Entropy as the criterion here\n",
        "rf = RandomForestClassifier(n_estimators = 15, \n",
        "                            criterion=\"entropy\").fit(X_train, y_train)\n",
        "prediction_and_accuracy(rf, X_train, X_test, y_train, y_test,\n",
        "                        \"Performance of Random Forest Classfifier:\")"
      ]
    },
    {
      "cell_type": "markdown",
      "metadata": {
        "id": "fOuQFFcCoG-y"
      },
      "source": [
        "### SVM"
      ]
    },
    {
      "cell_type": "code",
      "execution_count": null,
      "metadata": {
        "id": "Yyv1xt_qoG-z",
        "outputId": "e18ea882-bbe3-44e0-b8a8-d9943a523aa8"
      },
      "outputs": [
        {
          "name": "stdout",
          "output_type": "stream",
          "text": [
            "Performance of SVM (kernel: Lnear):\n",
            "|__Training Accuracy = 88.44%\n",
            "|__Testing Accuracy = 87.07%\n"
          ]
        }
      ],
      "source": [
        "# Linear\n",
        "lin = SVC(kernel=\"linear\", C = 100).fit(X_train, y_train)\n",
        "prediction_and_accuracy(lin, X_train, X_test, y_train, y_test,\n",
        "                        \"Performance of SVM (kernel: Lnear):\")"
      ]
    },
    {
      "cell_type": "code",
      "execution_count": null,
      "metadata": {
        "id": "6TKb20nToG-z",
        "outputId": "76772ae6-6b07-4789-9cfa-11fb8b143668"
      },
      "outputs": [
        {
          "name": "stdout",
          "output_type": "stream",
          "text": [
            "Performance of SVM (kernel: polynomial, deg: 3):\n",
            "|__Training Accuracy = 83.77%\n",
            "|__Testing Accuracy = 84.13%\n"
          ]
        }
      ],
      "source": [
        "# polynomial kernel\n",
        "poly = SVC(kernel=\"poly\", degree = 3, C = 100).fit(X_train, y_train)\n",
        "prediction_and_accuracy(poly, X_train, X_test, y_train, y_test,\n",
        "                        \"Performance of SVM (kernel: polynomial, deg: 3):\")"
      ]
    },
    {
      "cell_type": "code",
      "execution_count": null,
      "metadata": {
        "id": "SJu1gpJVoG-z",
        "outputId": "52a0501a-8c11-4560-fa41-8d3953cbe72a"
      },
      "outputs": [
        {
          "name": "stdout",
          "output_type": "stream",
          "text": [
            "Performance of SVM (kernel: RBF):\n",
            "|__Training Accuracy = 100.0%\n",
            "|__Testing Accuracy = 84.13%\n"
          ]
        }
      ],
      "source": [
        "# rbf kernel\n",
        "rbf = SVC(kernel = \"rbf\", gamma = 0.5, C = 100).fit(X_train, y_train)\n",
        "prediction_and_accuracy(rbf, X_train, X_test, y_train, y_test,\n",
        "                        \"Performance of SVM (kernel: RBF):\")"
      ]
    },
    {
      "cell_type": "markdown",
      "metadata": {
        "id": "PQVFJv01oG-0"
      },
      "source": [
        "### **K-Means**"
      ]
    },
    {
      "cell_type": "code",
      "execution_count": null,
      "metadata": {
        "id": "QKhRCVKzoG-0",
        "outputId": "48b20ec1-395e-4f22-eed4-490a0f8aa74a"
      },
      "outputs": [
        {
          "data": {
            "image/png": "[encoded data removed]",
            "text/plain": [
              "<Figure size 432x288 with 1 Axes>"
            ]
          },
          "metadata": {
            "needs_background": "light"
          },
          "output_type": "display_data"
        }
      ],
      "source": [
        "Sum_of_squared_distances = []\n",
        "K = range(1,15)\n",
        "for k in K:\n",
        "    km = KMeans(n_clusters=k)\n",
        "    km = km.fit(X_train)\n",
        "    Sum_of_squared_distances.append(km.inertia_)\n",
        "\n",
        "#VISUALIZING PLOT\n",
        "plt.plot(K, Sum_of_squared_distances, 'bx-')\n",
        "plt.xlabel('k')\n",
        "plt.ylabel('Sum_of_squared_distances')\n",
        "plt.title('Elbow Method For Optimal k')\n",
        "plt.show()"
      ]
    },
    {
      "cell_type": "markdown",
      "metadata": {
        "id": "WyD5jac9oG-0"
      },
      "source": [
        "We can see that the elbow is formed at k = 2, hence we will create two clusters\n",
        "\n",
        "(representing two classes in attrition: yes and no) "
      ]
    },
    {
      "cell_type": "code",
      "execution_count": null,
      "metadata": {
        "id": "VMJLJmWloG-1"
      },
      "outputs": [],
      "source": [
        "kmeans = KMeans(n_clusters=2, init='random', n_init=50, max_iter=500, \n",
        "                verbose=0, random_state=50, copy_x=False, algorithm='auto')\n",
        "y_kmeans=kmeans.fit_predict(X_train)"
      ]
    },
    {
      "cell_type": "code",
      "execution_count": null,
      "metadata": {
        "id": "7EnxhyLboG-1"
      },
      "outputs": [],
      "source": [
        "X2= X_train.values"
      ]
    },
    {
      "cell_type": "code",
      "execution_count": null,
      "metadata": {
        "id": "e90CjQDioG-6",
        "outputId": "45cde8e8-6af6-45a0-8898-356cf7438701"
      },
      "outputs": [
        {
          "data": {
            "image/png": "[encoded data removed]",
            "text/plain": [
              "<Figure size 432x288 with 1 Axes>"
            ]
          },
          "metadata": {
            "needs_background": "light"
          },
          "output_type": "display_data"
        }
      ],
      "source": [
        "plt.scatter(X2[y_kmeans==0,0],X2[y_kmeans==0,1],s=100,c='red',label='Cluster1')\n",
        "plt.scatter(X2[y_kmeans==1,0],X2[y_kmeans==1,1],s=100,c='orange',label='Cluster2')\n",
        "plt.scatter(kmeans.cluster_centers_[:,0],kmeans.cluster_centers_[:,1],s=150,c='yellow',label='Centroids')\n",
        "plt.title('Clusters of data')\n",
        "plt.legend()\n",
        "plt.show()"
      ]
    },
    {
      "cell_type": "markdown",
      "metadata": {
        "id": "ITxZTL2qoG-7"
      },
      "source": [
        "We cannot cluster this dataset well using K-Means clustering"
      ]
    },
    {
      "cell_type": "markdown",
      "metadata": {
        "id": "huQRRP50oG-7"
      },
      "source": [
        "## **9. Summary of all the models**"
      ]
    },
    {
      "cell_type": "markdown",
      "metadata": {
        "id": "6xL-vZWooG-7"
      },
      "source": [
        "<style>\n",
        "    table{\n",
        "        background-color:black;\n",
        "        padding: 5px;\n",
        "    }\n",
        "</style>\n",
        "\n",
        "<table>\n",
        "<tr style=\"border:2px solid gray;\">\n",
        "    <th>Models</th>\n",
        "    <th>Training Accuracy</th>\n",
        "    <th>Testing Accuracy</th>\n",
        "</tr>\n",
        "<tr style=\"border:2px solid #179100\">\n",
        "    <td >Random Forest Classifier</td>\n",
        "    <td >99.9 %</td>\n",
        "    <td >89.34 %</td>\n",
        "</tr>\n",
        "    \n",
        "<tr style=\"border:2px solid #22cc02\">\n",
        "    <td>Decision Tree Classifier</td>\n",
        "    <td>98.35 %</td>\n",
        "    <td>86.85 %</td>\n",
        "</tr>\n",
        "\n",
        "<tr style=\"border:2px solid #71cc02\">\n",
        "    <td>SVM (RBF kernel)</td>\n",
        "    <td>100.0 % </td>\n",
        "    <td>84.13 % </td>\n",
        "</tr>\n",
        "\n",
        "<tr style=\"border:2px solid rgb(252, 158, 158)\">\n",
        "    <td>Logistic Regression</td>\n",
        "    <td>88.44 %</td>\n",
        "    <td>87.98 %</td>\n",
        "</tr>\n",
        "\n",
        "<tr style=\"border:2px solid rgb(255, 121, 121)\">\n",
        "    <td>SVM (linear kernel)</td>\n",
        "    <td>88.44 %</td>\n",
        "    <td>87.07 %</td>\n",
        "</tr> \n",
        "\n",
        "<tr style=\"border:2px solid rgb(252, 91, 91)\">\n",
        "    <td>SVM (poly kernel)</td>\n",
        "    <td>83.77 %</td>\n",
        "    <td>84.13 %</td>\n",
        "</tr>\n",
        "</table>\n",
        "\n",
        "<h5>\n",
        "    <p>SVM (RBF) gives 100% training accuracy while</p>\n",
        "    <p>Random Forset gives best testing accuracy</p>\n",
        "    <p>Random Forest Classifier performs the best because </p>\n",
        "    <ul>\n",
        "    <li>it creates multiple trees and gives us an aggrigate result </li>\n",
        "    <li>removing the bias in a single model</li>\n",
        "    </ul>\n",
        "</h5>"
      ]
    }
  ],
  "metadata": {
    "kernelspec": {
      "display_name": "Python 3",
      "language": "python",
      "name": "python3"
    },
    "language_info": {
      "codemirror_mode": {
        "name": "ipython",
        "version": 3
      },
      "file_extension": ".py",
      "mimetype": "text/x-python",
      "name": "python",
      "nbconvert_exporter": "python",
      "pygments_lexer": "ipython3",
      "version": "3.8.8"
    },
    "vscode": {
      "interpreter": {
        "hash": "07d623e3832b78ce69fa2c095939a54ed4f3e8fe6909ed4ae68f2da80f027625"
      }
    },
    "colab": {
      "name": "attrition.ipynb",
      "provenance": [],
      "include_colab_link": true
    }
  },
  "nbformat": 4,
  "nbformat_minor": 0
}