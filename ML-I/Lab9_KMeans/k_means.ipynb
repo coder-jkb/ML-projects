{
 "cells": [
  {
   "cell_type": "markdown",
   "metadata": {},
   "source": [
    "# K-MEANS\n",
    "### Jay Bhanushali (60009200047)"
   ]
  },
  {
   "cell_type": "code",
   "execution_count": 2,
   "metadata": {},
   "outputs": [],
   "source": [
    "import numpy as np\n",
    "import pandas as pd\n",
    "import matplotlib.pyplot as plt\n",
    "import seaborn as sns"
   ]
  },
  {
   "cell_type": "markdown",
   "metadata": {},
   "source": [
    "## Synthetic Data (200 samples, 3 clusters and cluster_std = 2.7)"
   ]
  },
  {
   "cell_type": "markdown",
   "metadata": {},
   "source": [
    "**Data generation and preprocessing**"
   ]
  },
  {
   "cell_type": "code",
   "execution_count": 3,
   "metadata": {},
   "outputs": [
    {
     "data": {
      "text/plain": [
       "array([[ 9.77075874e+00,  3.27621022e+00],\n",
       "       [-9.71349666e+00,  1.12745180e+01],\n",
       "       [-6.91330582e+00, -9.34755911e+00],\n",
       "       [-1.08618591e+01, -1.07506350e+01],\n",
       "       [-8.50038027e+00, -4.54370383e+00],\n",
       "       [-4.82456978e+00, -5.20159136e+00],\n",
       "       [-3.03819028e+00,  9.84354132e+00],\n",
       "       [-8.17498253e+00, -6.24197227e+00],\n",
       "       [ 3.91207254e+00,  9.45363489e+00],\n",
       "       [-4.64425636e+00, -5.14863028e+00],\n",
       "       [ 2.09082004e+00,  1.80947495e+00],\n",
       "       [ 5.26539366e+00,  5.56781226e+00],\n",
       "       [ 7.61826975e+00,  4.87112533e+00],\n",
       "       [ 3.30512908e+00,  2.19832357e+00],\n",
       "       [-9.29263277e-01,  2.48591905e+00],\n",
       "       [-9.15936347e+00, -8.42060745e+00],\n",
       "       [-2.70722546e+00,  1.17740016e+01],\n",
       "       [-9.14073328e+00, -6.20996976e+00],\n",
       "       [ 6.52709436e+00, -2.46179896e+00],\n",
       "       [-2.51808095e+00, -1.02841022e+01],\n",
       "       [ 1.04758084e+01,  4.81244915e+00],\n",
       "       [ 3.33377923e+00,  1.76514294e-01],\n",
       "       [-5.99215115e+00, -9.15499469e+00],\n",
       "       [-2.32349506e+00,  5.09622862e+00],\n",
       "       [-5.00425652e+00, -7.73334317e+00],\n",
       "       [-4.37073312e+00,  1.06963959e+01],\n",
       "       [-5.67442996e+00,  1.00474557e+01],\n",
       "       [-7.29703620e+00, -5.26223728e+00],\n",
       "       [-1.93482274e+00,  3.62519329e+00],\n",
       "       [ 1.23826438e+00, -1.65808600e+00],\n",
       "       [ 4.61611430e-01,  6.41525984e-01],\n",
       "       [ 1.10051899e+01, -3.16180960e+00],\n",
       "       [-1.15907471e+01, -3.15696056e+00],\n",
       "       [-9.14974448e+00, -7.76392066e+00],\n",
       "       [-1.51535971e+00,  1.32438867e+01],\n",
       "       [-2.23515637e+00,  7.62972808e+00],\n",
       "       [-5.74406569e+00, -8.43035211e+00],\n",
       "       [-8.95340615e-01,  1.50380391e+01],\n",
       "       [-6.20596912e+00, -8.27420333e+00],\n",
       "       [-2.25685549e+00,  3.54847161e+00],\n",
       "       [ 1.33906372e+00,  1.05329129e+00],\n",
       "       [-4.73255503e+00,  7.63445426e+00],\n",
       "       [-9.57877598e+00, -5.60932504e+00],\n",
       "       [ 9.12900992e+00, -1.95971911e+00],\n",
       "       [-9.12973407e+00, -1.12604459e+00],\n",
       "       [ 6.36046404e+00, -3.84013596e-01],\n",
       "       [ 2.19371415e+00, -2.70308600e-01],\n",
       "       [-6.68767146e+00, -7.93972198e+00],\n",
       "       [ 8.51288074e-01, -6.05849176e-01],\n",
       "       [ 8.15820063e-03,  9.91835168e+00],\n",
       "       [-8.57669125e-01, -9.10292988e+00],\n",
       "       [-4.00625012e+00,  9.31932325e+00],\n",
       "       [-3.63616686e+00, -8.17034264e+00],\n",
       "       [-3.33859769e-01,  6.51347063e+00],\n",
       "       [-6.57513310e+00,  7.03471456e+00],\n",
       "       [-4.16389081e+00,  1.41080511e+01],\n",
       "       [-1.01378541e+00, -1.22483510e+01],\n",
       "       [ 3.94531642e+00, -1.45823407e+00],\n",
       "       [-4.43984363e+00,  8.11321523e+00],\n",
       "       [ 1.36379422e+00,  3.77869211e+00],\n",
       "       [-4.26596164e+00, -8.46659465e+00],\n",
       "       [-5.03761427e+00,  1.32766057e+01],\n",
       "       [-4.40572753e+00, -6.03503591e+00],\n",
       "       [-6.93192176e+00, -9.63706535e+00],\n",
       "       [-4.48074544e+00, -6.37591908e+00],\n",
       "       [-6.33221303e+00, -8.53070601e+00],\n",
       "       [-5.43053284e+00,  1.03166653e+01],\n",
       "       [-2.47199115e-01,  5.65696609e+00],\n",
       "       [-4.19804792e+00, -7.28451739e+00],\n",
       "       [-4.78414528e-01,  9.48554890e+00],\n",
       "       [-1.61796671e+00,  7.95530986e+00],\n",
       "       [-6.26337287e+00, -6.84548049e+00],\n",
       "       [-5.00626383e+00,  5.13045095e+00],\n",
       "       [ 2.81996606e+00,  4.31736135e+00],\n",
       "       [ 1.34848673e+00,  5.15919571e+00],\n",
       "       [ 6.05622582e+00,  3.38608105e+00],\n",
       "       [ 1.69492447e+00,  3.29996883e+00],\n",
       "       [-3.80025218e+00,  1.05063262e+01],\n",
       "       [ 6.05625997e+00,  1.25681813e+01],\n",
       "       [-3.82692678e+00,  8.50372394e+00],\n",
       "       [-2.54631499e+00,  6.10558107e+00],\n",
       "       [ 5.22863663e+00, -1.45261196e+00],\n",
       "       [-4.27360635e+00, -8.43896330e-01],\n",
       "       [-5.98816972e+00, -7.23800299e+00],\n",
       "       [-6.61288829e+00, -5.24342777e+00],\n",
       "       [-5.37510939e+00, -7.43613939e+00],\n",
       "       [-6.86520702e+00, -6.75091296e+00],\n",
       "       [-2.26981819e+00,  8.19201591e+00],\n",
       "       [ 4.79995281e+00, -1.16999864e+00],\n",
       "       [-7.47825050e+00, -3.85847325e+00],\n",
       "       [ 4.76520140e+00,  1.81268728e-01],\n",
       "       [-6.40146716e+00,  7.85751149e+00],\n",
       "       [-6.77352206e+00,  9.20283431e+00],\n",
       "       [-2.60465499e+00,  5.80042152e+00],\n",
       "       [ 4.67563404e+00,  5.97038840e+00],\n",
       "       [-8.85534880e+00, -7.46708926e+00],\n",
       "       [-4.81704581e+00,  8.16395209e+00],\n",
       "       [ 5.32873417e+00,  2.92590226e+00],\n",
       "       [ 5.86038226e+00,  4.10341333e+00],\n",
       "       [-3.58749504e+00,  4.98962002e+00],\n",
       "       [-3.28956047e+00, -6.82234903e+00],\n",
       "       [-8.11730724e+00, -5.16727228e+00],\n",
       "       [-3.45166254e+00,  6.80802364e+00],\n",
       "       [-7.45196338e+00, -8.23586216e+00],\n",
       "       [-1.69486686e+00,  9.73218813e+00],\n",
       "       [ 4.02535618e+00,  3.93667104e+00],\n",
       "       [-5.45142428e+00, -2.66507758e+00],\n",
       "       [ 3.77288841e+00,  4.06033504e+00],\n",
       "       [ 7.83857915e+00,  2.00131060e+00],\n",
       "       [-1.12643033e+01, -8.52839091e+00],\n",
       "       [ 5.35455652e+00,  4.12318258e+00],\n",
       "       [ 6.02859385e+00,  4.35399647e+00],\n",
       "       [-1.56424733e+00,  4.16592570e+00],\n",
       "       [-4.98173121e+00, -7.98346589e+00],\n",
       "       [-3.96603818e+00,  1.04257716e+01],\n",
       "       [-1.27203404e+01, -8.32593590e+00],\n",
       "       [-2.88898227e+00, -4.24211482e+00],\n",
       "       [-7.25272166e+00,  7.46799542e+00],\n",
       "       [-3.77595424e+00,  1.19213723e+01],\n",
       "       [-2.82723040e+00,  8.18625097e+00],\n",
       "       [-9.58375433e-01, -8.99031539e+00],\n",
       "       [ 9.49487800e+00,  3.08686939e+00],\n",
       "       [-5.23317252e+00,  7.45696737e+00],\n",
       "       [-6.67116466e+00, -8.74230430e+00],\n",
       "       [-5.93979826e+00, -1.72063979e+00],\n",
       "       [ 3.41196272e+00,  4.32826637e+00],\n",
       "       [-1.59822319e+00,  1.16970352e+01],\n",
       "       [-2.72025275e-01,  5.62940926e+00],\n",
       "       [ 2.20927089e+00,  2.39591373e+00],\n",
       "       [ 3.26051064e-01,  1.15753065e+01],\n",
       "       [ 7.26338369e+00,  3.76449563e+00],\n",
       "       [-6.93710657e+00, -6.55745929e+00],\n",
       "       [ 1.52133649e+00,  8.39340130e+00],\n",
       "       [-6.81222421e+00, -5.51061429e+00],\n",
       "       [-9.18886226e+00, -8.52843937e+00],\n",
       "       [ 7.28916319e+00,  3.10831723e+00],\n",
       "       [ 4.81664889e+00, -9.90628455e-01],\n",
       "       [ 1.05357251e+01,  3.71644700e+00],\n",
       "       [-2.24223436e+00,  1.16780599e+01],\n",
       "       [ 8.12388450e+00,  2.70786535e-02],\n",
       "       [-7.78581847e+00,  8.94137297e+00],\n",
       "       [-5.29448320e+00,  9.87846629e+00],\n",
       "       [-1.05102685e+01, -1.84359799e+00],\n",
       "       [ 2.19299941e-01,  2.48091279e+00],\n",
       "       [ 4.42784914e+00,  2.91133761e+00],\n",
       "       [-6.16170926e+00,  9.55565453e+00],\n",
       "       [ 2.76981085e+00,  2.61186735e+00],\n",
       "       [-4.52106323e+00, -7.31994055e+00],\n",
       "       [-6.56745449e+00, -5.05925024e+00],\n",
       "       [ 3.42975650e+00,  2.33270627e+00],\n",
       "       [-5.55161880e+00,  5.72471791e+00],\n",
       "       [-6.93053832e+00, -7.67392085e+00],\n",
       "       [ 6.90054428e+00,  7.18935039e+00],\n",
       "       [-7.19461177e+00, -3.47611474e+00],\n",
       "       [ 2.51460950e+00,  1.32191852e+00],\n",
       "       [-3.69482229e+00, -4.70303718e+00],\n",
       "       [-9.64617499e+00, -1.02191283e+01],\n",
       "       [-1.80093405e+00,  8.80955986e+00],\n",
       "       [ 5.94128230e+00,  1.77289017e+00],\n",
       "       [ 7.82601668e+00, -2.83706692e-01],\n",
       "       [-2.74751611e-01,  1.27439462e+01],\n",
       "       [ 3.96506152e+00, -9.96047680e-02],\n",
       "       [ 5.62379408e+00,  3.51532713e+00],\n",
       "       [-7.17871760e+00, -5.77540236e+00],\n",
       "       [-3.11329531e+00,  9.99634570e+00],\n",
       "       [ 6.20982774e+00,  5.09597519e+00],\n",
       "       [ 5.44582814e+00,  8.70328437e-03],\n",
       "       [-4.66314418e+00,  8.12861696e+00],\n",
       "       [-6.10689955e+00, -8.59253327e+00],\n",
       "       [ 5.40077853e+00,  4.24792362e+00],\n",
       "       [-3.36604873e+00, -8.50693091e+00],\n",
       "       [-2.49513562e+00,  8.36917151e+00],\n",
       "       [ 2.67279364e+00,  3.84206349e+00],\n",
       "       [-5.89783460e+00, -8.78561098e+00],\n",
       "       [ 6.33565117e-01,  1.10821020e+01],\n",
       "       [ 8.60338038e+00, -1.97545123e+00],\n",
       "       [-2.34356455e+00,  1.57882019e+01],\n",
       "       [-4.16095402e+00,  8.21212832e+00],\n",
       "       [-2.95273333e+00,  1.01254260e+01],\n",
       "       [ 1.17244796e+00,  4.49729004e+00],\n",
       "       [-3.78359628e+00,  7.73352931e+00],\n",
       "       [ 2.46044681e+00,  1.65764447e+00],\n",
       "       [-6.61101792e+00, -9.00588650e+00],\n",
       "       [-5.16329769e+00, -5.15215944e+00],\n",
       "       [-4.60973223e+00, -4.64295809e+00],\n",
       "       [ 1.55501100e+00,  7.58904303e+00],\n",
       "       [ 6.07521814e+00,  2.78987754e+00],\n",
       "       [ 5.11612638e+00,  3.03279248e+00],\n",
       "       [ 2.31119611e+00, -2.19266018e+00],\n",
       "       [-2.60771923e+00,  1.33170562e+01],\n",
       "       [-1.51469855e+00,  7.24020680e+00],\n",
       "       [ 2.63137060e+00,  2.56843081e+00],\n",
       "       [-9.35026754e+00, -5.52733187e+00],\n",
       "       [-8.96724201e+00, -6.46652668e+00],\n",
       "       [-1.84380138e+00,  3.75276546e+00],\n",
       "       [-6.02463139e+00, -2.82288000e+00],\n",
       "       [ 2.67781361e+00,  9.49437511e+00],\n",
       "       [ 1.83363762e+00,  1.11247316e+01],\n",
       "       [ 3.34206621e+00,  4.96778383e+00],\n",
       "       [ 1.95950424e+00,  4.13765234e+00]])"
      ]
     },
     "execution_count": 3,
     "metadata": {},
     "output_type": "execute_result"
    }
   ],
   "source": [
    "from sklearn.datasets import make_blobs\n",
    "\n",
    "features, true_labels = make_blobs(n_samples=200,centers=3,\n",
    "                                   cluster_std=2.75,random_state=42)\n",
    "\n",
    "features"
   ]
  },
  {
   "cell_type": "code",
   "execution_count": 4,
   "metadata": {},
   "outputs": [
    {
     "data": {
      "text/plain": [
       "array([1, 0, 2, 2, 2, 2, 0, 2, 1, 2, 1, 1, 1, 1, 1, 2, 0, 2, 1, 2, 1, 1,\n",
       "       2, 0, 2, 0, 0, 2, 0, 1, 1, 1, 2, 2, 0, 0, 2, 0, 2, 0, 1, 0, 2, 1,\n",
       "       2, 1, 1, 2, 1, 0, 2, 0, 2, 0, 0, 0, 2, 1, 0, 1, 2, 0, 2, 2, 2, 2,\n",
       "       0, 0, 2, 0, 0, 2, 0, 1, 0, 1, 1, 0, 1, 0, 0, 1, 1, 2, 2, 2, 2, 0,\n",
       "       1, 2, 1, 0, 0, 0, 1, 2, 0, 1, 1, 0, 2, 2, 0, 2, 0, 1, 2, 1, 1, 2,\n",
       "       1, 1, 0, 2, 0, 2, 2, 0, 0, 0, 2, 1, 0, 2, 2, 1, 0, 0, 1, 0, 1, 2,\n",
       "       0, 2, 2, 1, 1, 1, 0, 1, 0, 0, 2, 1, 1, 0, 1, 2, 2, 1, 0, 2, 1, 2,\n",
       "       1, 2, 2, 0, 1, 1, 0, 1, 1, 2, 0, 1, 1, 0, 2, 1, 2, 0, 1, 2, 0, 1,\n",
       "       0, 0, 0, 1, 0, 1, 2, 2, 2, 0, 1, 1, 1, 0, 0, 1, 2, 2, 0, 2, 0, 0,\n",
       "       1, 1])"
      ]
     },
     "execution_count": 4,
     "metadata": {},
     "output_type": "execute_result"
    }
   ],
   "source": [
    "true_labels"
   ]
  },
  {
   "cell_type": "code",
   "execution_count": 5,
   "metadata": {},
   "outputs": [],
   "source": [
    "from sklearn.preprocessing import StandardScaler"
   ]
  },
  {
   "cell_type": "code",
   "execution_count": 6,
   "metadata": {},
   "outputs": [
    {
     "data": {
      "text/plain": [
       "array([[ 2.13082109,  0.25604351],\n",
       "       [-1.52698523,  1.41036744],\n",
       "       [-1.00130152, -1.56583175],\n",
       "       [-1.74256891, -1.76832509],\n",
       "       [-1.29924521, -0.87253446],\n",
       "       [-0.6091802 , -0.96748146],\n",
       "       [-0.27382069,  1.20384743],\n",
       "       [-1.23815784, -1.11763029],\n",
       "       [ 1.0309618 ,  1.14757573],\n",
       "       [-0.57532971, -0.95983806],\n",
       "       [ 0.68905553,  0.04436278],\n",
       "       [ 1.28502265,  0.58676985],\n",
       "       [ 1.72673134,  0.48622328],\n",
       "       [ 0.91701946,  0.10048181],\n",
       "       [ 0.1220911 ,  0.14198788],\n",
       "       [-1.42295704, -1.43205314],\n",
       "       [-0.21168821,  1.48245342],\n",
       "       [-1.41945957, -1.11301166],\n",
       "       [ 1.52188347, -0.57207183],\n",
       "       [-0.17617985, -1.70099461],\n",
       "       [ 2.26318104,  0.47775508],\n",
       "       [ 0.92239799, -0.19130777],\n",
       "       [-0.82837187, -1.53804066],\n",
       "       [-0.13964997,  0.51871042],\n",
       "       [-0.64291304, -1.33286646],\n",
       "       [-0.52398081,  1.32693227],\n",
       "       [-0.76872563,  1.23327655],\n",
       "       [-1.07333975, -0.97623394],\n",
       "       [-0.06668397,  0.3064091 ],\n",
       "       [ 0.52900408, -0.45607915],\n",
       "       [ 0.38320194, -0.12419681],\n",
       "       [ 2.36256256, -0.67309807],\n",
       "       [-1.87940407, -0.67239826],\n",
       "       [-1.42115125, -1.33727943],\n",
       "       [ 0.0120624 ,  1.69458874],\n",
       "       [-0.12306602,  0.88434764],\n",
       "       [-0.78179844, -1.4334595 ],\n",
       "       [ 0.12845945,  1.95352264],\n",
       "       [-0.86851222, -1.41092395],\n",
       "       [-0.12713963,  0.29533655],\n",
       "       [ 0.54792728, -0.06477042],\n",
       "       [-0.59190614,  0.88502973],\n",
       "       [-1.50169393, -1.026326  ],\n",
       "       [ 2.01034469, -0.49961115],\n",
       "       [-1.41739467, -0.37929439],\n",
       "       [ 1.49060173, -0.27220372],\n",
       "       [ 0.70837199, -0.2557937 ],\n",
       "       [-0.95894286, -1.36265126],\n",
       "       [ 0.45635648, -0.30421926],\n",
       "       [ 0.29807454,  1.21464413],\n",
       "       [ 0.13553157, -1.53052661],\n",
       "       [-0.45555591,  1.12819174],\n",
       "       [-0.38607967, -1.39593467],\n",
       "       [ 0.23386703,  0.72324823],\n",
       "       [-0.93781588,  0.79847468],\n",
       "       [-0.48515002,  1.81930583],\n",
       "       [ 0.10622364, -1.984477  ],\n",
       "       [ 1.03720271, -0.42723632],\n",
       "       [-0.53695502,  0.954125  ],\n",
       "       [ 0.55256997,  0.32856221],\n",
       "       [-0.50431192, -1.43869006],\n",
       "       [-0.64917534,  1.69931078],\n",
       "       [-0.53055036, -1.08776503],\n",
       "       [-1.00479631, -1.60761359],\n",
       "       [-0.54463358, -1.13696163],\n",
       "       [-0.89221216, -1.44794268],\n",
       "       [-0.72293848,  1.27212916],\n",
       "       [ 0.25013595,  0.59963662],\n",
       "       [-0.49156238, -1.26809147],\n",
       "       [ 0.20672956,  1.1521816 ],\n",
       "       [-0.00720015,  0.93133594],\n",
       "       [-0.8792887 , -1.20472921],\n",
       "       [-0.64328988,  0.52364942],\n",
       "       [ 0.82593913,  0.4063035 ],\n",
       "       [ 0.54969627,  0.52779789],\n",
       "       [ 1.43348667,  0.27190018],\n",
       "       [ 0.61473351,  0.25947237],\n",
       "       [-0.41688363,  1.29950122],\n",
       "       [ 1.43349308,  1.59707024],\n",
       "       [-0.42189129,  1.01048362],\n",
       "       [-0.18148026,  0.66438119],\n",
       "       [ 1.2781222 , -0.42642493],\n",
       "       [-0.50574707, -0.33857447],\n",
       "       [-0.82762443, -1.26137846],\n",
       "       [-0.94490372, -0.97351933],\n",
       "       [-0.71253377, -1.28997371],\n",
       "       [-0.99227186, -1.19108113],\n",
       "       [-0.12957313,  0.9654976 ],\n",
       "       [ 1.19764479, -0.38563789],\n",
       "       [-1.10735937, -0.77364128],\n",
       "       [ 1.19112086, -0.1906216 ],\n",
       "       [-0.90521333,  0.91722158],\n",
       "       [-0.97505972,  1.11137994],\n",
       "       [-0.19243251,  0.62034026],\n",
       "       [ 1.17430625,  0.64487005],\n",
       "       [-1.36588394, -1.29444042],\n",
       "       [-0.60776771,  0.9614474 ],\n",
       "       [ 1.29691365,  0.20548671],\n",
       "       [ 1.39672068,  0.3754263 ],\n",
       "       [-0.37694244,  0.50332456],\n",
       "       [-0.32101077, -1.20139086],\n",
       "       [-1.22733037, -0.96252849],\n",
       "       [-0.35144242,  0.76575842],\n",
       "       [-1.10242445, -1.40539051],\n",
       "       [-0.02163672,  1.18777682],\n",
       "       [ 1.05222869,  0.35136189],\n",
       "       [-0.72686046, -0.6014092 ],\n",
       "       [ 1.00483257,  0.3692092 ],\n",
       "       [ 1.76809033,  0.0720487 ],\n",
       "       [-1.81812031, -1.44760856],\n",
       "       [ 1.30176132,  0.37827942],\n",
       "       [ 1.42829928,  0.41159072],\n",
       "       [ 0.00288466,  0.38444815],\n",
       "       [-0.63868433, -1.36896443],\n",
       "       [-0.44800687,  1.28787549],\n",
       "       [-2.09146419, -1.41839005],\n",
       "       [-0.24580967, -0.82900883],\n",
       "       [-1.06502052,  0.86100622],\n",
       "       [-0.41232215,  1.5037221 ],\n",
       "       [-0.2342169 ,  0.96466559],\n",
       "       [ 0.11662583, -1.51427397],\n",
       "       [ 2.07902961,  0.22871765],\n",
       "       [-0.68588776,  0.85941464],\n",
       "       [-0.95584402, -1.47848076],\n",
       "       [-0.81854359, -0.46510698],\n",
       "       [ 0.93707548,  0.40787732],\n",
       "       [-0.00349367,  1.47134556],\n",
       "       [ 0.2454753 ,  0.59565959],\n",
       "       [ 0.71129248,  0.12899822],\n",
       "       [ 0.357753  ,  1.45377754],\n",
       "       [ 1.66010809,  0.32651335],\n",
       "       [-1.00576966, -1.1631617 ],\n",
       "       [ 0.5821456 ,  0.99456174],\n",
       "       [-0.98232533, -1.01207996],\n",
       "       [-1.42849489, -1.44761555],\n",
       "       [ 1.66494771,  0.23181302],\n",
       "       [ 1.20077917, -0.359751  ],\n",
       "       [ 2.27442928,  0.31957893],\n",
       "       [-0.12439479,  1.46860701],\n",
       "       [ 1.8216511 , -0.21287447],\n",
       "       [-1.16509953,  1.07364557],\n",
       "       [-0.6973977 ,  1.20888783],\n",
       "       [-1.67656432, -0.48285243],\n",
       "       [ 0.33771247,  0.14126537],\n",
       "       [ 1.12778925,  0.20338472],\n",
       "       [-0.86020325,  1.16229931],\n",
       "       [ 0.81652342,  0.16016487],\n",
       "       [-0.55220249, -1.27320377],\n",
       "       [-0.93637437, -0.94693864],\n",
       "       [ 0.94041593,  0.11987606],\n",
       "       [-0.74567012,  0.60941463],\n",
       "       [-1.0045366 , -1.32429057],\n",
       "       [ 1.59199174,  0.82079189],\n",
       "       [-1.05411147, -0.71845891],\n",
       "       [ 0.76861412, -0.02600186],\n",
       "       [-0.39709113, -0.89552961],\n",
       "       [-1.51434684, -1.6916175 ],\n",
       "       [-0.04154886,  1.05462217],\n",
       "       [ 1.41190816,  0.03908283],\n",
       "       [ 1.76573196, -0.25772733],\n",
       "       [ 0.24496348,  1.62243682],\n",
       "       [ 1.04090949, -0.23115755],\n",
       "       [ 1.35230566,  0.2905531 ],\n",
       "       [-1.05112764, -1.05029445],\n",
       "       [-0.28792027,  1.22590031],\n",
       "       [ 1.46232257,  0.51867384],\n",
       "       [ 1.31889586, -0.21552642],\n",
       "       [-0.57887555,  0.95634779],\n",
       "       [-0.84991375, -1.45686565],\n",
       "       [ 1.31043864,  0.39628218],\n",
       "       [-0.33537002, -1.44451143],\n",
       "       [-0.17187229,  0.99106487],\n",
       "       [ 0.79831025,  0.33770803],\n",
       "       [-0.81066569, -1.48473082],\n",
       "       [ 0.41548304,  1.38259776],\n",
       "       [ 1.91166753, -0.50188163],\n",
       "       [-0.14341764,  2.06178691],\n",
       "       [-0.48459869,  0.96840024],\n",
       "       [-0.25777774,  1.24452931],\n",
       "       [ 0.51664827,  0.43227099],\n",
       "       [-0.4137568 ,  0.89932834],\n",
       "       [ 0.75844608,  0.02245045],\n",
       "       [-0.94455259, -1.51652121],\n",
       "       [-0.67277006, -0.96034739],\n",
       "       [-0.56884845, -0.88685894],\n",
       "       [ 0.58846736,  0.87847593],\n",
       "       [ 1.43705212,  0.18585548],\n",
       "       [ 1.25700049,  0.22091321],\n",
       "       [ 0.73042704, -0.53322944],\n",
       "       [-0.19300777,  1.70514863],\n",
       "       [ 0.01218652,  0.82813153],\n",
       "       [ 0.79053384,  0.15389606],\n",
       "       [-1.45879572, -1.01449266],\n",
       "       [-1.38688981, -1.15003821],\n",
       "       [-0.04959641,  0.32482044],\n",
       "       [-0.83446943, -0.62418341],\n",
       "       [ 0.79925265,  1.1534554 ],\n",
       "       [ 0.64077432,  1.38875012],\n",
       "       [ 0.92395371,  0.50017313],\n",
       "       [ 0.66440344,  0.38036771]])"
      ]
     },
     "execution_count": 6,
     "metadata": {},
     "output_type": "execute_result"
    }
   ],
   "source": [
    "ss = StandardScaler()\n",
    "features = ss.fit_transform(features)\n",
    "features"
   ]
  },
  {
   "cell_type": "code",
   "execution_count": 7,
   "metadata": {},
   "outputs": [],
   "source": [
    "from sklearn.cluster import KMeans"
   ]
  },
  {
   "cell_type": "code",
   "execution_count": 8,
   "metadata": {},
   "outputs": [
    {
     "data": {
      "text/plain": [
       "array([2, 0, 1, 1, 1, 1, 0, 1, 2, 1, 2, 2, 2, 2, 0, 1, 0, 1, 2, 1, 2, 2,\n",
       "       1, 0, 1, 0, 0, 1, 0, 2, 2, 2, 1, 1, 0, 0, 1, 0, 1, 0, 2, 0, 1, 2,\n",
       "       1, 2, 2, 1, 2, 0, 1, 0, 1, 0, 0, 0, 1, 2, 0, 2, 1, 0, 1, 1, 1, 1,\n",
       "       0, 0, 1, 0, 0, 1, 0, 2, 2, 2, 2, 0, 2, 0, 0, 2, 1, 1, 1, 1, 1, 0,\n",
       "       2, 1, 2, 0, 0, 0, 2, 1, 0, 2, 2, 0, 1, 1, 0, 1, 0, 2, 1, 2, 2, 1,\n",
       "       2, 2, 0, 1, 0, 1, 1, 0, 0, 0, 1, 2, 0, 1, 1, 2, 0, 0, 2, 0, 2, 1,\n",
       "       0, 1, 1, 2, 2, 2, 0, 2, 0, 0, 1, 2, 2, 0, 2, 1, 1, 2, 0, 1, 2, 1,\n",
       "       2, 1, 1, 0, 2, 2, 0, 2, 2, 1, 0, 2, 2, 0, 1, 2, 1, 0, 2, 1, 0, 2,\n",
       "       0, 0, 0, 2, 0, 2, 1, 1, 1, 0, 2, 2, 2, 0, 0, 2, 1, 1, 0, 1, 0, 0,\n",
       "       2, 2])"
      ]
     },
     "execution_count": 8,
     "metadata": {},
     "output_type": "execute_result"
    }
   ],
   "source": [
    "kmeans = KMeans(init=\"random\",n_clusters=3,n_init=10,max_iter=300,random_state=42)\n",
    "kmeans = kmeans.fit(features)\n",
    "y_pred = kmeans.predict(features)\n",
    "y_pred"
   ]
  },
  {
   "cell_type": "code",
   "execution_count": 9,
   "metadata": {},
   "outputs": [
    {
     "data": {
      "text/plain": [
       "array([[-0.25813925,  1.05589975],\n",
       "       [-0.91941183, -1.18551732],\n",
       "       [ 1.19539276,  0.13158148]])"
      ]
     },
     "execution_count": 9,
     "metadata": {},
     "output_type": "execute_result"
    }
   ],
   "source": [
    "kmeans.cluster_centers_"
   ]
  },
  {
   "cell_type": "code",
   "execution_count": 10,
   "metadata": {},
   "outputs": [
    {
     "data": {
      "text/plain": [
       "74.57960106819854"
      ]
     },
     "execution_count": 10,
     "metadata": {},
     "output_type": "execute_result"
    }
   ],
   "source": [
    "# lowest sum of square err\n",
    "kmeans.inertia_"
   ]
  },
  {
   "cell_type": "code",
   "execution_count": 11,
   "metadata": {},
   "outputs": [
    {
     "data": {
      "text/plain": [
       "2"
      ]
     },
     "execution_count": 11,
     "metadata": {},
     "output_type": "execute_result"
    }
   ],
   "source": [
    "kmeans.n_iter_"
   ]
  },
  {
   "cell_type": "markdown",
   "metadata": {},
   "source": [
    "elbow method"
   ]
  },
  {
   "cell_type": "code",
   "execution_count": 12,
   "metadata": {},
   "outputs": [],
   "source": [
    "sse = []\n",
    "kmeans_kwargs = {\"init\": \"random\",\"n_init\": 10,\"max_iter\": 300,\"random_state\": 42}\n",
    "for i in range(1,11):\n",
    "    kmeans = KMeans(n_clusters=i,**kmeans_kwargs)\n",
    "    kmeans.fit(features)\n",
    "    sse.append(kmeans.inertia_)"
   ]
  },
  {
   "cell_type": "code",
   "execution_count": 13,
   "metadata": {},
   "outputs": [
    {
     "data": {
      "image/png": "[encoded data removed]",
      "text/plain": [
       "<Figure size 432x288 with 1 Axes>"
      ]
     },
     "metadata": {},
     "output_type": "display_data"
    }
   ],
   "source": [
    "plt.style.use(\"fivethirtyeight\")\n",
    "plt.plot(range(1, 11), sse)\n",
    "plt.xticks(range(1, 11))\n",
    "plt.xlabel(\"Number of Clusters\")\n",
    "plt.ylabel(\"SSE\")\n",
    "plt.show()"
   ]
  },
  {
   "cell_type": "code",
   "execution_count": 14,
   "metadata": {},
   "outputs": [],
   "source": [
    "from sklearn.metrics import silhouette_score"
   ]
  },
  {
   "cell_type": "code",
   "execution_count": 15,
   "metadata": {},
   "outputs": [],
   "source": [
    "# A list holds the silhouette coefficients for each k\n",
    "silhouette_coefficients = []\n",
    "\n",
    "# Notice you start at 2 clusters for silhouette coefficient\n",
    "for k in range(2, 11):\n",
    "    kmeans = KMeans(n_clusters=k, **kmeans_kwargs)\n",
    "    kmeans.fit(features)\n",
    "    score = silhouette_score(features, kmeans.labels_)\n",
    "    silhouette_coefficients.append(score)"
   ]
  },
  {
   "cell_type": "code",
   "execution_count": 16,
   "metadata": {},
   "outputs": [
    {
     "data": {
      "image/png": "[encoded data removed]",
      "text/plain": [
       "<Figure size 432x288 with 1 Axes>"
      ]
     },
     "metadata": {},
     "output_type": "display_data"
    }
   ],
   "source": [
    "plt.style.use(\"fivethirtyeight\")\n",
    "plt.plot(range(2, 11), silhouette_coefficients)\n",
    "plt.xticks(range(2, 11))\n",
    "plt.xlabel(\"Number of Clusters\")\n",
    "plt.ylabel(\"Silhouette Coefficient\")\n",
    "plt.show()"
   ]
  },
  {
   "cell_type": "markdown",
   "metadata": {},
   "source": [
    "## TCGA-PANCAN Dataset"
   ]
  },
  {
   "cell_type": "code",
   "execution_count": 17,
   "metadata": {},
   "outputs": [],
   "source": [
    "import tarfile, urllib"
   ]
  },
  {
   "cell_type": "code",
   "execution_count": 18,
   "metadata": {},
   "outputs": [],
   "source": [
    "uci_tcga_url = \"https://archive.ics.uci.edu/ml/machine-learning-databases/00401/\"\n",
    "archive_name = \"TCGA-PANCAN-HiSeq-801x20531.tar.gz\"\n",
    "\n",
    "# Build the url\n",
    "full_download_url = urllib.parse.urljoin(uci_tcga_url, archive_name)\n",
    "\n",
    "# Download the file\n",
    "r = urllib.request.urlretrieve (full_download_url, archive_name)\n",
    "\n",
    "# Extract the data from the archive\n",
    "tar = tarfile.open(archive_name, \"r:gz\")\n",
    "tar.extractall()\n",
    "tar.close()"
   ]
  },
  {
   "cell_type": "code",
   "execution_count": 19,
   "metadata": {},
   "outputs": [],
   "source": [
    "datafile = \"TCGA-PANCAN-HiSeq-801x20531/data.csv\"\n",
    "labels_file = \"TCGA-PANCAN-HiSeq-801x20531/labels.csv\"\n",
    "data = np.genfromtxt(datafile, delimiter=\",\",usecols=range(1, 20532),skip_header=1)\n",
    "true_label_names = np.genfromtxt(labels_file,delimiter=\",\",usecols=(1,),skip_header=1,dtype=\"str\")"
   ]
  },
  {
   "cell_type": "code",
   "execution_count": 20,
   "metadata": {},
   "outputs": [
    {
     "data": {
      "text/plain": [
       "array(['PRAD', 'LUAD', 'PRAD', 'PRAD', 'BRCA', 'PRAD', 'KIRC', 'PRAD',\n",
       "       'BRCA', 'PRAD', 'BRCA', 'KIRC', 'PRAD', 'BRCA', 'BRCA', 'BRCA',\n",
       "       'LUAD', 'KIRC', 'KIRC', 'PRAD', 'BRCA', 'KIRC', 'LUAD', 'BRCA',\n",
       "       'KIRC', 'LUAD', 'COAD', 'BRCA', 'BRCA', 'BRCA', 'BRCA', 'BRCA',\n",
       "       'KIRC', 'BRCA', 'PRAD', 'BRCA', 'KIRC', 'LUAD', 'BRCA', 'BRCA',\n",
       "       'KIRC', 'PRAD', 'PRAD', 'KIRC', 'KIRC', 'BRCA', 'PRAD', 'COAD',\n",
       "       'BRCA', 'LUAD', 'BRCA', 'LUAD', 'BRCA', 'PRAD', 'COAD', 'BRCA',\n",
       "       'BRCA', 'COAD', 'KIRC', 'BRCA', 'LUAD', 'KIRC', 'BRCA', 'LUAD',\n",
       "       'PRAD', 'COAD', 'BRCA', 'PRAD', 'KIRC', 'BRCA', 'KIRC', 'BRCA',\n",
       "       'BRCA', 'LUAD', 'BRCA', 'LUAD', 'BRCA', 'KIRC', 'PRAD', 'COAD',\n",
       "       'BRCA', 'PRAD', 'BRCA', 'BRCA', 'PRAD', 'PRAD', 'BRCA', 'BRCA',\n",
       "       'KIRC', 'BRCA', 'PRAD', 'PRAD', 'BRCA', 'BRCA', 'BRCA', 'PRAD',\n",
       "       'COAD', 'BRCA', 'PRAD', 'BRCA', 'BRCA', 'KIRC', 'BRCA', 'KIRC',\n",
       "       'LUAD', 'KIRC', 'LUAD', 'COAD', 'LUAD', 'LUAD', 'PRAD', 'BRCA',\n",
       "       'LUAD', 'PRAD', 'BRCA', 'KIRC', 'KIRC', 'KIRC', 'BRCA', 'BRCA',\n",
       "       'LUAD', 'KIRC', 'LUAD', 'BRCA', 'PRAD', 'PRAD', 'PRAD', 'BRCA',\n",
       "       'KIRC', 'LUAD', 'COAD', 'BRCA', 'COAD', 'BRCA', 'BRCA', 'KIRC',\n",
       "       'LUAD', 'BRCA', 'KIRC', 'COAD', 'BRCA', 'PRAD', 'BRCA', 'KIRC',\n",
       "       'LUAD', 'COAD', 'PRAD', 'BRCA', 'LUAD', 'LUAD', 'LUAD', 'LUAD',\n",
       "       'BRCA', 'BRCA', 'LUAD', 'BRCA', 'BRCA', 'PRAD', 'PRAD', 'LUAD',\n",
       "       'PRAD', 'LUAD', 'KIRC', 'BRCA', 'PRAD', 'LUAD', 'COAD', 'KIRC',\n",
       "       'LUAD', 'BRCA', 'KIRC', 'LUAD', 'BRCA', 'LUAD', 'BRCA', 'BRCA',\n",
       "       'BRCA', 'PRAD', 'BRCA', 'KIRC', 'COAD', 'KIRC', 'BRCA', 'PRAD',\n",
       "       'PRAD', 'PRAD', 'LUAD', 'LUAD', 'BRCA', 'LUAD', 'LUAD', 'KIRC',\n",
       "       'LUAD', 'PRAD', 'LUAD', 'BRCA', 'BRCA', 'BRCA', 'LUAD', 'LUAD',\n",
       "       'BRCA', 'KIRC', 'KIRC', 'KIRC', 'KIRC', 'PRAD', 'BRCA', 'PRAD',\n",
       "       'BRCA', 'LUAD', 'LUAD', 'BRCA', 'PRAD', 'BRCA', 'PRAD', 'BRCA',\n",
       "       'BRCA', 'BRCA', 'LUAD', 'BRCA', 'KIRC', 'LUAD', 'KIRC', 'KIRC',\n",
       "       'LUAD', 'BRCA', 'KIRC', 'PRAD', 'BRCA', 'LUAD', 'LUAD', 'PRAD',\n",
       "       'COAD', 'BRCA', 'KIRC', 'PRAD', 'KIRC', 'COAD', 'BRCA', 'KIRC',\n",
       "       'KIRC', 'LUAD', 'PRAD', 'PRAD', 'LUAD', 'LUAD', 'KIRC', 'BRCA',\n",
       "       'BRCA', 'COAD', 'BRCA', 'PRAD', 'COAD', 'BRCA', 'PRAD', 'KIRC',\n",
       "       'PRAD', 'PRAD', 'PRAD', 'BRCA', 'COAD', 'COAD', 'LUAD', 'COAD',\n",
       "       'COAD', 'PRAD', 'LUAD', 'BRCA', 'BRCA', 'KIRC', 'KIRC', 'BRCA',\n",
       "       'COAD', 'PRAD', 'KIRC', 'PRAD', 'BRCA', 'BRCA', 'KIRC', 'BRCA',\n",
       "       'BRCA', 'BRCA', 'BRCA', 'LUAD', 'LUAD', 'BRCA', 'BRCA', 'BRCA',\n",
       "       'KIRC', 'KIRC', 'KIRC', 'KIRC', 'BRCA', 'BRCA', 'BRCA', 'KIRC',\n",
       "       'BRCA', 'BRCA', 'LUAD', 'PRAD', 'BRCA', 'BRCA', 'COAD', 'LUAD',\n",
       "       'PRAD', 'BRCA', 'BRCA', 'BRCA', 'COAD', 'BRCA', 'PRAD', 'BRCA',\n",
       "       'COAD', 'LUAD', 'LUAD', 'PRAD', 'KIRC', 'BRCA', 'KIRC', 'KIRC',\n",
       "       'LUAD', 'COAD', 'KIRC', 'BRCA', 'BRCA', 'BRCA', 'BRCA', 'KIRC',\n",
       "       'BRCA', 'BRCA', 'PRAD', 'BRCA', 'KIRC', 'BRCA', 'LUAD', 'PRAD',\n",
       "       'KIRC', 'BRCA', 'PRAD', 'COAD', 'BRCA', 'BRCA', 'BRCA', 'LUAD',\n",
       "       'LUAD', 'LUAD', 'BRCA', 'BRCA', 'PRAD', 'LUAD', 'BRCA', 'KIRC',\n",
       "       'BRCA', 'COAD', 'COAD', 'LUAD', 'BRCA', 'KIRC', 'BRCA', 'BRCA',\n",
       "       'BRCA', 'COAD', 'LUAD', 'COAD', 'KIRC', 'PRAD', 'KIRC', 'BRCA',\n",
       "       'BRCA', 'KIRC', 'BRCA', 'COAD', 'PRAD', 'LUAD', 'PRAD', 'BRCA',\n",
       "       'KIRC', 'PRAD', 'BRCA', 'COAD', 'KIRC', 'KIRC', 'COAD', 'COAD',\n",
       "       'PRAD', 'BRCA', 'BRCA', 'COAD', 'KIRC', 'BRCA', 'PRAD', 'BRCA',\n",
       "       'BRCA', 'BRCA', 'LUAD', 'LUAD', 'KIRC', 'LUAD', 'BRCA', 'KIRC',\n",
       "       'COAD', 'PRAD', 'BRCA', 'LUAD', 'PRAD', 'BRCA', 'BRCA', 'BRCA',\n",
       "       'LUAD', 'BRCA', 'BRCA', 'PRAD', 'BRCA', 'PRAD', 'COAD', 'BRCA',\n",
       "       'LUAD', 'BRCA', 'BRCA', 'LUAD', 'BRCA', 'BRCA', 'BRCA', 'KIRC',\n",
       "       'LUAD', 'PRAD', 'BRCA', 'PRAD', 'KIRC', 'BRCA', 'KIRC', 'COAD',\n",
       "       'BRCA', 'PRAD', 'LUAD', 'KIRC', 'BRCA', 'BRCA', 'KIRC', 'BRCA',\n",
       "       'LUAD', 'BRCA', 'BRCA', 'PRAD', 'COAD', 'BRCA', 'KIRC', 'LUAD',\n",
       "       'PRAD', 'BRCA', 'PRAD', 'BRCA', 'BRCA', 'BRCA', 'BRCA', 'KIRC',\n",
       "       'LUAD', 'BRCA', 'KIRC', 'BRCA', 'BRCA', 'LUAD', 'LUAD', 'KIRC',\n",
       "       'COAD', 'PRAD', 'COAD', 'BRCA', 'KIRC', 'KIRC', 'BRCA', 'PRAD',\n",
       "       'KIRC', 'COAD', 'LUAD', 'LUAD', 'BRCA', 'PRAD', 'PRAD', 'BRCA',\n",
       "       'PRAD', 'LUAD', 'KIRC', 'PRAD', 'BRCA', 'LUAD', 'PRAD', 'LUAD',\n",
       "       'BRCA', 'BRCA', 'COAD', 'LUAD', 'KIRC', 'COAD', 'LUAD', 'BRCA',\n",
       "       'PRAD', 'BRCA', 'BRCA', 'PRAD', 'BRCA', 'COAD', 'BRCA', 'COAD',\n",
       "       'KIRC', 'BRCA', 'BRCA', 'LUAD', 'LUAD', 'LUAD', 'COAD', 'KIRC',\n",
       "       'LUAD', 'LUAD', 'BRCA', 'BRCA', 'KIRC', 'PRAD', 'LUAD', 'PRAD',\n",
       "       'BRCA', 'KIRC', 'BRCA', 'KIRC', 'KIRC', 'PRAD', 'PRAD', 'LUAD',\n",
       "       'BRCA', 'KIRC', 'COAD', 'COAD', 'BRCA', 'KIRC', 'KIRC', 'BRCA',\n",
       "       'BRCA', 'PRAD', 'KIRC', 'COAD', 'BRCA', 'BRCA', 'COAD', 'LUAD',\n",
       "       'BRCA', 'BRCA', 'BRCA', 'KIRC', 'PRAD', 'LUAD', 'LUAD', 'BRCA',\n",
       "       'KIRC', 'COAD', 'KIRC', 'KIRC', 'BRCA', 'PRAD', 'LUAD', 'KIRC',\n",
       "       'BRCA', 'COAD', 'LUAD', 'LUAD', 'LUAD', 'PRAD', 'LUAD', 'KIRC',\n",
       "       'BRCA', 'BRCA', 'COAD', 'PRAD', 'BRCA', 'BRCA', 'BRCA', 'KIRC',\n",
       "       'LUAD', 'LUAD', 'BRCA', 'PRAD', 'LUAD', 'LUAD', 'BRCA', 'KIRC',\n",
       "       'PRAD', 'COAD', 'LUAD', 'PRAD', 'COAD', 'LUAD', 'COAD', 'KIRC',\n",
       "       'KIRC', 'BRCA', 'BRCA', 'KIRC', 'KIRC', 'COAD', 'BRCA', 'LUAD',\n",
       "       'PRAD', 'PRAD', 'KIRC', 'BRCA', 'LUAD', 'BRCA', 'BRCA', 'COAD',\n",
       "       'BRCA', 'PRAD', 'PRAD', 'BRCA', 'BRCA', 'COAD', 'BRCA', 'KIRC',\n",
       "       'BRCA', 'BRCA', 'COAD', 'BRCA', 'PRAD', 'BRCA', 'BRCA', 'KIRC',\n",
       "       'PRAD', 'LUAD', 'BRCA', 'BRCA', 'KIRC', 'BRCA', 'BRCA', 'BRCA',\n",
       "       'BRCA', 'BRCA', 'COAD', 'LUAD', 'LUAD', 'BRCA', 'BRCA', 'BRCA',\n",
       "       'PRAD', 'BRCA', 'BRCA', 'KIRC', 'LUAD', 'LUAD', 'KIRC', 'KIRC',\n",
       "       'LUAD', 'KIRC', 'COAD', 'BRCA', 'COAD', 'KIRC', 'BRCA', 'BRCA',\n",
       "       'PRAD', 'PRAD', 'PRAD', 'LUAD', 'PRAD', 'PRAD', 'COAD', 'BRCA',\n",
       "       'BRCA', 'COAD', 'LUAD', 'KIRC', 'BRCA', 'KIRC', 'COAD', 'BRCA',\n",
       "       'BRCA', 'BRCA', 'PRAD', 'LUAD', 'KIRC', 'BRCA', 'PRAD', 'KIRC',\n",
       "       'PRAD', 'BRCA', 'LUAD', 'KIRC', 'PRAD', 'LUAD', 'PRAD', 'PRAD',\n",
       "       'BRCA', 'KIRC', 'PRAD', 'LUAD', 'COAD', 'COAD', 'BRCA', 'BRCA',\n",
       "       'BRCA', 'LUAD', 'KIRC', 'KIRC', 'KIRC', 'BRCA', 'LUAD', 'KIRC',\n",
       "       'PRAD', 'BRCA', 'LUAD', 'PRAD', 'BRCA', 'PRAD', 'BRCA', 'KIRC',\n",
       "       'BRCA', 'COAD', 'PRAD', 'PRAD', 'KIRC', 'PRAD', 'KIRC', 'BRCA',\n",
       "       'LUAD', 'LUAD', 'BRCA', 'BRCA', 'KIRC', 'BRCA', 'BRCA', 'BRCA',\n",
       "       'BRCA', 'KIRC', 'KIRC', 'PRAD', 'COAD', 'KIRC', 'BRCA', 'BRCA',\n",
       "       'KIRC', 'BRCA', 'LUAD', 'BRCA', 'BRCA', 'PRAD', 'BRCA', 'PRAD',\n",
       "       'BRCA', 'COAD', 'BRCA', 'BRCA', 'KIRC', 'LUAD', 'BRCA', 'BRCA',\n",
       "       'PRAD', 'BRCA', 'PRAD', 'COAD', 'BRCA', 'BRCA', 'BRCA', 'LUAD',\n",
       "       'BRCA', 'LUAD', 'BRCA', 'LUAD', 'KIRC', 'KIRC', 'COAD', 'COAD',\n",
       "       'BRCA', 'BRCA', 'BRCA', 'LUAD', 'BRCA', 'LUAD', 'KIRC', 'BRCA',\n",
       "       'LUAD', 'KIRC', 'LUAD', 'LUAD', 'LUAD', 'KIRC', 'BRCA', 'PRAD',\n",
       "       'BRCA', 'BRCA', 'KIRC', 'BRCA', 'PRAD', 'KIRC', 'BRCA', 'BRCA',\n",
       "       'BRCA', 'BRCA', 'PRAD', 'LUAD', 'BRCA', 'LUAD', 'COAD', 'PRAD',\n",
       "       'PRAD'], dtype='<U4')"
      ]
     },
     "execution_count": 20,
     "metadata": {},
     "output_type": "execute_result"
    }
   ],
   "source": [
    "true_label_names"
   ]
  },
  {
   "cell_type": "code",
   "execution_count": 21,
   "metadata": {},
   "outputs": [],
   "source": [
    "from sklearn.decomposition import PCA\n",
    "from sklearn.preprocessing import LabelEncoder, MinMaxScaler"
   ]
  },
  {
   "cell_type": "code",
   "execution_count": 22,
   "metadata": {},
   "outputs": [
    {
     "data": {
      "text/plain": [
       "array([4, 3, 4, 4, 0, 4, 2, 4, 0, 4, 0, 2, 4, 0, 0, 0, 3, 2, 2, 4, 0, 2,\n",
       "       3, 0, 2, 3, 1, 0, 0, 0, 0, 0, 2, 0, 4, 0, 2, 3, 0, 0, 2, 4, 4, 2,\n",
       "       2, 0, 4, 1, 0, 3, 0, 3, 0, 4, 1, 0, 0, 1, 2, 0, 3, 2, 0, 3, 4, 1,\n",
       "       0, 4, 2, 0, 2, 0, 0, 3, 0, 3, 0, 2, 4, 1, 0, 4, 0, 0, 4, 4, 0, 0,\n",
       "       2, 0, 4, 4, 0, 0, 0, 4, 1, 0, 4, 0, 0, 2, 0, 2, 3, 2, 3, 1, 3, 3,\n",
       "       4, 0, 3, 4, 0, 2, 2, 2, 0, 0, 3, 2, 3, 0, 4, 4, 4, 0, 2, 3, 1, 0,\n",
       "       1, 0, 0, 2, 3, 0, 2, 1, 0, 4, 0, 2, 3, 1, 4, 0, 3, 3, 3, 3, 0, 0,\n",
       "       3, 0, 0, 4, 4, 3, 4, 3, 2, 0, 4, 3, 1, 2, 3, 0, 2, 3, 0, 3, 0, 0,\n",
       "       0, 4, 0, 2, 1, 2, 0, 4, 4, 4, 3, 3, 0, 3, 3, 2, 3, 4, 3, 0, 0, 0,\n",
       "       3, 3, 0, 2, 2, 2, 2, 4, 0, 4, 0, 3, 3, 0, 4, 0, 4, 0, 0, 0, 3, 0,\n",
       "       2, 3, 2, 2, 3, 0, 2, 4, 0, 3, 3, 4, 1, 0, 2, 4, 2, 1, 0, 2, 2, 3,\n",
       "       4, 4, 3, 3, 2, 0, 0, 1, 0, 4, 1, 0, 4, 2, 4, 4, 4, 0, 1, 1, 3, 1,\n",
       "       1, 4, 3, 0, 0, 2, 2, 0, 1, 4, 2, 4, 0, 0, 2, 0, 0, 0, 0, 3, 3, 0,\n",
       "       0, 0, 2, 2, 2, 2, 0, 0, 0, 2, 0, 0, 3, 4, 0, 0, 1, 3, 4, 0, 0, 0,\n",
       "       1, 0, 4, 0, 1, 3, 3, 4, 2, 0, 2, 2, 3, 1, 2, 0, 0, 0, 0, 2, 0, 0,\n",
       "       4, 0, 2, 0, 3, 4, 2, 0, 4, 1, 0, 0, 0, 3, 3, 3, 0, 0, 4, 3, 0, 2,\n",
       "       0, 1, 1, 3, 0, 2, 0, 0, 0, 1, 3, 1, 2, 4, 2, 0, 0, 2, 0, 1, 4, 3,\n",
       "       4, 0, 2, 4, 0, 1, 2, 2, 1, 1, 4, 0, 0, 1, 2, 0, 4, 0, 0, 0, 3, 3,\n",
       "       2, 3, 0, 2, 1, 4, 0, 3, 4, 0, 0, 0, 3, 0, 0, 4, 0, 4, 1, 0, 3, 0,\n",
       "       0, 3, 0, 0, 0, 2, 3, 4, 0, 4, 2, 0, 2, 1, 0, 4, 3, 2, 0, 0, 2, 0,\n",
       "       3, 0, 0, 4, 1, 0, 2, 3, 4, 0, 4, 0, 0, 0, 0, 2, 3, 0, 2, 0, 0, 3,\n",
       "       3, 2, 1, 4, 1, 0, 2, 2, 0, 4, 2, 1, 3, 3, 0, 4, 4, 0, 4, 3, 2, 4,\n",
       "       0, 3, 4, 3, 0, 0, 1, 3, 2, 1, 3, 0, 4, 0, 0, 4, 0, 1, 0, 1, 2, 0,\n",
       "       0, 3, 3, 3, 1, 2, 3, 3, 0, 0, 2, 4, 3, 4, 0, 2, 0, 2, 2, 4, 4, 3,\n",
       "       0, 2, 1, 1, 0, 2, 2, 0, 0, 4, 2, 1, 0, 0, 1, 3, 0, 0, 0, 2, 4, 3,\n",
       "       3, 0, 2, 1, 2, 2, 0, 4, 3, 2, 0, 1, 3, 3, 3, 4, 3, 2, 0, 0, 1, 4,\n",
       "       0, 0, 0, 2, 3, 3, 0, 4, 3, 3, 0, 2, 4, 1, 3, 4, 1, 3, 1, 2, 2, 0,\n",
       "       0, 2, 2, 1, 0, 3, 4, 4, 2, 0, 3, 0, 0, 1, 0, 4, 4, 0, 0, 1, 0, 2,\n",
       "       0, 0, 1, 0, 4, 0, 0, 2, 4, 3, 0, 0, 2, 0, 0, 0, 0, 0, 1, 3, 3, 0,\n",
       "       0, 0, 4, 0, 0, 2, 3, 3, 2, 2, 3, 2, 1, 0, 1, 2, 0, 0, 4, 4, 4, 3,\n",
       "       4, 4, 1, 0, 0, 1, 3, 2, 0, 2, 1, 0, 0, 0, 4, 3, 2, 0, 4, 2, 4, 0,\n",
       "       3, 2, 4, 3, 4, 4, 0, 2, 4, 3, 1, 1, 0, 0, 0, 3, 2, 2, 2, 0, 3, 2,\n",
       "       4, 0, 3, 4, 0, 4, 0, 2, 0, 1, 4, 4, 2, 4, 2, 0, 3, 3, 0, 0, 2, 0,\n",
       "       0, 0, 0, 2, 2, 4, 1, 2, 0, 0, 2, 0, 3, 0, 0, 4, 0, 4, 0, 1, 0, 0,\n",
       "       2, 3, 0, 0, 4, 0, 4, 1, 0, 0, 0, 3, 0, 3, 0, 3, 2, 2, 1, 1, 0, 0,\n",
       "       0, 3, 0, 3, 2, 0, 3, 2, 3, 3, 3, 2, 0, 4, 0, 0, 2, 0, 4, 2, 0, 0,\n",
       "       0, 0, 4, 3, 0, 3, 1, 4, 4], dtype=int64)"
      ]
     },
     "execution_count": 22,
     "metadata": {},
     "output_type": "execute_result"
    }
   ],
   "source": [
    "le = LabelEncoder()\n",
    "y = le.fit_transform(true_label_names)\n",
    "y"
   ]
  },
  {
   "cell_type": "code",
   "execution_count": 23,
   "metadata": {},
   "outputs": [
    {
     "data": {
      "text/plain": [
       "5"
      ]
     },
     "execution_count": 23,
     "metadata": {},
     "output_type": "execute_result"
    }
   ],
   "source": [
    "n_clusters = len(le.classes_)\n",
    "n_clusters"
   ]
  },
  {
   "cell_type": "code",
   "execution_count": 24,
   "metadata": {},
   "outputs": [],
   "source": [
    "from sklearn.pipeline import Pipeline"
   ]
  },
  {
   "cell_type": "code",
   "execution_count": 25,
   "metadata": {},
   "outputs": [],
   "source": [
    "preprocessor = Pipeline([(\"scaler\", MinMaxScaler()),(\"pca\", PCA(n_components=2, random_state=42)),])"
   ]
  },
  {
   "cell_type": "code",
   "execution_count": 26,
   "metadata": {},
   "outputs": [],
   "source": [
    "clusterer = Pipeline([(\"kmeans\",KMeans(n_clusters=n_clusters,init=\"k-means++\",n_init=50,max_iter=500,random_state=42,),),])\n",
    "\n",
    "pipe = Pipeline([(\"preprocessor\", preprocessor),(\"clusterer\", clusterer)])"
   ]
  },
  {
   "cell_type": "code",
   "execution_count": 27,
   "metadata": {},
   "outputs": [
    {
     "data": {
      "text/plain": [
       "Pipeline(steps=[('preprocessor',\n",
       "                 Pipeline(steps=[('scaler', MinMaxScaler()),\n",
       "                                 ('pca',\n",
       "                                  PCA(n_components=2, random_state=42))])),\n",
       "                ('clusterer',\n",
       "                 Pipeline(steps=[('kmeans',\n",
       "                                  KMeans(max_iter=500, n_clusters=5, n_init=50,\n",
       "                                         random_state=42))]))])"
      ]
     },
     "execution_count": 27,
     "metadata": {},
     "output_type": "execute_result"
    }
   ],
   "source": [
    "pipe.fit(data)"
   ]
  },
  {
   "cell_type": "code",
   "execution_count": 28,
   "metadata": {},
   "outputs": [
    {
     "data": {
      "text/plain": [
       "array([3, 2, 0, 3, 0, 3, 1, 3, 4, 3, 0, 1, 3, 0, 0, 0, 4, 1, 1, 3, 0, 4,\n",
       "       4, 0, 1, 4, 2, 0, 4, 0, 0, 0, 1, 0, 3, 0, 1, 4, 0, 0, 1, 3, 3, 1,\n",
       "       1, 0, 3, 2, 0, 4, 0, 4, 0, 3, 2, 2, 0, 2, 1, 0, 4, 4, 0, 4, 3, 2,\n",
       "       0, 3, 1, 4, 1, 0, 0, 4, 4, 2, 0, 4, 3, 2, 0, 3, 0, 0, 3, 3, 0, 0,\n",
       "       1, 2, 3, 3, 0, 0, 0, 3, 2, 0, 3, 0, 0, 1, 0, 1, 4, 1, 4, 2, 4, 4,\n",
       "       3, 0, 4, 3, 0, 1, 1, 1, 0, 0, 4, 1, 4, 0, 3, 3, 3, 0, 1, 2, 2, 0,\n",
       "       2, 4, 0, 1, 4, 0, 1, 2, 0, 3, 3, 1, 4, 2, 3, 0, 4, 4, 4, 4, 0, 0,\n",
       "       4, 0, 0, 3, 3, 4, 3, 0, 1, 0, 3, 4, 2, 1, 4, 3, 1, 4, 0, 4, 0, 0,\n",
       "       0, 3, 0, 1, 2, 1, 0, 3, 3, 3, 4, 4, 0, 4, 4, 1, 2, 3, 4, 3, 4, 0,\n",
       "       2, 4, 0, 1, 1, 1, 1, 3, 2, 3, 0, 4, 4, 0, 3, 0, 3, 0, 0, 0, 4, 0,\n",
       "       1, 4, 1, 1, 4, 0, 1, 3, 0, 4, 4, 3, 2, 0, 1, 3, 1, 2, 0, 1, 1, 4,\n",
       "       3, 0, 4, 4, 1, 0, 4, 2, 0, 3, 4, 0, 3, 1, 3, 3, 3, 0, 2, 2, 4, 2,\n",
       "       2, 3, 4, 2, 0, 1, 1, 0, 2, 3, 1, 3, 0, 0, 1, 0, 4, 0, 0, 4, 4, 0,\n",
       "       0, 0, 1, 1, 1, 1, 0, 4, 0, 1, 3, 3, 4, 3, 0, 0, 2, 4, 3, 0, 0, 0,\n",
       "       2, 0, 3, 0, 2, 2, 4, 3, 1, 0, 1, 1, 4, 2, 4, 3, 0, 2, 4, 1, 0, 0,\n",
       "       3, 2, 1, 0, 4, 3, 1, 0, 0, 2, 0, 0, 0, 4, 2, 4, 0, 0, 3, 4, 3, 1,\n",
       "       0, 2, 4, 4, 0, 1, 0, 0, 0, 2, 4, 2, 1, 3, 1, 0, 0, 1, 4, 2, 3, 4,\n",
       "       3, 0, 1, 3, 0, 2, 1, 1, 2, 2, 3, 0, 0, 4, 1, 4, 3, 2, 0, 0, 4, 4,\n",
       "       1, 4, 4, 1, 2, 3, 0, 4, 3, 0, 2, 3, 4, 0, 2, 3, 0, 3, 2, 0, 2, 0,\n",
       "       2, 4, 0, 0, 3, 1, 4, 3, 0, 3, 1, 0, 1, 2, 0, 3, 4, 1, 0, 0, 1, 0,\n",
       "       4, 4, 4, 3, 2, 0, 1, 4, 3, 0, 3, 0, 0, 4, 0, 1, 4, 0, 1, 0, 0, 2,\n",
       "       4, 1, 2, 3, 2, 0, 1, 1, 0, 3, 1, 4, 4, 4, 0, 3, 3, 4, 3, 4, 1, 3,\n",
       "       0, 4, 3, 4, 0, 0, 2, 4, 1, 2, 4, 0, 3, 4, 0, 3, 0, 2, 0, 2, 1, 0,\n",
       "       0, 2, 4, 4, 2, 1, 4, 4, 0, 0, 0, 3, 4, 3, 0, 1, 0, 1, 1, 3, 3, 4,\n",
       "       0, 1, 2, 2, 4, 1, 1, 0, 0, 3, 1, 2, 0, 4, 2, 4, 0, 0, 0, 1, 3, 4,\n",
       "       4, 0, 1, 2, 1, 1, 0, 3, 2, 1, 0, 2, 4, 4, 4, 3, 4, 1, 0, 0, 2, 3,\n",
       "       4, 0, 2, 1, 4, 4, 4, 3, 4, 4, 0, 1, 3, 2, 4, 3, 2, 0, 2, 1, 1, 2,\n",
       "       0, 1, 1, 2, 0, 4, 3, 3, 1, 0, 4, 4, 0, 2, 0, 3, 3, 4, 0, 2, 0, 1,\n",
       "       2, 4, 4, 0, 3, 0, 2, 1, 3, 4, 0, 0, 1, 4, 0, 0, 3, 2, 2, 4, 4, 4,\n",
       "       0, 2, 3, 0, 0, 1, 4, 4, 1, 1, 4, 1, 2, 3, 2, 1, 0, 0, 3, 3, 3, 4,\n",
       "       3, 3, 2, 0, 0, 2, 4, 1, 0, 1, 2, 0, 0, 0, 3, 4, 1, 0, 0, 1, 3, 0,\n",
       "       4, 1, 3, 4, 3, 3, 2, 1, 3, 4, 2, 2, 0, 0, 0, 4, 1, 1, 1, 0, 4, 1,\n",
       "       3, 0, 4, 3, 0, 3, 0, 1, 4, 4, 3, 3, 1, 3, 1, 0, 4, 4, 0, 0, 1, 0,\n",
       "       0, 3, 0, 1, 1, 3, 2, 1, 2, 0, 1, 0, 4, 0, 0, 3, 0, 3, 0, 2, 0, 0,\n",
       "       1, 4, 0, 4, 3, 0, 3, 4, 0, 0, 0, 4, 0, 4, 0, 4, 1, 1, 2, 4, 0, 0,\n",
       "       0, 4, 0, 4, 4, 0, 4, 1, 2, 4, 4, 1, 0, 3, 2, 0, 1, 0, 3, 4, 0, 0,\n",
       "       0, 0, 3, 4, 0, 4, 4, 3, 0])"
      ]
     },
     "execution_count": 28,
     "metadata": {},
     "output_type": "execute_result"
    }
   ],
   "source": [
    "preprocessed_data = pipe[\"preprocessor\"].transform(data)\n",
    "predicted_labels = pipe[\"clusterer\"][\"kmeans\"].labels_\n",
    "predicted_labels"
   ]
  },
  {
   "cell_type": "code",
   "execution_count": 29,
   "metadata": {},
   "outputs": [],
   "source": [
    "from sklearn.metrics import silhouette_score, adjusted_rand_score"
   ]
  },
  {
   "cell_type": "code",
   "execution_count": 30,
   "metadata": {},
   "outputs": [
    {
     "data": {
      "text/plain": [
       "0.722276752060253"
      ]
     },
     "execution_count": 30,
     "metadata": {},
     "output_type": "execute_result"
    }
   ],
   "source": [
    "silhouette_score(preprocessed_data, predicted_labels)\n",
    "adjusted_rand_score(y, predicted_labels)"
   ]
  },
  {
   "cell_type": "code",
   "execution_count": 31,
   "metadata": {},
   "outputs": [
    {
     "data": {
      "text/plain": [
       "[0.29184528022963235,\n",
       " 0.722276752060253,\n",
       " 0.7458314873965364,\n",
       " 0.7252516114763512,\n",
       " 0.8591960195401789,\n",
       " 0.825156557127003,\n",
       " 0.9548332937934558,\n",
       " 0.8086619712734584,\n",
       " 0.8086619712734584,\n",
       " 0.8116720216397996,\n",
       " 0.8056697568633306,\n",
       " 0.8056697568633306,\n",
       " 0.8056697568633306,\n",
       " 0.8056697568633306,\n",
       " 0.8026954704454139]"
      ]
     },
     "execution_count": 31,
     "metadata": {},
     "output_type": "execute_result"
    }
   ],
   "source": [
    "n_components = range(1,16)\n",
    "sil_score = []\n",
    "adj_rand_score = []\n",
    "for i in range(1,16):\n",
    "  preprocessor = Pipeline([(\"scaler\", MinMaxScaler()),(\"pca\", PCA(n_components=i, random_state=42)),])\n",
    "  clusterer = Pipeline([(\"kmeans\",KMeans(n_clusters=n_clusters,init=\"k-means++\",n_init=50,max_iter=500,random_state=42,),),])\n",
    "  pipe = Pipeline([(\"preprocessor\", preprocessor),(\"clusterer\", clusterer)])\n",
    "  pipe.fit(data)\n",
    "  preprocessed_data = pipe[\"preprocessor\"].transform(data)\n",
    "  predicted_labels = pipe[\"clusterer\"][\"kmeans\"].labels_\n",
    "  sil_sc=silhouette_score(preprocessed_data, predicted_labels)\n",
    "  adj_rand_sc=adjusted_rand_score(y, predicted_labels)\n",
    "  sil_score.append(sil_sc)\n",
    "  adj_rand_score.append(adj_rand_sc)\n",
    "\n",
    "sil_score\n",
    "adj_rand_score"
   ]
  },
  {
   "cell_type": "code",
   "execution_count": 32,
   "metadata": {},
   "outputs": [
    {
     "name": "stdout",
     "output_type": "stream",
     "text": [
      "[0.5849061446215252, 0.5118775528450292, 0.504727049570406, 0.4713354869519379, 0.46939987883449724, 0.44275560175959666, 0.42669222779027394, 0.40380691884278175, 0.3901788222479161, 0.3772752581109923, 0.3688353785543321, 0.36076597274516886, 0.3532644748910017, 0.34853321939861914, 0.3432780653783861]\n",
      "[0.5849061446215252, 0.5118775528450292, 0.504727049570406, 0.4713354869519379, 0.46939987883449724, 0.44275560175959666, 0.42669222779027394, 0.40380691884278175, 0.3901788222479161, 0.3772752581109923, 0.3688353785543321, 0.36076597274516886, 0.3532644748910017, 0.34853321939861914, 0.3432780653783861]\n"
     ]
    }
   ],
   "source": [
    "print(sil_score)\n",
    "print(sil_score)"
   ]
  },
  {
   "cell_type": "code",
   "execution_count": 33,
   "metadata": {},
   "outputs": [
    {
     "data": {
      "image/png": "[encoded data removed]",
      "text/plain": [
       "<Figure size 432x288 with 1 Axes>"
      ]
     },
     "metadata": {},
     "output_type": "display_data"
    }
   ],
   "source": [
    "plt.style.use(\"fivethirtyeight\")\n",
    "plt.plot(range(1, 16), sil_score)\n",
    "plt.plot(range(1, 16), adj_rand_score)\n",
    "plt.xticks(range(1, 16))\n",
    "plt.xlabel(\"Number of Clusters\")\n",
    "plt.ylabel(\"Silhouette Scores\")\n",
    "plt.show()"
   ]
  },
  {
   "cell_type": "code",
   "execution_count": 34,
   "metadata": {},
   "outputs": [
    {
     "name": "stderr",
     "output_type": "stream",
     "text": [
      "c:\\Users\\Jay\\AppData\\Local\\Programs\\Python\\Python39\\lib\\site-packages\\seaborn\\_decorators.py:36: FutureWarning: Pass the following variables as keyword args: x, y. From version 0.12, the only valid positional argument will be `data`, and passing other arguments without an explicit keyword will result in an error or misinterpretation.\n",
      "  warnings.warn(\n"
     ]
    },
    {
     "data": {
      "image/png": "[encoded data removed]",
      "text/plain": [
       "<Figure size 576x576 with 1 Axes>"
      ]
     },
     "metadata": {},
     "output_type": "display_data"
    }
   ],
   "source": [
    "pcadf = pd.DataFrame(pipe[\"preprocessor\"].transform(data),columns=[\"component_1\", \"component_2\",\"component_3\", \n",
    "                                                                   \"component_4\",\"component_5\", \"component_6\",\n",
    "                                                                   \"component_7\", \"component_8\",\"component_9\", \n",
    "                                                                   \"component_10\",\"component_11\", \"component_12\",\n",
    "                                                                   \"component_13\", \"component_14\",\"component_15\"],)\n",
    "pcadf[\"predicted_cluster\"] = pipe[\"clusterer\"][\"kmeans\"].labels_\n",
    "pcadf[\"true_label\"] = le.inverse_transform(y)\n",
    "\n",
    "plt.style.use(\"fivethirtyeight\")\n",
    "plt.figure(figsize=(8, 8))\n",
    "scat = sns.scatterplot(\"component_1\",\"component_2\",s=50,data=pcadf,hue=\"predicted_cluster\",style=\"true_label\",palette=\"Set2\",)\n",
    "scat.set_title(\"Clustering results from TCGA Pan-Cancer\\nGene Expression Data\")\n",
    "plt.legend(bbox_to_anchor=(1.05, 1), loc=2, borderaxespad=0.0)\n",
    "plt.show()"
   ]
  },
  {
   "cell_type": "markdown",
   "metadata": {},
   "source": [
    "## Dataset 3 - Titanic"
   ]
  },
  {
   "cell_type": "code",
   "execution_count": 35,
   "metadata": {},
   "outputs": [],
   "source": [
    "train_data = pd.read_csv(\"train.csv\")\n",
    "test_data = pd.read_csv(\"test.csv\")"
   ]
  },
  {
   "cell_type": "code",
   "execution_count": 36,
   "metadata": {},
   "outputs": [
    {
     "data": {
      "text/html": [
       "<div>\n",
       "<style scoped>\n",
       "    .dataframe tbody tr th:only-of-type {\n",
       "        vertical-align: middle;\n",
       "    }\n",
       "\n",
       "    .dataframe tbody tr th {\n",
       "        vertical-align: top;\n",
       "    }\n",
       "\n",
       "    .dataframe thead th {\n",
       "        text-align: right;\n",
       "    }\n",
       "</style>\n",
       "<table border=\"1\" class=\"dataframe\">\n",
       "  <thead>\n",
       "    <tr style=\"text-align: right;\">\n",
       "      <th></th>\n",
       "      <th>PassengerId</th>\n",
       "      <th>Survived</th>\n",
       "      <th>Pclass</th>\n",
       "      <th>Name</th>\n",
       "      <th>Sex</th>\n",
       "      <th>Age</th>\n",
       "      <th>SibSp</th>\n",
       "      <th>Parch</th>\n",
       "      <th>Ticket</th>\n",
       "      <th>Fare</th>\n",
       "      <th>Cabin</th>\n",
       "      <th>Embarked</th>\n",
       "    </tr>\n",
       "  </thead>\n",
       "  <tbody>\n",
       "    <tr>\n",
       "      <th>0</th>\n",
       "      <td>1</td>\n",
       "      <td>0</td>\n",
       "      <td>3</td>\n",
       "      <td>Braund, Mr. Owen Harris</td>\n",
       "      <td>male</td>\n",
       "      <td>22.0</td>\n",
       "      <td>1</td>\n",
       "      <td>0</td>\n",
       "      <td>A/5 21171</td>\n",
       "      <td>7.2500</td>\n",
       "      <td>NaN</td>\n",
       "      <td>S</td>\n",
       "    </tr>\n",
       "    <tr>\n",
       "      <th>1</th>\n",
       "      <td>2</td>\n",
       "      <td>1</td>\n",
       "      <td>1</td>\n",
       "      <td>Cumings, Mrs. John Bradley (Florence Briggs Th...</td>\n",
       "      <td>female</td>\n",
       "      <td>38.0</td>\n",
       "      <td>1</td>\n",
       "      <td>0</td>\n",
       "      <td>PC 17599</td>\n",
       "      <td>71.2833</td>\n",
       "      <td>C85</td>\n",
       "      <td>C</td>\n",
       "    </tr>\n",
       "    <tr>\n",
       "      <th>2</th>\n",
       "      <td>3</td>\n",
       "      <td>1</td>\n",
       "      <td>3</td>\n",
       "      <td>Heikkinen, Miss. Laina</td>\n",
       "      <td>female</td>\n",
       "      <td>26.0</td>\n",
       "      <td>0</td>\n",
       "      <td>0</td>\n",
       "      <td>STON/O2. 3101282</td>\n",
       "      <td>7.9250</td>\n",
       "      <td>NaN</td>\n",
       "      <td>S</td>\n",
       "    </tr>\n",
       "    <tr>\n",
       "      <th>3</th>\n",
       "      <td>4</td>\n",
       "      <td>1</td>\n",
       "      <td>1</td>\n",
       "      <td>Futrelle, Mrs. Jacques Heath (Lily May Peel)</td>\n",
       "      <td>female</td>\n",
       "      <td>35.0</td>\n",
       "      <td>1</td>\n",
       "      <td>0</td>\n",
       "      <td>113803</td>\n",
       "      <td>53.1000</td>\n",
       "      <td>C123</td>\n",
       "      <td>S</td>\n",
       "    </tr>\n",
       "    <tr>\n",
       "      <th>4</th>\n",
       "      <td>5</td>\n",
       "      <td>0</td>\n",
       "      <td>3</td>\n",
       "      <td>Allen, Mr. William Henry</td>\n",
       "      <td>male</td>\n",
       "      <td>35.0</td>\n",
       "      <td>0</td>\n",
       "      <td>0</td>\n",
       "      <td>373450</td>\n",
       "      <td>8.0500</td>\n",
       "      <td>NaN</td>\n",
       "      <td>S</td>\n",
       "    </tr>\n",
       "    <tr>\n",
       "      <th>...</th>\n",
       "      <td>...</td>\n",
       "      <td>...</td>\n",
       "      <td>...</td>\n",
       "      <td>...</td>\n",
       "      <td>...</td>\n",
       "      <td>...</td>\n",
       "      <td>...</td>\n",
       "      <td>...</td>\n",
       "      <td>...</td>\n",
       "      <td>...</td>\n",
       "      <td>...</td>\n",
       "      <td>...</td>\n",
       "    </tr>\n",
       "    <tr>\n",
       "      <th>886</th>\n",
       "      <td>887</td>\n",
       "      <td>0</td>\n",
       "      <td>2</td>\n",
       "      <td>Montvila, Rev. Juozas</td>\n",
       "      <td>male</td>\n",
       "      <td>27.0</td>\n",
       "      <td>0</td>\n",
       "      <td>0</td>\n",
       "      <td>211536</td>\n",
       "      <td>13.0000</td>\n",
       "      <td>NaN</td>\n",
       "      <td>S</td>\n",
       "    </tr>\n",
       "    <tr>\n",
       "      <th>887</th>\n",
       "      <td>888</td>\n",
       "      <td>1</td>\n",
       "      <td>1</td>\n",
       "      <td>Graham, Miss. Margaret Edith</td>\n",
       "      <td>female</td>\n",
       "      <td>19.0</td>\n",
       "      <td>0</td>\n",
       "      <td>0</td>\n",
       "      <td>112053</td>\n",
       "      <td>30.0000</td>\n",
       "      <td>B42</td>\n",
       "      <td>S</td>\n",
       "    </tr>\n",
       "    <tr>\n",
       "      <th>888</th>\n",
       "      <td>889</td>\n",
       "      <td>0</td>\n",
       "      <td>3</td>\n",
       "      <td>Johnston, Miss. Catherine Helen \"Carrie\"</td>\n",
       "      <td>female</td>\n",
       "      <td>NaN</td>\n",
       "      <td>1</td>\n",
       "      <td>2</td>\n",
       "      <td>W./C. 6607</td>\n",
       "      <td>23.4500</td>\n",
       "      <td>NaN</td>\n",
       "      <td>S</td>\n",
       "    </tr>\n",
       "    <tr>\n",
       "      <th>889</th>\n",
       "      <td>890</td>\n",
       "      <td>1</td>\n",
       "      <td>1</td>\n",
       "      <td>Behr, Mr. Karl Howell</td>\n",
       "      <td>male</td>\n",
       "      <td>26.0</td>\n",
       "      <td>0</td>\n",
       "      <td>0</td>\n",
       "      <td>111369</td>\n",
       "      <td>30.0000</td>\n",
       "      <td>C148</td>\n",
       "      <td>C</td>\n",
       "    </tr>\n",
       "    <tr>\n",
       "      <th>890</th>\n",
       "      <td>891</td>\n",
       "      <td>0</td>\n",
       "      <td>3</td>\n",
       "      <td>Dooley, Mr. Patrick</td>\n",
       "      <td>male</td>\n",
       "      <td>32.0</td>\n",
       "      <td>0</td>\n",
       "      <td>0</td>\n",
       "      <td>370376</td>\n",
       "      <td>7.7500</td>\n",
       "      <td>NaN</td>\n",
       "      <td>Q</td>\n",
       "    </tr>\n",
       "  </tbody>\n",
       "</table>\n",
       "<p>891 rows × 12 columns</p>\n",
       "</div>"
      ],
      "text/plain": [
       "     PassengerId  Survived  Pclass  \\\n",
       "0              1         0       3   \n",
       "1              2         1       1   \n",
       "2              3         1       3   \n",
       "3              4         1       1   \n",
       "4              5         0       3   \n",
       "..           ...       ...     ...   \n",
       "886          887         0       2   \n",
       "887          888         1       1   \n",
       "888          889         0       3   \n",
       "889          890         1       1   \n",
       "890          891         0       3   \n",
       "\n",
       "                                                  Name     Sex   Age  SibSp  \\\n",
       "0                              Braund, Mr. Owen Harris    male  22.0      1   \n",
       "1    Cumings, Mrs. John Bradley (Florence Briggs Th...  female  38.0      1   \n",
       "2                               Heikkinen, Miss. Laina  female  26.0      0   \n",
       "3         Futrelle, Mrs. Jacques Heath (Lily May Peel)  female  35.0      1   \n",
       "4                             Allen, Mr. William Henry    male  35.0      0   \n",
       "..                                                 ...     ...   ...    ...   \n",
       "886                              Montvila, Rev. Juozas    male  27.0      0   \n",
       "887                       Graham, Miss. Margaret Edith  female  19.0      0   \n",
       "888           Johnston, Miss. Catherine Helen \"Carrie\"  female   NaN      1   \n",
       "889                              Behr, Mr. Karl Howell    male  26.0      0   \n",
       "890                                Dooley, Mr. Patrick    male  32.0      0   \n",
       "\n",
       "     Parch            Ticket     Fare Cabin Embarked  \n",
       "0        0         A/5 21171   7.2500   NaN        S  \n",
       "1        0          PC 17599  71.2833   C85        C  \n",
       "2        0  STON/O2. 3101282   7.9250   NaN        S  \n",
       "3        0            113803  53.1000  C123        S  \n",
       "4        0            373450   8.0500   NaN        S  \n",
       "..     ...               ...      ...   ...      ...  \n",
       "886      0            211536  13.0000   NaN        S  \n",
       "887      0            112053  30.0000   B42        S  \n",
       "888      2        W./C. 6607  23.4500   NaN        S  \n",
       "889      0            111369  30.0000  C148        C  \n",
       "890      0            370376   7.7500   NaN        Q  \n",
       "\n",
       "[891 rows x 12 columns]"
      ]
     },
     "execution_count": 36,
     "metadata": {},
     "output_type": "execute_result"
    }
   ],
   "source": [
    "train_data"
   ]
  },
  {
   "cell_type": "code",
   "execution_count": 37,
   "metadata": {},
   "outputs": [
    {
     "data": {
      "text/plain": [
       "PassengerId      0\n",
       "Survived         0\n",
       "Pclass           0\n",
       "Name             0\n",
       "Sex              0\n",
       "Age            177\n",
       "SibSp            0\n",
       "Parch            0\n",
       "Ticket           0\n",
       "Fare             0\n",
       "Cabin          687\n",
       "Embarked         2\n",
       "dtype: int64"
      ]
     },
     "execution_count": 37,
     "metadata": {},
     "output_type": "execute_result"
    }
   ],
   "source": [
    "train_data.isna().sum()"
   ]
  },
  {
   "cell_type": "markdown",
   "metadata": {},
   "source": [
    "Cleaning training data"
   ]
  },
  {
   "cell_type": "code",
   "execution_count": 39,
   "metadata": {},
   "outputs": [],
   "source": [
    "train_data.drop('Name', axis=1, inplace=True)\n",
    "train_data.drop('Ticket', axis=1, inplace=True)\n",
    "train_data.drop('Cabin', axis=1, inplace=True)"
   ]
  },
  {
   "cell_type": "code",
   "execution_count": 40,
   "metadata": {},
   "outputs": [],
   "source": [
    "train_data.fillna(value=train_data['Age'].median(), inplace=True)"
   ]
  },
  {
   "cell_type": "code",
   "execution_count": 41,
   "metadata": {},
   "outputs": [
    {
     "data": {
      "text/plain": [
       "PassengerId    0\n",
       "Survived       0\n",
       "Pclass         0\n",
       "Sex            0\n",
       "Age            0\n",
       "SibSp          0\n",
       "Parch          0\n",
       "Fare           0\n",
       "Embarked       0\n",
       "dtype: int64"
      ]
     },
     "execution_count": 41,
     "metadata": {},
     "output_type": "execute_result"
    }
   ],
   "source": [
    "train_data.isnull().sum()"
   ]
  },
  {
   "cell_type": "code",
   "execution_count": 42,
   "metadata": {},
   "outputs": [
    {
     "data": {
      "text/html": [
       "<div>\n",
       "<style scoped>\n",
       "    .dataframe tbody tr th:only-of-type {\n",
       "        vertical-align: middle;\n",
       "    }\n",
       "\n",
       "    .dataframe tbody tr th {\n",
       "        vertical-align: top;\n",
       "    }\n",
       "\n",
       "    .dataframe thead th {\n",
       "        text-align: right;\n",
       "    }\n",
       "</style>\n",
       "<table border=\"1\" class=\"dataframe\">\n",
       "  <thead>\n",
       "    <tr style=\"text-align: right;\">\n",
       "      <th></th>\n",
       "      <th>PassengerId</th>\n",
       "      <th>Survived</th>\n",
       "      <th>Pclass</th>\n",
       "      <th>Sex</th>\n",
       "      <th>Age</th>\n",
       "      <th>SibSp</th>\n",
       "      <th>Parch</th>\n",
       "      <th>Fare</th>\n",
       "      <th>Embarked</th>\n",
       "    </tr>\n",
       "  </thead>\n",
       "  <tbody>\n",
       "    <tr>\n",
       "      <th>0</th>\n",
       "      <td>1</td>\n",
       "      <td>0</td>\n",
       "      <td>3</td>\n",
       "      <td>male</td>\n",
       "      <td>22.0</td>\n",
       "      <td>1</td>\n",
       "      <td>0</td>\n",
       "      <td>7.2500</td>\n",
       "      <td>S</td>\n",
       "    </tr>\n",
       "    <tr>\n",
       "      <th>1</th>\n",
       "      <td>2</td>\n",
       "      <td>1</td>\n",
       "      <td>1</td>\n",
       "      <td>female</td>\n",
       "      <td>38.0</td>\n",
       "      <td>1</td>\n",
       "      <td>0</td>\n",
       "      <td>71.2833</td>\n",
       "      <td>C</td>\n",
       "    </tr>\n",
       "    <tr>\n",
       "      <th>2</th>\n",
       "      <td>3</td>\n",
       "      <td>1</td>\n",
       "      <td>3</td>\n",
       "      <td>female</td>\n",
       "      <td>26.0</td>\n",
       "      <td>0</td>\n",
       "      <td>0</td>\n",
       "      <td>7.9250</td>\n",
       "      <td>S</td>\n",
       "    </tr>\n",
       "    <tr>\n",
       "      <th>3</th>\n",
       "      <td>4</td>\n",
       "      <td>1</td>\n",
       "      <td>1</td>\n",
       "      <td>female</td>\n",
       "      <td>35.0</td>\n",
       "      <td>1</td>\n",
       "      <td>0</td>\n",
       "      <td>53.1000</td>\n",
       "      <td>S</td>\n",
       "    </tr>\n",
       "    <tr>\n",
       "      <th>4</th>\n",
       "      <td>5</td>\n",
       "      <td>0</td>\n",
       "      <td>3</td>\n",
       "      <td>male</td>\n",
       "      <td>35.0</td>\n",
       "      <td>0</td>\n",
       "      <td>0</td>\n",
       "      <td>8.0500</td>\n",
       "      <td>S</td>\n",
       "    </tr>\n",
       "    <tr>\n",
       "      <th>...</th>\n",
       "      <td>...</td>\n",
       "      <td>...</td>\n",
       "      <td>...</td>\n",
       "      <td>...</td>\n",
       "      <td>...</td>\n",
       "      <td>...</td>\n",
       "      <td>...</td>\n",
       "      <td>...</td>\n",
       "      <td>...</td>\n",
       "    </tr>\n",
       "    <tr>\n",
       "      <th>886</th>\n",
       "      <td>887</td>\n",
       "      <td>0</td>\n",
       "      <td>2</td>\n",
       "      <td>male</td>\n",
       "      <td>27.0</td>\n",
       "      <td>0</td>\n",
       "      <td>0</td>\n",
       "      <td>13.0000</td>\n",
       "      <td>S</td>\n",
       "    </tr>\n",
       "    <tr>\n",
       "      <th>887</th>\n",
       "      <td>888</td>\n",
       "      <td>1</td>\n",
       "      <td>1</td>\n",
       "      <td>female</td>\n",
       "      <td>19.0</td>\n",
       "      <td>0</td>\n",
       "      <td>0</td>\n",
       "      <td>30.0000</td>\n",
       "      <td>S</td>\n",
       "    </tr>\n",
       "    <tr>\n",
       "      <th>888</th>\n",
       "      <td>889</td>\n",
       "      <td>0</td>\n",
       "      <td>3</td>\n",
       "      <td>female</td>\n",
       "      <td>28.0</td>\n",
       "      <td>1</td>\n",
       "      <td>2</td>\n",
       "      <td>23.4500</td>\n",
       "      <td>S</td>\n",
       "    </tr>\n",
       "    <tr>\n",
       "      <th>889</th>\n",
       "      <td>890</td>\n",
       "      <td>1</td>\n",
       "      <td>1</td>\n",
       "      <td>male</td>\n",
       "      <td>26.0</td>\n",
       "      <td>0</td>\n",
       "      <td>0</td>\n",
       "      <td>30.0000</td>\n",
       "      <td>C</td>\n",
       "    </tr>\n",
       "    <tr>\n",
       "      <th>890</th>\n",
       "      <td>891</td>\n",
       "      <td>0</td>\n",
       "      <td>3</td>\n",
       "      <td>male</td>\n",
       "      <td>32.0</td>\n",
       "      <td>0</td>\n",
       "      <td>0</td>\n",
       "      <td>7.7500</td>\n",
       "      <td>Q</td>\n",
       "    </tr>\n",
       "  </tbody>\n",
       "</table>\n",
       "<p>891 rows × 9 columns</p>\n",
       "</div>"
      ],
      "text/plain": [
       "     PassengerId  Survived  Pclass     Sex   Age  SibSp  Parch     Fare  \\\n",
       "0              1         0       3    male  22.0      1      0   7.2500   \n",
       "1              2         1       1  female  38.0      1      0  71.2833   \n",
       "2              3         1       3  female  26.0      0      0   7.9250   \n",
       "3              4         1       1  female  35.0      1      0  53.1000   \n",
       "4              5         0       3    male  35.0      0      0   8.0500   \n",
       "..           ...       ...     ...     ...   ...    ...    ...      ...   \n",
       "886          887         0       2    male  27.0      0      0  13.0000   \n",
       "887          888         1       1  female  19.0      0      0  30.0000   \n",
       "888          889         0       3  female  28.0      1      2  23.4500   \n",
       "889          890         1       1    male  26.0      0      0  30.0000   \n",
       "890          891         0       3    male  32.0      0      0   7.7500   \n",
       "\n",
       "    Embarked  \n",
       "0          S  \n",
       "1          C  \n",
       "2          S  \n",
       "3          S  \n",
       "4          S  \n",
       "..       ...  \n",
       "886        S  \n",
       "887        S  \n",
       "888        S  \n",
       "889        C  \n",
       "890        Q  \n",
       "\n",
       "[891 rows x 9 columns]"
      ]
     },
     "execution_count": 42,
     "metadata": {},
     "output_type": "execute_result"
    }
   ],
   "source": [
    "train_data"
   ]
  },
  {
   "cell_type": "markdown",
   "metadata": {},
   "source": [
    "Cleaning Testing data "
   ]
  },
  {
   "cell_type": "code",
   "execution_count": 43,
   "metadata": {},
   "outputs": [
    {
     "data": {
      "text/plain": [
       "PassengerId      0\n",
       "Pclass           0\n",
       "Name             0\n",
       "Sex              0\n",
       "Age             86\n",
       "SibSp            0\n",
       "Parch            0\n",
       "Ticket           0\n",
       "Fare             1\n",
       "Cabin          327\n",
       "Embarked         0\n",
       "dtype: int64"
      ]
     },
     "execution_count": 43,
     "metadata": {},
     "output_type": "execute_result"
    }
   ],
   "source": [
    "test_data.isnull().sum()"
   ]
  },
  {
   "cell_type": "code",
   "execution_count": 44,
   "metadata": {},
   "outputs": [],
   "source": [
    "test_data.drop('Name', axis=1, inplace=True)\n",
    "test_data.drop('Ticket', axis=1, inplace=True)\n",
    "test_data.drop('Cabin', axis=1, inplace=True)"
   ]
  },
  {
   "cell_type": "code",
   "execution_count": 45,
   "metadata": {},
   "outputs": [],
   "source": [
    "test_data.fillna(value=test_data['Age'].median(), inplace=True)"
   ]
  },
  {
   "cell_type": "code",
   "execution_count": 46,
   "metadata": {},
   "outputs": [
    {
     "data": {
      "text/plain": [
       "PassengerId    0\n",
       "Pclass         0\n",
       "Sex            0\n",
       "Age            0\n",
       "SibSp          0\n",
       "Parch          0\n",
       "Fare           0\n",
       "Embarked       0\n",
       "dtype: int64"
      ]
     },
     "execution_count": 46,
     "metadata": {},
     "output_type": "execute_result"
    }
   ],
   "source": [
    "test_data.isnull().sum()"
   ]
  },
  {
   "cell_type": "code",
   "execution_count": 47,
   "metadata": {},
   "outputs": [
    {
     "data": {
      "text/html": [
       "<div>\n",
       "<style scoped>\n",
       "    .dataframe tbody tr th:only-of-type {\n",
       "        vertical-align: middle;\n",
       "    }\n",
       "\n",
       "    .dataframe tbody tr th {\n",
       "        vertical-align: top;\n",
       "    }\n",
       "\n",
       "    .dataframe thead th {\n",
       "        text-align: right;\n",
       "    }\n",
       "</style>\n",
       "<table border=\"1\" class=\"dataframe\">\n",
       "  <thead>\n",
       "    <tr style=\"text-align: right;\">\n",
       "      <th></th>\n",
       "      <th>PassengerId</th>\n",
       "      <th>Pclass</th>\n",
       "      <th>Sex</th>\n",
       "      <th>Age</th>\n",
       "      <th>SibSp</th>\n",
       "      <th>Parch</th>\n",
       "      <th>Fare</th>\n",
       "      <th>Embarked</th>\n",
       "    </tr>\n",
       "  </thead>\n",
       "  <tbody>\n",
       "    <tr>\n",
       "      <th>0</th>\n",
       "      <td>892</td>\n",
       "      <td>3</td>\n",
       "      <td>male</td>\n",
       "      <td>34.5</td>\n",
       "      <td>0</td>\n",
       "      <td>0</td>\n",
       "      <td>7.8292</td>\n",
       "      <td>Q</td>\n",
       "    </tr>\n",
       "    <tr>\n",
       "      <th>1</th>\n",
       "      <td>893</td>\n",
       "      <td>3</td>\n",
       "      <td>female</td>\n",
       "      <td>47.0</td>\n",
       "      <td>1</td>\n",
       "      <td>0</td>\n",
       "      <td>7.0000</td>\n",
       "      <td>S</td>\n",
       "    </tr>\n",
       "    <tr>\n",
       "      <th>2</th>\n",
       "      <td>894</td>\n",
       "      <td>2</td>\n",
       "      <td>male</td>\n",
       "      <td>62.0</td>\n",
       "      <td>0</td>\n",
       "      <td>0</td>\n",
       "      <td>9.6875</td>\n",
       "      <td>Q</td>\n",
       "    </tr>\n",
       "    <tr>\n",
       "      <th>3</th>\n",
       "      <td>895</td>\n",
       "      <td>3</td>\n",
       "      <td>male</td>\n",
       "      <td>27.0</td>\n",
       "      <td>0</td>\n",
       "      <td>0</td>\n",
       "      <td>8.6625</td>\n",
       "      <td>S</td>\n",
       "    </tr>\n",
       "    <tr>\n",
       "      <th>4</th>\n",
       "      <td>896</td>\n",
       "      <td>3</td>\n",
       "      <td>female</td>\n",
       "      <td>22.0</td>\n",
       "      <td>1</td>\n",
       "      <td>1</td>\n",
       "      <td>12.2875</td>\n",
       "      <td>S</td>\n",
       "    </tr>\n",
       "    <tr>\n",
       "      <th>...</th>\n",
       "      <td>...</td>\n",
       "      <td>...</td>\n",
       "      <td>...</td>\n",
       "      <td>...</td>\n",
       "      <td>...</td>\n",
       "      <td>...</td>\n",
       "      <td>...</td>\n",
       "      <td>...</td>\n",
       "    </tr>\n",
       "    <tr>\n",
       "      <th>413</th>\n",
       "      <td>1305</td>\n",
       "      <td>3</td>\n",
       "      <td>male</td>\n",
       "      <td>27.0</td>\n",
       "      <td>0</td>\n",
       "      <td>0</td>\n",
       "      <td>8.0500</td>\n",
       "      <td>S</td>\n",
       "    </tr>\n",
       "    <tr>\n",
       "      <th>414</th>\n",
       "      <td>1306</td>\n",
       "      <td>1</td>\n",
       "      <td>female</td>\n",
       "      <td>39.0</td>\n",
       "      <td>0</td>\n",
       "      <td>0</td>\n",
       "      <td>108.9000</td>\n",
       "      <td>C</td>\n",
       "    </tr>\n",
       "    <tr>\n",
       "      <th>415</th>\n",
       "      <td>1307</td>\n",
       "      <td>3</td>\n",
       "      <td>male</td>\n",
       "      <td>38.5</td>\n",
       "      <td>0</td>\n",
       "      <td>0</td>\n",
       "      <td>7.2500</td>\n",
       "      <td>S</td>\n",
       "    </tr>\n",
       "    <tr>\n",
       "      <th>416</th>\n",
       "      <td>1308</td>\n",
       "      <td>3</td>\n",
       "      <td>male</td>\n",
       "      <td>27.0</td>\n",
       "      <td>0</td>\n",
       "      <td>0</td>\n",
       "      <td>8.0500</td>\n",
       "      <td>S</td>\n",
       "    </tr>\n",
       "    <tr>\n",
       "      <th>417</th>\n",
       "      <td>1309</td>\n",
       "      <td>3</td>\n",
       "      <td>male</td>\n",
       "      <td>27.0</td>\n",
       "      <td>1</td>\n",
       "      <td>1</td>\n",
       "      <td>22.3583</td>\n",
       "      <td>C</td>\n",
       "    </tr>\n",
       "  </tbody>\n",
       "</table>\n",
       "<p>418 rows × 8 columns</p>\n",
       "</div>"
      ],
      "text/plain": [
       "     PassengerId  Pclass     Sex   Age  SibSp  Parch      Fare Embarked\n",
       "0            892       3    male  34.5      0      0    7.8292        Q\n",
       "1            893       3  female  47.0      1      0    7.0000        S\n",
       "2            894       2    male  62.0      0      0    9.6875        Q\n",
       "3            895       3    male  27.0      0      0    8.6625        S\n",
       "4            896       3  female  22.0      1      1   12.2875        S\n",
       "..           ...     ...     ...   ...    ...    ...       ...      ...\n",
       "413         1305       3    male  27.0      0      0    8.0500        S\n",
       "414         1306       1  female  39.0      0      0  108.9000        C\n",
       "415         1307       3    male  38.5      0      0    7.2500        S\n",
       "416         1308       3    male  27.0      0      0    8.0500        S\n",
       "417         1309       3    male  27.0      1      1   22.3583        C\n",
       "\n",
       "[418 rows x 8 columns]"
      ]
     },
     "execution_count": 47,
     "metadata": {},
     "output_type": "execute_result"
    }
   ],
   "source": [
    "test_data"
   ]
  },
  {
   "cell_type": "code",
   "execution_count": 48,
   "metadata": {},
   "outputs": [],
   "source": [
    "le = LabelEncoder()\n",
    "\n",
    "train_data['Sex'] = le.fit_transform(train_data['Sex'])\n",
    "train_data['Embarked'] = le.fit_transform(train_data['Embarked'].astype(str))\n",
    "\n",
    "test_data['Sex'] = le.fit_transform(test_data['Sex'])\n",
    "test_data['Embarked'] = le.fit_transform(test_data['Embarked'].astype(str))"
   ]
  },
  {
   "cell_type": "code",
   "execution_count": 49,
   "metadata": {},
   "outputs": [],
   "source": [
    "train_features = train_data.iloc[:,:-1].values\n",
    "train_label = train_data.iloc[:,-1].values.reshape(-1,1)"
   ]
  },
  {
   "cell_type": "code",
   "execution_count": 50,
   "metadata": {},
   "outputs": [],
   "source": [
    "test_features = test_data.iloc[:,:-1].values\n",
    "test_label = test_data.iloc[:,-1].values.reshape(-1,1)"
   ]
  },
  {
   "cell_type": "markdown",
   "metadata": {},
   "source": [
    "KMeans on Traing dataset"
   ]
  },
  {
   "cell_type": "code",
   "execution_count": 51,
   "metadata": {},
   "outputs": [
    {
     "data": {
      "text/plain": [
       "array([[1.49000000e+02, 3.56902357e-01, 2.38720539e+00, 6.46464646e-01,\n",
       "        2.87923569e+01, 6.16161616e-01, 3.80471380e-01, 2.85651364e+01],\n",
       "       [4.46500000e+02, 4.29530201e-01, 2.22818792e+00, 6.07382550e-01,\n",
       "        2.98780872e+01, 4.63087248e-01, 3.72483221e-01, 3.52431903e+01],\n",
       "       [7.43500000e+02, 3.64864865e-01, 2.31081081e+00, 6.89189189e-01,\n",
       "        2.94127365e+01, 4.89864865e-01, 3.91891892e-01, 3.27960578e+01]])"
      ]
     },
     "execution_count": 51,
     "metadata": {},
     "output_type": "execute_result"
    }
   ],
   "source": [
    "kmeans = KMeans(init=\"k-means++\",n_clusters=3,n_init=10,max_iter=300,random_state=42)\n",
    "kmeans.fit(train_features)\n",
    "kmeans.cluster_centers_"
   ]
  },
  {
   "cell_type": "code",
   "execution_count": 52,
   "metadata": {},
   "outputs": [
    {
     "name": "stdout",
     "output_type": "stream",
     "text": [
      "LowestT SSE of all 3 clusters is: 8893946.46255853\n"
     ]
    }
   ],
   "source": [
    "print(\"LowestT SSE of all 3 clusters is:\", kmeans.inertia_)"
   ]
  },
  {
   "cell_type": "code",
   "execution_count": 53,
   "metadata": {},
   "outputs": [
    {
     "data": {
      "text/plain": [
       "12"
      ]
     },
     "execution_count": 53,
     "metadata": {},
     "output_type": "execute_result"
    }
   ],
   "source": [
    "kmeans.n_iter_"
   ]
  },
  {
   "cell_type": "markdown",
   "metadata": {},
   "source": [
    "Elbow method dor finding number of clusters"
   ]
  },
  {
   "cell_type": "code",
   "execution_count": 54,
   "metadata": {},
   "outputs": [],
   "source": [
    "SSE = []\n",
    "K = range(1,11)\n",
    "for k in K:\n",
    "    km = KMeans(n_clusters=k)\n",
    "    km = km.fit(train_features)\n",
    "    SSE.append(km.inertia_)"
   ]
  },
  {
   "cell_type": "code",
   "execution_count": 55,
   "metadata": {},
   "outputs": [
    {
     "name": "stderr",
     "output_type": "stream",
     "text": [
      "<ipython-input-55-fcec3deec210>:2: UserWarning: color is redundantly defined by the 'color' keyword argument and the fmt string \"bx-\" (-> color='b'). The keyword argument will take precedence.\n",
      "  plt.plot(K, SSE, 'bx-', color='red')\n"
     ]
    },
    {
     "data": {
      "image/png": "[encoded data removed]",
      "text/plain": [
       "<Figure size 432x288 with 1 Axes>"
      ]
     },
     "metadata": {},
     "output_type": "display_data"
    }
   ],
   "source": [
    "plt.style.use(\"fivethirtyeight\")\n",
    "plt.plot(K, SSE, 'bx-', color='red')\n",
    "plt.xlabel('K')\n",
    "plt.ylabel('Least SSE')\n",
    "plt.title('Elbow method optimal K')\n",
    "plt.show()"
   ]
  },
  {
   "cell_type": "markdown",
   "metadata": {},
   "source": [
    "Silhouette scores method"
   ]
  },
  {
   "cell_type": "code",
   "execution_count": 56,
   "metadata": {},
   "outputs": [
    {
     "name": "stderr",
     "output_type": "stream",
     "text": [
      "<ipython-input-56-2c7ef8f3b549>:10: UserWarning: color is redundantly defined by the 'color' keyword argument and the fmt string \"bx-\" (-> color='b'). The keyword argument will take precedence.\n",
      "  plt.plot(K, silhouette_coeff, 'bx-', color='red')\n"
     ]
    },
    {
     "data": {
      "image/png": "[encoded data removed]",
      "text/plain": [
       "<Figure size 432x288 with 1 Axes>"
      ]
     },
     "metadata": {},
     "output_type": "display_data"
    }
   ],
   "source": [
    "silhouette_coeff = []\n",
    "K = range(2,11)\n",
    "for k in range(2, 11):\n",
    "    kmeans = KMeans(n_clusters=k, **kmeans_kwargs)\n",
    "    kmeans.fit(train_features)\n",
    "    score = silhouette_score(train_features, kmeans.labels_)\n",
    "    silhouette_coeff.append(score)\n",
    "\n",
    "plt.style.use(\"fivethirtyeight\")\n",
    "plt.plot(K, silhouette_coeff, 'bx-', color='red')\n",
    "plt.xlabel('K')\n",
    "plt.ylabel('Silhouette scores')\n",
    "plt.title('Elbow method optimal K')\n",
    "plt.show()"
   ]
  },
  {
   "cell_type": "code",
   "execution_count": 57,
   "metadata": {},
   "outputs": [
    {
     "name": "stdout",
     "output_type": "stream",
     "text": [
      "[4 4 4 4 4 4 4 4 4 4 4 4 4 4 4 4 4 4 4 4 4 4 4 4 4 4 4 4 4 4 4 4 4 4 4 4 4\n",
      " 4 4 4 4 4 4 4 4 4 4 4 4 4 4 4 4 4 4 4 4 4 4 4 4 4 4 4 4 4 4 4 4 4 4 4 4 4\n",
      " 4 4 4 4 4 4 4 4 4 4 4 4 4 4 5 4 4 4 4 4 4 4 4 4 4 4 9 9 4 9 9 9 9 9 9 9 9\n",
      " 9 9 9 9 9 9 9 5 9 9 9 9 9 9 9 9 9 9 9 9 9 9 9 9 9 9 9 9 9 9 9 9 9 9 9 9 9\n",
      " 9 9 9 9 9 9 9 9 9 9 9 9 9 9 9 9 9 9 9 9 9 9 9 9 9 9 9 9 9 9 9 9 9 9 9 9 9\n",
      " 9 9 9 9 9 9 9 9 9 9 5 9 9 9 9 9 8 8 8 8 8 8 8 8 8 8 8 8 8 8 8 8 8 8 8 8 8\n",
      " 8 8 8 8 8 8 8 8 8 8 8 8 8 8 8 8 8 8 8 8 8 8 8 8 8 8 8 8 8 8 8 8 8 8 8 8 5\n",
      " 8 8 8 8 8 8 8 8 8 5 5 8 8 8 8 8 8 8 8 8 8 8 8 8 8 8 8 8 8 8 8 8 8 8 8 8 8\n",
      " 8 5 8 5 8 8 8 8 8 5 5 5 8 8 8 5 6 6 6 6 6 6 5 5 6 6 6 6 6 5 6 6 6 6 6 6 5\n",
      " 6 5 6 6 5 6 6 6 5 6 6 6 6 6 6 6 6 6 6 6 6 6 6 6 6 6 6 6 6 6 6 6 6 6 6 6 6\n",
      " 6 6 6 5 6 6 6 5 6 6 5 6 6 6 6 6 6 6 6 6 6 6 6 6 6 6 6 6 6 6 6 6 6 6 6 6 6\n",
      " 6 6 6 6 6 6 6 6 6 6 6 6 6 6 6 6 6 6 6 7 7 7 7 7 7 7 7 7 7 7 7 5 7 7 7 7 7\n",
      " 7 7 7 7 7 7 7 7 7 7 7 7 7 7 7 7 7 7 7 7 7 7 7 7 7 7 7 7 7 7 7 7 7 7 7 7 7\n",
      " 7 7 7 7 7 7 7 7 7 7 7 7 7 7 7 7 7 7 7 7 7 7 7 7 7 7 7 7 7 7 7 7 7 7 7 7 7\n",
      " 7 7 7 7 7 7 7 7 7 3 7 7 7 7 7 7 7 7 7 1 1 1 1 1 1 1 1 1 1 1 1 1 1 1 1 1 1\n",
      " 1 1 3 1 1 1 1 1 1 1 1 1 1 1 1 1 1 1 1 1 1 1 1 1 1 1 1 1 1 1 1 1 1 1 1 1 1\n",
      " 1 1 1 1 1 1 1 1 1 1 1 1 1 1 1 1 1 1 1 1 1 1 1 1 1 1 1 1 1 1 1 1 1 1 1 1 1\n",
      " 1 1 1 1 1 1 1 1 1 1 1 1 1 1 1 1 1 1 1 1 1 1 1 0 0 0 0 0 0 0 0 0 0 0 0 0 0\n",
      " 0 0 0 0 0 0 0 0 0 0 0 0 0 3 0 0 0 0 0 0 0 0 0 3 0 0 0 0 0 0 0 0 0 0 3 0 0\n",
      " 0 0 0 0 0 3 0 0 0 0 0 0 0 3 0 0 0 0 0 0 0 0 0 0 0 0 0 3 0 0 0 0 0 0 3 0 0\n",
      " 0 0 3 0 0 0 0 0 0 0 0 0 0 0 0 0 0 0 0 0 0 0 0 0 0 0 0 0 0 0 0 2 2 2 2 2 2\n",
      " 2 2 3 2 2 2 2 2 2 2 2 2 2 2 2 2 2 2 2 2 2 2 2 2 2 2 2 2 2 2 2 2 2 2 2 2 2\n",
      " 2 2 2 2 2 2 2 2 2 2 2 2 2 2 2 2 2 2 2 2 2 2 2 2 2 2 2 2 2 2 2 2 2 2 2 2 2\n",
      " 2 2 2 2 2 2 2 2 2 2 2 2 2 2 2 2 2 2 2 2 2 2 2 2 2 2 2 2 2 2 2 2 2 2 2 2 2\n",
      " 2 2 2]\n"
     ]
    }
   ],
   "source": [
    "y_pred = kmeans.predict(train_features)\n",
    "print(y_pred)"
   ]
  },
  {
   "cell_type": "markdown",
   "metadata": {},
   "source": [
    "Making clusters on testing dataset"
   ]
  },
  {
   "cell_type": "code",
   "execution_count": 58,
   "metadata": {},
   "outputs": [
    {
     "data": {
      "text/plain": [
       "array([[9.63000000e+02, 2.30769231e+00, 6.15384615e-01, 3.02167832e+01,\n",
       "        4.47552448e-01, 3.28671329e-01, 3.68282650e+01],\n",
       "       [1.24200000e+03, 2.22962963e+00, 6.59259259e-01, 2.97259259e+01,\n",
       "        4.59259259e-01, 4.51851852e-01, 3.79744452e+01],\n",
       "       [1.10450000e+03, 2.25714286e+00, 6.35714286e-01, 2.88464286e+01,\n",
       "        4.35714286e-01, 4.00000000e-01, 3.20753257e+01]])"
      ]
     },
     "execution_count": 58,
     "metadata": {},
     "output_type": "execute_result"
    }
   ],
   "source": [
    "kmeans = KMeans(init=\"k-means++\",n_clusters=3,n_init=10,max_iter=300,random_state=42)\n",
    "kmeans.fit(test_features)\n",
    "kmeans.cluster_centers_"
   ]
  },
  {
   "cell_type": "code",
   "execution_count": 59,
   "metadata": {},
   "outputs": [
    {
     "name": "stdout",
     "output_type": "stream",
     "text": [
      "LowestT SSE of all 3 clusters is: 2043267.8773500044\n"
     ]
    }
   ],
   "source": [
    "print(\"LowestT SSE of all 3 clusters is:\", kmeans.inertia_)"
   ]
  },
  {
   "cell_type": "code",
   "execution_count": 60,
   "metadata": {},
   "outputs": [
    {
     "data": {
      "text/plain": [
       "13"
      ]
     },
     "execution_count": 60,
     "metadata": {},
     "output_type": "execute_result"
    }
   ],
   "source": [
    "kmeans.n_iter_"
   ]
  },
  {
   "cell_type": "code",
   "execution_count": 61,
   "metadata": {},
   "outputs": [
    {
     "name": "stderr",
     "output_type": "stream",
     "text": [
      "<ipython-input-61-ec0992f82253>:9: UserWarning: color is redundantly defined by the 'color' keyword argument and the fmt string \"bx-\" (-> color='b'). The keyword argument will take precedence.\n",
      "  plt.plot(K, SSE, 'bx-', color='red')\n"
     ]
    },
    {
     "data": {
      "image/png": "[encoded data removed]",
      "text/plain": [
       "<Figure size 432x288 with 1 Axes>"
      ]
     },
     "metadata": {},
     "output_type": "display_data"
    }
   ],
   "source": [
    "SSE = []\n",
    "K = range(1,11)\n",
    "for k in K:\n",
    "    km = KMeans(n_clusters=k)\n",
    "    km = km.fit(test_features)\n",
    "    SSE.append(km.inertia_)\n",
    "\n",
    "plt.style.use(\"fivethirtyeight\")\n",
    "plt.plot(K, SSE, 'bx-', color='red')\n",
    "plt.xlabel('K')\n",
    "plt.ylabel('Least SSE')\n",
    "plt.title('Elbow method optimal K')\n",
    "plt.show()"
   ]
  },
  {
   "cell_type": "code",
   "execution_count": 63,
   "metadata": {},
   "outputs": [
    {
     "name": "stderr",
     "output_type": "stream",
     "text": [
      "<ipython-input-63-544dc0c9cb2d>:10: UserWarning: color is redundantly defined by the 'color' keyword argument and the fmt string \"bx-\" (-> color='b'). The keyword argument will take precedence.\n",
      "  plt.plot(K, silhouette_coeff, 'bx-', color='red')\n"
     ]
    },
    {
     "data": {
      "image/png": "[encoded data removed]",
      "text/plain": [
       "<Figure size 432x288 with 1 Axes>"
      ]
     },
     "metadata": {},
     "output_type": "display_data"
    }
   ],
   "source": [
    "silhouette_coeff = []\n",
    "K = range(2,11)\n",
    "for k in range(2, 11):\n",
    "    kmeans = KMeans(n_clusters=k, **kmeans_kwargs)\n",
    "    kmeans.fit(test_features)\n",
    "    score = silhouette_score(test_features, kmeans.labels_)\n",
    "    silhouette_coeff.append(score)\n",
    "\n",
    "plt.style.use(\"fivethirtyeight\")\n",
    "plt.plot(K, silhouette_coeff, 'bx-', color='red')\n",
    "plt.xlabel('K')\n",
    "plt.ylabel('Least SSE')\n",
    "plt.title('Elbow method optimal K')\n",
    "plt.show()"
   ]
  },
  {
   "cell_type": "code",
   "execution_count": 64,
   "metadata": {},
   "outputs": [
    {
     "name": "stdout",
     "output_type": "stream",
     "text": [
      "[3 3 3 3 3 3 3 3 3 3 3 3 3 3 3 3 3 3 3 3 3 3 3 3 1 3 3 3 3 3 3 3 3 3 3 3 3\n",
      " 3 3 3 3 3 3 3 3 3 3 3 3 3 3 5 5 1 5 5 5 5 5 1 5 5 5 5 1 5 5 5 5 1 5 5 5 5\n",
      " 1 1 5 5 5 5 5 1 5 5 5 5 5 5 5 5 5 5 5 5 5 5 4 5 5 5 4 5 5 5 5 4 4 4 4 4 4\n",
      " 4 4 4 1 4 4 4 4 4 4 4 4 4 4 4 4 4 4 4 4 4 4 4 4 4 4 4 4 4 4 1 1 4 4 4 4 4\n",
      " 4 4 4 4 4 4 4 4 1 4 2 2 2 2 2 2 2 2 2 2 2 2 2 2 2 2 2 2 2 2 2 2 2 2 2 2 1\n",
      " 2 2 2 2 2 2 2 2 2 2 2 9 2 2 2 2 2 1 2 2 2 2 2 2 2 2 2 2 2 2 2 2 9 1 0 0 0\n",
      " 0 0 0 0 0 0 0 0 0 0 0 0 0 0 0 0 0 9 0 0 9 0 0 0 0 0 0 0 0 0 9 0 0 0 0 0 0\n",
      " 0 0 0 0 0 0 0 0 0 0 0 9 0 9 0 0 0 0 0 0 0 0 0 0 0 0 7 7 9 7 7 7 7 7 9 7 7\n",
      " 7 7 7 7 7 7 7 7 7 7 9 7 9 7 7 7 7 7 9 7 9 7 7 7 7 7 7 7 9 7 7 9 7 7 7 7 7\n",
      " 7 7 7 7 7 7 7 7 7 8 6 7 7 7 7 7 7 8 7 8 8 8 8 8 8 8 8 8 8 8 8 8 8 8 8 8 8\n",
      " 8 9 8 8 8 6 8 8 8 8 8 8 8 8 8 8 8 8 8 8 8 8 8 8 8 8 8 8 8 8 9 8 8 8 8 8 8\n",
      " 6 8 8 8 8 8 8 8 8 8 8]\n"
     ]
    }
   ],
   "source": [
    "y_pred = kmeans.predict(test_features)\n",
    "print(y_pred)"
   ]
  }
 ],
 "metadata": {
  "interpreter": {
   "hash": "07d623e3832b78ce69fa2c095939a54ed4f3e8fe6909ed4ae68f2da80f027625"
  },
  "kernelspec": {
   "display_name": "Python 3.9.1 64-bit",
   "language": "python",
   "name": "python3"
  },
  "language_info": {
   "codemirror_mode": {
    "name": "ipython",
    "version": 3
   },
   "file_extension": ".py",
   "mimetype": "text/x-python",
   "name": "python",
   "nbconvert_exporter": "python",
   "pygments_lexer": "ipython3",
   "version": "3.9.1"
  },
  "orig_nbformat": 4
 },
 "nbformat": 4,
 "nbformat_minor": 2
}
