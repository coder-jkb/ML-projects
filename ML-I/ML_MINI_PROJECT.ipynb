{
  "cells": [
    {
      "cell_type": "markdown",
      "metadata": {
        "id": "view-in-github",
        "colab_type": "text"
      },
      "source": [
        "<a href=\"https://colab.research.google.com/github/coder-jkb/ML-projects/blob/main/ML_MINI_PROJECT.ipynb\" target=\"_parent\"><img src=\"https://colab.research.google.com/assets/colab-badge.svg\" alt=\"Open In Colab\"/></a>"
      ]
    },
    {
      "cell_type": "markdown",
      "metadata": {
        "id": "crTxHXIk8s8h"
      },
      "source": [
        "# **MACHINE LEARNING - MINI PROJECT**\n",
        "\n",
        "## **TOPIC: CUSTOMER BUYING HABITS IN BANKING DOMAIN**\n",
        "\n",
        "### *MEMBERS:*\n",
        "### *> UMANG KIRIT LODAYA 60009200032*\n",
        "### *> JAY BHANUSHALI 60009200047*\n",
        "\n",
        "### *BATCH/DIV: K - K2 BATCH*"
      ]
    },
    {
      "cell_type": "code",
      "execution_count": null,
      "metadata": {
        "colab": {
          "base_uri": "https://localhost:8080/"
        },
        "id": "qjxYXCKH5DQq",
        "outputId": "fe9fa3df-a4d6-4916-b01d-cfb9f75ec341"
      },
      "outputs": [
        {
          "output_type": "stream",
          "name": "stdout",
          "text": [
            "Drive already mounted at /content/drive; to attempt to forcibly remount, call drive.mount(\"/content/drive\", force_remount=True).\n"
          ]
        }
      ],
      "source": [
        "import numpy as np\n",
        "import pandas as pd\n",
        "import seaborn as sns\n",
        "import matplotlib.pyplot as plt\n",
        "\n",
        "from google.colab import drive\n",
        "drive.mount('/content/drive')"
      ]
    },
    {
      "cell_type": "markdown",
      "metadata": {
        "id": "862slrc8mW29"
      },
      "source": [
        "### **LOADING THE DATASETS**"
      ]
    },
    {
      "cell_type": "markdown",
      "metadata": {
        "id": "35kH4TS-6OLI"
      },
      "source": [
        "**TRAINING DATASET**"
      ]
    },
    {
      "cell_type": "code",
      "execution_count": null,
      "metadata": {
        "colab": {
          "base_uri": "https://localhost:8080/",
          "height": 487
        },
        "id": "m2gCFk-G6L2n",
        "outputId": "749331ab-3935-4bb2-aa44-aa7f9c0025d1"
      },
      "outputs": [
        {
          "output_type": "execute_result",
          "data": {
            "text/plain": [
              "             id  customer_age     job_type  marital  education default  \\\n",
              "0      id_43823          28.0   management   single   tertiary      no   \n",
              "1      id_32289          34.0  blue-collar  married  secondary      no   \n",
              "2      id_10523          46.0   technician  married  secondary      no   \n",
              "3      id_43951          34.0     services   single  secondary      no   \n",
              "4      id_40992          41.0  blue-collar  married    primary      no   \n",
              "...         ...           ...          ...      ...        ...     ...   \n",
              "31642  id_27290          58.0       admin.  married  secondary      no   \n",
              "31643  id_20428          51.0   management  married   tertiary      no   \n",
              "31644  id_44679          41.0   unemployed  married    primary      no   \n",
              "31645   id_4841          48.0     services  married  secondary      no   \n",
              "31646   id_1723          38.0   technician   single   tertiary      no   \n",
              "\n",
              "       balance housing_loan personal_loan communication_type  day_of_month  \\\n",
              "0        285.0          yes            no            unknown            26   \n",
              "1        934.0           no           yes           cellular            18   \n",
              "2        656.0           no            no           cellular             5   \n",
              "3          2.0          yes            no            unknown            20   \n",
              "4       1352.0          yes            no           cellular            13   \n",
              "...        ...          ...           ...                ...           ...   \n",
              "31642    567.0          yes            no           cellular             2   \n",
              "31643   1072.0           no            no            unknown            20   \n",
              "31644    242.0          yes            no            unknown            23   \n",
              "31645   2699.0           no            no           cellular            11   \n",
              "31646   1045.0           no            no           cellular            18   \n",
              "\n",
              "      month  last_contact_duration  num_contacts_in_campaign  \\\n",
              "0       jun                  303.0                       4.0   \n",
              "1       nov                  143.0                       2.0   \n",
              "2       feb                  101.0                       4.0   \n",
              "3       may                  127.0                       3.0   \n",
              "4       may                   49.0                       2.0   \n",
              "...     ...                    ...                       ...   \n",
              "31642   feb                   99.0                       2.0   \n",
              "31643   jun                   31.0                       7.0   \n",
              "31644   may                   89.0                       2.0   \n",
              "31645   aug                  216.0                       6.0   \n",
              "31646   aug                  183.0                      10.0   \n",
              "\n",
              "       days_since_prev_campaign_contact  num_contacts_prev_campaign  \\\n",
              "0                                   NaN                           0   \n",
              "1                                 132.0                           1   \n",
              "2                                   NaN                           0   \n",
              "3                                   NaN                           0   \n",
              "4                                   NaN                           0   \n",
              "...                                 ...                         ...   \n",
              "31642                             265.0                           3   \n",
              "31643                               NaN                           0   \n",
              "31644                               NaN                           0   \n",
              "31645                               NaN                           0   \n",
              "31646                               NaN                           0   \n",
              "\n",
              "      prev_campaign_outcome  term_deposit_subscribed  \n",
              "0                   unknown                        0  \n",
              "1                     other                        0  \n",
              "2                   unknown                        0  \n",
              "3                   unknown                        0  \n",
              "4                   unknown                        0  \n",
              "...                     ...                      ...  \n",
              "31642                 other                        0  \n",
              "31643               unknown                        0  \n",
              "31644               unknown                        0  \n",
              "31645               unknown                        0  \n",
              "31646               unknown                        0  \n",
              "\n",
              "[31647 rows x 18 columns]"
            ],
            "text/html": [
              "\n",
              "  <div id=\"df-7b715119-08ac-4a65-9593-d58fed0ed120\">\n",
              "    <div class=\"colab-df-container\">\n",
              "      <div>\n",
              "<style scoped>\n",
              "    .dataframe tbody tr th:only-of-type {\n",
              "        vertical-align: middle;\n",
              "    }\n",
              "\n",
              "    .dataframe tbody tr th {\n",
              "        vertical-align: top;\n",
              "    }\n",
              "\n",
              "    .dataframe thead th {\n",
              "        text-align: right;\n",
              "    }\n",
              "</style>\n",
              "<table border=\"1\" class=\"dataframe\">\n",
              "  <thead>\n",
              "    <tr style=\"text-align: right;\">\n",
              "      <th></th>\n",
              "      <th>id</th>\n",
              "      <th>customer_age</th>\n",
              "      <th>job_type</th>\n",
              "      <th>marital</th>\n",
              "      <th>education</th>\n",
              "      <th>default</th>\n",
              "      <th>balance</th>\n",
              "      <th>housing_loan</th>\n",
              "      <th>personal_loan</th>\n",
              "      <th>communication_type</th>\n",
              "      <th>day_of_month</th>\n",
              "      <th>month</th>\n",
              "      <th>last_contact_duration</th>\n",
              "      <th>num_contacts_in_campaign</th>\n",
              "      <th>days_since_prev_campaign_contact</th>\n",
              "      <th>num_contacts_prev_campaign</th>\n",
              "      <th>prev_campaign_outcome</th>\n",
              "      <th>term_deposit_subscribed</th>\n",
              "    </tr>\n",
              "  </thead>\n",
              "  <tbody>\n",
              "    <tr>\n",
              "      <th>0</th>\n",
              "      <td>id_43823</td>\n",
              "      <td>28.0</td>\n",
              "      <td>management</td>\n",
              "      <td>single</td>\n",
              "      <td>tertiary</td>\n",
              "      <td>no</td>\n",
              "      <td>285.0</td>\n",
              "      <td>yes</td>\n",
              "      <td>no</td>\n",
              "      <td>unknown</td>\n",
              "      <td>26</td>\n",
              "      <td>jun</td>\n",
              "      <td>303.0</td>\n",
              "      <td>4.0</td>\n",
              "      <td>NaN</td>\n",
              "      <td>0</td>\n",
              "      <td>unknown</td>\n",
              "      <td>0</td>\n",
              "    </tr>\n",
              "    <tr>\n",
              "      <th>1</th>\n",
              "      <td>id_32289</td>\n",
              "      <td>34.0</td>\n",
              "      <td>blue-collar</td>\n",
              "      <td>married</td>\n",
              "      <td>secondary</td>\n",
              "      <td>no</td>\n",
              "      <td>934.0</td>\n",
              "      <td>no</td>\n",
              "      <td>yes</td>\n",
              "      <td>cellular</td>\n",
              "      <td>18</td>\n",
              "      <td>nov</td>\n",
              "      <td>143.0</td>\n",
              "      <td>2.0</td>\n",
              "      <td>132.0</td>\n",
              "      <td>1</td>\n",
              "      <td>other</td>\n",
              "      <td>0</td>\n",
              "    </tr>\n",
              "    <tr>\n",
              "      <th>2</th>\n",
              "      <td>id_10523</td>\n",
              "      <td>46.0</td>\n",
              "      <td>technician</td>\n",
              "      <td>married</td>\n",
              "      <td>secondary</td>\n",
              "      <td>no</td>\n",
              "      <td>656.0</td>\n",
              "      <td>no</td>\n",
              "      <td>no</td>\n",
              "      <td>cellular</td>\n",
              "      <td>5</td>\n",
              "      <td>feb</td>\n",
              "      <td>101.0</td>\n",
              "      <td>4.0</td>\n",
              "      <td>NaN</td>\n",
              "      <td>0</td>\n",
              "      <td>unknown</td>\n",
              "      <td>0</td>\n",
              "    </tr>\n",
              "    <tr>\n",
              "      <th>3</th>\n",
              "      <td>id_43951</td>\n",
              "      <td>34.0</td>\n",
              "      <td>services</td>\n",
              "      <td>single</td>\n",
              "      <td>secondary</td>\n",
              "      <td>no</td>\n",
              "      <td>2.0</td>\n",
              "      <td>yes</td>\n",
              "      <td>no</td>\n",
              "      <td>unknown</td>\n",
              "      <td>20</td>\n",
              "      <td>may</td>\n",
              "      <td>127.0</td>\n",
              "      <td>3.0</td>\n",
              "      <td>NaN</td>\n",
              "      <td>0</td>\n",
              "      <td>unknown</td>\n",
              "      <td>0</td>\n",
              "    </tr>\n",
              "    <tr>\n",
              "      <th>4</th>\n",
              "      <td>id_40992</td>\n",
              "      <td>41.0</td>\n",
              "      <td>blue-collar</td>\n",
              "      <td>married</td>\n",
              "      <td>primary</td>\n",
              "      <td>no</td>\n",
              "      <td>1352.0</td>\n",
              "      <td>yes</td>\n",
              "      <td>no</td>\n",
              "      <td>cellular</td>\n",
              "      <td>13</td>\n",
              "      <td>may</td>\n",
              "      <td>49.0</td>\n",
              "      <td>2.0</td>\n",
              "      <td>NaN</td>\n",
              "      <td>0</td>\n",
              "      <td>unknown</td>\n",
              "      <td>0</td>\n",
              "    </tr>\n",
              "    <tr>\n",
              "      <th>...</th>\n",
              "      <td>...</td>\n",
              "      <td>...</td>\n",
              "      <td>...</td>\n",
              "      <td>...</td>\n",
              "      <td>...</td>\n",
              "      <td>...</td>\n",
              "      <td>...</td>\n",
              "      <td>...</td>\n",
              "      <td>...</td>\n",
              "      <td>...</td>\n",
              "      <td>...</td>\n",
              "      <td>...</td>\n",
              "      <td>...</td>\n",
              "      <td>...</td>\n",
              "      <td>...</td>\n",
              "      <td>...</td>\n",
              "      <td>...</td>\n",
              "      <td>...</td>\n",
              "    </tr>\n",
              "    <tr>\n",
              "      <th>31642</th>\n",
              "      <td>id_27290</td>\n",
              "      <td>58.0</td>\n",
              "      <td>admin.</td>\n",
              "      <td>married</td>\n",
              "      <td>secondary</td>\n",
              "      <td>no</td>\n",
              "      <td>567.0</td>\n",
              "      <td>yes</td>\n",
              "      <td>no</td>\n",
              "      <td>cellular</td>\n",
              "      <td>2</td>\n",
              "      <td>feb</td>\n",
              "      <td>99.0</td>\n",
              "      <td>2.0</td>\n",
              "      <td>265.0</td>\n",
              "      <td>3</td>\n",
              "      <td>other</td>\n",
              "      <td>0</td>\n",
              "    </tr>\n",
              "    <tr>\n",
              "      <th>31643</th>\n",
              "      <td>id_20428</td>\n",
              "      <td>51.0</td>\n",
              "      <td>management</td>\n",
              "      <td>married</td>\n",
              "      <td>tertiary</td>\n",
              "      <td>no</td>\n",
              "      <td>1072.0</td>\n",
              "      <td>no</td>\n",
              "      <td>no</td>\n",
              "      <td>unknown</td>\n",
              "      <td>20</td>\n",
              "      <td>jun</td>\n",
              "      <td>31.0</td>\n",
              "      <td>7.0</td>\n",
              "      <td>NaN</td>\n",
              "      <td>0</td>\n",
              "      <td>unknown</td>\n",
              "      <td>0</td>\n",
              "    </tr>\n",
              "    <tr>\n",
              "      <th>31644</th>\n",
              "      <td>id_44679</td>\n",
              "      <td>41.0</td>\n",
              "      <td>unemployed</td>\n",
              "      <td>married</td>\n",
              "      <td>primary</td>\n",
              "      <td>no</td>\n",
              "      <td>242.0</td>\n",
              "      <td>yes</td>\n",
              "      <td>no</td>\n",
              "      <td>unknown</td>\n",
              "      <td>23</td>\n",
              "      <td>may</td>\n",
              "      <td>89.0</td>\n",
              "      <td>2.0</td>\n",
              "      <td>NaN</td>\n",
              "      <td>0</td>\n",
              "      <td>unknown</td>\n",
              "      <td>0</td>\n",
              "    </tr>\n",
              "    <tr>\n",
              "      <th>31645</th>\n",
              "      <td>id_4841</td>\n",
              "      <td>48.0</td>\n",
              "      <td>services</td>\n",
              "      <td>married</td>\n",
              "      <td>secondary</td>\n",
              "      <td>no</td>\n",
              "      <td>2699.0</td>\n",
              "      <td>no</td>\n",
              "      <td>no</td>\n",
              "      <td>cellular</td>\n",
              "      <td>11</td>\n",
              "      <td>aug</td>\n",
              "      <td>216.0</td>\n",
              "      <td>6.0</td>\n",
              "      <td>NaN</td>\n",
              "      <td>0</td>\n",
              "      <td>unknown</td>\n",
              "      <td>0</td>\n",
              "    </tr>\n",
              "    <tr>\n",
              "      <th>31646</th>\n",
              "      <td>id_1723</td>\n",
              "      <td>38.0</td>\n",
              "      <td>technician</td>\n",
              "      <td>single</td>\n",
              "      <td>tertiary</td>\n",
              "      <td>no</td>\n",
              "      <td>1045.0</td>\n",
              "      <td>no</td>\n",
              "      <td>no</td>\n",
              "      <td>cellular</td>\n",
              "      <td>18</td>\n",
              "      <td>aug</td>\n",
              "      <td>183.0</td>\n",
              "      <td>10.0</td>\n",
              "      <td>NaN</td>\n",
              "      <td>0</td>\n",
              "      <td>unknown</td>\n",
              "      <td>0</td>\n",
              "    </tr>\n",
              "  </tbody>\n",
              "</table>\n",
              "<p>31647 rows × 18 columns</p>\n",
              "</div>\n",
              "      <button class=\"colab-df-convert\" onclick=\"convertToInteractive('df-7b715119-08ac-4a65-9593-d58fed0ed120')\"\n",
              "              title=\"Convert this dataframe to an interactive table.\"\n",
              "              style=\"display:none;\">\n",
              "        \n",
              "  <svg xmlns=\"http://www.w3.org/2000/svg\" height=\"24px\"viewBox=\"0 0 24 24\"\n",
              "       width=\"24px\">\n",
              "    <path d=\"M0 0h24v24H0V0z\" fill=\"none\"/>\n",
              "    <path d=\"M18.56 5.44l.94 2.06.94-2.06 2.06-.94-2.06-.94-.94-2.06-.94 2.06-2.06.94zm-11 1L8.5 8.5l.94-2.06 2.06-.94-2.06-.94L8.5 2.5l-.94 2.06-2.06.94zm10 10l.94 2.06.94-2.06 2.06-.94-2.06-.94-.94-2.06-.94 2.06-2.06.94z\"/><path d=\"M17.41 7.96l-1.37-1.37c-.4-.4-.92-.59-1.43-.59-.52 0-1.04.2-1.43.59L10.3 9.45l-7.72 7.72c-.78.78-.78 2.05 0 2.83L4 21.41c.39.39.9.59 1.41.59.51 0 1.02-.2 1.41-.59l7.78-7.78 2.81-2.81c.8-.78.8-2.07 0-2.86zM5.41 20L4 18.59l7.72-7.72 1.47 1.35L5.41 20z\"/>\n",
              "  </svg>\n",
              "      </button>\n",
              "      \n",
              "  <style>\n",
              "    .colab-df-container {\n",
              "      display:flex;\n",
              "      flex-wrap:wrap;\n",
              "      gap: 12px;\n",
              "    }\n",
              "\n",
              "    .colab-df-convert {\n",
              "      background-color: #E8F0FE;\n",
              "      border: none;\n",
              "      border-radius: 50%;\n",
              "      cursor: pointer;\n",
              "      display: none;\n",
              "      fill: #1967D2;\n",
              "      height: 32px;\n",
              "      padding: 0 0 0 0;\n",
              "      width: 32px;\n",
              "    }\n",
              "\n",
              "    .colab-df-convert:hover {\n",
              "      background-color: #E2EBFA;\n",
              "      box-shadow: 0px 1px 2px rgba(60, 64, 67, 0.3), 0px 1px 3px 1px rgba(60, 64, 67, 0.15);\n",
              "      fill: #174EA6;\n",
              "    }\n",
              "\n",
              "    [theme=dark] .colab-df-convert {\n",
              "      background-color: #3B4455;\n",
              "      fill: #D2E3FC;\n",
              "    }\n",
              "\n",
              "    [theme=dark] .colab-df-convert:hover {\n",
              "      background-color: #434B5C;\n",
              "      box-shadow: 0px 1px 3px 1px rgba(0, 0, 0, 0.15);\n",
              "      filter: drop-shadow(0px 1px 2px rgba(0, 0, 0, 0.3));\n",
              "      fill: #FFFFFF;\n",
              "    }\n",
              "  </style>\n",
              "\n",
              "      <script>\n",
              "        const buttonEl =\n",
              "          document.querySelector('#df-7b715119-08ac-4a65-9593-d58fed0ed120 button.colab-df-convert');\n",
              "        buttonEl.style.display =\n",
              "          google.colab.kernel.accessAllowed ? 'block' : 'none';\n",
              "\n",
              "        async function convertToInteractive(key) {\n",
              "          const element = document.querySelector('#df-7b715119-08ac-4a65-9593-d58fed0ed120');\n",
              "          const dataTable =\n",
              "            await google.colab.kernel.invokeFunction('convertToInteractive',\n",
              "                                                     [key], {});\n",
              "          if (!dataTable) return;\n",
              "\n",
              "          const docLinkHtml = 'Like what you see? Visit the ' +\n",
              "            '<a target=\"_blank\" href=https://colab.research.google.com/notebooks/data_table.ipynb>data table notebook</a>'\n",
              "            + ' to learn more about interactive tables.';\n",
              "          element.innerHTML = '';\n",
              "          dataTable['output_type'] = 'display_data';\n",
              "          await google.colab.output.renderOutput(dataTable, element);\n",
              "          const docLink = document.createElement('div');\n",
              "          docLink.innerHTML = docLinkHtml;\n",
              "          element.appendChild(docLink);\n",
              "        }\n",
              "      </script>\n",
              "    </div>\n",
              "  </div>\n",
              "  "
            ]
          },
          "metadata": {},
          "execution_count": 2
        }
      ],
      "source": [
        "path1 = '/content/drive/MyDrive/ML MINI PROJECT/Train.xlsx'\n",
        "train_data = pd.read_excel(path1)\n",
        "train_data"
      ]
    },
    {
      "cell_type": "code",
      "execution_count": null,
      "metadata": {
        "colab": {
          "base_uri": "https://localhost:8080/"
        },
        "id": "xzBkiMsdAc6Q",
        "outputId": "781ee1ed-c1a0-40ab-8843-188b769ca8db"
      },
      "outputs": [
        {
          "output_type": "stream",
          "name": "stdout",
          "text": [
            "<class 'pandas.core.frame.DataFrame'>\n",
            "RangeIndex: 31647 entries, 0 to 31646\n",
            "Data columns (total 18 columns):\n",
            " #   Column                            Non-Null Count  Dtype  \n",
            "---  ------                            --------------  -----  \n",
            " 0   id                                31647 non-null  object \n",
            " 1   customer_age                      31028 non-null  float64\n",
            " 2   job_type                          31647 non-null  object \n",
            " 3   marital                           31497 non-null  object \n",
            " 4   education                         31647 non-null  object \n",
            " 5   default                           31647 non-null  object \n",
            " 6   balance                           31248 non-null  float64\n",
            " 7   housing_loan                      31647 non-null  object \n",
            " 8   personal_loan                     31498 non-null  object \n",
            " 9   communication_type                31647 non-null  object \n",
            " 10  day_of_month                      31647 non-null  int64  \n",
            " 11  month                             31647 non-null  object \n",
            " 12  last_contact_duration             31336 non-null  float64\n",
            " 13  num_contacts_in_campaign          31535 non-null  float64\n",
            " 14  days_since_prev_campaign_contact  5816 non-null   float64\n",
            " 15  num_contacts_prev_campaign        31647 non-null  int64  \n",
            " 16  prev_campaign_outcome             31647 non-null  object \n",
            " 17  term_deposit_subscribed           31647 non-null  int64  \n",
            "dtypes: float64(5), int64(3), object(10)\n",
            "memory usage: 4.3+ MB\n"
          ]
        }
      ],
      "source": [
        "train_data.info()"
      ]
    },
    {
      "cell_type": "markdown",
      "metadata": {
        "id": "5Nmxct636rYP"
      },
      "source": [
        "**TESTING DATASET**"
      ]
    },
    {
      "cell_type": "code",
      "execution_count": null,
      "metadata": {
        "colab": {
          "base_uri": "https://localhost:8080/",
          "height": 487
        },
        "id": "g3i18PeF6zfn",
        "outputId": "922cee59-c02c-43a9-e2d9-a0d4c0b2e6a5"
      },
      "outputs": [
        {
          "output_type": "execute_result",
          "data": {
            "text/plain": [
              "             id  customer_age     job_type   marital  education default  \\\n",
              "0      id_17231          55.0      retired   married   tertiary      no   \n",
              "1      id_34508          24.0  blue-collar    single  secondary      no   \n",
              "2      id_44504          46.0   technician  divorced  secondary      no   \n",
              "3        id_174          56.0    housemaid    single    unknown      no   \n",
              "4       id_2115          62.0      retired   married  secondary      no   \n",
              "...         ...           ...          ...       ...        ...     ...   \n",
              "13559  id_42406          29.0   management    single   tertiary      no   \n",
              "13560  id_14483           NaN  blue-collar   married  secondary      no   \n",
              "13561  id_43066          45.0  blue-collar   married    primary      no   \n",
              "13562  id_18375          52.0       admin.   married    primary      no   \n",
              "13563  id_12898          51.0   technician   married    unknown      no   \n",
              "\n",
              "       balance housing_loan personal_loan communication_type  day_of_month  \\\n",
              "0       7136.0           no            no           cellular            13   \n",
              "1        179.0          yes            no           cellular            18   \n",
              "2        143.0           no            no           cellular             8   \n",
              "3       6023.0           no            no            unknown             6   \n",
              "4       2913.0           no            no           cellular            12   \n",
              "...        ...          ...           ...                ...           ...   \n",
              "13559    717.0          yes            no           cellular            15   \n",
              "13560    604.0          yes            no          telephone            10   \n",
              "13561    237.0          yes            no            unknown            16   \n",
              "13562    241.0          yes            no           cellular            13   \n",
              "13563    368.0          yes            no           cellular            15   \n",
              "\n",
              "      month  last_contact_duration  num_contacts_in_campaign  \\\n",
              "0       aug                   90.0                       2.0   \n",
              "1       may                   63.0                       2.0   \n",
              "2       jul                  208.0                       1.0   \n",
              "3       jun                   34.0                       1.0   \n",
              "4       apr                  127.0                       1.0   \n",
              "...     ...                    ...                       ...   \n",
              "13559   jun                   94.0                       1.0   \n",
              "13560   jul                  155.0                       1.0   \n",
              "13561   may                  231.0                       4.0   \n",
              "13562   may                  243.0                       2.0   \n",
              "13563   jul                  102.0                       2.0   \n",
              "\n",
              "       days_since_prev_campaign_contact  num_contacts_prev_campaign  \\\n",
              "0                                   NaN                           0   \n",
              "1                                   NaN                           0   \n",
              "2                                   NaN                           0   \n",
              "3                                   NaN                           0   \n",
              "4                                 188.0                           1   \n",
              "...                                 ...                         ...   \n",
              "13559                               NaN                           0   \n",
              "13560                               NaN                           0   \n",
              "13561                               NaN                           0   \n",
              "13562                             299.0                           5   \n",
              "13563                               NaN                           0   \n",
              "\n",
              "      prev_campaign_outcome  \n",
              "0                   unknown  \n",
              "1                   unknown  \n",
              "2                   unknown  \n",
              "3                   unknown  \n",
              "4                   success  \n",
              "...                     ...  \n",
              "13559               unknown  \n",
              "13560               unknown  \n",
              "13561               unknown  \n",
              "13562               failure  \n",
              "13563               unknown  \n",
              "\n",
              "[13564 rows x 17 columns]"
            ],
            "text/html": [
              "\n",
              "  <div id=\"df-d8d6e66a-b6ba-42cb-94cf-4026f5c1590d\">\n",
              "    <div class=\"colab-df-container\">\n",
              "      <div>\n",
              "<style scoped>\n",
              "    .dataframe tbody tr th:only-of-type {\n",
              "        vertical-align: middle;\n",
              "    }\n",
              "\n",
              "    .dataframe tbody tr th {\n",
              "        vertical-align: top;\n",
              "    }\n",
              "\n",
              "    .dataframe thead th {\n",
              "        text-align: right;\n",
              "    }\n",
              "</style>\n",
              "<table border=\"1\" class=\"dataframe\">\n",
              "  <thead>\n",
              "    <tr style=\"text-align: right;\">\n",
              "      <th></th>\n",
              "      <th>id</th>\n",
              "      <th>customer_age</th>\n",
              "      <th>job_type</th>\n",
              "      <th>marital</th>\n",
              "      <th>education</th>\n",
              "      <th>default</th>\n",
              "      <th>balance</th>\n",
              "      <th>housing_loan</th>\n",
              "      <th>personal_loan</th>\n",
              "      <th>communication_type</th>\n",
              "      <th>day_of_month</th>\n",
              "      <th>month</th>\n",
              "      <th>last_contact_duration</th>\n",
              "      <th>num_contacts_in_campaign</th>\n",
              "      <th>days_since_prev_campaign_contact</th>\n",
              "      <th>num_contacts_prev_campaign</th>\n",
              "      <th>prev_campaign_outcome</th>\n",
              "    </tr>\n",
              "  </thead>\n",
              "  <tbody>\n",
              "    <tr>\n",
              "      <th>0</th>\n",
              "      <td>id_17231</td>\n",
              "      <td>55.0</td>\n",
              "      <td>retired</td>\n",
              "      <td>married</td>\n",
              "      <td>tertiary</td>\n",
              "      <td>no</td>\n",
              "      <td>7136.0</td>\n",
              "      <td>no</td>\n",
              "      <td>no</td>\n",
              "      <td>cellular</td>\n",
              "      <td>13</td>\n",
              "      <td>aug</td>\n",
              "      <td>90.0</td>\n",
              "      <td>2.0</td>\n",
              "      <td>NaN</td>\n",
              "      <td>0</td>\n",
              "      <td>unknown</td>\n",
              "    </tr>\n",
              "    <tr>\n",
              "      <th>1</th>\n",
              "      <td>id_34508</td>\n",
              "      <td>24.0</td>\n",
              "      <td>blue-collar</td>\n",
              "      <td>single</td>\n",
              "      <td>secondary</td>\n",
              "      <td>no</td>\n",
              "      <td>179.0</td>\n",
              "      <td>yes</td>\n",
              "      <td>no</td>\n",
              "      <td>cellular</td>\n",
              "      <td>18</td>\n",
              "      <td>may</td>\n",
              "      <td>63.0</td>\n",
              "      <td>2.0</td>\n",
              "      <td>NaN</td>\n",
              "      <td>0</td>\n",
              "      <td>unknown</td>\n",
              "    </tr>\n",
              "    <tr>\n",
              "      <th>2</th>\n",
              "      <td>id_44504</td>\n",
              "      <td>46.0</td>\n",
              "      <td>technician</td>\n",
              "      <td>divorced</td>\n",
              "      <td>secondary</td>\n",
              "      <td>no</td>\n",
              "      <td>143.0</td>\n",
              "      <td>no</td>\n",
              "      <td>no</td>\n",
              "      <td>cellular</td>\n",
              "      <td>8</td>\n",
              "      <td>jul</td>\n",
              "      <td>208.0</td>\n",
              "      <td>1.0</td>\n",
              "      <td>NaN</td>\n",
              "      <td>0</td>\n",
              "      <td>unknown</td>\n",
              "    </tr>\n",
              "    <tr>\n",
              "      <th>3</th>\n",
              "      <td>id_174</td>\n",
              "      <td>56.0</td>\n",
              "      <td>housemaid</td>\n",
              "      <td>single</td>\n",
              "      <td>unknown</td>\n",
              "      <td>no</td>\n",
              "      <td>6023.0</td>\n",
              "      <td>no</td>\n",
              "      <td>no</td>\n",
              "      <td>unknown</td>\n",
              "      <td>6</td>\n",
              "      <td>jun</td>\n",
              "      <td>34.0</td>\n",
              "      <td>1.0</td>\n",
              "      <td>NaN</td>\n",
              "      <td>0</td>\n",
              "      <td>unknown</td>\n",
              "    </tr>\n",
              "    <tr>\n",
              "      <th>4</th>\n",
              "      <td>id_2115</td>\n",
              "      <td>62.0</td>\n",
              "      <td>retired</td>\n",
              "      <td>married</td>\n",
              "      <td>secondary</td>\n",
              "      <td>no</td>\n",
              "      <td>2913.0</td>\n",
              "      <td>no</td>\n",
              "      <td>no</td>\n",
              "      <td>cellular</td>\n",
              "      <td>12</td>\n",
              "      <td>apr</td>\n",
              "      <td>127.0</td>\n",
              "      <td>1.0</td>\n",
              "      <td>188.0</td>\n",
              "      <td>1</td>\n",
              "      <td>success</td>\n",
              "    </tr>\n",
              "    <tr>\n",
              "      <th>...</th>\n",
              "      <td>...</td>\n",
              "      <td>...</td>\n",
              "      <td>...</td>\n",
              "      <td>...</td>\n",
              "      <td>...</td>\n",
              "      <td>...</td>\n",
              "      <td>...</td>\n",
              "      <td>...</td>\n",
              "      <td>...</td>\n",
              "      <td>...</td>\n",
              "      <td>...</td>\n",
              "      <td>...</td>\n",
              "      <td>...</td>\n",
              "      <td>...</td>\n",
              "      <td>...</td>\n",
              "      <td>...</td>\n",
              "      <td>...</td>\n",
              "    </tr>\n",
              "    <tr>\n",
              "      <th>13559</th>\n",
              "      <td>id_42406</td>\n",
              "      <td>29.0</td>\n",
              "      <td>management</td>\n",
              "      <td>single</td>\n",
              "      <td>tertiary</td>\n",
              "      <td>no</td>\n",
              "      <td>717.0</td>\n",
              "      <td>yes</td>\n",
              "      <td>no</td>\n",
              "      <td>cellular</td>\n",
              "      <td>15</td>\n",
              "      <td>jun</td>\n",
              "      <td>94.0</td>\n",
              "      <td>1.0</td>\n",
              "      <td>NaN</td>\n",
              "      <td>0</td>\n",
              "      <td>unknown</td>\n",
              "    </tr>\n",
              "    <tr>\n",
              "      <th>13560</th>\n",
              "      <td>id_14483</td>\n",
              "      <td>NaN</td>\n",
              "      <td>blue-collar</td>\n",
              "      <td>married</td>\n",
              "      <td>secondary</td>\n",
              "      <td>no</td>\n",
              "      <td>604.0</td>\n",
              "      <td>yes</td>\n",
              "      <td>no</td>\n",
              "      <td>telephone</td>\n",
              "      <td>10</td>\n",
              "      <td>jul</td>\n",
              "      <td>155.0</td>\n",
              "      <td>1.0</td>\n",
              "      <td>NaN</td>\n",
              "      <td>0</td>\n",
              "      <td>unknown</td>\n",
              "    </tr>\n",
              "    <tr>\n",
              "      <th>13561</th>\n",
              "      <td>id_43066</td>\n",
              "      <td>45.0</td>\n",
              "      <td>blue-collar</td>\n",
              "      <td>married</td>\n",
              "      <td>primary</td>\n",
              "      <td>no</td>\n",
              "      <td>237.0</td>\n",
              "      <td>yes</td>\n",
              "      <td>no</td>\n",
              "      <td>unknown</td>\n",
              "      <td>16</td>\n",
              "      <td>may</td>\n",
              "      <td>231.0</td>\n",
              "      <td>4.0</td>\n",
              "      <td>NaN</td>\n",
              "      <td>0</td>\n",
              "      <td>unknown</td>\n",
              "    </tr>\n",
              "    <tr>\n",
              "      <th>13562</th>\n",
              "      <td>id_18375</td>\n",
              "      <td>52.0</td>\n",
              "      <td>admin.</td>\n",
              "      <td>married</td>\n",
              "      <td>primary</td>\n",
              "      <td>no</td>\n",
              "      <td>241.0</td>\n",
              "      <td>yes</td>\n",
              "      <td>no</td>\n",
              "      <td>cellular</td>\n",
              "      <td>13</td>\n",
              "      <td>may</td>\n",
              "      <td>243.0</td>\n",
              "      <td>2.0</td>\n",
              "      <td>299.0</td>\n",
              "      <td>5</td>\n",
              "      <td>failure</td>\n",
              "    </tr>\n",
              "    <tr>\n",
              "      <th>13563</th>\n",
              "      <td>id_12898</td>\n",
              "      <td>51.0</td>\n",
              "      <td>technician</td>\n",
              "      <td>married</td>\n",
              "      <td>unknown</td>\n",
              "      <td>no</td>\n",
              "      <td>368.0</td>\n",
              "      <td>yes</td>\n",
              "      <td>no</td>\n",
              "      <td>cellular</td>\n",
              "      <td>15</td>\n",
              "      <td>jul</td>\n",
              "      <td>102.0</td>\n",
              "      <td>2.0</td>\n",
              "      <td>NaN</td>\n",
              "      <td>0</td>\n",
              "      <td>unknown</td>\n",
              "    </tr>\n",
              "  </tbody>\n",
              "</table>\n",
              "<p>13564 rows × 17 columns</p>\n",
              "</div>\n",
              "      <button class=\"colab-df-convert\" onclick=\"convertToInteractive('df-d8d6e66a-b6ba-42cb-94cf-4026f5c1590d')\"\n",
              "              title=\"Convert this dataframe to an interactive table.\"\n",
              "              style=\"display:none;\">\n",
              "        \n",
              "  <svg xmlns=\"http://www.w3.org/2000/svg\" height=\"24px\"viewBox=\"0 0 24 24\"\n",
              "       width=\"24px\">\n",
              "    <path d=\"M0 0h24v24H0V0z\" fill=\"none\"/>\n",
              "    <path d=\"M18.56 5.44l.94 2.06.94-2.06 2.06-.94-2.06-.94-.94-2.06-.94 2.06-2.06.94zm-11 1L8.5 8.5l.94-2.06 2.06-.94-2.06-.94L8.5 2.5l-.94 2.06-2.06.94zm10 10l.94 2.06.94-2.06 2.06-.94-2.06-.94-.94-2.06-.94 2.06-2.06.94z\"/><path d=\"M17.41 7.96l-1.37-1.37c-.4-.4-.92-.59-1.43-.59-.52 0-1.04.2-1.43.59L10.3 9.45l-7.72 7.72c-.78.78-.78 2.05 0 2.83L4 21.41c.39.39.9.59 1.41.59.51 0 1.02-.2 1.41-.59l7.78-7.78 2.81-2.81c.8-.78.8-2.07 0-2.86zM5.41 20L4 18.59l7.72-7.72 1.47 1.35L5.41 20z\"/>\n",
              "  </svg>\n",
              "      </button>\n",
              "      \n",
              "  <style>\n",
              "    .colab-df-container {\n",
              "      display:flex;\n",
              "      flex-wrap:wrap;\n",
              "      gap: 12px;\n",
              "    }\n",
              "\n",
              "    .colab-df-convert {\n",
              "      background-color: #E8F0FE;\n",
              "      border: none;\n",
              "      border-radius: 50%;\n",
              "      cursor: pointer;\n",
              "      display: none;\n",
              "      fill: #1967D2;\n",
              "      height: 32px;\n",
              "      padding: 0 0 0 0;\n",
              "      width: 32px;\n",
              "    }\n",
              "\n",
              "    .colab-df-convert:hover {\n",
              "      background-color: #E2EBFA;\n",
              "      box-shadow: 0px 1px 2px rgba(60, 64, 67, 0.3), 0px 1px 3px 1px rgba(60, 64, 67, 0.15);\n",
              "      fill: #174EA6;\n",
              "    }\n",
              "\n",
              "    [theme=dark] .colab-df-convert {\n",
              "      background-color: #3B4455;\n",
              "      fill: #D2E3FC;\n",
              "    }\n",
              "\n",
              "    [theme=dark] .colab-df-convert:hover {\n",
              "      background-color: #434B5C;\n",
              "      box-shadow: 0px 1px 3px 1px rgba(0, 0, 0, 0.15);\n",
              "      filter: drop-shadow(0px 1px 2px rgba(0, 0, 0, 0.3));\n",
              "      fill: #FFFFFF;\n",
              "    }\n",
              "  </style>\n",
              "\n",
              "      <script>\n",
              "        const buttonEl =\n",
              "          document.querySelector('#df-d8d6e66a-b6ba-42cb-94cf-4026f5c1590d button.colab-df-convert');\n",
              "        buttonEl.style.display =\n",
              "          google.colab.kernel.accessAllowed ? 'block' : 'none';\n",
              "\n",
              "        async function convertToInteractive(key) {\n",
              "          const element = document.querySelector('#df-d8d6e66a-b6ba-42cb-94cf-4026f5c1590d');\n",
              "          const dataTable =\n",
              "            await google.colab.kernel.invokeFunction('convertToInteractive',\n",
              "                                                     [key], {});\n",
              "          if (!dataTable) return;\n",
              "\n",
              "          const docLinkHtml = 'Like what you see? Visit the ' +\n",
              "            '<a target=\"_blank\" href=https://colab.research.google.com/notebooks/data_table.ipynb>data table notebook</a>'\n",
              "            + ' to learn more about interactive tables.';\n",
              "          element.innerHTML = '';\n",
              "          dataTable['output_type'] = 'display_data';\n",
              "          await google.colab.output.renderOutput(dataTable, element);\n",
              "          const docLink = document.createElement('div');\n",
              "          docLink.innerHTML = docLinkHtml;\n",
              "          element.appendChild(docLink);\n",
              "        }\n",
              "      </script>\n",
              "    </div>\n",
              "  </div>\n",
              "  "
            ]
          },
          "metadata": {},
          "execution_count": 4
        }
      ],
      "source": [
        "path2 = '/content/drive/MyDrive/ML MINI PROJECT/Test.xlsx'\n",
        "test_data = pd.read_excel(path2)\n",
        "test_data"
      ]
    },
    {
      "cell_type": "code",
      "execution_count": null,
      "metadata": {
        "colab": {
          "base_uri": "https://localhost:8080/"
        },
        "id": "LdupcQ9fyi3Z",
        "outputId": "e50f443d-fcf9-4f79-e8ec-391e21c578b0"
      },
      "outputs": [
        {
          "output_type": "stream",
          "name": "stdout",
          "text": [
            "<class 'pandas.core.frame.DataFrame'>\n",
            "RangeIndex: 13564 entries, 0 to 13563\n",
            "Data columns (total 17 columns):\n",
            " #   Column                            Non-Null Count  Dtype  \n",
            "---  ------                            --------------  -----  \n",
            " 0   id                                13564 non-null  object \n",
            " 1   customer_age                      13294 non-null  float64\n",
            " 2   job_type                          13564 non-null  object \n",
            " 3   marital                           13483 non-null  object \n",
            " 4   education                         13564 non-null  object \n",
            " 5   default                           13564 non-null  object \n",
            " 6   balance                           13383 non-null  float64\n",
            " 7   housing_loan                      13564 non-null  object \n",
            " 8   personal_loan                     13490 non-null  object \n",
            " 9   communication_type                13564 non-null  object \n",
            " 10  day_of_month                      13564 non-null  int64  \n",
            " 11  month                             13564 non-null  object \n",
            " 12  last_contact_duration             13442 non-null  float64\n",
            " 13  num_contacts_in_campaign          13519 non-null  float64\n",
            " 14  days_since_prev_campaign_contact  2441 non-null   float64\n",
            " 15  num_contacts_prev_campaign        13564 non-null  int64  \n",
            " 16  prev_campaign_outcome             13564 non-null  object \n",
            "dtypes: float64(5), int64(2), object(10)\n",
            "memory usage: 1.8+ MB\n"
          ]
        }
      ],
      "source": [
        "test_data.info()"
      ]
    },
    {
      "cell_type": "markdown",
      "metadata": {
        "id": "LVeypDSN7KMv"
      },
      "source": [
        "## **PREPROCESSING**"
      ]
    },
    {
      "cell_type": "markdown",
      "metadata": {
        "id": "vYHsdXxwvEbw"
      },
      "source": [
        "### **HANDLING DUPLICATE VALUES**"
      ]
    },
    {
      "cell_type": "code",
      "execution_count": null,
      "metadata": {
        "colab": {
          "base_uri": "https://localhost:8080/"
        },
        "id": "FE3Ss13MvZlv",
        "outputId": "1aacbd6e-9f55-4e75-a253-fb4b22417354"
      },
      "outputs": [
        {
          "output_type": "stream",
          "name": "stdout",
          "text": [
            "DUPLICATE ROWS IN TRAINING DATASET: (0, 18)\n"
          ]
        }
      ],
      "source": [
        "duplicate = train_data[train_data.duplicated(keep='first')]\n",
        "print(\"DUPLICATE ROWS IN TRAINING DATASET:\",duplicate.shape)"
      ]
    },
    {
      "cell_type": "code",
      "execution_count": null,
      "metadata": {
        "colab": {
          "base_uri": "https://localhost:8080/"
        },
        "id": "RSGqIp3XwViG",
        "outputId": "cacba2e5-85dd-4798-b953-3c561b7aa532"
      },
      "outputs": [
        {
          "output_type": "stream",
          "name": "stdout",
          "text": [
            "DUPLICATE ROWS IN TESTING DATASET: (0, 17)\n"
          ]
        }
      ],
      "source": [
        "duplicate = test_data[test_data.duplicated(keep='first')]\n",
        "print(\"DUPLICATE ROWS IN TESTING DATASET:\",duplicate.shape)"
      ]
    },
    {
      "cell_type": "markdown",
      "metadata": {
        "id": "SugQp9f1wxJi"
      },
      "source": [
        "THUS, THERE ARE NO DUPLICATE VALUES IN BOTH DATASETS"
      ]
    },
    {
      "cell_type": "markdown",
      "metadata": {
        "id": "bLYnLd_lzxsZ"
      },
      "source": [
        "### **HANDLING NULL VALUES IN TRAINING DATA**"
      ]
    },
    {
      "cell_type": "code",
      "execution_count": null,
      "metadata": {
        "colab": {
          "base_uri": "https://localhost:8080/"
        },
        "id": "mCUPNoshzxsZ",
        "outputId": "c36bec90-c6c3-46bf-f41c-8474671f7003"
      },
      "outputs": [
        {
          "output_type": "execute_result",
          "data": {
            "text/plain": [
              "id                                      0\n",
              "customer_age                          619\n",
              "job_type                                0\n",
              "marital                               150\n",
              "education                               0\n",
              "default                                 0\n",
              "balance                               399\n",
              "housing_loan                            0\n",
              "personal_loan                         149\n",
              "communication_type                      0\n",
              "day_of_month                            0\n",
              "month                                   0\n",
              "last_contact_duration                 311\n",
              "num_contacts_in_campaign              112\n",
              "days_since_prev_campaign_contact    25831\n",
              "num_contacts_prev_campaign              0\n",
              "prev_campaign_outcome                   0\n",
              "term_deposit_subscribed                 0\n",
              "dtype: int64"
            ]
          },
          "metadata": {},
          "execution_count": 8
        }
      ],
      "source": [
        "# GETTING THE NULL VALUES\n",
        "train_data.isnull().sum()"
      ]
    },
    {
      "cell_type": "markdown",
      "metadata": {
        "id": "ziMaw8XSzxsa"
      },
      "source": [
        "AS WE CAN SEE, **days_since_prev_campaign_contact** COLUMN HAS 80% NULL VALUE. \n",
        "\n",
        "THUS, WE ARE DROPPING THIS COLUMN"
      ]
    },
    {
      "cell_type": "markdown",
      "metadata": {
        "id": "t621zF6wzxsa"
      },
      "source": [
        "SINCE OUR DATA SAMPLE ARE INDEPENDENT AND IDENTICALLY DISTRIBUTED (IID), THUS WE REMOVE THE **id** COLUMN, GIVEN THAT ALL SAMPLES COME FROM OR REFER TO THE SAME SOURCE/OBJECT AND THEY DON'T SOMEHOW IDENTIFY THE SAMPLE CLASS."
      ]
    },
    {
      "cell_type": "code",
      "execution_count": null,
      "metadata": {
        "colab": {
          "base_uri": "https://localhost:8080/",
          "height": 487
        },
        "id": "jd4uIL3nzxsa",
        "outputId": "b5e59999-8e2e-4ef3-c3f5-da56715c5592"
      },
      "outputs": [
        {
          "output_type": "execute_result",
          "data": {
            "text/plain": [
              "       customer_age     job_type  marital  education default  balance  \\\n",
              "0              28.0   management   single   tertiary      no    285.0   \n",
              "1              34.0  blue-collar  married  secondary      no    934.0   \n",
              "2              46.0   technician  married  secondary      no    656.0   \n",
              "3              34.0     services   single  secondary      no      2.0   \n",
              "4              41.0  blue-collar  married    primary      no   1352.0   \n",
              "...             ...          ...      ...        ...     ...      ...   \n",
              "31642          58.0       admin.  married  secondary      no    567.0   \n",
              "31643          51.0   management  married   tertiary      no   1072.0   \n",
              "31644          41.0   unemployed  married    primary      no    242.0   \n",
              "31645          48.0     services  married  secondary      no   2699.0   \n",
              "31646          38.0   technician   single   tertiary      no   1045.0   \n",
              "\n",
              "      housing_loan personal_loan communication_type  day_of_month month  \\\n",
              "0              yes            no            unknown            26   jun   \n",
              "1               no           yes           cellular            18   nov   \n",
              "2               no            no           cellular             5   feb   \n",
              "3              yes            no            unknown            20   may   \n",
              "4              yes            no           cellular            13   may   \n",
              "...            ...           ...                ...           ...   ...   \n",
              "31642          yes            no           cellular             2   feb   \n",
              "31643           no            no            unknown            20   jun   \n",
              "31644          yes            no            unknown            23   may   \n",
              "31645           no            no           cellular            11   aug   \n",
              "31646           no            no           cellular            18   aug   \n",
              "\n",
              "       last_contact_duration  num_contacts_in_campaign  \\\n",
              "0                      303.0                       4.0   \n",
              "1                      143.0                       2.0   \n",
              "2                      101.0                       4.0   \n",
              "3                      127.0                       3.0   \n",
              "4                       49.0                       2.0   \n",
              "...                      ...                       ...   \n",
              "31642                   99.0                       2.0   \n",
              "31643                   31.0                       7.0   \n",
              "31644                   89.0                       2.0   \n",
              "31645                  216.0                       6.0   \n",
              "31646                  183.0                      10.0   \n",
              "\n",
              "       num_contacts_prev_campaign prev_campaign_outcome  \\\n",
              "0                               0               unknown   \n",
              "1                               1                 other   \n",
              "2                               0               unknown   \n",
              "3                               0               unknown   \n",
              "4                               0               unknown   \n",
              "...                           ...                   ...   \n",
              "31642                           3                 other   \n",
              "31643                           0               unknown   \n",
              "31644                           0               unknown   \n",
              "31645                           0               unknown   \n",
              "31646                           0               unknown   \n",
              "\n",
              "       term_deposit_subscribed  \n",
              "0                            0  \n",
              "1                            0  \n",
              "2                            0  \n",
              "3                            0  \n",
              "4                            0  \n",
              "...                        ...  \n",
              "31642                        0  \n",
              "31643                        0  \n",
              "31644                        0  \n",
              "31645                        0  \n",
              "31646                        0  \n",
              "\n",
              "[31647 rows x 16 columns]"
            ],
            "text/html": [
              "\n",
              "  <div id=\"df-544ef6c6-1180-453b-8767-2228d0c6e512\">\n",
              "    <div class=\"colab-df-container\">\n",
              "      <div>\n",
              "<style scoped>\n",
              "    .dataframe tbody tr th:only-of-type {\n",
              "        vertical-align: middle;\n",
              "    }\n",
              "\n",
              "    .dataframe tbody tr th {\n",
              "        vertical-align: top;\n",
              "    }\n",
              "\n",
              "    .dataframe thead th {\n",
              "        text-align: right;\n",
              "    }\n",
              "</style>\n",
              "<table border=\"1\" class=\"dataframe\">\n",
              "  <thead>\n",
              "    <tr style=\"text-align: right;\">\n",
              "      <th></th>\n",
              "      <th>customer_age</th>\n",
              "      <th>job_type</th>\n",
              "      <th>marital</th>\n",
              "      <th>education</th>\n",
              "      <th>default</th>\n",
              "      <th>balance</th>\n",
              "      <th>housing_loan</th>\n",
              "      <th>personal_loan</th>\n",
              "      <th>communication_type</th>\n",
              "      <th>day_of_month</th>\n",
              "      <th>month</th>\n",
              "      <th>last_contact_duration</th>\n",
              "      <th>num_contacts_in_campaign</th>\n",
              "      <th>num_contacts_prev_campaign</th>\n",
              "      <th>prev_campaign_outcome</th>\n",
              "      <th>term_deposit_subscribed</th>\n",
              "    </tr>\n",
              "  </thead>\n",
              "  <tbody>\n",
              "    <tr>\n",
              "      <th>0</th>\n",
              "      <td>28.0</td>\n",
              "      <td>management</td>\n",
              "      <td>single</td>\n",
              "      <td>tertiary</td>\n",
              "      <td>no</td>\n",
              "      <td>285.0</td>\n",
              "      <td>yes</td>\n",
              "      <td>no</td>\n",
              "      <td>unknown</td>\n",
              "      <td>26</td>\n",
              "      <td>jun</td>\n",
              "      <td>303.0</td>\n",
              "      <td>4.0</td>\n",
              "      <td>0</td>\n",
              "      <td>unknown</td>\n",
              "      <td>0</td>\n",
              "    </tr>\n",
              "    <tr>\n",
              "      <th>1</th>\n",
              "      <td>34.0</td>\n",
              "      <td>blue-collar</td>\n",
              "      <td>married</td>\n",
              "      <td>secondary</td>\n",
              "      <td>no</td>\n",
              "      <td>934.0</td>\n",
              "      <td>no</td>\n",
              "      <td>yes</td>\n",
              "      <td>cellular</td>\n",
              "      <td>18</td>\n",
              "      <td>nov</td>\n",
              "      <td>143.0</td>\n",
              "      <td>2.0</td>\n",
              "      <td>1</td>\n",
              "      <td>other</td>\n",
              "      <td>0</td>\n",
              "    </tr>\n",
              "    <tr>\n",
              "      <th>2</th>\n",
              "      <td>46.0</td>\n",
              "      <td>technician</td>\n",
              "      <td>married</td>\n",
              "      <td>secondary</td>\n",
              "      <td>no</td>\n",
              "      <td>656.0</td>\n",
              "      <td>no</td>\n",
              "      <td>no</td>\n",
              "      <td>cellular</td>\n",
              "      <td>5</td>\n",
              "      <td>feb</td>\n",
              "      <td>101.0</td>\n",
              "      <td>4.0</td>\n",
              "      <td>0</td>\n",
              "      <td>unknown</td>\n",
              "      <td>0</td>\n",
              "    </tr>\n",
              "    <tr>\n",
              "      <th>3</th>\n",
              "      <td>34.0</td>\n",
              "      <td>services</td>\n",
              "      <td>single</td>\n",
              "      <td>secondary</td>\n",
              "      <td>no</td>\n",
              "      <td>2.0</td>\n",
              "      <td>yes</td>\n",
              "      <td>no</td>\n",
              "      <td>unknown</td>\n",
              "      <td>20</td>\n",
              "      <td>may</td>\n",
              "      <td>127.0</td>\n",
              "      <td>3.0</td>\n",
              "      <td>0</td>\n",
              "      <td>unknown</td>\n",
              "      <td>0</td>\n",
              "    </tr>\n",
              "    <tr>\n",
              "      <th>4</th>\n",
              "      <td>41.0</td>\n",
              "      <td>blue-collar</td>\n",
              "      <td>married</td>\n",
              "      <td>primary</td>\n",
              "      <td>no</td>\n",
              "      <td>1352.0</td>\n",
              "      <td>yes</td>\n",
              "      <td>no</td>\n",
              "      <td>cellular</td>\n",
              "      <td>13</td>\n",
              "      <td>may</td>\n",
              "      <td>49.0</td>\n",
              "      <td>2.0</td>\n",
              "      <td>0</td>\n",
              "      <td>unknown</td>\n",
              "      <td>0</td>\n",
              "    </tr>\n",
              "    <tr>\n",
              "      <th>...</th>\n",
              "      <td>...</td>\n",
              "      <td>...</td>\n",
              "      <td>...</td>\n",
              "      <td>...</td>\n",
              "      <td>...</td>\n",
              "      <td>...</td>\n",
              "      <td>...</td>\n",
              "      <td>...</td>\n",
              "      <td>...</td>\n",
              "      <td>...</td>\n",
              "      <td>...</td>\n",
              "      <td>...</td>\n",
              "      <td>...</td>\n",
              "      <td>...</td>\n",
              "      <td>...</td>\n",
              "      <td>...</td>\n",
              "    </tr>\n",
              "    <tr>\n",
              "      <th>31642</th>\n",
              "      <td>58.0</td>\n",
              "      <td>admin.</td>\n",
              "      <td>married</td>\n",
              "      <td>secondary</td>\n",
              "      <td>no</td>\n",
              "      <td>567.0</td>\n",
              "      <td>yes</td>\n",
              "      <td>no</td>\n",
              "      <td>cellular</td>\n",
              "      <td>2</td>\n",
              "      <td>feb</td>\n",
              "      <td>99.0</td>\n",
              "      <td>2.0</td>\n",
              "      <td>3</td>\n",
              "      <td>other</td>\n",
              "      <td>0</td>\n",
              "    </tr>\n",
              "    <tr>\n",
              "      <th>31643</th>\n",
              "      <td>51.0</td>\n",
              "      <td>management</td>\n",
              "      <td>married</td>\n",
              "      <td>tertiary</td>\n",
              "      <td>no</td>\n",
              "      <td>1072.0</td>\n",
              "      <td>no</td>\n",
              "      <td>no</td>\n",
              "      <td>unknown</td>\n",
              "      <td>20</td>\n",
              "      <td>jun</td>\n",
              "      <td>31.0</td>\n",
              "      <td>7.0</td>\n",
              "      <td>0</td>\n",
              "      <td>unknown</td>\n",
              "      <td>0</td>\n",
              "    </tr>\n",
              "    <tr>\n",
              "      <th>31644</th>\n",
              "      <td>41.0</td>\n",
              "      <td>unemployed</td>\n",
              "      <td>married</td>\n",
              "      <td>primary</td>\n",
              "      <td>no</td>\n",
              "      <td>242.0</td>\n",
              "      <td>yes</td>\n",
              "      <td>no</td>\n",
              "      <td>unknown</td>\n",
              "      <td>23</td>\n",
              "      <td>may</td>\n",
              "      <td>89.0</td>\n",
              "      <td>2.0</td>\n",
              "      <td>0</td>\n",
              "      <td>unknown</td>\n",
              "      <td>0</td>\n",
              "    </tr>\n",
              "    <tr>\n",
              "      <th>31645</th>\n",
              "      <td>48.0</td>\n",
              "      <td>services</td>\n",
              "      <td>married</td>\n",
              "      <td>secondary</td>\n",
              "      <td>no</td>\n",
              "      <td>2699.0</td>\n",
              "      <td>no</td>\n",
              "      <td>no</td>\n",
              "      <td>cellular</td>\n",
              "      <td>11</td>\n",
              "      <td>aug</td>\n",
              "      <td>216.0</td>\n",
              "      <td>6.0</td>\n",
              "      <td>0</td>\n",
              "      <td>unknown</td>\n",
              "      <td>0</td>\n",
              "    </tr>\n",
              "    <tr>\n",
              "      <th>31646</th>\n",
              "      <td>38.0</td>\n",
              "      <td>technician</td>\n",
              "      <td>single</td>\n",
              "      <td>tertiary</td>\n",
              "      <td>no</td>\n",
              "      <td>1045.0</td>\n",
              "      <td>no</td>\n",
              "      <td>no</td>\n",
              "      <td>cellular</td>\n",
              "      <td>18</td>\n",
              "      <td>aug</td>\n",
              "      <td>183.0</td>\n",
              "      <td>10.0</td>\n",
              "      <td>0</td>\n",
              "      <td>unknown</td>\n",
              "      <td>0</td>\n",
              "    </tr>\n",
              "  </tbody>\n",
              "</table>\n",
              "<p>31647 rows × 16 columns</p>\n",
              "</div>\n",
              "      <button class=\"colab-df-convert\" onclick=\"convertToInteractive('df-544ef6c6-1180-453b-8767-2228d0c6e512')\"\n",
              "              title=\"Convert this dataframe to an interactive table.\"\n",
              "              style=\"display:none;\">\n",
              "        \n",
              "  <svg xmlns=\"http://www.w3.org/2000/svg\" height=\"24px\"viewBox=\"0 0 24 24\"\n",
              "       width=\"24px\">\n",
              "    <path d=\"M0 0h24v24H0V0z\" fill=\"none\"/>\n",
              "    <path d=\"M18.56 5.44l.94 2.06.94-2.06 2.06-.94-2.06-.94-.94-2.06-.94 2.06-2.06.94zm-11 1L8.5 8.5l.94-2.06 2.06-.94-2.06-.94L8.5 2.5l-.94 2.06-2.06.94zm10 10l.94 2.06.94-2.06 2.06-.94-2.06-.94-.94-2.06-.94 2.06-2.06.94z\"/><path d=\"M17.41 7.96l-1.37-1.37c-.4-.4-.92-.59-1.43-.59-.52 0-1.04.2-1.43.59L10.3 9.45l-7.72 7.72c-.78.78-.78 2.05 0 2.83L4 21.41c.39.39.9.59 1.41.59.51 0 1.02-.2 1.41-.59l7.78-7.78 2.81-2.81c.8-.78.8-2.07 0-2.86zM5.41 20L4 18.59l7.72-7.72 1.47 1.35L5.41 20z\"/>\n",
              "  </svg>\n",
              "      </button>\n",
              "      \n",
              "  <style>\n",
              "    .colab-df-container {\n",
              "      display:flex;\n",
              "      flex-wrap:wrap;\n",
              "      gap: 12px;\n",
              "    }\n",
              "\n",
              "    .colab-df-convert {\n",
              "      background-color: #E8F0FE;\n",
              "      border: none;\n",
              "      border-radius: 50%;\n",
              "      cursor: pointer;\n",
              "      display: none;\n",
              "      fill: #1967D2;\n",
              "      height: 32px;\n",
              "      padding: 0 0 0 0;\n",
              "      width: 32px;\n",
              "    }\n",
              "\n",
              "    .colab-df-convert:hover {\n",
              "      background-color: #E2EBFA;\n",
              "      box-shadow: 0px 1px 2px rgba(60, 64, 67, 0.3), 0px 1px 3px 1px rgba(60, 64, 67, 0.15);\n",
              "      fill: #174EA6;\n",
              "    }\n",
              "\n",
              "    [theme=dark] .colab-df-convert {\n",
              "      background-color: #3B4455;\n",
              "      fill: #D2E3FC;\n",
              "    }\n",
              "\n",
              "    [theme=dark] .colab-df-convert:hover {\n",
              "      background-color: #434B5C;\n",
              "      box-shadow: 0px 1px 3px 1px rgba(0, 0, 0, 0.15);\n",
              "      filter: drop-shadow(0px 1px 2px rgba(0, 0, 0, 0.3));\n",
              "      fill: #FFFFFF;\n",
              "    }\n",
              "  </style>\n",
              "\n",
              "      <script>\n",
              "        const buttonEl =\n",
              "          document.querySelector('#df-544ef6c6-1180-453b-8767-2228d0c6e512 button.colab-df-convert');\n",
              "        buttonEl.style.display =\n",
              "          google.colab.kernel.accessAllowed ? 'block' : 'none';\n",
              "\n",
              "        async function convertToInteractive(key) {\n",
              "          const element = document.querySelector('#df-544ef6c6-1180-453b-8767-2228d0c6e512');\n",
              "          const dataTable =\n",
              "            await google.colab.kernel.invokeFunction('convertToInteractive',\n",
              "                                                     [key], {});\n",
              "          if (!dataTable) return;\n",
              "\n",
              "          const docLinkHtml = 'Like what you see? Visit the ' +\n",
              "            '<a target=\"_blank\" href=https://colab.research.google.com/notebooks/data_table.ipynb>data table notebook</a>'\n",
              "            + ' to learn more about interactive tables.';\n",
              "          element.innerHTML = '';\n",
              "          dataTable['output_type'] = 'display_data';\n",
              "          await google.colab.output.renderOutput(dataTable, element);\n",
              "          const docLink = document.createElement('div');\n",
              "          docLink.innerHTML = docLinkHtml;\n",
              "          element.appendChild(docLink);\n",
              "        }\n",
              "      </script>\n",
              "    </div>\n",
              "  </div>\n",
              "  "
            ]
          },
          "metadata": {},
          "execution_count": 9
        }
      ],
      "source": [
        "# DROPPING COLUMN\n",
        "train_data.drop(['days_since_prev_campaign_contact'], axis=1, inplace=True)\n",
        "\n",
        "# DROPPING THE id COLUMN\n",
        "train_data.drop(['id'], axis=1, inplace=True)\n",
        "train_data"
      ]
    },
    {
      "cell_type": "code",
      "execution_count": null,
      "metadata": {
        "colab": {
          "base_uri": "https://localhost:8080/"
        },
        "id": "h0DDQsiazxsa",
        "outputId": "e14e9e25-ce34-44c4-c647-f2a8831479ed"
      },
      "outputs": [
        {
          "output_type": "execute_result",
          "data": {
            "text/plain": [
              "customer_age                  619\n",
              "job_type                        0\n",
              "marital                       150\n",
              "education                       0\n",
              "default                         0\n",
              "balance                       399\n",
              "housing_loan                    0\n",
              "personal_loan                 149\n",
              "communication_type              0\n",
              "day_of_month                    0\n",
              "month                           0\n",
              "last_contact_duration         311\n",
              "num_contacts_in_campaign      112\n",
              "num_contacts_prev_campaign      0\n",
              "prev_campaign_outcome           0\n",
              "term_deposit_subscribed         0\n",
              "dtype: int64"
            ]
          },
          "metadata": {},
          "execution_count": 10
        }
      ],
      "source": [
        "# GETTING NULL VALUES\n",
        "train_data.isnull().sum()"
      ]
    },
    {
      "cell_type": "markdown",
      "metadata": {
        "id": "C1JcX8F9zxsa"
      },
      "source": [
        "#### **FILLING NULL VALUES WITH MODE IN COLUMNS WITH TYPE OBJECT**"
      ]
    },
    {
      "cell_type": "code",
      "execution_count": null,
      "metadata": {
        "colab": {
          "base_uri": "https://localhost:8080/"
        },
        "id": "udgCPutXzxsa",
        "outputId": "7ee1abb5-9eb2-4245-cefa-2fe677304db0"
      },
      "outputs": [
        {
          "output_type": "execute_result",
          "data": {
            "text/plain": [
              "job_type                   0\n",
              "marital                  150\n",
              "education                  0\n",
              "default                    0\n",
              "housing_loan               0\n",
              "personal_loan            149\n",
              "communication_type         0\n",
              "month                      0\n",
              "prev_campaign_outcome      0\n",
              "dtype: int64"
            ]
          },
          "metadata": {},
          "execution_count": 11
        }
      ],
      "source": [
        "obj = train_data.select_dtypes(include='object')\n",
        "obj.isna().sum()"
      ]
    },
    {
      "cell_type": "markdown",
      "metadata": {
        "id": "lgcUlp7hzxsa"
      },
      "source": [
        "**marital AND personal_loan ARE dtype: object COLUMNS WITH NULL VALUES WHICH WILL BE FILLED BY MODE VALUE**"
      ]
    },
    {
      "cell_type": "code",
      "execution_count": null,
      "metadata": {
        "colab": {
          "base_uri": "https://localhost:8080/"
        },
        "id": "G5ySmyUVzxsb",
        "outputId": "97fe2239-16da-4683-c6ea-811a4bdd7b0f"
      },
      "outputs": [
        {
          "output_type": "execute_result",
          "data": {
            "text/plain": [
              "0    married\n",
              "dtype: object"
            ]
          },
          "metadata": {},
          "execution_count": 12
        }
      ],
      "source": [
        "# GETTING MODE VALUE OF MARITAL STATUS\n",
        "x = train_data['marital'].mode()\n",
        "x"
      ]
    },
    {
      "cell_type": "code",
      "execution_count": null,
      "metadata": {
        "id": "4Q9PVT4wzxsb"
      },
      "outputs": [],
      "source": [
        "# FILLING NULL VALUES WITH MODE IN marital\n",
        "train_data['marital'].fillna(x[0], inplace=True)"
      ]
    },
    {
      "cell_type": "code",
      "execution_count": null,
      "metadata": {
        "colab": {
          "base_uri": "https://localhost:8080/"
        },
        "id": "v0FQcl_dzxsb",
        "outputId": "e2e3ee9b-75b3-4b4f-86e8-86551b5a8719"
      },
      "outputs": [
        {
          "output_type": "execute_result",
          "data": {
            "text/plain": [
              "0    no\n",
              "dtype: object"
            ]
          },
          "metadata": {},
          "execution_count": 14
        }
      ],
      "source": [
        "# GETTING MODE VALUE OF personal_loan\n",
        "x = train_data['personal_loan'].mode()\n",
        "x"
      ]
    },
    {
      "cell_type": "code",
      "execution_count": null,
      "metadata": {
        "id": "D74LDbT3zxsb"
      },
      "outputs": [],
      "source": [
        "# FILLING NULL VALUES WITH MODE IN personal_loan\n",
        "train_data['personal_loan'].fillna(x[0], inplace=True)"
      ]
    },
    {
      "cell_type": "markdown",
      "metadata": {
        "id": "Cgwvi_uhzxsb"
      },
      "source": [
        "#### **FILLING NULL VALUES IN NUMERICAL COLUMNS**"
      ]
    },
    {
      "cell_type": "code",
      "execution_count": null,
      "metadata": {
        "colab": {
          "base_uri": "https://localhost:8080/"
        },
        "id": "BMw1FB0hzxsb",
        "outputId": "080c4c76-09e4-48dc-d055-d286c4944cc3"
      },
      "outputs": [
        {
          "output_type": "execute_result",
          "data": {
            "text/plain": [
              "customer_age                619\n",
              "balance                     399\n",
              "last_contact_duration       311\n",
              "num_contacts_in_campaign    112\n",
              "dtype: int64"
            ]
          },
          "metadata": {},
          "execution_count": 16
        }
      ],
      "source": [
        "float_cols = train_data.select_dtypes(include='float64')\n",
        "float_cols.isna().sum()"
      ]
    },
    {
      "cell_type": "markdown",
      "metadata": {
        "id": "xMfRdNP0zxsb"
      },
      "source": [
        "**CHECKING FOR OUTLIERS IN NUMERICAL COLUMNS USING BOXPLOT**"
      ]
    },
    {
      "cell_type": "code",
      "execution_count": null,
      "metadata": {
        "colab": {
          "base_uri": "https://localhost:8080/",
          "height": 554
        },
        "id": "iVq3jMVgzxsb",
        "outputId": "a3b6e18e-9447-4710-e820-6c4bd0893689"
      },
      "outputs": [
        {
          "output_type": "stream",
          "name": "stderr",
          "text": [
            "/usr/local/lib/python3.7/dist-packages/seaborn/_decorators.py:43: FutureWarning: Pass the following variable as a keyword arg: x. From version 0.12, the only valid positional argument will be `data`, and passing other arguments without an explicit keyword will result in an error or misinterpretation.\n",
            "  FutureWarning\n",
            "/usr/local/lib/python3.7/dist-packages/seaborn/_decorators.py:43: FutureWarning: Pass the following variable as a keyword arg: x. From version 0.12, the only valid positional argument will be `data`, and passing other arguments without an explicit keyword will result in an error or misinterpretation.\n",
            "  FutureWarning\n",
            "/usr/local/lib/python3.7/dist-packages/seaborn/_decorators.py:43: FutureWarning: Pass the following variable as a keyword arg: x. From version 0.12, the only valid positional argument will be `data`, and passing other arguments without an explicit keyword will result in an error or misinterpretation.\n",
            "  FutureWarning\n",
            "/usr/local/lib/python3.7/dist-packages/seaborn/_decorators.py:43: FutureWarning: Pass the following variable as a keyword arg: x. From version 0.12, the only valid positional argument will be `data`, and passing other arguments without an explicit keyword will result in an error or misinterpretation.\n",
            "  FutureWarning\n"
          ]
        },
        {
          "output_type": "execute_result",
          "data": {
            "text/plain": [
              "<matplotlib.axes._subplots.AxesSubplot at 0x7f493267b890>"
            ]
          },
          "metadata": {},
          "execution_count": 17
        },
        {
          "output_type": "display_data",
          "data": {
            "text/plain": [
              "<Figure size 2016x504 with 4 Axes>"
            ],
            "image/png": "[encoded data removed]"
          },
          "metadata": {
            "needs_background": "light"
          }
        }
      ],
      "source": [
        "fig, axes = plt.subplots(1, 4, figsize=(28, 7), sharey=True)\n",
        "sns.boxplot(train_data['customer_age'], ax=axes[0], color='r')\n",
        "sns.boxplot(train_data['balance'], ax=axes[1], color='b')\n",
        "sns.boxplot(train_data['num_contacts_prev_campaign'], ax=axes[2], color='y')\n",
        "sns.boxplot(train_data['last_contact_duration'], ax=axes[3], color='cyan')"
      ]
    },
    {
      "cell_type": "code",
      "execution_count": null,
      "metadata": {
        "colab": {
          "base_uri": "https://localhost:8080/"
        },
        "id": "dZR01k3DgIWI",
        "outputId": "3a8df3c1-6b63-45d4-b823-f81ee248a5e6"
      },
      "outputs": [
        {
          "output_type": "stream",
          "name": "stderr",
          "text": [
            "/usr/local/lib/python3.7/dist-packages/ipykernel_launcher.py:5: FutureWarning: Automatic reindexing on DataFrame vs Series comparisons is deprecated and will raise ValueError in a future version.  Do `left, right = left.align(right, axis=1, copy=False)` before e.g. `left == right`\n",
            "  \"\"\"\n"
          ]
        }
      ],
      "source": [
        "Q1 = train_data.quantile(0.10)\n",
        "Q3 = train_data.quantile(0.90)\n",
        "IQR = Q3 - Q1\n",
        "\n",
        "train_data = train_data[~((train_data < (Q1 - 1.5 * IQR)) |(train_data > (Q3 + 1.5 * IQR))).any(axis=1)]"
      ]
    },
    {
      "cell_type": "code",
      "execution_count": null,
      "metadata": {
        "colab": {
          "base_uri": "https://localhost:8080/",
          "height": 554
        },
        "id": "ux0YxRhVjLv9",
        "outputId": "137d3473-ab55-405b-d031-35dd3f1ccde9"
      },
      "outputs": [
        {
          "output_type": "stream",
          "name": "stderr",
          "text": [
            "/usr/local/lib/python3.7/dist-packages/seaborn/_decorators.py:43: FutureWarning: Pass the following variable as a keyword arg: x. From version 0.12, the only valid positional argument will be `data`, and passing other arguments without an explicit keyword will result in an error or misinterpretation.\n",
            "  FutureWarning\n",
            "/usr/local/lib/python3.7/dist-packages/seaborn/_decorators.py:43: FutureWarning: Pass the following variable as a keyword arg: x. From version 0.12, the only valid positional argument will be `data`, and passing other arguments without an explicit keyword will result in an error or misinterpretation.\n",
            "  FutureWarning\n",
            "/usr/local/lib/python3.7/dist-packages/seaborn/_decorators.py:43: FutureWarning: Pass the following variable as a keyword arg: x. From version 0.12, the only valid positional argument will be `data`, and passing other arguments without an explicit keyword will result in an error or misinterpretation.\n",
            "  FutureWarning\n",
            "/usr/local/lib/python3.7/dist-packages/seaborn/_decorators.py:43: FutureWarning: Pass the following variable as a keyword arg: x. From version 0.12, the only valid positional argument will be `data`, and passing other arguments without an explicit keyword will result in an error or misinterpretation.\n",
            "  FutureWarning\n"
          ]
        },
        {
          "output_type": "execute_result",
          "data": {
            "text/plain": [
              "<matplotlib.axes._subplots.AxesSubplot at 0x7f4932219950>"
            ]
          },
          "metadata": {},
          "execution_count": 19
        },
        {
          "output_type": "display_data",
          "data": {
            "text/plain": [
              "<Figure size 2016x504 with 4 Axes>"
            ],
            "image/png": "[encoded data removed]"
          },
          "metadata": {
            "needs_background": "light"
          }
        }
      ],
      "source": [
        "fig, axes = plt.subplots(1, 4, figsize=(28, 7), sharey=True)\n",
        "sns.boxplot(train_data['customer_age'], ax=axes[0], color='r')\n",
        "sns.boxplot(train_data['balance'], ax=axes[1], color='b')\n",
        "sns.boxplot(train_data['num_contacts_prev_campaign'], ax=axes[2], color='y')\n",
        "sns.boxplot(train_data['last_contact_duration'], ax=axes[3], color='cyan')"
      ]
    },
    {
      "cell_type": "markdown",
      "metadata": {
        "id": "fe9lk-amzxsb"
      },
      "source": [
        "**THE OUTLIERS CAN HIGHLY DEVIATE THE MEAN OF THE COLUMNS HENCE IT IS MORE APPROPRIATE TO REPLACE THE NULL VALUES WITH MEDIAN**"
      ]
    },
    {
      "cell_type": "code",
      "execution_count": null,
      "metadata": {
        "colab": {
          "base_uri": "https://localhost:8080/"
        },
        "id": "UBQJOReizxsb",
        "outputId": "01b23bf7-5d30-468f-b0bc-7ded59730347"
      },
      "outputs": [
        {
          "output_type": "execute_result",
          "data": {
            "text/plain": [
              "38.0"
            ]
          },
          "metadata": {},
          "execution_count": 20
        }
      ],
      "source": [
        "# GETTING MEDIAN AGE AS AGE IS FLOATING VALUE\n",
        "x = train_data['customer_age'].median()\n",
        "x"
      ]
    },
    {
      "cell_type": "code",
      "execution_count": null,
      "metadata": {
        "colab": {
          "base_uri": "https://localhost:8080/"
        },
        "id": "yKxJVFB_zxsc",
        "outputId": "368d92df-7c63-4b94-b905-4a5dfbd5d7c2"
      },
      "outputs": [
        {
          "output_type": "stream",
          "name": "stderr",
          "text": [
            "/usr/local/lib/python3.7/dist-packages/pandas/core/generic.py:6392: SettingWithCopyWarning: \n",
            "A value is trying to be set on a copy of a slice from a DataFrame\n",
            "\n",
            "See the caveats in the documentation: https://pandas.pydata.org/pandas-docs/stable/user_guide/indexing.html#returning-a-view-versus-a-copy\n",
            "  return self._update_inplace(result)\n"
          ]
        }
      ],
      "source": [
        "# FILLING NULL VALUES IN customer_age COLUMN WITH MEDIAN\n",
        "train_data['customer_age'].fillna(x, inplace=True)"
      ]
    },
    {
      "cell_type": "code",
      "execution_count": null,
      "metadata": {
        "colab": {
          "base_uri": "https://localhost:8080/"
        },
        "id": "1FndD-gbzxsc",
        "outputId": "1b810c24-4385-4cfd-e004-f3c2278adb10"
      },
      "outputs": [
        {
          "output_type": "execute_result",
          "data": {
            "text/plain": [
              "425.0"
            ]
          },
          "metadata": {},
          "execution_count": 22
        }
      ],
      "source": [
        "# GETTING MEDIAN BALANCE VALUE\n",
        "x = train_data['balance'].median()\n",
        "x"
      ]
    },
    {
      "cell_type": "code",
      "execution_count": null,
      "metadata": {
        "colab": {
          "base_uri": "https://localhost:8080/"
        },
        "id": "wxo9Y81_zxsc",
        "outputId": "bb059a6d-f29c-4637-e1a4-ac665b34665d"
      },
      "outputs": [
        {
          "output_type": "stream",
          "name": "stderr",
          "text": [
            "/usr/local/lib/python3.7/dist-packages/pandas/core/generic.py:6392: SettingWithCopyWarning: \n",
            "A value is trying to be set on a copy of a slice from a DataFrame\n",
            "\n",
            "See the caveats in the documentation: https://pandas.pydata.org/pandas-docs/stable/user_guide/indexing.html#returning-a-view-versus-a-copy\n",
            "  return self._update_inplace(result)\n"
          ]
        }
      ],
      "source": [
        "# FILLING NULL VALUES IN balance COLUMN WITH MEDIAN\n",
        "train_data['balance'].fillna(x, inplace=True)"
      ]
    },
    {
      "cell_type": "code",
      "execution_count": null,
      "metadata": {
        "colab": {
          "base_uri": "https://localhost:8080/"
        },
        "id": "l6sf5x27zxsc",
        "outputId": "465967e2-a42c-45d1-b797-e2be70e185e4"
      },
      "outputs": [
        {
          "output_type": "execute_result",
          "data": {
            "text/plain": [
              "180.0"
            ]
          },
          "metadata": {},
          "execution_count": 24
        }
      ],
      "source": [
        "# GETTING MEDIAN VALUE OF last_call_duration COLUMN\n",
        "x = train_data['last_contact_duration'].median()\n",
        "x"
      ]
    },
    {
      "cell_type": "code",
      "execution_count": null,
      "metadata": {
        "colab": {
          "base_uri": "https://localhost:8080/"
        },
        "id": "AWl7GkS7zxsc",
        "outputId": "559ac6e1-a8e1-44fb-a642-2edefc25b9b0"
      },
      "outputs": [
        {
          "output_type": "stream",
          "name": "stderr",
          "text": [
            "/usr/local/lib/python3.7/dist-packages/pandas/core/generic.py:6392: SettingWithCopyWarning: \n",
            "A value is trying to be set on a copy of a slice from a DataFrame\n",
            "\n",
            "See the caveats in the documentation: https://pandas.pydata.org/pandas-docs/stable/user_guide/indexing.html#returning-a-view-versus-a-copy\n",
            "  return self._update_inplace(result)\n"
          ]
        }
      ],
      "source": [
        "# FILLING NULL VALUES IN last_contact_duration COLUMN WITH MEDIAN\n",
        "train_data['last_contact_duration'].fillna(x, inplace=True)"
      ]
    },
    {
      "cell_type": "code",
      "execution_count": null,
      "metadata": {
        "colab": {
          "base_uri": "https://localhost:8080/"
        },
        "id": "_ee855Sfzxsc",
        "outputId": "7de59151-e522-4e97-d0f7-0f3e6aca9d9d"
      },
      "outputs": [
        {
          "output_type": "execute_result",
          "data": {
            "text/plain": [
              "2.0"
            ]
          },
          "metadata": {},
          "execution_count": 26
        }
      ],
      "source": [
        "# GETTING MEDIAN VALUE OF num_contact_in_campaign COLUMN\n",
        "x = train_data['num_contacts_in_campaign'].median()\n",
        "x"
      ]
    },
    {
      "cell_type": "code",
      "execution_count": null,
      "metadata": {
        "colab": {
          "base_uri": "https://localhost:8080/"
        },
        "id": "mNuWghPnzxsc",
        "outputId": "68ba821e-5af4-48f6-d878-c8cf1a8ebb2a"
      },
      "outputs": [
        {
          "output_type": "stream",
          "name": "stderr",
          "text": [
            "/usr/local/lib/python3.7/dist-packages/pandas/core/generic.py:6392: SettingWithCopyWarning: \n",
            "A value is trying to be set on a copy of a slice from a DataFrame\n",
            "\n",
            "See the caveats in the documentation: https://pandas.pydata.org/pandas-docs/stable/user_guide/indexing.html#returning-a-view-versus-a-copy\n",
            "  return self._update_inplace(result)\n"
          ]
        }
      ],
      "source": [
        "# FILLING NULL VALUES IN num_contacts_in_campaign COLUMN WITH MEDIAN AS MEAN VALUE CAN BE INFLUENCED BY OUTLIER, BUT MEDIAN WILL NOT\n",
        "train_data['num_contacts_in_campaign'].fillna(x, inplace=True)"
      ]
    },
    {
      "cell_type": "code",
      "execution_count": null,
      "metadata": {
        "colab": {
          "base_uri": "https://localhost:8080/"
        },
        "id": "R3CXzOdozxsc",
        "outputId": "6247d470-fe15-4cb6-d563-a097a0efdecb"
      },
      "outputs": [
        {
          "output_type": "execute_result",
          "data": {
            "text/plain": [
              "customer_age                  0\n",
              "job_type                      0\n",
              "marital                       0\n",
              "education                     0\n",
              "default                       0\n",
              "balance                       0\n",
              "housing_loan                  0\n",
              "personal_loan                 0\n",
              "communication_type            0\n",
              "day_of_month                  0\n",
              "month                         0\n",
              "last_contact_duration         0\n",
              "num_contacts_in_campaign      0\n",
              "num_contacts_prev_campaign    0\n",
              "prev_campaign_outcome         0\n",
              "term_deposit_subscribed       0\n",
              "dtype: int64"
            ]
          },
          "metadata": {},
          "execution_count": 28
        }
      ],
      "source": [
        "train_data.isnull().sum()"
      ]
    },
    {
      "cell_type": "markdown",
      "metadata": {
        "id": "kAoy1Wr9zxsc"
      },
      "source": [
        "**THUS, WE HAVE HANDLED ALL NULL VALUES IN TRAINING DATA SET**"
      ]
    },
    {
      "cell_type": "markdown",
      "metadata": {
        "id": "_b6o1Uj7I_cW"
      },
      "source": [
        "### **HANDLING NULL VALUES IN TESTING DATA**"
      ]
    },
    {
      "cell_type": "code",
      "execution_count": null,
      "metadata": {
        "colab": {
          "base_uri": "https://localhost:8080/",
          "height": 487
        },
        "id": "2rQeOGsHLlGX",
        "outputId": "2fa25004-c42c-417a-a766-a6886a1b2895"
      },
      "outputs": [
        {
          "output_type": "execute_result",
          "data": {
            "text/plain": [
              "       customer_age     job_type   marital  education default  balance  \\\n",
              "0              55.0      retired   married   tertiary      no   7136.0   \n",
              "1              24.0  blue-collar    single  secondary      no    179.0   \n",
              "2              46.0   technician  divorced  secondary      no    143.0   \n",
              "3              56.0    housemaid    single    unknown      no   6023.0   \n",
              "4              62.0      retired   married  secondary      no   2913.0   \n",
              "...             ...          ...       ...        ...     ...      ...   \n",
              "13559          29.0   management    single   tertiary      no    717.0   \n",
              "13560           NaN  blue-collar   married  secondary      no    604.0   \n",
              "13561          45.0  blue-collar   married    primary      no    237.0   \n",
              "13562          52.0       admin.   married    primary      no    241.0   \n",
              "13563          51.0   technician   married    unknown      no    368.0   \n",
              "\n",
              "      housing_loan personal_loan communication_type  day_of_month month  \\\n",
              "0               no            no           cellular            13   aug   \n",
              "1              yes            no           cellular            18   may   \n",
              "2               no            no           cellular             8   jul   \n",
              "3               no            no            unknown             6   jun   \n",
              "4               no            no           cellular            12   apr   \n",
              "...            ...           ...                ...           ...   ...   \n",
              "13559          yes            no           cellular            15   jun   \n",
              "13560          yes            no          telephone            10   jul   \n",
              "13561          yes            no            unknown            16   may   \n",
              "13562          yes            no           cellular            13   may   \n",
              "13563          yes            no           cellular            15   jul   \n",
              "\n",
              "       last_contact_duration  num_contacts_in_campaign  \\\n",
              "0                       90.0                       2.0   \n",
              "1                       63.0                       2.0   \n",
              "2                      208.0                       1.0   \n",
              "3                       34.0                       1.0   \n",
              "4                      127.0                       1.0   \n",
              "...                      ...                       ...   \n",
              "13559                   94.0                       1.0   \n",
              "13560                  155.0                       1.0   \n",
              "13561                  231.0                       4.0   \n",
              "13562                  243.0                       2.0   \n",
              "13563                  102.0                       2.0   \n",
              "\n",
              "       num_contacts_prev_campaign prev_campaign_outcome  \n",
              "0                               0               unknown  \n",
              "1                               0               unknown  \n",
              "2                               0               unknown  \n",
              "3                               0               unknown  \n",
              "4                               1               success  \n",
              "...                           ...                   ...  \n",
              "13559                           0               unknown  \n",
              "13560                           0               unknown  \n",
              "13561                           0               unknown  \n",
              "13562                           5               failure  \n",
              "13563                           0               unknown  \n",
              "\n",
              "[13564 rows x 15 columns]"
            ],
            "text/html": [
              "\n",
              "  <div id=\"df-1e5337ba-97dc-423c-bb6a-f9127d769b5d\">\n",
              "    <div class=\"colab-df-container\">\n",
              "      <div>\n",
              "<style scoped>\n",
              "    .dataframe tbody tr th:only-of-type {\n",
              "        vertical-align: middle;\n",
              "    }\n",
              "\n",
              "    .dataframe tbody tr th {\n",
              "        vertical-align: top;\n",
              "    }\n",
              "\n",
              "    .dataframe thead th {\n",
              "        text-align: right;\n",
              "    }\n",
              "</style>\n",
              "<table border=\"1\" class=\"dataframe\">\n",
              "  <thead>\n",
              "    <tr style=\"text-align: right;\">\n",
              "      <th></th>\n",
              "      <th>customer_age</th>\n",
              "      <th>job_type</th>\n",
              "      <th>marital</th>\n",
              "      <th>education</th>\n",
              "      <th>default</th>\n",
              "      <th>balance</th>\n",
              "      <th>housing_loan</th>\n",
              "      <th>personal_loan</th>\n",
              "      <th>communication_type</th>\n",
              "      <th>day_of_month</th>\n",
              "      <th>month</th>\n",
              "      <th>last_contact_duration</th>\n",
              "      <th>num_contacts_in_campaign</th>\n",
              "      <th>num_contacts_prev_campaign</th>\n",
              "      <th>prev_campaign_outcome</th>\n",
              "    </tr>\n",
              "  </thead>\n",
              "  <tbody>\n",
              "    <tr>\n",
              "      <th>0</th>\n",
              "      <td>55.0</td>\n",
              "      <td>retired</td>\n",
              "      <td>married</td>\n",
              "      <td>tertiary</td>\n",
              "      <td>no</td>\n",
              "      <td>7136.0</td>\n",
              "      <td>no</td>\n",
              "      <td>no</td>\n",
              "      <td>cellular</td>\n",
              "      <td>13</td>\n",
              "      <td>aug</td>\n",
              "      <td>90.0</td>\n",
              "      <td>2.0</td>\n",
              "      <td>0</td>\n",
              "      <td>unknown</td>\n",
              "    </tr>\n",
              "    <tr>\n",
              "      <th>1</th>\n",
              "      <td>24.0</td>\n",
              "      <td>blue-collar</td>\n",
              "      <td>single</td>\n",
              "      <td>secondary</td>\n",
              "      <td>no</td>\n",
              "      <td>179.0</td>\n",
              "      <td>yes</td>\n",
              "      <td>no</td>\n",
              "      <td>cellular</td>\n",
              "      <td>18</td>\n",
              "      <td>may</td>\n",
              "      <td>63.0</td>\n",
              "      <td>2.0</td>\n",
              "      <td>0</td>\n",
              "      <td>unknown</td>\n",
              "    </tr>\n",
              "    <tr>\n",
              "      <th>2</th>\n",
              "      <td>46.0</td>\n",
              "      <td>technician</td>\n",
              "      <td>divorced</td>\n",
              "      <td>secondary</td>\n",
              "      <td>no</td>\n",
              "      <td>143.0</td>\n",
              "      <td>no</td>\n",
              "      <td>no</td>\n",
              "      <td>cellular</td>\n",
              "      <td>8</td>\n",
              "      <td>jul</td>\n",
              "      <td>208.0</td>\n",
              "      <td>1.0</td>\n",
              "      <td>0</td>\n",
              "      <td>unknown</td>\n",
              "    </tr>\n",
              "    <tr>\n",
              "      <th>3</th>\n",
              "      <td>56.0</td>\n",
              "      <td>housemaid</td>\n",
              "      <td>single</td>\n",
              "      <td>unknown</td>\n",
              "      <td>no</td>\n",
              "      <td>6023.0</td>\n",
              "      <td>no</td>\n",
              "      <td>no</td>\n",
              "      <td>unknown</td>\n",
              "      <td>6</td>\n",
              "      <td>jun</td>\n",
              "      <td>34.0</td>\n",
              "      <td>1.0</td>\n",
              "      <td>0</td>\n",
              "      <td>unknown</td>\n",
              "    </tr>\n",
              "    <tr>\n",
              "      <th>4</th>\n",
              "      <td>62.0</td>\n",
              "      <td>retired</td>\n",
              "      <td>married</td>\n",
              "      <td>secondary</td>\n",
              "      <td>no</td>\n",
              "      <td>2913.0</td>\n",
              "      <td>no</td>\n",
              "      <td>no</td>\n",
              "      <td>cellular</td>\n",
              "      <td>12</td>\n",
              "      <td>apr</td>\n",
              "      <td>127.0</td>\n",
              "      <td>1.0</td>\n",
              "      <td>1</td>\n",
              "      <td>success</td>\n",
              "    </tr>\n",
              "    <tr>\n",
              "      <th>...</th>\n",
              "      <td>...</td>\n",
              "      <td>...</td>\n",
              "      <td>...</td>\n",
              "      <td>...</td>\n",
              "      <td>...</td>\n",
              "      <td>...</td>\n",
              "      <td>...</td>\n",
              "      <td>...</td>\n",
              "      <td>...</td>\n",
              "      <td>...</td>\n",
              "      <td>...</td>\n",
              "      <td>...</td>\n",
              "      <td>...</td>\n",
              "      <td>...</td>\n",
              "      <td>...</td>\n",
              "    </tr>\n",
              "    <tr>\n",
              "      <th>13559</th>\n",
              "      <td>29.0</td>\n",
              "      <td>management</td>\n",
              "      <td>single</td>\n",
              "      <td>tertiary</td>\n",
              "      <td>no</td>\n",
              "      <td>717.0</td>\n",
              "      <td>yes</td>\n",
              "      <td>no</td>\n",
              "      <td>cellular</td>\n",
              "      <td>15</td>\n",
              "      <td>jun</td>\n",
              "      <td>94.0</td>\n",
              "      <td>1.0</td>\n",
              "      <td>0</td>\n",
              "      <td>unknown</td>\n",
              "    </tr>\n",
              "    <tr>\n",
              "      <th>13560</th>\n",
              "      <td>NaN</td>\n",
              "      <td>blue-collar</td>\n",
              "      <td>married</td>\n",
              "      <td>secondary</td>\n",
              "      <td>no</td>\n",
              "      <td>604.0</td>\n",
              "      <td>yes</td>\n",
              "      <td>no</td>\n",
              "      <td>telephone</td>\n",
              "      <td>10</td>\n",
              "      <td>jul</td>\n",
              "      <td>155.0</td>\n",
              "      <td>1.0</td>\n",
              "      <td>0</td>\n",
              "      <td>unknown</td>\n",
              "    </tr>\n",
              "    <tr>\n",
              "      <th>13561</th>\n",
              "      <td>45.0</td>\n",
              "      <td>blue-collar</td>\n",
              "      <td>married</td>\n",
              "      <td>primary</td>\n",
              "      <td>no</td>\n",
              "      <td>237.0</td>\n",
              "      <td>yes</td>\n",
              "      <td>no</td>\n",
              "      <td>unknown</td>\n",
              "      <td>16</td>\n",
              "      <td>may</td>\n",
              "      <td>231.0</td>\n",
              "      <td>4.0</td>\n",
              "      <td>0</td>\n",
              "      <td>unknown</td>\n",
              "    </tr>\n",
              "    <tr>\n",
              "      <th>13562</th>\n",
              "      <td>52.0</td>\n",
              "      <td>admin.</td>\n",
              "      <td>married</td>\n",
              "      <td>primary</td>\n",
              "      <td>no</td>\n",
              "      <td>241.0</td>\n",
              "      <td>yes</td>\n",
              "      <td>no</td>\n",
              "      <td>cellular</td>\n",
              "      <td>13</td>\n",
              "      <td>may</td>\n",
              "      <td>243.0</td>\n",
              "      <td>2.0</td>\n",
              "      <td>5</td>\n",
              "      <td>failure</td>\n",
              "    </tr>\n",
              "    <tr>\n",
              "      <th>13563</th>\n",
              "      <td>51.0</td>\n",
              "      <td>technician</td>\n",
              "      <td>married</td>\n",
              "      <td>unknown</td>\n",
              "      <td>no</td>\n",
              "      <td>368.0</td>\n",
              "      <td>yes</td>\n",
              "      <td>no</td>\n",
              "      <td>cellular</td>\n",
              "      <td>15</td>\n",
              "      <td>jul</td>\n",
              "      <td>102.0</td>\n",
              "      <td>2.0</td>\n",
              "      <td>0</td>\n",
              "      <td>unknown</td>\n",
              "    </tr>\n",
              "  </tbody>\n",
              "</table>\n",
              "<p>13564 rows × 15 columns</p>\n",
              "</div>\n",
              "      <button class=\"colab-df-convert\" onclick=\"convertToInteractive('df-1e5337ba-97dc-423c-bb6a-f9127d769b5d')\"\n",
              "              title=\"Convert this dataframe to an interactive table.\"\n",
              "              style=\"display:none;\">\n",
              "        \n",
              "  <svg xmlns=\"http://www.w3.org/2000/svg\" height=\"24px\"viewBox=\"0 0 24 24\"\n",
              "       width=\"24px\">\n",
              "    <path d=\"M0 0h24v24H0V0z\" fill=\"none\"/>\n",
              "    <path d=\"M18.56 5.44l.94 2.06.94-2.06 2.06-.94-2.06-.94-.94-2.06-.94 2.06-2.06.94zm-11 1L8.5 8.5l.94-2.06 2.06-.94-2.06-.94L8.5 2.5l-.94 2.06-2.06.94zm10 10l.94 2.06.94-2.06 2.06-.94-2.06-.94-.94-2.06-.94 2.06-2.06.94z\"/><path d=\"M17.41 7.96l-1.37-1.37c-.4-.4-.92-.59-1.43-.59-.52 0-1.04.2-1.43.59L10.3 9.45l-7.72 7.72c-.78.78-.78 2.05 0 2.83L4 21.41c.39.39.9.59 1.41.59.51 0 1.02-.2 1.41-.59l7.78-7.78 2.81-2.81c.8-.78.8-2.07 0-2.86zM5.41 20L4 18.59l7.72-7.72 1.47 1.35L5.41 20z\"/>\n",
              "  </svg>\n",
              "      </button>\n",
              "      \n",
              "  <style>\n",
              "    .colab-df-container {\n",
              "      display:flex;\n",
              "      flex-wrap:wrap;\n",
              "      gap: 12px;\n",
              "    }\n",
              "\n",
              "    .colab-df-convert {\n",
              "      background-color: #E8F0FE;\n",
              "      border: none;\n",
              "      border-radius: 50%;\n",
              "      cursor: pointer;\n",
              "      display: none;\n",
              "      fill: #1967D2;\n",
              "      height: 32px;\n",
              "      padding: 0 0 0 0;\n",
              "      width: 32px;\n",
              "    }\n",
              "\n",
              "    .colab-df-convert:hover {\n",
              "      background-color: #E2EBFA;\n",
              "      box-shadow: 0px 1px 2px rgba(60, 64, 67, 0.3), 0px 1px 3px 1px rgba(60, 64, 67, 0.15);\n",
              "      fill: #174EA6;\n",
              "    }\n",
              "\n",
              "    [theme=dark] .colab-df-convert {\n",
              "      background-color: #3B4455;\n",
              "      fill: #D2E3FC;\n",
              "    }\n",
              "\n",
              "    [theme=dark] .colab-df-convert:hover {\n",
              "      background-color: #434B5C;\n",
              "      box-shadow: 0px 1px 3px 1px rgba(0, 0, 0, 0.15);\n",
              "      filter: drop-shadow(0px 1px 2px rgba(0, 0, 0, 0.3));\n",
              "      fill: #FFFFFF;\n",
              "    }\n",
              "  </style>\n",
              "\n",
              "      <script>\n",
              "        const buttonEl =\n",
              "          document.querySelector('#df-1e5337ba-97dc-423c-bb6a-f9127d769b5d button.colab-df-convert');\n",
              "        buttonEl.style.display =\n",
              "          google.colab.kernel.accessAllowed ? 'block' : 'none';\n",
              "\n",
              "        async function convertToInteractive(key) {\n",
              "          const element = document.querySelector('#df-1e5337ba-97dc-423c-bb6a-f9127d769b5d');\n",
              "          const dataTable =\n",
              "            await google.colab.kernel.invokeFunction('convertToInteractive',\n",
              "                                                     [key], {});\n",
              "          if (!dataTable) return;\n",
              "\n",
              "          const docLinkHtml = 'Like what you see? Visit the ' +\n",
              "            '<a target=\"_blank\" href=https://colab.research.google.com/notebooks/data_table.ipynb>data table notebook</a>'\n",
              "            + ' to learn more about interactive tables.';\n",
              "          element.innerHTML = '';\n",
              "          dataTable['output_type'] = 'display_data';\n",
              "          await google.colab.output.renderOutput(dataTable, element);\n",
              "          const docLink = document.createElement('div');\n",
              "          docLink.innerHTML = docLinkHtml;\n",
              "          element.appendChild(docLink);\n",
              "        }\n",
              "      </script>\n",
              "    </div>\n",
              "  </div>\n",
              "  "
            ]
          },
          "metadata": {},
          "execution_count": 29
        }
      ],
      "source": [
        "# DROPPING COLUMN\n",
        "test_data.drop(['days_since_prev_campaign_contact'], axis=1, inplace=True)\n",
        "\n",
        "# DROPPING THE id COLUMN\n",
        "test_data.drop(['id'], axis=1, inplace=True)\n",
        "test_data"
      ]
    },
    {
      "cell_type": "markdown",
      "metadata": {
        "id": "CVwxwEMvLmmM"
      },
      "source": [
        "**AS WE HAVE DROPPED THE FOLLOWING COLUMNS FROM TRAIN DATA WE HAVE TO DROP THEM FROM TEST DATA AS WELL:**\n",
        "- id\n",
        "- days_since_prev_campaign_contact"
      ]
    },
    {
      "cell_type": "code",
      "execution_count": null,
      "metadata": {
        "colab": {
          "base_uri": "https://localhost:8080/"
        },
        "id": "KEheOiqMJBVz",
        "outputId": "497bd6fd-4abe-493b-b28a-d54ee9e8dd9f"
      },
      "outputs": [
        {
          "output_type": "execute_result",
          "data": {
            "text/plain": [
              "customer_age                  270\n",
              "job_type                        0\n",
              "marital                        81\n",
              "education                       0\n",
              "default                         0\n",
              "balance                       181\n",
              "housing_loan                    0\n",
              "personal_loan                  74\n",
              "communication_type              0\n",
              "day_of_month                    0\n",
              "month                           0\n",
              "last_contact_duration         122\n",
              "num_contacts_in_campaign       45\n",
              "num_contacts_prev_campaign      0\n",
              "prev_campaign_outcome           0\n",
              "dtype: int64"
            ]
          },
          "metadata": {},
          "execution_count": 30
        }
      ],
      "source": [
        "# GETTING COUNT OF ALL NULL VALUES\n",
        "test_data.isnull().sum()"
      ]
    },
    {
      "cell_type": "code",
      "execution_count": null,
      "metadata": {
        "colab": {
          "base_uri": "https://localhost:8080/"
        },
        "id": "j7--hKalJLME",
        "outputId": "ee25a047-03e9-42ea-b669-a925c8d07ccc"
      },
      "outputs": [
        {
          "output_type": "stream",
          "name": "stdout",
          "text": [
            "<class 'pandas.core.frame.DataFrame'>\n",
            "RangeIndex: 13564 entries, 0 to 13563\n",
            "Data columns (total 15 columns):\n",
            " #   Column                      Non-Null Count  Dtype  \n",
            "---  ------                      --------------  -----  \n",
            " 0   customer_age                13294 non-null  float64\n",
            " 1   job_type                    13564 non-null  object \n",
            " 2   marital                     13483 non-null  object \n",
            " 3   education                   13564 non-null  object \n",
            " 4   default                     13564 non-null  object \n",
            " 5   balance                     13383 non-null  float64\n",
            " 6   housing_loan                13564 non-null  object \n",
            " 7   personal_loan               13490 non-null  object \n",
            " 8   communication_type          13564 non-null  object \n",
            " 9   day_of_month                13564 non-null  int64  \n",
            " 10  month                       13564 non-null  object \n",
            " 11  last_contact_duration       13442 non-null  float64\n",
            " 12  num_contacts_in_campaign    13519 non-null  float64\n",
            " 13  num_contacts_prev_campaign  13564 non-null  int64  \n",
            " 14  prev_campaign_outcome       13564 non-null  object \n",
            "dtypes: float64(4), int64(2), object(9)\n",
            "memory usage: 1.6+ MB\n"
          ]
        }
      ],
      "source": [
        "test_data.info()"
      ]
    },
    {
      "cell_type": "code",
      "execution_count": null,
      "metadata": {
        "colab": {
          "base_uri": "https://localhost:8080/"
        },
        "id": "Ng_uYGOJk9fQ",
        "outputId": "ca148909-a6e0-4f46-eb2a-e2f81cefb036"
      },
      "outputs": [
        {
          "output_type": "execute_result",
          "data": {
            "text/plain": [
              "day_of_month                  0\n",
              "num_contacts_prev_campaign    0\n",
              "dtype: int64"
            ]
          },
          "metadata": {},
          "execution_count": 32
        }
      ],
      "source": [
        "test_data.select_dtypes(include=\"int64\").isnull().sum()"
      ]
    },
    {
      "cell_type": "markdown",
      "metadata": {
        "id": "7KCRubaClVF8"
      },
      "source": [
        "**WE DO NOT HAVE ANY NULL VALUES IN INT64 TYPE COLUMNS**"
      ]
    },
    {
      "cell_type": "markdown",
      "metadata": {
        "id": "LEW7Qb3uJYOm"
      },
      "source": [
        "#### **FILLING NULL VALUE WITH MODE IN COLUMNS WITH DTYPE OBJECT**"
      ]
    },
    {
      "cell_type": "code",
      "execution_count": null,
      "metadata": {
        "colab": {
          "base_uri": "https://localhost:8080/"
        },
        "id": "XZ-alWd1JN3k",
        "outputId": "64689f0f-b6c0-48cd-f0c0-7bdb0fc5df14"
      },
      "outputs": [
        {
          "output_type": "execute_result",
          "data": {
            "text/plain": [
              "job_type                  0\n",
              "marital                  81\n",
              "education                 0\n",
              "default                   0\n",
              "housing_loan              0\n",
              "personal_loan            74\n",
              "communication_type        0\n",
              "month                     0\n",
              "prev_campaign_outcome     0\n",
              "dtype: int64"
            ]
          },
          "metadata": {},
          "execution_count": 33
        }
      ],
      "source": [
        "# displaying object columns with null values\n",
        "test_data.select_dtypes(include=\"object\").isnull().sum()"
      ]
    },
    {
      "cell_type": "markdown",
      "metadata": {
        "id": "nxBWYJsIKDKu"
      },
      "source": [
        "**WE HAVE TO REPLACE MARITAL AND PERSONAL_LOAN WITH THE MODE OF RESPECTIVE COLUMNS**"
      ]
    },
    {
      "cell_type": "code",
      "execution_count": null,
      "metadata": {
        "colab": {
          "base_uri": "https://localhost:8080/"
        },
        "id": "jd9FvfeiJwXN",
        "outputId": "520b853f-e64b-46b7-e7ab-1829c67f70df"
      },
      "outputs": [
        {
          "output_type": "execute_result",
          "data": {
            "text/plain": [
              "job_type                 0\n",
              "marital                  0\n",
              "education                0\n",
              "default                  0\n",
              "housing_loan             0\n",
              "personal_loan            0\n",
              "communication_type       0\n",
              "month                    0\n",
              "prev_campaign_outcome    0\n",
              "dtype: int64"
            ]
          },
          "metadata": {},
          "execution_count": 34
        }
      ],
      "source": [
        "for col in ['marital', 'personal_loan']:\n",
        "  col_mode = test_data[col].mode()[0]\n",
        "  test_data[col].fillna(col_mode, inplace=True)\n",
        "\n",
        "test_data.select_dtypes(include=\"object\").isnull().sum()"
      ]
    },
    {
      "cell_type": "markdown",
      "metadata": {
        "id": "aBI5cmQ5jX94"
      },
      "source": [
        "#### **HANDLING OUTLIER**"
      ]
    },
    {
      "cell_type": "code",
      "execution_count": null,
      "metadata": {
        "colab": {
          "base_uri": "https://localhost:8080/"
        },
        "id": "05eN3Imwjga9",
        "outputId": "51ce1c0c-1af5-4197-879d-6363cf78d34c"
      },
      "outputs": [
        {
          "output_type": "stream",
          "name": "stderr",
          "text": [
            "/usr/local/lib/python3.7/dist-packages/seaborn/_decorators.py:43: FutureWarning: Pass the following variable as a keyword arg: x. From version 0.12, the only valid positional argument will be `data`, and passing other arguments without an explicit keyword will result in an error or misinterpretation.\n",
            "  FutureWarning\n",
            "/usr/local/lib/python3.7/dist-packages/seaborn/_decorators.py:43: FutureWarning: Pass the following variable as a keyword arg: x. From version 0.12, the only valid positional argument will be `data`, and passing other arguments without an explicit keyword will result in an error or misinterpretation.\n",
            "  FutureWarning\n",
            "/usr/local/lib/python3.7/dist-packages/seaborn/_decorators.py:43: FutureWarning: Pass the following variable as a keyword arg: x. From version 0.12, the only valid positional argument will be `data`, and passing other arguments without an explicit keyword will result in an error or misinterpretation.\n",
            "  FutureWarning\n",
            "/usr/local/lib/python3.7/dist-packages/seaborn/_decorators.py:43: FutureWarning: Pass the following variable as a keyword arg: x. From version 0.12, the only valid positional argument will be `data`, and passing other arguments without an explicit keyword will result in an error or misinterpretation.\n",
            "  FutureWarning\n"
          ]
        },
        {
          "output_type": "execute_result",
          "data": {
            "text/plain": [
              "<matplotlib.axes._subplots.AxesSubplot at 0x7f49324692d0>"
            ]
          },
          "metadata": {},
          "execution_count": 35
        },
        {
          "output_type": "display_data",
          "data": {
            "text/plain": [
              "<Figure size 2016x504 with 4 Axes>"
            ],
            "image/png": "[encoded data removed]"
          },
          "metadata": {
            "needs_background": "light"
          }
        }
      ],
      "source": [
        "fig, axes = plt.subplots(1, 4, figsize=(28, 7), sharey=True)\n",
        "sns.boxplot(test_data['customer_age'], ax=axes[0], color='r')\n",
        "sns.boxplot(test_data['balance'], ax=axes[1], color='b')\n",
        "sns.boxplot(test_data['num_contacts_prev_campaign'], ax=axes[2], color='y')\n",
        "sns.boxplot(test_data['last_contact_duration'], ax=axes[3], color='cyan')"
      ]
    },
    {
      "cell_type": "code",
      "execution_count": null,
      "metadata": {
        "colab": {
          "base_uri": "https://localhost:8080/"
        },
        "id": "TvBLT4Myjdjw",
        "outputId": "7df0a556-4939-49f5-cf10-4db5cd23d49c"
      },
      "outputs": [
        {
          "output_type": "stream",
          "name": "stderr",
          "text": [
            "/usr/local/lib/python3.7/dist-packages/ipykernel_launcher.py:5: FutureWarning: Automatic reindexing on DataFrame vs Series comparisons is deprecated and will raise ValueError in a future version.  Do `left, right = left.align(right, axis=1, copy=False)` before e.g. `left == right`\n",
            "  \"\"\"\n"
          ]
        }
      ],
      "source": [
        "Q1 = test_data.quantile(0.10)\n",
        "Q3 = test_data.quantile(0.90)\n",
        "IQR = Q3 - Q1\n",
        "\n",
        "test_data = test_data[~((test_data < (Q1 - 1.5 * IQR)) |(test_data > (Q3 + 1.5 * IQR))).any(axis=1)]"
      ]
    },
    {
      "cell_type": "code",
      "execution_count": null,
      "metadata": {
        "colab": {
          "base_uri": "https://localhost:8080/"
        },
        "id": "aVQ3ot4njhM_",
        "outputId": "095de1f5-4be3-49a4-e685-4928810a6403"
      },
      "outputs": [
        {
          "output_type": "stream",
          "name": "stderr",
          "text": [
            "/usr/local/lib/python3.7/dist-packages/seaborn/_decorators.py:43: FutureWarning: Pass the following variable as a keyword arg: x. From version 0.12, the only valid positional argument will be `data`, and passing other arguments without an explicit keyword will result in an error or misinterpretation.\n",
            "  FutureWarning\n",
            "/usr/local/lib/python3.7/dist-packages/seaborn/_decorators.py:43: FutureWarning: Pass the following variable as a keyword arg: x. From version 0.12, the only valid positional argument will be `data`, and passing other arguments without an explicit keyword will result in an error or misinterpretation.\n",
            "  FutureWarning\n",
            "/usr/local/lib/python3.7/dist-packages/seaborn/_decorators.py:43: FutureWarning: Pass the following variable as a keyword arg: x. From version 0.12, the only valid positional argument will be `data`, and passing other arguments without an explicit keyword will result in an error or misinterpretation.\n",
            "  FutureWarning\n",
            "/usr/local/lib/python3.7/dist-packages/seaborn/_decorators.py:43: FutureWarning: Pass the following variable as a keyword arg: x. From version 0.12, the only valid positional argument will be `data`, and passing other arguments without an explicit keyword will result in an error or misinterpretation.\n",
            "  FutureWarning\n"
          ]
        },
        {
          "output_type": "execute_result",
          "data": {
            "text/plain": [
              "<matplotlib.axes._subplots.AxesSubplot at 0x7f493202fb90>"
            ]
          },
          "metadata": {},
          "execution_count": 37
        },
        {
          "output_type": "display_data",
          "data": {
            "text/plain": [
              "<Figure size 2016x504 with 4 Axes>"
            ],
            "image/png": "[encoded data removed]"
          },
          "metadata": {
            "needs_background": "light"
          }
        }
      ],
      "source": [
        "fig, axes = plt.subplots(1, 4, figsize=(28, 7), sharey=True)\n",
        "sns.boxplot(test_data['customer_age'], ax=axes[0], color='r')\n",
        "sns.boxplot(test_data['balance'], ax=axes[1], color='b')\n",
        "sns.boxplot(test_data['num_contacts_prev_campaign'], ax=axes[2], color='y')\n",
        "sns.boxplot(test_data['last_contact_duration'], ax=axes[3], color='cyan')"
      ]
    },
    {
      "cell_type": "markdown",
      "metadata": {
        "id": "1Pb8xHd-K90K"
      },
      "source": [
        "#### **FILLING NULL VALUE WITH MEDIAN IN COLUMNS DTYPE FLOAT64**"
      ]
    },
    {
      "cell_type": "code",
      "execution_count": null,
      "metadata": {
        "colab": {
          "base_uri": "https://localhost:8080/"
        },
        "id": "Gv0E33H_K4Ox",
        "outputId": "29e826fe-bdd8-42d5-fea6-15c992ab1499"
      },
      "outputs": [
        {
          "output_type": "execute_result",
          "data": {
            "text/plain": [
              "customer_age                247\n",
              "balance                     168\n",
              "last_contact_duration       113\n",
              "num_contacts_in_campaign     42\n",
              "dtype: int64"
            ]
          },
          "metadata": {},
          "execution_count": 38
        }
      ],
      "source": [
        "# displaying columns with type float64 having null values\n",
        "test_data.select_dtypes(include=\"float64\").isnull().sum()"
      ]
    },
    {
      "cell_type": "code",
      "execution_count": null,
      "metadata": {
        "colab": {
          "base_uri": "https://localhost:8080/"
        },
        "id": "3CKo43pZLPBc",
        "outputId": "5911410a-6bca-4580-dc4f-4e04dc34ed25"
      },
      "outputs": [
        {
          "output_type": "stream",
          "name": "stderr",
          "text": [
            "/usr/local/lib/python3.7/dist-packages/pandas/core/generic.py:6392: SettingWithCopyWarning: \n",
            "A value is trying to be set on a copy of a slice from a DataFrame\n",
            "\n",
            "See the caveats in the documentation: https://pandas.pydata.org/pandas-docs/stable/user_guide/indexing.html#returning-a-view-versus-a-copy\n",
            "  return self._update_inplace(result)\n"
          ]
        },
        {
          "output_type": "execute_result",
          "data": {
            "text/plain": [
              "customer_age                0\n",
              "balance                     0\n",
              "last_contact_duration       0\n",
              "num_contacts_in_campaign    0\n",
              "dtype: int64"
            ]
          },
          "metadata": {},
          "execution_count": 39
        }
      ],
      "source": [
        "for col in ['customer_age', 'balance', 'last_contact_duration', 'num_contacts_in_campaign']:\n",
        "  col_median = test_data[col].median()\n",
        "  test_data[col].fillna(col_median, inplace=True)\n",
        "\n",
        "test_data.select_dtypes(include=\"float64\").isnull().sum()"
      ]
    },
    {
      "cell_type": "markdown",
      "metadata": {
        "id": "smOTwPCLMk5I"
      },
      "source": [
        "#### **NOW WE ARE RID OF ALL NULL VALUES FROM TRAINING AS WELL AS TESTING DATASET**"
      ]
    },
    {
      "cell_type": "code",
      "execution_count": null,
      "metadata": {
        "colab": {
          "base_uri": "https://localhost:8080/"
        },
        "id": "O9TD-Wb12cFI",
        "outputId": "5ae17479-e8b7-4800-ca14-0a2ff060e112"
      },
      "outputs": [
        {
          "output_type": "execute_result",
          "data": {
            "text/plain": [
              "customer_age                  0\n",
              "job_type                      0\n",
              "marital                       0\n",
              "education                     0\n",
              "default                       0\n",
              "balance                       0\n",
              "housing_loan                  0\n",
              "personal_loan                 0\n",
              "communication_type            0\n",
              "day_of_month                  0\n",
              "month                         0\n",
              "last_contact_duration         0\n",
              "num_contacts_in_campaign      0\n",
              "num_contacts_prev_campaign    0\n",
              "prev_campaign_outcome         0\n",
              "term_deposit_subscribed       0\n",
              "dtype: int64"
            ]
          },
          "metadata": {},
          "execution_count": 40
        }
      ],
      "source": [
        "train_data.isnull().sum()"
      ]
    },
    {
      "cell_type": "code",
      "execution_count": null,
      "metadata": {
        "colab": {
          "base_uri": "https://localhost:8080/"
        },
        "id": "z3ekNpiJMNPF",
        "outputId": "1b872d6b-931b-4013-ad86-9122ebbef8e1"
      },
      "outputs": [
        {
          "output_type": "execute_result",
          "data": {
            "text/plain": [
              "customer_age                  0\n",
              "job_type                      0\n",
              "marital                       0\n",
              "education                     0\n",
              "default                       0\n",
              "balance                       0\n",
              "housing_loan                  0\n",
              "personal_loan                 0\n",
              "communication_type            0\n",
              "day_of_month                  0\n",
              "month                         0\n",
              "last_contact_duration         0\n",
              "num_contacts_in_campaign      0\n",
              "num_contacts_prev_campaign    0\n",
              "prev_campaign_outcome         0\n",
              "dtype: int64"
            ]
          },
          "metadata": {},
          "execution_count": 41
        }
      ],
      "source": [
        "test_data.isnull().sum()"
      ]
    },
    {
      "cell_type": "markdown",
      "metadata": {
        "id": "TziGUaslEueF"
      },
      "source": [
        "### **GETTING INFORMATION ON TRAINING DATA**"
      ]
    },
    {
      "cell_type": "code",
      "execution_count": null,
      "metadata": {
        "colab": {
          "base_uri": "https://localhost:8080/"
        },
        "id": "qhh4bb58-HgX",
        "outputId": "96087d7d-7960-4a66-f63a-dbab5adf0e15"
      },
      "outputs": [
        {
          "output_type": "stream",
          "name": "stdout",
          "text": [
            "<class 'pandas.core.frame.DataFrame'>\n",
            "Int64Index: 29210 entries, 0 to 31646\n",
            "Data columns (total 16 columns):\n",
            " #   Column                      Non-Null Count  Dtype  \n",
            "---  ------                      --------------  -----  \n",
            " 0   customer_age                29210 non-null  float64\n",
            " 1   job_type                    29210 non-null  object \n",
            " 2   marital                     29210 non-null  object \n",
            " 3   education                   29210 non-null  object \n",
            " 4   default                     29210 non-null  object \n",
            " 5   balance                     29210 non-null  float64\n",
            " 6   housing_loan                29210 non-null  object \n",
            " 7   personal_loan               29210 non-null  object \n",
            " 8   communication_type          29210 non-null  object \n",
            " 9   day_of_month                29210 non-null  int64  \n",
            " 10  month                       29210 non-null  object \n",
            " 11  last_contact_duration       29210 non-null  float64\n",
            " 12  num_contacts_in_campaign    29210 non-null  float64\n",
            " 13  num_contacts_prev_campaign  29210 non-null  int64  \n",
            " 14  prev_campaign_outcome       29210 non-null  object \n",
            " 15  term_deposit_subscribed     29210 non-null  int64  \n",
            "dtypes: float64(4), int64(3), object(9)\n",
            "memory usage: 3.8+ MB\n"
          ]
        }
      ],
      "source": [
        "train_data.info()"
      ]
    },
    {
      "cell_type": "markdown",
      "metadata": {
        "id": "kgIApxPMAbIN"
      },
      "source": [
        "COLUMNS WITH object AS Dtype (CATEGORICAL COLUMNS) ARE: \n",
        "\n",
        "1. job_type\n",
        "2. marital\n",
        "3. education\n",
        "4. default\n",
        "5. housing_loan\n",
        "6. personal_loan\n",
        "7. communication_type\n",
        "8. month\n",
        "9. prev_campaign_outcome"
      ]
    },
    {
      "cell_type": "markdown",
      "metadata": {
        "id": "fZL2xgRyEI_W"
      },
      "source": [
        "**PRINTING NUMBER OF UNIQUE VALUES OF THE CATEGORICAL COLUMNS**"
      ]
    },
    {
      "cell_type": "code",
      "execution_count": null,
      "metadata": {
        "colab": {
          "base_uri": "https://localhost:8080/"
        },
        "id": "L0Xc_AEFASpt",
        "outputId": "3cdc1c41-d6e0-4b23-e85e-080d258bf89b"
      },
      "outputs": [
        {
          "output_type": "execute_result",
          "data": {
            "text/plain": [
              "married     17593\n",
              "single       8160\n",
              "divorced     3457\n",
              "Name: marital, dtype: int64"
            ]
          },
          "metadata": {},
          "execution_count": 43
        }
      ],
      "source": [
        "# GETTING UNIQUE VALUES OF 'marital' COLUMN\n",
        "train_data['marital'].value_counts()"
      ]
    },
    {
      "cell_type": "code",
      "execution_count": null,
      "metadata": {
        "colab": {
          "base_uri": "https://localhost:8080/"
        },
        "id": "FxGbPsGyAGkd",
        "outputId": "cce0555a-97b5-455d-927e-3780d67fda41"
      },
      "outputs": [
        {
          "output_type": "execute_result",
          "data": {
            "text/plain": [
              "blue-collar      6385\n",
              "management       6045\n",
              "technician       4790\n",
              "admin.           3359\n",
              "services         2735\n",
              "retired          1466\n",
              "self-employed    1007\n",
              "entrepreneur      954\n",
              "unemployed        845\n",
              "housemaid         832\n",
              "student           608\n",
              "unknown           184\n",
              "Name: job_type, dtype: int64"
            ]
          },
          "metadata": {},
          "execution_count": 44
        }
      ],
      "source": [
        "# GETTING UNIQUE VALUES OF 'job_type' COLUMN\n",
        "train_data['job_type'].value_counts()"
      ]
    },
    {
      "cell_type": "code",
      "execution_count": null,
      "metadata": {
        "colab": {
          "base_uri": "https://localhost:8080/"
        },
        "id": "INOkn_x2ATR4",
        "outputId": "7dbf4629-6f19-4057-eb50-56965c58bdc6"
      },
      "outputs": [
        {
          "output_type": "execute_result",
          "data": {
            "text/plain": [
              "secondary    15105\n",
              "tertiary      8437\n",
              "primary       4478\n",
              "unknown       1190\n",
              "Name: education, dtype: int64"
            ]
          },
          "metadata": {},
          "execution_count": 45
        }
      ],
      "source": [
        "# GETTING UNIQUE VALUES OF 'education' COLUMN\n",
        "train_data['education'].value_counts()"
      ]
    },
    {
      "cell_type": "code",
      "execution_count": null,
      "metadata": {
        "colab": {
          "base_uri": "https://localhost:8080/"
        },
        "id": "-OKoHX8hATUc",
        "outputId": "ac818849-68b4-46d8-9ce6-e972fc2ca1f6"
      },
      "outputs": [
        {
          "output_type": "execute_result",
          "data": {
            "text/plain": [
              "no     28684\n",
              "yes      526\n",
              "Name: default, dtype: int64"
            ]
          },
          "metadata": {},
          "execution_count": 46
        }
      ],
      "source": [
        "# GETTING UNIQUE VALUES OF 'default' COLUMN\n",
        "train_data['default'].value_counts()"
      ]
    },
    {
      "cell_type": "code",
      "execution_count": null,
      "metadata": {
        "colab": {
          "base_uri": "https://localhost:8080/"
        },
        "id": "evQOglw_ATXU",
        "outputId": "f8dd8ec6-ff55-4c7c-bd75-33846927fdd4"
      },
      "outputs": [
        {
          "output_type": "execute_result",
          "data": {
            "text/plain": [
              "yes    16396\n",
              "no     12814\n",
              "Name: housing_loan, dtype: int64"
            ]
          },
          "metadata": {},
          "execution_count": 47
        }
      ],
      "source": [
        "# GETTING UNIQUE VALUES OF 'housing_loan' COLUMN\n",
        "train_data['housing_loan'].value_counts()"
      ]
    },
    {
      "cell_type": "code",
      "execution_count": null,
      "metadata": {
        "colab": {
          "base_uri": "https://localhost:8080/"
        },
        "id": "lBB0GllwBhGm",
        "outputId": "682e0e84-1abb-4354-e84a-e653370e0479"
      },
      "outputs": [
        {
          "output_type": "execute_result",
          "data": {
            "text/plain": [
              "no     24494\n",
              "yes     4716\n",
              "Name: personal_loan, dtype: int64"
            ]
          },
          "metadata": {},
          "execution_count": 48
        }
      ],
      "source": [
        "# GETTING UNIQUE VALUES OF 'personal_loan' COLUMN\n",
        "train_data['personal_loan'].value_counts()"
      ]
    },
    {
      "cell_type": "code",
      "execution_count": null,
      "metadata": {
        "colab": {
          "base_uri": "https://localhost:8080/"
        },
        "id": "q6cFkBlUBjQ-",
        "outputId": "691ca9d1-4cfa-4e42-99b3-2c1a6e637027"
      },
      "outputs": [
        {
          "output_type": "execute_result",
          "data": {
            "text/plain": [
              "cellular     18776\n",
              "unknown       8656\n",
              "telephone     1778\n",
              "Name: communication_type, dtype: int64"
            ]
          },
          "metadata": {},
          "execution_count": 49
        }
      ],
      "source": [
        "# GETTING UNIQUE VALUES OF 'communication_type' COLUMN\n",
        "train_data['communication_type'].value_counts()"
      ]
    },
    {
      "cell_type": "code",
      "execution_count": null,
      "metadata": {
        "colab": {
          "base_uri": "https://localhost:8080/"
        },
        "id": "sq1-hOEpBpHO",
        "outputId": "06240168-4bb4-4468-adfa-9c272e5e0c20"
      },
      "outputs": [
        {
          "output_type": "execute_result",
          "data": {
            "text/plain": [
              "may    9151\n",
              "jul    4440\n",
              "aug    3886\n",
              "jun    3418\n",
              "nov    2525\n",
              "apr    1956\n",
              "feb    1695\n",
              "jan     896\n",
              "oct     444\n",
              "sep     363\n",
              "mar     300\n",
              "dec     136\n",
              "Name: month, dtype: int64"
            ]
          },
          "metadata": {},
          "execution_count": 50
        }
      ],
      "source": [
        "# GETTING UNIQUE VALUES OF 'month' COLUMN\n",
        "train_data['month'].value_counts()"
      ]
    },
    {
      "cell_type": "code",
      "execution_count": null,
      "metadata": {
        "colab": {
          "base_uri": "https://localhost:8080/"
        },
        "id": "x4t-QJLIBs5N",
        "outputId": "49a28d50-a63e-4c68-f874-d737164b422c"
      },
      "outputs": [
        {
          "output_type": "execute_result",
          "data": {
            "text/plain": [
              "unknown    24317\n",
              "failure     3019\n",
              "other        996\n",
              "success      878\n",
              "Name: prev_campaign_outcome, dtype: int64"
            ]
          },
          "metadata": {},
          "execution_count": 51
        }
      ],
      "source": [
        "# GETTING UNIQUE VALUES OF 'prev_campaign_outcome' COLUMN\n",
        "train_data['prev_campaign_outcome'].value_counts()"
      ]
    },
    {
      "cell_type": "code",
      "execution_count": null,
      "metadata": {
        "colab": {
          "base_uri": "https://localhost:8080/",
          "height": 485
        },
        "id": "ZSbx-L-iE-qH",
        "outputId": "8787c9c2-e79a-41f9-f7d6-86f4c169f4e6"
      },
      "outputs": [
        {
          "output_type": "execute_result",
          "data": {
            "text/plain": [
              "<matplotlib.axes._subplots.AxesSubplot at 0x7f4931b0ca90>"
            ]
          },
          "metadata": {},
          "execution_count": 52
        },
        {
          "output_type": "display_data",
          "data": {
            "text/plain": [
              "<Figure size 1728x576 with 3 Axes>"
            ],
            "image/png": "[encoded data removed]"
          },
          "metadata": {
            "needs_background": "light"
          }
        }
      ],
      "source": [
        "# PLOT HISTOGRAM OF FEATURES\n",
        "fig, axes = plt.subplots(1, 3, figsize=(24, 8), sharey=False)\n",
        "sns.histplot(train_data, ax=axes[0], x=\"education\", color='r')\n",
        "sns.histplot(train_data, ax=axes[1], x=\"communication_type\", color='g')\n",
        "sns.histplot(train_data, ax=axes[2], x=\"prev_campaign_outcome\", color='b')"
      ]
    },
    {
      "cell_type": "code",
      "execution_count": null,
      "metadata": {
        "colab": {
          "base_uri": "https://localhost:8080/",
          "height": 516
        },
        "id": "x7e2hWmNHJ-T",
        "outputId": "cf481073-f410-4bec-ca75-87fd22985af5"
      },
      "outputs": [
        {
          "output_type": "execute_result",
          "data": {
            "text/plain": [
              "<matplotlib.axes._subplots.AxesSubplot at 0x7f4931d8e290>"
            ]
          },
          "metadata": {},
          "execution_count": 53
        },
        {
          "output_type": "display_data",
          "data": {
            "text/plain": [
              "<Figure size 1152x576 with 1 Axes>"
            ],
            "image/png": "[encoded data removed]"
          },
          "metadata": {
            "needs_background": "light"
          }
        }
      ],
      "source": [
        "fig, axes = plt.subplots(1, 1, figsize=(16, 8))\n",
        "sns.histplot(train_data, x=\"job_type\", color='y')"
      ]
    },
    {
      "cell_type": "markdown",
      "metadata": {
        "id": "msfFGNE3U5qa"
      },
      "source": [
        "### **CORRELATION HEATMAP**\n",
        "\n"
      ]
    },
    {
      "cell_type": "code",
      "execution_count": null,
      "metadata": {
        "colab": {
          "base_uri": "https://localhost:8080/",
          "height": 589
        },
        "id": "cukDmfWrUGOR",
        "outputId": "ec286d5f-bb75-40c7-de85-6f32b81bc583"
      },
      "outputs": [
        {
          "output_type": "display_data",
          "data": {
            "text/plain": [
              "<Figure size 576x576 with 2 Axes>"
            ],
            "image/png": "[encoded data removed]"
          },
          "metadata": {
            "needs_background": "light"
          }
        }
      ],
      "source": [
        "corr = train_data.corr()\n",
        "fig = plt.figure(figsize = (8, 8))\n",
        "sns.heatmap(corr, annot=True, square=True)\n",
        "plt.show()"
      ]
    },
    {
      "cell_type": "markdown",
      "metadata": {
        "id": "bw70u6IEN8hT"
      },
      "source": [
        "- **WE CAN SEE A SLIGHT CORRELATION BETWEEN ```LAST_CONTACT_DURATION``` AND ```TERM_DEPOSIT_SCBSCRIBED``` (LABEL)**\n",
        "\n",
        "- **APART FROM THIS THERE IS NO SIGNIFICANT CORRELATION AMONG THE FEATURES**"
      ]
    },
    {
      "cell_type": "markdown",
      "metadata": {
        "id": "ZxoWJczx4IRK"
      },
      "source": [
        "### **LABEL ENCODING**"
      ]
    },
    {
      "cell_type": "code",
      "execution_count": null,
      "metadata": {
        "id": "t9Hi5r1J6PVO"
      },
      "outputs": [],
      "source": [
        "from sklearn.preprocessing import LabelEncoder\n",
        "le = LabelEncoder()"
      ]
    },
    {
      "cell_type": "markdown",
      "metadata": {
        "id": "i3rGu0IM4lJg"
      },
      "source": [
        " #### **ENCODING IN TRAINING DATASET**"
      ]
    },
    {
      "cell_type": "code",
      "execution_count": null,
      "metadata": {
        "colab": {
          "base_uri": "https://localhost:8080/"
        },
        "id": "BD42FMIA4HCZ",
        "outputId": "1916c17e-30e7-42a7-b0b5-b232b57e99b9"
      },
      "outputs": [
        {
          "output_type": "stream",
          "name": "stdout",
          "text": [
            "OBJECT COLUMNS TO BE ENCODED ARE:\n",
            " ['job_type', 'marital', 'education', 'default', 'housing_loan', 'personal_loan', 'communication_type', 'month', 'prev_campaign_outcome']\n"
          ]
        }
      ],
      "source": [
        "# LABEL ENCODING THE CATEGORICAL FEATURES AND LABEL\n",
        "obj_cols = train_data.select_dtypes(include='object').columns\n",
        "print(\"OBJECT COLUMNS TO BE ENCODED ARE:\\n\", list(obj_cols))"
      ]
    },
    {
      "cell_type": "code",
      "execution_count": null,
      "metadata": {
        "colab": {
          "base_uri": "https://localhost:8080/",
          "height": 535
        },
        "id": "WmGm2MQFQN7j",
        "outputId": "9a9a702d-359e-471f-b159-bfce58c5f951"
      },
      "outputs": [
        {
          "output_type": "stream",
          "name": "stderr",
          "text": [
            "/usr/local/lib/python3.7/dist-packages/ipykernel_launcher.py:2: SettingWithCopyWarning: \n",
            "A value is trying to be set on a copy of a slice from a DataFrame.\n",
            "Try using .loc[row_indexer,col_indexer] = value instead\n",
            "\n",
            "See the caveats in the documentation: https://pandas.pydata.org/pandas-docs/stable/user_guide/indexing.html#returning-a-view-versus-a-copy\n",
            "  \n"
          ]
        },
        {
          "output_type": "execute_result",
          "data": {
            "text/plain": [
              "   customer_age  job_type  marital  education  default  balance  housing_loan  \\\n",
              "0          28.0         4        2          2        0    285.0             1   \n",
              "1          34.0         1        1          1        0    934.0             0   \n",
              "2          46.0         9        1          1        0    656.0             0   \n",
              "3          34.0         7        2          1        0      2.0             1   \n",
              "4          41.0         1        1          0        0   1352.0             1   \n",
              "5          65.0         5        1          0        0   2880.0             0   \n",
              "6          57.0         1        1          0        0    495.0             0   \n",
              "7          37.0         4        1          2        0    650.0             1   \n",
              "8          29.0         9        1          1        0    265.0             1   \n",
              "9          50.0         1        1          1        0    407.0             1   \n",
              "\n",
              "   personal_loan  communication_type  day_of_month  month  \\\n",
              "0              0                   2            26      6   \n",
              "1              1                   0            18      9   \n",
              "2              0                   0             5      3   \n",
              "3              0                   2            20      8   \n",
              "4              0                   0            13      8   \n",
              "5              0                   0            23      0   \n",
              "6              0                   0            18      1   \n",
              "7              0                   2            26      8   \n",
              "8              0                   0            19      1   \n",
              "9              1                   0             7      1   \n",
              "\n",
              "   last_contact_duration  num_contacts_in_campaign  \\\n",
              "0                  303.0                       4.0   \n",
              "1                  143.0                       2.0   \n",
              "2                  101.0                       4.0   \n",
              "3                  127.0                       3.0   \n",
              "4                   49.0                       2.0   \n",
              "5                  163.0                       1.0   \n",
              "6                  687.0                       4.0   \n",
              "7                  210.0                       1.0   \n",
              "8                  160.0                       2.0   \n",
              "9                  233.0                       2.0   \n",
              "\n",
              "   num_contacts_prev_campaign  prev_campaign_outcome  term_deposit_subscribed  \n",
              "0                           0                      3                        0  \n",
              "1                           1                      1                        0  \n",
              "2                           0                      3                        0  \n",
              "3                           0                      3                        0  \n",
              "4                           0                      3                        0  \n",
              "5                           0                      3                        1  \n",
              "6                           0                      3                        1  \n",
              "7                           0                      3                        0  \n",
              "8                           0                      3                        0  \n",
              "9                           0                      3                        0  "
            ],
            "text/html": [
              "\n",
              "  <div id=\"df-f4f61c03-a5f9-4abb-9787-44f4d653046b\">\n",
              "    <div class=\"colab-df-container\">\n",
              "      <div>\n",
              "<style scoped>\n",
              "    .dataframe tbody tr th:only-of-type {\n",
              "        vertical-align: middle;\n",
              "    }\n",
              "\n",
              "    .dataframe tbody tr th {\n",
              "        vertical-align: top;\n",
              "    }\n",
              "\n",
              "    .dataframe thead th {\n",
              "        text-align: right;\n",
              "    }\n",
              "</style>\n",
              "<table border=\"1\" class=\"dataframe\">\n",
              "  <thead>\n",
              "    <tr style=\"text-align: right;\">\n",
              "      <th></th>\n",
              "      <th>customer_age</th>\n",
              "      <th>job_type</th>\n",
              "      <th>marital</th>\n",
              "      <th>education</th>\n",
              "      <th>default</th>\n",
              "      <th>balance</th>\n",
              "      <th>housing_loan</th>\n",
              "      <th>personal_loan</th>\n",
              "      <th>communication_type</th>\n",
              "      <th>day_of_month</th>\n",
              "      <th>month</th>\n",
              "      <th>last_contact_duration</th>\n",
              "      <th>num_contacts_in_campaign</th>\n",
              "      <th>num_contacts_prev_campaign</th>\n",
              "      <th>prev_campaign_outcome</th>\n",
              "      <th>term_deposit_subscribed</th>\n",
              "    </tr>\n",
              "  </thead>\n",
              "  <tbody>\n",
              "    <tr>\n",
              "      <th>0</th>\n",
              "      <td>28.0</td>\n",
              "      <td>4</td>\n",
              "      <td>2</td>\n",
              "      <td>2</td>\n",
              "      <td>0</td>\n",
              "      <td>285.0</td>\n",
              "      <td>1</td>\n",
              "      <td>0</td>\n",
              "      <td>2</td>\n",
              "      <td>26</td>\n",
              "      <td>6</td>\n",
              "      <td>303.0</td>\n",
              "      <td>4.0</td>\n",
              "      <td>0</td>\n",
              "      <td>3</td>\n",
              "      <td>0</td>\n",
              "    </tr>\n",
              "    <tr>\n",
              "      <th>1</th>\n",
              "      <td>34.0</td>\n",
              "      <td>1</td>\n",
              "      <td>1</td>\n",
              "      <td>1</td>\n",
              "      <td>0</td>\n",
              "      <td>934.0</td>\n",
              "      <td>0</td>\n",
              "      <td>1</td>\n",
              "      <td>0</td>\n",
              "      <td>18</td>\n",
              "      <td>9</td>\n",
              "      <td>143.0</td>\n",
              "      <td>2.0</td>\n",
              "      <td>1</td>\n",
              "      <td>1</td>\n",
              "      <td>0</td>\n",
              "    </tr>\n",
              "    <tr>\n",
              "      <th>2</th>\n",
              "      <td>46.0</td>\n",
              "      <td>9</td>\n",
              "      <td>1</td>\n",
              "      <td>1</td>\n",
              "      <td>0</td>\n",
              "      <td>656.0</td>\n",
              "      <td>0</td>\n",
              "      <td>0</td>\n",
              "      <td>0</td>\n",
              "      <td>5</td>\n",
              "      <td>3</td>\n",
              "      <td>101.0</td>\n",
              "      <td>4.0</td>\n",
              "      <td>0</td>\n",
              "      <td>3</td>\n",
              "      <td>0</td>\n",
              "    </tr>\n",
              "    <tr>\n",
              "      <th>3</th>\n",
              "      <td>34.0</td>\n",
              "      <td>7</td>\n",
              "      <td>2</td>\n",
              "      <td>1</td>\n",
              "      <td>0</td>\n",
              "      <td>2.0</td>\n",
              "      <td>1</td>\n",
              "      <td>0</td>\n",
              "      <td>2</td>\n",
              "      <td>20</td>\n",
              "      <td>8</td>\n",
              "      <td>127.0</td>\n",
              "      <td>3.0</td>\n",
              "      <td>0</td>\n",
              "      <td>3</td>\n",
              "      <td>0</td>\n",
              "    </tr>\n",
              "    <tr>\n",
              "      <th>4</th>\n",
              "      <td>41.0</td>\n",
              "      <td>1</td>\n",
              "      <td>1</td>\n",
              "      <td>0</td>\n",
              "      <td>0</td>\n",
              "      <td>1352.0</td>\n",
              "      <td>1</td>\n",
              "      <td>0</td>\n",
              "      <td>0</td>\n",
              "      <td>13</td>\n",
              "      <td>8</td>\n",
              "      <td>49.0</td>\n",
              "      <td>2.0</td>\n",
              "      <td>0</td>\n",
              "      <td>3</td>\n",
              "      <td>0</td>\n",
              "    </tr>\n",
              "    <tr>\n",
              "      <th>5</th>\n",
              "      <td>65.0</td>\n",
              "      <td>5</td>\n",
              "      <td>1</td>\n",
              "      <td>0</td>\n",
              "      <td>0</td>\n",
              "      <td>2880.0</td>\n",
              "      <td>0</td>\n",
              "      <td>0</td>\n",
              "      <td>0</td>\n",
              "      <td>23</td>\n",
              "      <td>0</td>\n",
              "      <td>163.0</td>\n",
              "      <td>1.0</td>\n",
              "      <td>0</td>\n",
              "      <td>3</td>\n",
              "      <td>1</td>\n",
              "    </tr>\n",
              "    <tr>\n",
              "      <th>6</th>\n",
              "      <td>57.0</td>\n",
              "      <td>1</td>\n",
              "      <td>1</td>\n",
              "      <td>0</td>\n",
              "      <td>0</td>\n",
              "      <td>495.0</td>\n",
              "      <td>0</td>\n",
              "      <td>0</td>\n",
              "      <td>0</td>\n",
              "      <td>18</td>\n",
              "      <td>1</td>\n",
              "      <td>687.0</td>\n",
              "      <td>4.0</td>\n",
              "      <td>0</td>\n",
              "      <td>3</td>\n",
              "      <td>1</td>\n",
              "    </tr>\n",
              "    <tr>\n",
              "      <th>7</th>\n",
              "      <td>37.0</td>\n",
              "      <td>4</td>\n",
              "      <td>1</td>\n",
              "      <td>2</td>\n",
              "      <td>0</td>\n",
              "      <td>650.0</td>\n",
              "      <td>1</td>\n",
              "      <td>0</td>\n",
              "      <td>2</td>\n",
              "      <td>26</td>\n",
              "      <td>8</td>\n",
              "      <td>210.0</td>\n",
              "      <td>1.0</td>\n",
              "      <td>0</td>\n",
              "      <td>3</td>\n",
              "      <td>0</td>\n",
              "    </tr>\n",
              "    <tr>\n",
              "      <th>8</th>\n",
              "      <td>29.0</td>\n",
              "      <td>9</td>\n",
              "      <td>1</td>\n",
              "      <td>1</td>\n",
              "      <td>0</td>\n",
              "      <td>265.0</td>\n",
              "      <td>1</td>\n",
              "      <td>0</td>\n",
              "      <td>0</td>\n",
              "      <td>19</td>\n",
              "      <td>1</td>\n",
              "      <td>160.0</td>\n",
              "      <td>2.0</td>\n",
              "      <td>0</td>\n",
              "      <td>3</td>\n",
              "      <td>0</td>\n",
              "    </tr>\n",
              "    <tr>\n",
              "      <th>9</th>\n",
              "      <td>50.0</td>\n",
              "      <td>1</td>\n",
              "      <td>1</td>\n",
              "      <td>1</td>\n",
              "      <td>0</td>\n",
              "      <td>407.0</td>\n",
              "      <td>1</td>\n",
              "      <td>1</td>\n",
              "      <td>0</td>\n",
              "      <td>7</td>\n",
              "      <td>1</td>\n",
              "      <td>233.0</td>\n",
              "      <td>2.0</td>\n",
              "      <td>0</td>\n",
              "      <td>3</td>\n",
              "      <td>0</td>\n",
              "    </tr>\n",
              "  </tbody>\n",
              "</table>\n",
              "</div>\n",
              "      <button class=\"colab-df-convert\" onclick=\"convertToInteractive('df-f4f61c03-a5f9-4abb-9787-44f4d653046b')\"\n",
              "              title=\"Convert this dataframe to an interactive table.\"\n",
              "              style=\"display:none;\">\n",
              "        \n",
              "  <svg xmlns=\"http://www.w3.org/2000/svg\" height=\"24px\"viewBox=\"0 0 24 24\"\n",
              "       width=\"24px\">\n",
              "    <path d=\"M0 0h24v24H0V0z\" fill=\"none\"/>\n",
              "    <path d=\"M18.56 5.44l.94 2.06.94-2.06 2.06-.94-2.06-.94-.94-2.06-.94 2.06-2.06.94zm-11 1L8.5 8.5l.94-2.06 2.06-.94-2.06-.94L8.5 2.5l-.94 2.06-2.06.94zm10 10l.94 2.06.94-2.06 2.06-.94-2.06-.94-.94-2.06-.94 2.06-2.06.94z\"/><path d=\"M17.41 7.96l-1.37-1.37c-.4-.4-.92-.59-1.43-.59-.52 0-1.04.2-1.43.59L10.3 9.45l-7.72 7.72c-.78.78-.78 2.05 0 2.83L4 21.41c.39.39.9.59 1.41.59.51 0 1.02-.2 1.41-.59l7.78-7.78 2.81-2.81c.8-.78.8-2.07 0-2.86zM5.41 20L4 18.59l7.72-7.72 1.47 1.35L5.41 20z\"/>\n",
              "  </svg>\n",
              "      </button>\n",
              "      \n",
              "  <style>\n",
              "    .colab-df-container {\n",
              "      display:flex;\n",
              "      flex-wrap:wrap;\n",
              "      gap: 12px;\n",
              "    }\n",
              "\n",
              "    .colab-df-convert {\n",
              "      background-color: #E8F0FE;\n",
              "      border: none;\n",
              "      border-radius: 50%;\n",
              "      cursor: pointer;\n",
              "      display: none;\n",
              "      fill: #1967D2;\n",
              "      height: 32px;\n",
              "      padding: 0 0 0 0;\n",
              "      width: 32px;\n",
              "    }\n",
              "\n",
              "    .colab-df-convert:hover {\n",
              "      background-color: #E2EBFA;\n",
              "      box-shadow: 0px 1px 2px rgba(60, 64, 67, 0.3), 0px 1px 3px 1px rgba(60, 64, 67, 0.15);\n",
              "      fill: #174EA6;\n",
              "    }\n",
              "\n",
              "    [theme=dark] .colab-df-convert {\n",
              "      background-color: #3B4455;\n",
              "      fill: #D2E3FC;\n",
              "    }\n",
              "\n",
              "    [theme=dark] .colab-df-convert:hover {\n",
              "      background-color: #434B5C;\n",
              "      box-shadow: 0px 1px 3px 1px rgba(0, 0, 0, 0.15);\n",
              "      filter: drop-shadow(0px 1px 2px rgba(0, 0, 0, 0.3));\n",
              "      fill: #FFFFFF;\n",
              "    }\n",
              "  </style>\n",
              "\n",
              "      <script>\n",
              "        const buttonEl =\n",
              "          document.querySelector('#df-f4f61c03-a5f9-4abb-9787-44f4d653046b button.colab-df-convert');\n",
              "        buttonEl.style.display =\n",
              "          google.colab.kernel.accessAllowed ? 'block' : 'none';\n",
              "\n",
              "        async function convertToInteractive(key) {\n",
              "          const element = document.querySelector('#df-f4f61c03-a5f9-4abb-9787-44f4d653046b');\n",
              "          const dataTable =\n",
              "            await google.colab.kernel.invokeFunction('convertToInteractive',\n",
              "                                                     [key], {});\n",
              "          if (!dataTable) return;\n",
              "\n",
              "          const docLinkHtml = 'Like what you see? Visit the ' +\n",
              "            '<a target=\"_blank\" href=https://colab.research.google.com/notebooks/data_table.ipynb>data table notebook</a>'\n",
              "            + ' to learn more about interactive tables.';\n",
              "          element.innerHTML = '';\n",
              "          dataTable['output_type'] = 'display_data';\n",
              "          await google.colab.output.renderOutput(dataTable, element);\n",
              "          const docLink = document.createElement('div');\n",
              "          docLink.innerHTML = docLinkHtml;\n",
              "          element.appendChild(docLink);\n",
              "        }\n",
              "      </script>\n",
              "    </div>\n",
              "  </div>\n",
              "  "
            ]
          },
          "metadata": {},
          "execution_count": 57
        }
      ],
      "source": [
        "for col in obj_cols:\n",
        "    train_data[col] = le.fit_transform(train_data[col])\n",
        "\n",
        "train_data.head(10)"
      ]
    },
    {
      "cell_type": "markdown",
      "metadata": {
        "id": "z9MPqETj6Ch_"
      },
      "source": [
        "#### **ENCODING IN TESTING DATASET**"
      ]
    },
    {
      "cell_type": "code",
      "execution_count": null,
      "metadata": {
        "colab": {
          "base_uri": "https://localhost:8080/"
        },
        "id": "69Vpuz3J5nWz",
        "outputId": "ea2e1fef-2385-436c-a2af-cd74ec55a547"
      },
      "outputs": [
        {
          "output_type": "stream",
          "name": "stdout",
          "text": [
            "OBJECT COLUMNS TO BE ENCODED ARE:\n",
            " ['job_type', 'marital', 'education', 'default', 'housing_loan', 'personal_loan', 'communication_type', 'month', 'prev_campaign_outcome']\n"
          ]
        }
      ],
      "source": [
        "# LABEL ENCODING THE CATEGORICAL FEATURES AND LABEL\n",
        "obj_cols = test_data.select_dtypes(include='object').columns\n",
        "print(\"OBJECT COLUMNS TO BE ENCODED ARE:\\n\", list(obj_cols))"
      ]
    },
    {
      "cell_type": "code",
      "execution_count": null,
      "metadata": {
        "colab": {
          "base_uri": "https://localhost:8080/",
          "height": 535
        },
        "id": "iXxtiTbOQTqy",
        "outputId": "2f6447ee-0e70-433b-f1e5-aea8c256b540"
      },
      "outputs": [
        {
          "output_type": "stream",
          "name": "stderr",
          "text": [
            "/usr/local/lib/python3.7/dist-packages/ipykernel_launcher.py:2: SettingWithCopyWarning: \n",
            "A value is trying to be set on a copy of a slice from a DataFrame.\n",
            "Try using .loc[row_indexer,col_indexer] = value instead\n",
            "\n",
            "See the caveats in the documentation: https://pandas.pydata.org/pandas-docs/stable/user_guide/indexing.html#returning-a-view-versus-a-copy\n",
            "  \n"
          ]
        },
        {
          "output_type": "execute_result",
          "data": {
            "text/plain": [
              "   customer_age  job_type  marital  education  default  balance  housing_loan  \\\n",
              "0          55.0         5        1          2        0   7136.0             0   \n",
              "1          24.0         1        2          1        0    179.0             1   \n",
              "2          46.0         9        0          1        0    143.0             0   \n",
              "3          56.0         3        2          3        0   6023.0             0   \n",
              "4          62.0         5        1          1        0   2913.0             0   \n",
              "5          35.0         6        2          2        0    355.0             0   \n",
              "6          27.0         3        2          1        0    718.0             1   \n",
              "7          29.0         4        2          2        0     54.0             1   \n",
              "8          50.0         3        1          1        0   3815.0             0   \n",
              "9          37.0         4        2          2        0     52.0             1   \n",
              "\n",
              "   personal_loan  communication_type  day_of_month  month  \\\n",
              "0              0                   0            13      1   \n",
              "1              0                   0            18      8   \n",
              "2              0                   0             8      5   \n",
              "3              0                   2             6      6   \n",
              "4              0                   0            12      0   \n",
              "5              0                   0            12      1   \n",
              "6              0                   2             8      8   \n",
              "7              1                   2            26      8   \n",
              "8              0                   2             9      6   \n",
              "9              1                   0            25      5   \n",
              "\n",
              "   last_contact_duration  num_contacts_in_campaign  \\\n",
              "0                   90.0                       2.0   \n",
              "1                   63.0                       2.0   \n",
              "2                  208.0                       1.0   \n",
              "3                   34.0                       1.0   \n",
              "4                  127.0                       1.0   \n",
              "5                  599.0                       1.0   \n",
              "6                   94.0                       3.0   \n",
              "7                  253.0                       3.0   \n",
              "8                  136.0                       2.0   \n",
              "9                  211.0                       1.0   \n",
              "\n",
              "   num_contacts_prev_campaign  prev_campaign_outcome  \n",
              "0                           0                      3  \n",
              "1                           0                      3  \n",
              "2                           0                      3  \n",
              "3                           0                      3  \n",
              "4                           1                      2  \n",
              "5                           0                      3  \n",
              "6                           0                      3  \n",
              "7                           0                      3  \n",
              "8                           0                      3  \n",
              "9                           0                      3  "
            ],
            "text/html": [
              "\n",
              "  <div id=\"df-17303dc6-2019-447f-91d8-446b00b56d5a\">\n",
              "    <div class=\"colab-df-container\">\n",
              "      <div>\n",
              "<style scoped>\n",
              "    .dataframe tbody tr th:only-of-type {\n",
              "        vertical-align: middle;\n",
              "    }\n",
              "\n",
              "    .dataframe tbody tr th {\n",
              "        vertical-align: top;\n",
              "    }\n",
              "\n",
              "    .dataframe thead th {\n",
              "        text-align: right;\n",
              "    }\n",
              "</style>\n",
              "<table border=\"1\" class=\"dataframe\">\n",
              "  <thead>\n",
              "    <tr style=\"text-align: right;\">\n",
              "      <th></th>\n",
              "      <th>customer_age</th>\n",
              "      <th>job_type</th>\n",
              "      <th>marital</th>\n",
              "      <th>education</th>\n",
              "      <th>default</th>\n",
              "      <th>balance</th>\n",
              "      <th>housing_loan</th>\n",
              "      <th>personal_loan</th>\n",
              "      <th>communication_type</th>\n",
              "      <th>day_of_month</th>\n",
              "      <th>month</th>\n",
              "      <th>last_contact_duration</th>\n",
              "      <th>num_contacts_in_campaign</th>\n",
              "      <th>num_contacts_prev_campaign</th>\n",
              "      <th>prev_campaign_outcome</th>\n",
              "    </tr>\n",
              "  </thead>\n",
              "  <tbody>\n",
              "    <tr>\n",
              "      <th>0</th>\n",
              "      <td>55.0</td>\n",
              "      <td>5</td>\n",
              "      <td>1</td>\n",
              "      <td>2</td>\n",
              "      <td>0</td>\n",
              "      <td>7136.0</td>\n",
              "      <td>0</td>\n",
              "      <td>0</td>\n",
              "      <td>0</td>\n",
              "      <td>13</td>\n",
              "      <td>1</td>\n",
              "      <td>90.0</td>\n",
              "      <td>2.0</td>\n",
              "      <td>0</td>\n",
              "      <td>3</td>\n",
              "    </tr>\n",
              "    <tr>\n",
              "      <th>1</th>\n",
              "      <td>24.0</td>\n",
              "      <td>1</td>\n",
              "      <td>2</td>\n",
              "      <td>1</td>\n",
              "      <td>0</td>\n",
              "      <td>179.0</td>\n",
              "      <td>1</td>\n",
              "      <td>0</td>\n",
              "      <td>0</td>\n",
              "      <td>18</td>\n",
              "      <td>8</td>\n",
              "      <td>63.0</td>\n",
              "      <td>2.0</td>\n",
              "      <td>0</td>\n",
              "      <td>3</td>\n",
              "    </tr>\n",
              "    <tr>\n",
              "      <th>2</th>\n",
              "      <td>46.0</td>\n",
              "      <td>9</td>\n",
              "      <td>0</td>\n",
              "      <td>1</td>\n",
              "      <td>0</td>\n",
              "      <td>143.0</td>\n",
              "      <td>0</td>\n",
              "      <td>0</td>\n",
              "      <td>0</td>\n",
              "      <td>8</td>\n",
              "      <td>5</td>\n",
              "      <td>208.0</td>\n",
              "      <td>1.0</td>\n",
              "      <td>0</td>\n",
              "      <td>3</td>\n",
              "    </tr>\n",
              "    <tr>\n",
              "      <th>3</th>\n",
              "      <td>56.0</td>\n",
              "      <td>3</td>\n",
              "      <td>2</td>\n",
              "      <td>3</td>\n",
              "      <td>0</td>\n",
              "      <td>6023.0</td>\n",
              "      <td>0</td>\n",
              "      <td>0</td>\n",
              "      <td>2</td>\n",
              "      <td>6</td>\n",
              "      <td>6</td>\n",
              "      <td>34.0</td>\n",
              "      <td>1.0</td>\n",
              "      <td>0</td>\n",
              "      <td>3</td>\n",
              "    </tr>\n",
              "    <tr>\n",
              "      <th>4</th>\n",
              "      <td>62.0</td>\n",
              "      <td>5</td>\n",
              "      <td>1</td>\n",
              "      <td>1</td>\n",
              "      <td>0</td>\n",
              "      <td>2913.0</td>\n",
              "      <td>0</td>\n",
              "      <td>0</td>\n",
              "      <td>0</td>\n",
              "      <td>12</td>\n",
              "      <td>0</td>\n",
              "      <td>127.0</td>\n",
              "      <td>1.0</td>\n",
              "      <td>1</td>\n",
              "      <td>2</td>\n",
              "    </tr>\n",
              "    <tr>\n",
              "      <th>5</th>\n",
              "      <td>35.0</td>\n",
              "      <td>6</td>\n",
              "      <td>2</td>\n",
              "      <td>2</td>\n",
              "      <td>0</td>\n",
              "      <td>355.0</td>\n",
              "      <td>0</td>\n",
              "      <td>0</td>\n",
              "      <td>0</td>\n",
              "      <td>12</td>\n",
              "      <td>1</td>\n",
              "      <td>599.0</td>\n",
              "      <td>1.0</td>\n",
              "      <td>0</td>\n",
              "      <td>3</td>\n",
              "    </tr>\n",
              "    <tr>\n",
              "      <th>6</th>\n",
              "      <td>27.0</td>\n",
              "      <td>3</td>\n",
              "      <td>2</td>\n",
              "      <td>1</td>\n",
              "      <td>0</td>\n",
              "      <td>718.0</td>\n",
              "      <td>1</td>\n",
              "      <td>0</td>\n",
              "      <td>2</td>\n",
              "      <td>8</td>\n",
              "      <td>8</td>\n",
              "      <td>94.0</td>\n",
              "      <td>3.0</td>\n",
              "      <td>0</td>\n",
              "      <td>3</td>\n",
              "    </tr>\n",
              "    <tr>\n",
              "      <th>7</th>\n",
              "      <td>29.0</td>\n",
              "      <td>4</td>\n",
              "      <td>2</td>\n",
              "      <td>2</td>\n",
              "      <td>0</td>\n",
              "      <td>54.0</td>\n",
              "      <td>1</td>\n",
              "      <td>1</td>\n",
              "      <td>2</td>\n",
              "      <td>26</td>\n",
              "      <td>8</td>\n",
              "      <td>253.0</td>\n",
              "      <td>3.0</td>\n",
              "      <td>0</td>\n",
              "      <td>3</td>\n",
              "    </tr>\n",
              "    <tr>\n",
              "      <th>8</th>\n",
              "      <td>50.0</td>\n",
              "      <td>3</td>\n",
              "      <td>1</td>\n",
              "      <td>1</td>\n",
              "      <td>0</td>\n",
              "      <td>3815.0</td>\n",
              "      <td>0</td>\n",
              "      <td>0</td>\n",
              "      <td>2</td>\n",
              "      <td>9</td>\n",
              "      <td>6</td>\n",
              "      <td>136.0</td>\n",
              "      <td>2.0</td>\n",
              "      <td>0</td>\n",
              "      <td>3</td>\n",
              "    </tr>\n",
              "    <tr>\n",
              "      <th>9</th>\n",
              "      <td>37.0</td>\n",
              "      <td>4</td>\n",
              "      <td>2</td>\n",
              "      <td>2</td>\n",
              "      <td>0</td>\n",
              "      <td>52.0</td>\n",
              "      <td>1</td>\n",
              "      <td>1</td>\n",
              "      <td>0</td>\n",
              "      <td>25</td>\n",
              "      <td>5</td>\n",
              "      <td>211.0</td>\n",
              "      <td>1.0</td>\n",
              "      <td>0</td>\n",
              "      <td>3</td>\n",
              "    </tr>\n",
              "  </tbody>\n",
              "</table>\n",
              "</div>\n",
              "      <button class=\"colab-df-convert\" onclick=\"convertToInteractive('df-17303dc6-2019-447f-91d8-446b00b56d5a')\"\n",
              "              title=\"Convert this dataframe to an interactive table.\"\n",
              "              style=\"display:none;\">\n",
              "        \n",
              "  <svg xmlns=\"http://www.w3.org/2000/svg\" height=\"24px\"viewBox=\"0 0 24 24\"\n",
              "       width=\"24px\">\n",
              "    <path d=\"M0 0h24v24H0V0z\" fill=\"none\"/>\n",
              "    <path d=\"M18.56 5.44l.94 2.06.94-2.06 2.06-.94-2.06-.94-.94-2.06-.94 2.06-2.06.94zm-11 1L8.5 8.5l.94-2.06 2.06-.94-2.06-.94L8.5 2.5l-.94 2.06-2.06.94zm10 10l.94 2.06.94-2.06 2.06-.94-2.06-.94-.94-2.06-.94 2.06-2.06.94z\"/><path d=\"M17.41 7.96l-1.37-1.37c-.4-.4-.92-.59-1.43-.59-.52 0-1.04.2-1.43.59L10.3 9.45l-7.72 7.72c-.78.78-.78 2.05 0 2.83L4 21.41c.39.39.9.59 1.41.59.51 0 1.02-.2 1.41-.59l7.78-7.78 2.81-2.81c.8-.78.8-2.07 0-2.86zM5.41 20L4 18.59l7.72-7.72 1.47 1.35L5.41 20z\"/>\n",
              "  </svg>\n",
              "      </button>\n",
              "      \n",
              "  <style>\n",
              "    .colab-df-container {\n",
              "      display:flex;\n",
              "      flex-wrap:wrap;\n",
              "      gap: 12px;\n",
              "    }\n",
              "\n",
              "    .colab-df-convert {\n",
              "      background-color: #E8F0FE;\n",
              "      border: none;\n",
              "      border-radius: 50%;\n",
              "      cursor: pointer;\n",
              "      display: none;\n",
              "      fill: #1967D2;\n",
              "      height: 32px;\n",
              "      padding: 0 0 0 0;\n",
              "      width: 32px;\n",
              "    }\n",
              "\n",
              "    .colab-df-convert:hover {\n",
              "      background-color: #E2EBFA;\n",
              "      box-shadow: 0px 1px 2px rgba(60, 64, 67, 0.3), 0px 1px 3px 1px rgba(60, 64, 67, 0.15);\n",
              "      fill: #174EA6;\n",
              "    }\n",
              "\n",
              "    [theme=dark] .colab-df-convert {\n",
              "      background-color: #3B4455;\n",
              "      fill: #D2E3FC;\n",
              "    }\n",
              "\n",
              "    [theme=dark] .colab-df-convert:hover {\n",
              "      background-color: #434B5C;\n",
              "      box-shadow: 0px 1px 3px 1px rgba(0, 0, 0, 0.15);\n",
              "      filter: drop-shadow(0px 1px 2px rgba(0, 0, 0, 0.3));\n",
              "      fill: #FFFFFF;\n",
              "    }\n",
              "  </style>\n",
              "\n",
              "      <script>\n",
              "        const buttonEl =\n",
              "          document.querySelector('#df-17303dc6-2019-447f-91d8-446b00b56d5a button.colab-df-convert');\n",
              "        buttonEl.style.display =\n",
              "          google.colab.kernel.accessAllowed ? 'block' : 'none';\n",
              "\n",
              "        async function convertToInteractive(key) {\n",
              "          const element = document.querySelector('#df-17303dc6-2019-447f-91d8-446b00b56d5a');\n",
              "          const dataTable =\n",
              "            await google.colab.kernel.invokeFunction('convertToInteractive',\n",
              "                                                     [key], {});\n",
              "          if (!dataTable) return;\n",
              "\n",
              "          const docLinkHtml = 'Like what you see? Visit the ' +\n",
              "            '<a target=\"_blank\" href=https://colab.research.google.com/notebooks/data_table.ipynb>data table notebook</a>'\n",
              "            + ' to learn more about interactive tables.';\n",
              "          element.innerHTML = '';\n",
              "          dataTable['output_type'] = 'display_data';\n",
              "          await google.colab.output.renderOutput(dataTable, element);\n",
              "          const docLink = document.createElement('div');\n",
              "          docLink.innerHTML = docLinkHtml;\n",
              "          element.appendChild(docLink);\n",
              "        }\n",
              "      </script>\n",
              "    </div>\n",
              "  </div>\n",
              "  "
            ]
          },
          "metadata": {},
          "execution_count": 59
        }
      ],
      "source": [
        "for col in obj_cols:\n",
        "    test_data[col] = le.fit_transform(test_data[col])\n",
        "\n",
        "test_data.head(10)"
      ]
    },
    {
      "cell_type": "markdown",
      "metadata": {
        "id": "7j8U76b96rGJ"
      },
      "source": [
        "**LABEL ENCODED FOR BOTH THE DATASETS**"
      ]
    },
    {
      "cell_type": "markdown",
      "metadata": {
        "id": "Q4wH-mIn6q7H"
      },
      "source": [
        "*PREPROCESSING FOR BOTH TRAINING & TESTING DATASETS IS COMPLETED*"
      ]
    },
    {
      "cell_type": "markdown",
      "metadata": {
        "id": "3yJeMpfbR6sY"
      },
      "source": [
        "## **PERFORMING CLUSTERING ON TRAINING DATASET**"
      ]
    },
    {
      "cell_type": "markdown",
      "metadata": {
        "id": "vT-C02d6Rgav"
      },
      "source": [
        "WE HAVE GOT OUR DATASET IN NUMERIC BUT STILL WE CANT APPLY ALGORITHM BECAUSE CHANGING TO LABEL ENCODING DATA AND APPLYING K-MEANS MAY NOT GIVE GOOD RESULT SO WE ARE AGAIN CHANGING THEM TO ONE-HOT ENCODED DATA WITH ONE-HOT ENCODING METHOD."
      ]
    },
    {
      "cell_type": "code",
      "execution_count": null,
      "metadata": {
        "colab": {
          "base_uri": "https://localhost:8080/"
        },
        "id": "yVLY9v-nQuYK",
        "outputId": "27c1ecea-83f5-4283-a56e-10c0702d7016"
      },
      "outputs": [
        {
          "output_type": "stream",
          "name": "stdout",
          "text": [
            "Index(['job_type', 'marital', 'education', 'default', 'housing_loan',\n",
            "       'personal_loan', 'communication_type', 'month',\n",
            "       'prev_campaign_outcome'],\n",
            "      dtype='object')\n"
          ]
        }
      ],
      "source": [
        "print(obj_cols)"
      ]
    },
    {
      "cell_type": "code",
      "execution_count": null,
      "metadata": {
        "id": "SVnpVjrhSJXX"
      },
      "outputs": [],
      "source": [
        "train_onehot = train_data.copy()\n",
        "train_onehot = pd.get_dummies(train_onehot, columns = obj_cols, prefix = obj_cols )"
      ]
    },
    {
      "cell_type": "code",
      "execution_count": null,
      "metadata": {
        "colab": {
          "base_uri": "https://localhost:8080/",
          "height": 487
        },
        "id": "BIhjN-EuQ9pC",
        "outputId": "836694c1-6adf-4ceb-da59-2728fd7dbf31"
      },
      "outputs": [
        {
          "output_type": "execute_result",
          "data": {
            "text/plain": [
              "       customer_age  balance  day_of_month  last_contact_duration  \\\n",
              "0              28.0    285.0            26                  303.0   \n",
              "1              34.0    934.0            18                  143.0   \n",
              "2              46.0    656.0             5                  101.0   \n",
              "3              34.0      2.0            20                  127.0   \n",
              "4              41.0   1352.0            13                   49.0   \n",
              "...             ...      ...           ...                    ...   \n",
              "31642          58.0    567.0             2                   99.0   \n",
              "31643          51.0   1072.0            20                   31.0   \n",
              "31644          41.0    242.0            23                   89.0   \n",
              "31645          48.0   2699.0            11                  216.0   \n",
              "31646          38.0   1045.0            18                  183.0   \n",
              "\n",
              "       num_contacts_in_campaign  num_contacts_prev_campaign  \\\n",
              "0                           4.0                           0   \n",
              "1                           2.0                           1   \n",
              "2                           4.0                           0   \n",
              "3                           3.0                           0   \n",
              "4                           2.0                           0   \n",
              "...                         ...                         ...   \n",
              "31642                       2.0                           3   \n",
              "31643                       7.0                           0   \n",
              "31644                       2.0                           0   \n",
              "31645                       6.0                           0   \n",
              "31646                      10.0                           0   \n",
              "\n",
              "       term_deposit_subscribed  job_type_0  job_type_1  job_type_2  ...  \\\n",
              "0                            0           0           0           0  ...   \n",
              "1                            0           0           1           0  ...   \n",
              "2                            0           0           0           0  ...   \n",
              "3                            0           0           0           0  ...   \n",
              "4                            0           0           1           0  ...   \n",
              "...                        ...         ...         ...         ...  ...   \n",
              "31642                        0           1           0           0  ...   \n",
              "31643                        0           0           0           0  ...   \n",
              "31644                        0           0           0           0  ...   \n",
              "31645                        0           0           0           0  ...   \n",
              "31646                        0           0           0           0  ...   \n",
              "\n",
              "       month_6  month_7  month_8  month_9  month_10  month_11  \\\n",
              "0            1        0        0        0         0         0   \n",
              "1            0        0        0        1         0         0   \n",
              "2            0        0        0        0         0         0   \n",
              "3            0        0        1        0         0         0   \n",
              "4            0        0        1        0         0         0   \n",
              "...        ...      ...      ...      ...       ...       ...   \n",
              "31642        0        0        0        0         0         0   \n",
              "31643        1        0        0        0         0         0   \n",
              "31644        0        0        1        0         0         0   \n",
              "31645        0        0        0        0         0         0   \n",
              "31646        0        0        0        0         0         0   \n",
              "\n",
              "       prev_campaign_outcome_0  prev_campaign_outcome_1  \\\n",
              "0                            0                        0   \n",
              "1                            0                        1   \n",
              "2                            0                        0   \n",
              "3                            0                        0   \n",
              "4                            0                        0   \n",
              "...                        ...                      ...   \n",
              "31642                        0                        1   \n",
              "31643                        0                        0   \n",
              "31644                        0                        0   \n",
              "31645                        0                        0   \n",
              "31646                        0                        0   \n",
              "\n",
              "       prev_campaign_outcome_2  prev_campaign_outcome_3  \n",
              "0                            0                        1  \n",
              "1                            0                        0  \n",
              "2                            0                        1  \n",
              "3                            0                        1  \n",
              "4                            0                        1  \n",
              "...                        ...                      ...  \n",
              "31642                        0                        0  \n",
              "31643                        0                        1  \n",
              "31644                        0                        1  \n",
              "31645                        0                        1  \n",
              "31646                        0                        1  \n",
              "\n",
              "[29210 rows x 51 columns]"
            ],
            "text/html": [
              "\n",
              "  <div id=\"df-5defb610-bc48-43e0-9643-548331b9081e\">\n",
              "    <div class=\"colab-df-container\">\n",
              "      <div>\n",
              "<style scoped>\n",
              "    .dataframe tbody tr th:only-of-type {\n",
              "        vertical-align: middle;\n",
              "    }\n",
              "\n",
              "    .dataframe tbody tr th {\n",
              "        vertical-align: top;\n",
              "    }\n",
              "\n",
              "    .dataframe thead th {\n",
              "        text-align: right;\n",
              "    }\n",
              "</style>\n",
              "<table border=\"1\" class=\"dataframe\">\n",
              "  <thead>\n",
              "    <tr style=\"text-align: right;\">\n",
              "      <th></th>\n",
              "      <th>customer_age</th>\n",
              "      <th>balance</th>\n",
              "      <th>day_of_month</th>\n",
              "      <th>last_contact_duration</th>\n",
              "      <th>num_contacts_in_campaign</th>\n",
              "      <th>num_contacts_prev_campaign</th>\n",
              "      <th>term_deposit_subscribed</th>\n",
              "      <th>job_type_0</th>\n",
              "      <th>job_type_1</th>\n",
              "      <th>job_type_2</th>\n",
              "      <th>...</th>\n",
              "      <th>month_6</th>\n",
              "      <th>month_7</th>\n",
              "      <th>month_8</th>\n",
              "      <th>month_9</th>\n",
              "      <th>month_10</th>\n",
              "      <th>month_11</th>\n",
              "      <th>prev_campaign_outcome_0</th>\n",
              "      <th>prev_campaign_outcome_1</th>\n",
              "      <th>prev_campaign_outcome_2</th>\n",
              "      <th>prev_campaign_outcome_3</th>\n",
              "    </tr>\n",
              "  </thead>\n",
              "  <tbody>\n",
              "    <tr>\n",
              "      <th>0</th>\n",
              "      <td>28.0</td>\n",
              "      <td>285.0</td>\n",
              "      <td>26</td>\n",
              "      <td>303.0</td>\n",
              "      <td>4.0</td>\n",
              "      <td>0</td>\n",
              "      <td>0</td>\n",
              "      <td>0</td>\n",
              "      <td>0</td>\n",
              "      <td>0</td>\n",
              "      <td>...</td>\n",
              "      <td>1</td>\n",
              "      <td>0</td>\n",
              "      <td>0</td>\n",
              "      <td>0</td>\n",
              "      <td>0</td>\n",
              "      <td>0</td>\n",
              "      <td>0</td>\n",
              "      <td>0</td>\n",
              "      <td>0</td>\n",
              "      <td>1</td>\n",
              "    </tr>\n",
              "    <tr>\n",
              "      <th>1</th>\n",
              "      <td>34.0</td>\n",
              "      <td>934.0</td>\n",
              "      <td>18</td>\n",
              "      <td>143.0</td>\n",
              "      <td>2.0</td>\n",
              "      <td>1</td>\n",
              "      <td>0</td>\n",
              "      <td>0</td>\n",
              "      <td>1</td>\n",
              "      <td>0</td>\n",
              "      <td>...</td>\n",
              "      <td>0</td>\n",
              "      <td>0</td>\n",
              "      <td>0</td>\n",
              "      <td>1</td>\n",
              "      <td>0</td>\n",
              "      <td>0</td>\n",
              "      <td>0</td>\n",
              "      <td>1</td>\n",
              "      <td>0</td>\n",
              "      <td>0</td>\n",
              "    </tr>\n",
              "    <tr>\n",
              "      <th>2</th>\n",
              "      <td>46.0</td>\n",
              "      <td>656.0</td>\n",
              "      <td>5</td>\n",
              "      <td>101.0</td>\n",
              "      <td>4.0</td>\n",
              "      <td>0</td>\n",
              "      <td>0</td>\n",
              "      <td>0</td>\n",
              "      <td>0</td>\n",
              "      <td>0</td>\n",
              "      <td>...</td>\n",
              "      <td>0</td>\n",
              "      <td>0</td>\n",
              "      <td>0</td>\n",
              "      <td>0</td>\n",
              "      <td>0</td>\n",
              "      <td>0</td>\n",
              "      <td>0</td>\n",
              "      <td>0</td>\n",
              "      <td>0</td>\n",
              "      <td>1</td>\n",
              "    </tr>\n",
              "    <tr>\n",
              "      <th>3</th>\n",
              "      <td>34.0</td>\n",
              "      <td>2.0</td>\n",
              "      <td>20</td>\n",
              "      <td>127.0</td>\n",
              "      <td>3.0</td>\n",
              "      <td>0</td>\n",
              "      <td>0</td>\n",
              "      <td>0</td>\n",
              "      <td>0</td>\n",
              "      <td>0</td>\n",
              "      <td>...</td>\n",
              "      <td>0</td>\n",
              "      <td>0</td>\n",
              "      <td>1</td>\n",
              "      <td>0</td>\n",
              "      <td>0</td>\n",
              "      <td>0</td>\n",
              "      <td>0</td>\n",
              "      <td>0</td>\n",
              "      <td>0</td>\n",
              "      <td>1</td>\n",
              "    </tr>\n",
              "    <tr>\n",
              "      <th>4</th>\n",
              "      <td>41.0</td>\n",
              "      <td>1352.0</td>\n",
              "      <td>13</td>\n",
              "      <td>49.0</td>\n",
              "      <td>2.0</td>\n",
              "      <td>0</td>\n",
              "      <td>0</td>\n",
              "      <td>0</td>\n",
              "      <td>1</td>\n",
              "      <td>0</td>\n",
              "      <td>...</td>\n",
              "      <td>0</td>\n",
              "      <td>0</td>\n",
              "      <td>1</td>\n",
              "      <td>0</td>\n",
              "      <td>0</td>\n",
              "      <td>0</td>\n",
              "      <td>0</td>\n",
              "      <td>0</td>\n",
              "      <td>0</td>\n",
              "      <td>1</td>\n",
              "    </tr>\n",
              "    <tr>\n",
              "      <th>...</th>\n",
              "      <td>...</td>\n",
              "      <td>...</td>\n",
              "      <td>...</td>\n",
              "      <td>...</td>\n",
              "      <td>...</td>\n",
              "      <td>...</td>\n",
              "      <td>...</td>\n",
              "      <td>...</td>\n",
              "      <td>...</td>\n",
              "      <td>...</td>\n",
              "      <td>...</td>\n",
              "      <td>...</td>\n",
              "      <td>...</td>\n",
              "      <td>...</td>\n",
              "      <td>...</td>\n",
              "      <td>...</td>\n",
              "      <td>...</td>\n",
              "      <td>...</td>\n",
              "      <td>...</td>\n",
              "      <td>...</td>\n",
              "      <td>...</td>\n",
              "    </tr>\n",
              "    <tr>\n",
              "      <th>31642</th>\n",
              "      <td>58.0</td>\n",
              "      <td>567.0</td>\n",
              "      <td>2</td>\n",
              "      <td>99.0</td>\n",
              "      <td>2.0</td>\n",
              "      <td>3</td>\n",
              "      <td>0</td>\n",
              "      <td>1</td>\n",
              "      <td>0</td>\n",
              "      <td>0</td>\n",
              "      <td>...</td>\n",
              "      <td>0</td>\n",
              "      <td>0</td>\n",
              "      <td>0</td>\n",
              "      <td>0</td>\n",
              "      <td>0</td>\n",
              "      <td>0</td>\n",
              "      <td>0</td>\n",
              "      <td>1</td>\n",
              "      <td>0</td>\n",
              "      <td>0</td>\n",
              "    </tr>\n",
              "    <tr>\n",
              "      <th>31643</th>\n",
              "      <td>51.0</td>\n",
              "      <td>1072.0</td>\n",
              "      <td>20</td>\n",
              "      <td>31.0</td>\n",
              "      <td>7.0</td>\n",
              "      <td>0</td>\n",
              "      <td>0</td>\n",
              "      <td>0</td>\n",
              "      <td>0</td>\n",
              "      <td>0</td>\n",
              "      <td>...</td>\n",
              "      <td>1</td>\n",
              "      <td>0</td>\n",
              "      <td>0</td>\n",
              "      <td>0</td>\n",
              "      <td>0</td>\n",
              "      <td>0</td>\n",
              "      <td>0</td>\n",
              "      <td>0</td>\n",
              "      <td>0</td>\n",
              "      <td>1</td>\n",
              "    </tr>\n",
              "    <tr>\n",
              "      <th>31644</th>\n",
              "      <td>41.0</td>\n",
              "      <td>242.0</td>\n",
              "      <td>23</td>\n",
              "      <td>89.0</td>\n",
              "      <td>2.0</td>\n",
              "      <td>0</td>\n",
              "      <td>0</td>\n",
              "      <td>0</td>\n",
              "      <td>0</td>\n",
              "      <td>0</td>\n",
              "      <td>...</td>\n",
              "      <td>0</td>\n",
              "      <td>0</td>\n",
              "      <td>1</td>\n",
              "      <td>0</td>\n",
              "      <td>0</td>\n",
              "      <td>0</td>\n",
              "      <td>0</td>\n",
              "      <td>0</td>\n",
              "      <td>0</td>\n",
              "      <td>1</td>\n",
              "    </tr>\n",
              "    <tr>\n",
              "      <th>31645</th>\n",
              "      <td>48.0</td>\n",
              "      <td>2699.0</td>\n",
              "      <td>11</td>\n",
              "      <td>216.0</td>\n",
              "      <td>6.0</td>\n",
              "      <td>0</td>\n",
              "      <td>0</td>\n",
              "      <td>0</td>\n",
              "      <td>0</td>\n",
              "      <td>0</td>\n",
              "      <td>...</td>\n",
              "      <td>0</td>\n",
              "      <td>0</td>\n",
              "      <td>0</td>\n",
              "      <td>0</td>\n",
              "      <td>0</td>\n",
              "      <td>0</td>\n",
              "      <td>0</td>\n",
              "      <td>0</td>\n",
              "      <td>0</td>\n",
              "      <td>1</td>\n",
              "    </tr>\n",
              "    <tr>\n",
              "      <th>31646</th>\n",
              "      <td>38.0</td>\n",
              "      <td>1045.0</td>\n",
              "      <td>18</td>\n",
              "      <td>183.0</td>\n",
              "      <td>10.0</td>\n",
              "      <td>0</td>\n",
              "      <td>0</td>\n",
              "      <td>0</td>\n",
              "      <td>0</td>\n",
              "      <td>0</td>\n",
              "      <td>...</td>\n",
              "      <td>0</td>\n",
              "      <td>0</td>\n",
              "      <td>0</td>\n",
              "      <td>0</td>\n",
              "      <td>0</td>\n",
              "      <td>0</td>\n",
              "      <td>0</td>\n",
              "      <td>0</td>\n",
              "      <td>0</td>\n",
              "      <td>1</td>\n",
              "    </tr>\n",
              "  </tbody>\n",
              "</table>\n",
              "<p>29210 rows × 51 columns</p>\n",
              "</div>\n",
              "      <button class=\"colab-df-convert\" onclick=\"convertToInteractive('df-5defb610-bc48-43e0-9643-548331b9081e')\"\n",
              "              title=\"Convert this dataframe to an interactive table.\"\n",
              "              style=\"display:none;\">\n",
              "        \n",
              "  <svg xmlns=\"http://www.w3.org/2000/svg\" height=\"24px\"viewBox=\"0 0 24 24\"\n",
              "       width=\"24px\">\n",
              "    <path d=\"M0 0h24v24H0V0z\" fill=\"none\"/>\n",
              "    <path d=\"M18.56 5.44l.94 2.06.94-2.06 2.06-.94-2.06-.94-.94-2.06-.94 2.06-2.06.94zm-11 1L8.5 8.5l.94-2.06 2.06-.94-2.06-.94L8.5 2.5l-.94 2.06-2.06.94zm10 10l.94 2.06.94-2.06 2.06-.94-2.06-.94-.94-2.06-.94 2.06-2.06.94z\"/><path d=\"M17.41 7.96l-1.37-1.37c-.4-.4-.92-.59-1.43-.59-.52 0-1.04.2-1.43.59L10.3 9.45l-7.72 7.72c-.78.78-.78 2.05 0 2.83L4 21.41c.39.39.9.59 1.41.59.51 0 1.02-.2 1.41-.59l7.78-7.78 2.81-2.81c.8-.78.8-2.07 0-2.86zM5.41 20L4 18.59l7.72-7.72 1.47 1.35L5.41 20z\"/>\n",
              "  </svg>\n",
              "      </button>\n",
              "      \n",
              "  <style>\n",
              "    .colab-df-container {\n",
              "      display:flex;\n",
              "      flex-wrap:wrap;\n",
              "      gap: 12px;\n",
              "    }\n",
              "\n",
              "    .colab-df-convert {\n",
              "      background-color: #E8F0FE;\n",
              "      border: none;\n",
              "      border-radius: 50%;\n",
              "      cursor: pointer;\n",
              "      display: none;\n",
              "      fill: #1967D2;\n",
              "      height: 32px;\n",
              "      padding: 0 0 0 0;\n",
              "      width: 32px;\n",
              "    }\n",
              "\n",
              "    .colab-df-convert:hover {\n",
              "      background-color: #E2EBFA;\n",
              "      box-shadow: 0px 1px 2px rgba(60, 64, 67, 0.3), 0px 1px 3px 1px rgba(60, 64, 67, 0.15);\n",
              "      fill: #174EA6;\n",
              "    }\n",
              "\n",
              "    [theme=dark] .colab-df-convert {\n",
              "      background-color: #3B4455;\n",
              "      fill: #D2E3FC;\n",
              "    }\n",
              "\n",
              "    [theme=dark] .colab-df-convert:hover {\n",
              "      background-color: #434B5C;\n",
              "      box-shadow: 0px 1px 3px 1px rgba(0, 0, 0, 0.15);\n",
              "      filter: drop-shadow(0px 1px 2px rgba(0, 0, 0, 0.3));\n",
              "      fill: #FFFFFF;\n",
              "    }\n",
              "  </style>\n",
              "\n",
              "      <script>\n",
              "        const buttonEl =\n",
              "          document.querySelector('#df-5defb610-bc48-43e0-9643-548331b9081e button.colab-df-convert');\n",
              "        buttonEl.style.display =\n",
              "          google.colab.kernel.accessAllowed ? 'block' : 'none';\n",
              "\n",
              "        async function convertToInteractive(key) {\n",
              "          const element = document.querySelector('#df-5defb610-bc48-43e0-9643-548331b9081e');\n",
              "          const dataTable =\n",
              "            await google.colab.kernel.invokeFunction('convertToInteractive',\n",
              "                                                     [key], {});\n",
              "          if (!dataTable) return;\n",
              "\n",
              "          const docLinkHtml = 'Like what you see? Visit the ' +\n",
              "            '<a target=\"_blank\" href=https://colab.research.google.com/notebooks/data_table.ipynb>data table notebook</a>'\n",
              "            + ' to learn more about interactive tables.';\n",
              "          element.innerHTML = '';\n",
              "          dataTable['output_type'] = 'display_data';\n",
              "          await google.colab.output.renderOutput(dataTable, element);\n",
              "          const docLink = document.createElement('div');\n",
              "          docLink.innerHTML = docLinkHtml;\n",
              "          element.appendChild(docLink);\n",
              "        }\n",
              "      </script>\n",
              "    </div>\n",
              "  </div>\n",
              "  "
            ]
          },
          "metadata": {},
          "execution_count": 62
        }
      ],
      "source": [
        "train_onehot"
      ]
    },
    {
      "cell_type": "markdown",
      "metadata": {
        "id": "8Ja4VPriRRdd"
      },
      "source": [
        "WHEN WE APPLY ONE-HOT ENCODING, OUR DATASET ATTRIBUTES INCREASED UPTO 51.BUT BEFORE MOVING TO THINK ABOUT IT, LET US USE SCALING METHOD(STANDARD SCALING) TO SCALE OUR DATA."
      ]
    },
    {
      "cell_type": "code",
      "execution_count": null,
      "metadata": {
        "id": "GwsCBuDSRvXX"
      },
      "outputs": [],
      "source": [
        "from sklearn.preprocessing import StandardScaler"
      ]
    },
    {
      "cell_type": "code",
      "execution_count": null,
      "metadata": {
        "id": "0YqRmUlaRsxT"
      },
      "outputs": [],
      "source": [
        "SS = StandardScaler()\n",
        "train_onehot = SS.fit_transform(train_onehot)"
      ]
    },
    {
      "cell_type": "markdown",
      "metadata": {
        "id": "tPcYWmweSAUO"
      },
      "source": [
        "NOW WE NEED TO REDUCE THE DIMENSION OF OUR DATA, SO WE ARE APPLYING PCA TECHNIQUE."
      ]
    },
    {
      "cell_type": "code",
      "execution_count": null,
      "metadata": {
        "id": "81uX0-OMSY8h"
      },
      "outputs": [],
      "source": [
        "from sklearn.decomposition import PCA"
      ]
    },
    {
      "cell_type": "code",
      "execution_count": null,
      "metadata": {
        "colab": {
          "base_uri": "https://localhost:8080/",
          "height": 295
        },
        "id": "fBo0CpisSB1x",
        "outputId": "27498966-b347-4933-a4e4-b7ee9c9e8a85"
      },
      "outputs": [
        {
          "output_type": "display_data",
          "data": {
            "text/plain": [
              "<Figure size 432x288 with 1 Axes>"
            ],
            "image/png": "[encoded data removed]"
          },
          "metadata": {
            "needs_background": "light"
          }
        }
      ],
      "source": [
        "# FITTING PCA\n",
        "pca = PCA().fit(train_onehot)\n",
        "\n",
        "#PLOT\n",
        "plt.figure()\n",
        "plt.plot(np.cumsum(pca.explained_variance_ratio_))\n",
        "plt.xlabel('Number of components')\n",
        "plt.ylabel('Variance % for each components')\n",
        "plt.title('Explained variance')\n",
        "plt.show()"
      ]
    },
    {
      "cell_type": "markdown",
      "metadata": {
        "id": "8jZYb2W1SV3b"
      },
      "source": [
        "FROM ABOVE FIGURE IT SEEMS THAT OUR COMPONENTS BENDS AFTER APPROX. 40, SO WE SELECT NEARLY 40 FOR 100% VARIANCE DATA."
      ]
    },
    {
      "cell_type": "code",
      "execution_count": null,
      "metadata": {
        "id": "hrqFB0FVSUxk"
      },
      "outputs": [],
      "source": [
        "pca=PCA(n_components=40)\n",
        "\n",
        "pca.fit(train_onehot)\n",
        "train = pca.transform(train_onehot)"
      ]
    },
    {
      "cell_type": "code",
      "execution_count": null,
      "metadata": {
        "colab": {
          "base_uri": "https://localhost:8080/"
        },
        "id": "s0A5TLTZcqXw",
        "outputId": "a943cb17-547a-4b2d-e023-09d298159923"
      },
      "outputs": [
        {
          "output_type": "execute_result",
          "data": {
            "text/plain": [
              "array([[-1.28988065, -0.5182775 , -2.78786597, ...,  0.39874246,\n",
              "        -0.01768823, -0.33025263],\n",
              "       [ 1.725206  ,  1.65747156,  1.59751002, ..., -0.2549129 ,\n",
              "         0.7552002 ,  0.0140715 ],\n",
              "       [ 0.89510858, -1.12609457,  0.48130568, ...,  0.06736933,\n",
              "        -0.55916367,  0.01951675],\n",
              "       ...,\n",
              "       [-2.62981489,  0.21145962,  1.11137689, ..., -0.24438223,\n",
              "        -0.41983649, -0.45410757],\n",
              "       [ 0.71057701, -1.89587521,  0.66060798, ...,  0.19416278,\n",
              "        -0.06036407,  0.51092024],\n",
              "       [ 1.753476  , -2.48077745, -2.44737839, ...,  0.0968703 ,\n",
              "         0.62416545,  0.98636592]])"
            ]
          },
          "metadata": {},
          "execution_count": 68
        }
      ],
      "source": [
        "train"
      ]
    },
    {
      "cell_type": "markdown",
      "metadata": {
        "id": "WPNT1AefTI9O"
      },
      "source": [
        "WE ARE APPLYING K-MEANS ALGORITHM TO OUR DATA. BUT HOW TO DETERMINE K VALUE!! IT IS EASY. WE WILL USE ELBOW METHOD TO DETERMINE THE VALUE OF K. WE WILL VISUALIZE IT AND SEE FROM WHERE IT FORMS AN ELBOW."
      ]
    },
    {
      "cell_type": "code",
      "execution_count": null,
      "metadata": {
        "id": "ElAwRJNvTU9K"
      },
      "outputs": [],
      "source": [
        "from sklearn.datasets import make_blobs\n",
        "from sklearn.cluster import KMeans"
      ]
    },
    {
      "cell_type": "code",
      "execution_count": null,
      "metadata": {
        "colab": {
          "base_uri": "https://localhost:8080/",
          "height": 295
        },
        "id": "E7HZZM6_TKVH",
        "outputId": "01481a25-6482-4242-f18f-64a74d6d7a5c"
      },
      "outputs": [
        {
          "output_type": "display_data",
          "data": {
            "text/plain": [
              "<Figure size 432x288 with 1 Axes>"
            ],
            "image/png": "[encoded data removed]"
          },
          "metadata": {
            "needs_background": "light"
          }
        }
      ],
      "source": [
        "Sum_of_squared_distances = []\n",
        "K = range(1,15)\n",
        "for k in K:\n",
        "    km = KMeans(n_clusters=k)\n",
        "    km = km.fit(train)\n",
        "    Sum_of_squared_distances.append(km.inertia_)\n",
        "\n",
        "#VISUALIZING PLOT\n",
        "plt.plot(K, Sum_of_squared_distances, 'bx-')\n",
        "plt.xlabel('k')\n",
        "plt.ylabel('Sum_of_squared_distances')\n",
        "plt.title('Elbow Method For Optimal k')\n",
        "plt.show()"
      ]
    },
    {
      "cell_type": "code",
      "execution_count": null,
      "metadata": {
        "id": "LJcxddk3UErZ"
      },
      "outputs": [],
      "source": [
        "kmeans = KMeans(n_clusters=2, init='k-means++', n_init=50, max_iter=1000, verbose=0, random_state=50, copy_x=False, algorithm='auto')\n",
        "y_kmeans=kmeans.fit_predict(train)"
      ]
    },
    {
      "cell_type": "code",
      "execution_count": null,
      "metadata": {
        "colab": {
          "base_uri": "https://localhost:8080/",
          "height": 281
        },
        "id": "XhOJaVT9RHE6",
        "outputId": "7ed8c058-aec3-46f1-f039-10c90168d29f"
      },
      "outputs": [
        {
          "output_type": "display_data",
          "data": {
            "text/plain": [
              "<Figure size 432x288 with 1 Axes>"
            ],
            "image/png": "[encoded data removed]"
          },
          "metadata": {
            "needs_background": "light"
          }
        }
      ],
      "source": [
        "#PLOTTING THROUGH K-MEANS\n",
        "plt.scatter(train[y_kmeans==0,0],train[y_kmeans==0,1],s=100,c='red',label='Cluster1')\n",
        "plt.scatter(train[y_kmeans==1,0],train[y_kmeans==1,1],s=100,c='orange',label='Cluster2')\n",
        "plt.scatter(kmeans.cluster_centers_[:,0],kmeans.cluster_centers_[:,1],s=300,c='yellow',label='Centroids')\n",
        "plt.title('Clusters of data')\n",
        "plt.legend()\n",
        "plt.show()"
      ]
    },
    {
      "cell_type": "code",
      "execution_count": null,
      "metadata": {
        "id": "q12Iug2scMgT"
      },
      "outputs": [],
      "source": [
        "from sklearn.metrics import accuracy_score"
      ]
    },
    {
      "cell_type": "code",
      "execution_count": null,
      "metadata": {
        "id": "3GYfJhEycToy"
      },
      "outputs": [],
      "source": [
        "y_train = train_data['term_deposit_subscribed'].values"
      ]
    },
    {
      "cell_type": "code",
      "execution_count": null,
      "metadata": {
        "id": "wMOux_zKbwn7"
      },
      "outputs": [],
      "source": [
        "score = accuracy_score(y_train, kmeans.predict(train))"
      ]
    },
    {
      "cell_type": "code",
      "execution_count": null,
      "metadata": {
        "colab": {
          "base_uri": "https://localhost:8080/"
        },
        "id": "zrffy_6qdCgg",
        "outputId": "d6b4babf-1063-4f9e-8ccd-10279f7afd9c"
      },
      "outputs": [
        {
          "output_type": "stream",
          "name": "stdout",
          "text": [
            "ACCURACY ON CLUSTER: 0.8046217048955837\n"
          ]
        }
      ],
      "source": [
        "print(\"ACCURACY ON CLUSTER:\",score)"
      ]
    },
    {
      "cell_type": "markdown",
      "metadata": {
        "id": "ClCUEXTUh5fw"
      },
      "source": [
        "## **PERFORMING CLUSTERING ON TESTING DATASET**"
      ]
    },
    {
      "cell_type": "markdown",
      "metadata": {
        "id": "sujlxsQ_h5f1"
      },
      "source": [
        "WE HAVE GOT OUR DATASET IN NUMERIC BUT STILL WE CANT APPLY ALGORITHM BECAUSE CHANGING TO LABEL ENCODING DATA AND APPLYING K-MEANS MAY NOT GIVE GOOD RESULT SO WE ARE AGAIN CHANGING THEM TO ONE-HOT ENCODED DATA WITH ONE-HOT ENCODING METHOD."
      ]
    },
    {
      "cell_type": "code",
      "execution_count": null,
      "metadata": {
        "colab": {
          "base_uri": "https://localhost:8080/"
        },
        "id": "DKweTRDWh5f2",
        "outputId": "79093196-ec69-49b4-b9ec-4bbeca5e0a89"
      },
      "outputs": [
        {
          "output_type": "stream",
          "name": "stdout",
          "text": [
            "Index(['job_type', 'marital', 'education', 'default', 'housing_loan',\n",
            "       'personal_loan', 'communication_type', 'month',\n",
            "       'prev_campaign_outcome'],\n",
            "      dtype='object')\n"
          ]
        }
      ],
      "source": [
        "print(obj_cols)"
      ]
    },
    {
      "cell_type": "code",
      "execution_count": null,
      "metadata": {
        "id": "6Xno3BNnh5f2"
      },
      "outputs": [],
      "source": [
        "test_onehot = test_data.copy()\n",
        "test_onehot = pd.get_dummies(test_onehot, columns = obj_cols, prefix = obj_cols )"
      ]
    },
    {
      "cell_type": "code",
      "execution_count": null,
      "metadata": {
        "colab": {
          "base_uri": "https://localhost:8080/",
          "height": 487
        },
        "id": "srVl2ypsh5f2",
        "outputId": "4e5f0322-02d2-4827-c9ee-7ba4777b3252"
      },
      "outputs": [
        {
          "output_type": "execute_result",
          "data": {
            "text/plain": [
              "       customer_age  balance  day_of_month  last_contact_duration  \\\n",
              "0              55.0   7136.0            13                   90.0   \n",
              "1              24.0    179.0            18                   63.0   \n",
              "2              46.0    143.0             8                  208.0   \n",
              "3              56.0   6023.0             6                   34.0   \n",
              "4              62.0   2913.0            12                  127.0   \n",
              "...             ...      ...           ...                    ...   \n",
              "13559          29.0    717.0            15                   94.0   \n",
              "13560          39.0    604.0            10                  155.0   \n",
              "13561          45.0    237.0            16                  231.0   \n",
              "13562          52.0    241.0            13                  243.0   \n",
              "13563          51.0    368.0            15                  102.0   \n",
              "\n",
              "       num_contacts_in_campaign  num_contacts_prev_campaign  job_type_0  \\\n",
              "0                           2.0                           0           0   \n",
              "1                           2.0                           0           0   \n",
              "2                           1.0                           0           0   \n",
              "3                           1.0                           0           0   \n",
              "4                           1.0                           1           0   \n",
              "...                         ...                         ...         ...   \n",
              "13559                       1.0                           0           0   \n",
              "13560                       1.0                           0           0   \n",
              "13561                       4.0                           0           0   \n",
              "13562                       2.0                           5           1   \n",
              "13563                       2.0                           0           0   \n",
              "\n",
              "       job_type_1  job_type_2  job_type_3  ...  month_6  month_7  month_8  \\\n",
              "0               0           0           0  ...        0        0        0   \n",
              "1               1           0           0  ...        0        0        1   \n",
              "2               0           0           0  ...        0        0        0   \n",
              "3               0           0           1  ...        1        0        0   \n",
              "4               0           0           0  ...        0        0        0   \n",
              "...           ...         ...         ...  ...      ...      ...      ...   \n",
              "13559           0           0           0  ...        1        0        0   \n",
              "13560           1           0           0  ...        0        0        0   \n",
              "13561           1           0           0  ...        0        0        1   \n",
              "13562           0           0           0  ...        0        0        1   \n",
              "13563           0           0           0  ...        0        0        0   \n",
              "\n",
              "       month_9  month_10  month_11  prev_campaign_outcome_0  \\\n",
              "0            0         0         0                        0   \n",
              "1            0         0         0                        0   \n",
              "2            0         0         0                        0   \n",
              "3            0         0         0                        0   \n",
              "4            0         0         0                        0   \n",
              "...        ...       ...       ...                      ...   \n",
              "13559        0         0         0                        0   \n",
              "13560        0         0         0                        0   \n",
              "13561        0         0         0                        0   \n",
              "13562        0         0         0                        1   \n",
              "13563        0         0         0                        0   \n",
              "\n",
              "       prev_campaign_outcome_1  prev_campaign_outcome_2  \\\n",
              "0                            0                        0   \n",
              "1                            0                        0   \n",
              "2                            0                        0   \n",
              "3                            0                        0   \n",
              "4                            0                        1   \n",
              "...                        ...                      ...   \n",
              "13559                        0                        0   \n",
              "13560                        0                        0   \n",
              "13561                        0                        0   \n",
              "13562                        0                        0   \n",
              "13563                        0                        0   \n",
              "\n",
              "       prev_campaign_outcome_3  \n",
              "0                            1  \n",
              "1                            1  \n",
              "2                            1  \n",
              "3                            1  \n",
              "4                            0  \n",
              "...                        ...  \n",
              "13559                        1  \n",
              "13560                        1  \n",
              "13561                        1  \n",
              "13562                        0  \n",
              "13563                        1  \n",
              "\n",
              "[12589 rows x 50 columns]"
            ],
            "text/html": [
              "\n",
              "  <div id=\"df-1333d364-d816-4bb1-910e-1e4f9a8f89d1\">\n",
              "    <div class=\"colab-df-container\">\n",
              "      <div>\n",
              "<style scoped>\n",
              "    .dataframe tbody tr th:only-of-type {\n",
              "        vertical-align: middle;\n",
              "    }\n",
              "\n",
              "    .dataframe tbody tr th {\n",
              "        vertical-align: top;\n",
              "    }\n",
              "\n",
              "    .dataframe thead th {\n",
              "        text-align: right;\n",
              "    }\n",
              "</style>\n",
              "<table border=\"1\" class=\"dataframe\">\n",
              "  <thead>\n",
              "    <tr style=\"text-align: right;\">\n",
              "      <th></th>\n",
              "      <th>customer_age</th>\n",
              "      <th>balance</th>\n",
              "      <th>day_of_month</th>\n",
              "      <th>last_contact_duration</th>\n",
              "      <th>num_contacts_in_campaign</th>\n",
              "      <th>num_contacts_prev_campaign</th>\n",
              "      <th>job_type_0</th>\n",
              "      <th>job_type_1</th>\n",
              "      <th>job_type_2</th>\n",
              "      <th>job_type_3</th>\n",
              "      <th>...</th>\n",
              "      <th>month_6</th>\n",
              "      <th>month_7</th>\n",
              "      <th>month_8</th>\n",
              "      <th>month_9</th>\n",
              "      <th>month_10</th>\n",
              "      <th>month_11</th>\n",
              "      <th>prev_campaign_outcome_0</th>\n",
              "      <th>prev_campaign_outcome_1</th>\n",
              "      <th>prev_campaign_outcome_2</th>\n",
              "      <th>prev_campaign_outcome_3</th>\n",
              "    </tr>\n",
              "  </thead>\n",
              "  <tbody>\n",
              "    <tr>\n",
              "      <th>0</th>\n",
              "      <td>55.0</td>\n",
              "      <td>7136.0</td>\n",
              "      <td>13</td>\n",
              "      <td>90.0</td>\n",
              "      <td>2.0</td>\n",
              "      <td>0</td>\n",
              "      <td>0</td>\n",
              "      <td>0</td>\n",
              "      <td>0</td>\n",
              "      <td>0</td>\n",
              "      <td>...</td>\n",
              "      <td>0</td>\n",
              "      <td>0</td>\n",
              "      <td>0</td>\n",
              "      <td>0</td>\n",
              "      <td>0</td>\n",
              "      <td>0</td>\n",
              "      <td>0</td>\n",
              "      <td>0</td>\n",
              "      <td>0</td>\n",
              "      <td>1</td>\n",
              "    </tr>\n",
              "    <tr>\n",
              "      <th>1</th>\n",
              "      <td>24.0</td>\n",
              "      <td>179.0</td>\n",
              "      <td>18</td>\n",
              "      <td>63.0</td>\n",
              "      <td>2.0</td>\n",
              "      <td>0</td>\n",
              "      <td>0</td>\n",
              "      <td>1</td>\n",
              "      <td>0</td>\n",
              "      <td>0</td>\n",
              "      <td>...</td>\n",
              "      <td>0</td>\n",
              "      <td>0</td>\n",
              "      <td>1</td>\n",
              "      <td>0</td>\n",
              "      <td>0</td>\n",
              "      <td>0</td>\n",
              "      <td>0</td>\n",
              "      <td>0</td>\n",
              "      <td>0</td>\n",
              "      <td>1</td>\n",
              "    </tr>\n",
              "    <tr>\n",
              "      <th>2</th>\n",
              "      <td>46.0</td>\n",
              "      <td>143.0</td>\n",
              "      <td>8</td>\n",
              "      <td>208.0</td>\n",
              "      <td>1.0</td>\n",
              "      <td>0</td>\n",
              "      <td>0</td>\n",
              "      <td>0</td>\n",
              "      <td>0</td>\n",
              "      <td>0</td>\n",
              "      <td>...</td>\n",
              "      <td>0</td>\n",
              "      <td>0</td>\n",
              "      <td>0</td>\n",
              "      <td>0</td>\n",
              "      <td>0</td>\n",
              "      <td>0</td>\n",
              "      <td>0</td>\n",
              "      <td>0</td>\n",
              "      <td>0</td>\n",
              "      <td>1</td>\n",
              "    </tr>\n",
              "    <tr>\n",
              "      <th>3</th>\n",
              "      <td>56.0</td>\n",
              "      <td>6023.0</td>\n",
              "      <td>6</td>\n",
              "      <td>34.0</td>\n",
              "      <td>1.0</td>\n",
              "      <td>0</td>\n",
              "      <td>0</td>\n",
              "      <td>0</td>\n",
              "      <td>0</td>\n",
              "      <td>1</td>\n",
              "      <td>...</td>\n",
              "      <td>1</td>\n",
              "      <td>0</td>\n",
              "      <td>0</td>\n",
              "      <td>0</td>\n",
              "      <td>0</td>\n",
              "      <td>0</td>\n",
              "      <td>0</td>\n",
              "      <td>0</td>\n",
              "      <td>0</td>\n",
              "      <td>1</td>\n",
              "    </tr>\n",
              "    <tr>\n",
              "      <th>4</th>\n",
              "      <td>62.0</td>\n",
              "      <td>2913.0</td>\n",
              "      <td>12</td>\n",
              "      <td>127.0</td>\n",
              "      <td>1.0</td>\n",
              "      <td>1</td>\n",
              "      <td>0</td>\n",
              "      <td>0</td>\n",
              "      <td>0</td>\n",
              "      <td>0</td>\n",
              "      <td>...</td>\n",
              "      <td>0</td>\n",
              "      <td>0</td>\n",
              "      <td>0</td>\n",
              "      <td>0</td>\n",
              "      <td>0</td>\n",
              "      <td>0</td>\n",
              "      <td>0</td>\n",
              "      <td>0</td>\n",
              "      <td>1</td>\n",
              "      <td>0</td>\n",
              "    </tr>\n",
              "    <tr>\n",
              "      <th>...</th>\n",
              "      <td>...</td>\n",
              "      <td>...</td>\n",
              "      <td>...</td>\n",
              "      <td>...</td>\n",
              "      <td>...</td>\n",
              "      <td>...</td>\n",
              "      <td>...</td>\n",
              "      <td>...</td>\n",
              "      <td>...</td>\n",
              "      <td>...</td>\n",
              "      <td>...</td>\n",
              "      <td>...</td>\n",
              "      <td>...</td>\n",
              "      <td>...</td>\n",
              "      <td>...</td>\n",
              "      <td>...</td>\n",
              "      <td>...</td>\n",
              "      <td>...</td>\n",
              "      <td>...</td>\n",
              "      <td>...</td>\n",
              "      <td>...</td>\n",
              "    </tr>\n",
              "    <tr>\n",
              "      <th>13559</th>\n",
              "      <td>29.0</td>\n",
              "      <td>717.0</td>\n",
              "      <td>15</td>\n",
              "      <td>94.0</td>\n",
              "      <td>1.0</td>\n",
              "      <td>0</td>\n",
              "      <td>0</td>\n",
              "      <td>0</td>\n",
              "      <td>0</td>\n",
              "      <td>0</td>\n",
              "      <td>...</td>\n",
              "      <td>1</td>\n",
              "      <td>0</td>\n",
              "      <td>0</td>\n",
              "      <td>0</td>\n",
              "      <td>0</td>\n",
              "      <td>0</td>\n",
              "      <td>0</td>\n",
              "      <td>0</td>\n",
              "      <td>0</td>\n",
              "      <td>1</td>\n",
              "    </tr>\n",
              "    <tr>\n",
              "      <th>13560</th>\n",
              "      <td>39.0</td>\n",
              "      <td>604.0</td>\n",
              "      <td>10</td>\n",
              "      <td>155.0</td>\n",
              "      <td>1.0</td>\n",
              "      <td>0</td>\n",
              "      <td>0</td>\n",
              "      <td>1</td>\n",
              "      <td>0</td>\n",
              "      <td>0</td>\n",
              "      <td>...</td>\n",
              "      <td>0</td>\n",
              "      <td>0</td>\n",
              "      <td>0</td>\n",
              "      <td>0</td>\n",
              "      <td>0</td>\n",
              "      <td>0</td>\n",
              "      <td>0</td>\n",
              "      <td>0</td>\n",
              "      <td>0</td>\n",
              "      <td>1</td>\n",
              "    </tr>\n",
              "    <tr>\n",
              "      <th>13561</th>\n",
              "      <td>45.0</td>\n",
              "      <td>237.0</td>\n",
              "      <td>16</td>\n",
              "      <td>231.0</td>\n",
              "      <td>4.0</td>\n",
              "      <td>0</td>\n",
              "      <td>0</td>\n",
              "      <td>1</td>\n",
              "      <td>0</td>\n",
              "      <td>0</td>\n",
              "      <td>...</td>\n",
              "      <td>0</td>\n",
              "      <td>0</td>\n",
              "      <td>1</td>\n",
              "      <td>0</td>\n",
              "      <td>0</td>\n",
              "      <td>0</td>\n",
              "      <td>0</td>\n",
              "      <td>0</td>\n",
              "      <td>0</td>\n",
              "      <td>1</td>\n",
              "    </tr>\n",
              "    <tr>\n",
              "      <th>13562</th>\n",
              "      <td>52.0</td>\n",
              "      <td>241.0</td>\n",
              "      <td>13</td>\n",
              "      <td>243.0</td>\n",
              "      <td>2.0</td>\n",
              "      <td>5</td>\n",
              "      <td>1</td>\n",
              "      <td>0</td>\n",
              "      <td>0</td>\n",
              "      <td>0</td>\n",
              "      <td>...</td>\n",
              "      <td>0</td>\n",
              "      <td>0</td>\n",
              "      <td>1</td>\n",
              "      <td>0</td>\n",
              "      <td>0</td>\n",
              "      <td>0</td>\n",
              "      <td>1</td>\n",
              "      <td>0</td>\n",
              "      <td>0</td>\n",
              "      <td>0</td>\n",
              "    </tr>\n",
              "    <tr>\n",
              "      <th>13563</th>\n",
              "      <td>51.0</td>\n",
              "      <td>368.0</td>\n",
              "      <td>15</td>\n",
              "      <td>102.0</td>\n",
              "      <td>2.0</td>\n",
              "      <td>0</td>\n",
              "      <td>0</td>\n",
              "      <td>0</td>\n",
              "      <td>0</td>\n",
              "      <td>0</td>\n",
              "      <td>...</td>\n",
              "      <td>0</td>\n",
              "      <td>0</td>\n",
              "      <td>0</td>\n",
              "      <td>0</td>\n",
              "      <td>0</td>\n",
              "      <td>0</td>\n",
              "      <td>0</td>\n",
              "      <td>0</td>\n",
              "      <td>0</td>\n",
              "      <td>1</td>\n",
              "    </tr>\n",
              "  </tbody>\n",
              "</table>\n",
              "<p>12589 rows × 50 columns</p>\n",
              "</div>\n",
              "      <button class=\"colab-df-convert\" onclick=\"convertToInteractive('df-1333d364-d816-4bb1-910e-1e4f9a8f89d1')\"\n",
              "              title=\"Convert this dataframe to an interactive table.\"\n",
              "              style=\"display:none;\">\n",
              "        \n",
              "  <svg xmlns=\"http://www.w3.org/2000/svg\" height=\"24px\"viewBox=\"0 0 24 24\"\n",
              "       width=\"24px\">\n",
              "    <path d=\"M0 0h24v24H0V0z\" fill=\"none\"/>\n",
              "    <path d=\"M18.56 5.44l.94 2.06.94-2.06 2.06-.94-2.06-.94-.94-2.06-.94 2.06-2.06.94zm-11 1L8.5 8.5l.94-2.06 2.06-.94-2.06-.94L8.5 2.5l-.94 2.06-2.06.94zm10 10l.94 2.06.94-2.06 2.06-.94-2.06-.94-.94-2.06-.94 2.06-2.06.94z\"/><path d=\"M17.41 7.96l-1.37-1.37c-.4-.4-.92-.59-1.43-.59-.52 0-1.04.2-1.43.59L10.3 9.45l-7.72 7.72c-.78.78-.78 2.05 0 2.83L4 21.41c.39.39.9.59 1.41.59.51 0 1.02-.2 1.41-.59l7.78-7.78 2.81-2.81c.8-.78.8-2.07 0-2.86zM5.41 20L4 18.59l7.72-7.72 1.47 1.35L5.41 20z\"/>\n",
              "  </svg>\n",
              "      </button>\n",
              "      \n",
              "  <style>\n",
              "    .colab-df-container {\n",
              "      display:flex;\n",
              "      flex-wrap:wrap;\n",
              "      gap: 12px;\n",
              "    }\n",
              "\n",
              "    .colab-df-convert {\n",
              "      background-color: #E8F0FE;\n",
              "      border: none;\n",
              "      border-radius: 50%;\n",
              "      cursor: pointer;\n",
              "      display: none;\n",
              "      fill: #1967D2;\n",
              "      height: 32px;\n",
              "      padding: 0 0 0 0;\n",
              "      width: 32px;\n",
              "    }\n",
              "\n",
              "    .colab-df-convert:hover {\n",
              "      background-color: #E2EBFA;\n",
              "      box-shadow: 0px 1px 2px rgba(60, 64, 67, 0.3), 0px 1px 3px 1px rgba(60, 64, 67, 0.15);\n",
              "      fill: #174EA6;\n",
              "    }\n",
              "\n",
              "    [theme=dark] .colab-df-convert {\n",
              "      background-color: #3B4455;\n",
              "      fill: #D2E3FC;\n",
              "    }\n",
              "\n",
              "    [theme=dark] .colab-df-convert:hover {\n",
              "      background-color: #434B5C;\n",
              "      box-shadow: 0px 1px 3px 1px rgba(0, 0, 0, 0.15);\n",
              "      filter: drop-shadow(0px 1px 2px rgba(0, 0, 0, 0.3));\n",
              "      fill: #FFFFFF;\n",
              "    }\n",
              "  </style>\n",
              "\n",
              "      <script>\n",
              "        const buttonEl =\n",
              "          document.querySelector('#df-1333d364-d816-4bb1-910e-1e4f9a8f89d1 button.colab-df-convert');\n",
              "        buttonEl.style.display =\n",
              "          google.colab.kernel.accessAllowed ? 'block' : 'none';\n",
              "\n",
              "        async function convertToInteractive(key) {\n",
              "          const element = document.querySelector('#df-1333d364-d816-4bb1-910e-1e4f9a8f89d1');\n",
              "          const dataTable =\n",
              "            await google.colab.kernel.invokeFunction('convertToInteractive',\n",
              "                                                     [key], {});\n",
              "          if (!dataTable) return;\n",
              "\n",
              "          const docLinkHtml = 'Like what you see? Visit the ' +\n",
              "            '<a target=\"_blank\" href=https://colab.research.google.com/notebooks/data_table.ipynb>data table notebook</a>'\n",
              "            + ' to learn more about interactive tables.';\n",
              "          element.innerHTML = '';\n",
              "          dataTable['output_type'] = 'display_data';\n",
              "          await google.colab.output.renderOutput(dataTable, element);\n",
              "          const docLink = document.createElement('div');\n",
              "          docLink.innerHTML = docLinkHtml;\n",
              "          element.appendChild(docLink);\n",
              "        }\n",
              "      </script>\n",
              "    </div>\n",
              "  </div>\n",
              "  "
            ]
          },
          "metadata": {},
          "execution_count": 79
        }
      ],
      "source": [
        "test_onehot"
      ]
    },
    {
      "cell_type": "markdown",
      "metadata": {
        "id": "1PrnuzX4h5f2"
      },
      "source": [
        "WHEN WE APPLY ONE-HOT ENCODING, OUR DATASET ATTRIBUTES INCREASED UPTO 51.BUT BEFORE MOVING TO THINK ABOUT IT, LET US USE SCALING METHOD(STANDARD SCALING) TO SCALE OUR DATA."
      ]
    },
    {
      "cell_type": "code",
      "execution_count": null,
      "metadata": {
        "id": "H7AcmJmRh5f2"
      },
      "outputs": [],
      "source": [
        "from sklearn.preprocessing import StandardScaler"
      ]
    },
    {
      "cell_type": "code",
      "execution_count": null,
      "metadata": {
        "id": "FSZQq2YWh5f2"
      },
      "outputs": [],
      "source": [
        "SS = StandardScaler()\n",
        "test_onehot = SS.fit_transform(test_onehot)"
      ]
    },
    {
      "cell_type": "markdown",
      "metadata": {
        "id": "EbahJZ7Xh5f2"
      },
      "source": [
        "NOW WE NEED TO REDUCE THE DIMENSION OF OUR DATA, SO WE ARE APPLYING PCA TECHNIQUE."
      ]
    },
    {
      "cell_type": "code",
      "execution_count": null,
      "metadata": {
        "id": "Avm0Dxi3h5f2"
      },
      "outputs": [],
      "source": [
        "from sklearn.decomposition import PCA"
      ]
    },
    {
      "cell_type": "code",
      "execution_count": null,
      "metadata": {
        "colab": {
          "base_uri": "https://localhost:8080/",
          "height": 295
        },
        "id": "gDQFDzafh5f2",
        "outputId": "ada402c5-c52a-4a8d-ee2d-79e7ab15bfb5"
      },
      "outputs": [
        {
          "output_type": "display_data",
          "data": {
            "text/plain": [
              "<Figure size 432x288 with 1 Axes>"
            ],
            "image/png": "[encoded data removed]"
          },
          "metadata": {
            "needs_background": "light"
          }
        }
      ],
      "source": [
        "# FITTING PCA\n",
        "pca = PCA().fit(test_onehot)\n",
        "\n",
        "# PLOT\n",
        "plt.figure()\n",
        "plt.plot(np.cumsum(pca.explained_variance_ratio_))\n",
        "plt.xlabel('Number of components')\n",
        "plt.ylabel('Variance % for each components')\n",
        "plt.title('Explained variance')\n",
        "plt.show()"
      ]
    },
    {
      "cell_type": "markdown",
      "metadata": {
        "id": "TzrGAoTNh5f2"
      },
      "source": [
        "FROM ABOVE FIGURE IT SEEMS THAT OUR COMPONENTS BENDS AFTER APPROX. 40 SO WE SELECT NEARLY 40 FOR 100% VARIANCE DATA."
      ]
    },
    {
      "cell_type": "code",
      "execution_count": null,
      "metadata": {
        "id": "oMy3Ibbxh5f3"
      },
      "outputs": [],
      "source": [
        "pca=PCA(n_components=40)\n",
        "\n",
        "pca.fit(test_onehot)\n",
        "test = pca.transform(test_onehot)"
      ]
    },
    {
      "cell_type": "code",
      "execution_count": null,
      "metadata": {
        "colab": {
          "base_uri": "https://localhost:8080/"
        },
        "id": "kw7qV5YPSehL",
        "outputId": "228fa309-e25b-425d-853d-deab83a3e53a"
      },
      "outputs": [
        {
          "output_type": "execute_result",
          "data": {
            "text/plain": [
              "array([[ 2.40278013, -3.07454633,  2.02979559, ..., -2.12615506,\n",
              "        -0.65984045,  0.36847018],\n",
              "       [-1.32350176,  1.68215631, -1.90798662, ..., -0.58245977,\n",
              "        -0.11203644, -1.19145404],\n",
              "       [ 0.82063264, -1.17269653, -0.86549389, ...,  0.27585672,\n",
              "         0.14916542,  0.31839848],\n",
              "       ...,\n",
              "       [-3.20663767,  0.31168808,  1.95499103, ...,  0.35703556,\n",
              "        -0.10101019,  0.50269394],\n",
              "       [ 1.59016798,  4.58192774,  3.27147649, ...,  0.97143031,\n",
              "         0.11716978, -0.40919955],\n",
              "       [-0.01028788, -0.5696224 ,  0.36928894, ...,  0.60247256,\n",
              "         0.01997879,  0.15706593]])"
            ]
          },
          "metadata": {},
          "execution_count": 85
        }
      ],
      "source": [
        "test"
      ]
    },
    {
      "cell_type": "markdown",
      "metadata": {
        "id": "61WG2dsPh5f3"
      },
      "source": [
        "WE ARE APPLYING K-MEANS ALGORITHM TO OUR DATA. BUT HOW TO DETERMINE K VALUE!! IT IS EASY. WE WILL USE ELBOW METHOD TO DETERMINE THE VALUE OF K. WE WILL VISUALIZE IT AND SEE FROM WHERE IT FORMS AN ELBOW."
      ]
    },
    {
      "cell_type": "code",
      "execution_count": null,
      "metadata": {
        "id": "he4H2RxNh5f3"
      },
      "outputs": [],
      "source": [
        "from sklearn.datasets import make_blobs\n",
        "from sklearn.cluster import KMeans"
      ]
    },
    {
      "cell_type": "code",
      "execution_count": null,
      "metadata": {
        "colab": {
          "base_uri": "https://localhost:8080/",
          "height": 295
        },
        "id": "R534ty0Ph5f3",
        "outputId": "ac3c0623-942d-412d-f7c9-8a289ee9f030"
      },
      "outputs": [
        {
          "output_type": "display_data",
          "data": {
            "text/plain": [
              "<Figure size 432x288 with 1 Axes>"
            ],
            "image/png": "[encoded data removed]"
          },
          "metadata": {
            "needs_background": "light"
          }
        }
      ],
      "source": [
        "Sum_of_squared_distances = []\n",
        "K = range(1,15)\n",
        "for k in K:\n",
        "    km = KMeans(n_clusters=k)\n",
        "    km = km.fit(test)\n",
        "    Sum_of_squared_distances.append(km.inertia_)\n",
        "\n",
        "#VISUALIZING PLOT\n",
        "plt.plot(K, Sum_of_squared_distances, 'bx-')\n",
        "plt.xlabel('k')\n",
        "plt.ylabel('Sum_of_squared_distances')\n",
        "plt.title('Elbow Method For Optimal k')\n",
        "plt.show()"
      ]
    },
    {
      "cell_type": "code",
      "execution_count": null,
      "metadata": {
        "id": "2pF9mT55h5f3"
      },
      "outputs": [],
      "source": [
        "kmeans = KMeans(n_clusters=2, init='k-means++', n_init=50, max_iter=1000, verbose=0, random_state=50, copy_x=False, algorithm='auto')\n",
        "y_kmeans=kmeans.fit_predict(test)"
      ]
    },
    {
      "cell_type": "code",
      "execution_count": null,
      "metadata": {
        "colab": {
          "base_uri": "https://localhost:8080/",
          "height": 281
        },
        "id": "Jw9A902kR2Rm",
        "outputId": "0413c7d5-a5e2-4e9c-af8f-5552fb22eb0f"
      },
      "outputs": [
        {
          "output_type": "display_data",
          "data": {
            "text/plain": [
              "<Figure size 432x288 with 1 Axes>"
            ],
            "image/png": "[encoded data removed]"
          },
          "metadata": {
            "needs_background": "light"
          }
        }
      ],
      "source": [
        "#PLOTTING THROUGH K-MEANS\n",
        "plt.scatter(test[y_kmeans==0,0],test[y_kmeans==0,1],s=100,c='red',label='Cluster1')\n",
        "plt.scatter(test[y_kmeans==1,0],test[y_kmeans==1,1],s=100,c='orange',label='Cluster2')\n",
        "plt.scatter(kmeans.cluster_centers_[:,0],kmeans.cluster_centers_[:,1],s=300,c='yellow',label='Centroids')\n",
        "plt.title('Clusters of data')\n",
        "plt.legend()\n",
        "plt.show()"
      ]
    },
    {
      "cell_type": "code",
      "execution_count": null,
      "metadata": {
        "colab": {
          "base_uri": "https://localhost:8080/"
        },
        "id": "rQI18bIHh5f3",
        "outputId": "97e60e5c-332f-41eb-bf6d-fd6442d382a7"
      },
      "outputs": [
        {
          "output_type": "stream",
          "name": "stdout",
          "text": [
            "PREDICTED LABELS:\n",
            " [0 0 0 ... 0 1 0]\n"
          ]
        }
      ],
      "source": [
        "print(\"PREDICTED LABELS:\\n\",y_kmeans)"
      ]
    },
    {
      "cell_type": "code",
      "execution_count": null,
      "metadata": {
        "colab": {
          "base_uri": "https://localhost:8080/"
        },
        "id": "NeQ9WdBXnS2b",
        "outputId": "1f43bf24-f998-46b3-f001-d045a92c212b"
      },
      "outputs": [
        {
          "output_type": "stream",
          "name": "stderr",
          "text": [
            "/usr/local/lib/python3.7/dist-packages/ipykernel_launcher.py:2: SettingWithCopyWarning: \n",
            "A value is trying to be set on a copy of a slice from a DataFrame.\n",
            "Try using .loc[row_indexer,col_indexer] = value instead\n",
            "\n",
            "See the caveats in the documentation: https://pandas.pydata.org/pandas-docs/stable/user_guide/indexing.html#returning-a-view-versus-a-copy\n",
            "  \n"
          ]
        }
      ],
      "source": [
        "# ADDING LABEL COLUMN TO TESTING DATA\n",
        "test_data['term_deposit_subscribed'] = y_kmeans"
      ]
    },
    {
      "cell_type": "code",
      "execution_count": null,
      "metadata": {
        "colab": {
          "base_uri": "https://localhost:8080/"
        },
        "id": "EyVbtdCqoEwN",
        "outputId": "a7e74a2d-4a18-4a34-bc64-a1271f21d261"
      },
      "outputs": [
        {
          "output_type": "stream",
          "name": "stdout",
          "text": [
            "<class 'pandas.core.frame.DataFrame'>\n",
            "Int64Index: 12589 entries, 0 to 13563\n",
            "Data columns (total 16 columns):\n",
            " #   Column                      Non-Null Count  Dtype  \n",
            "---  ------                      --------------  -----  \n",
            " 0   customer_age                12589 non-null  float64\n",
            " 1   job_type                    12589 non-null  int64  \n",
            " 2   marital                     12589 non-null  int64  \n",
            " 3   education                   12589 non-null  int64  \n",
            " 4   default                     12589 non-null  int64  \n",
            " 5   balance                     12589 non-null  float64\n",
            " 6   housing_loan                12589 non-null  int64  \n",
            " 7   personal_loan               12589 non-null  int64  \n",
            " 8   communication_type          12589 non-null  int64  \n",
            " 9   day_of_month                12589 non-null  int64  \n",
            " 10  month                       12589 non-null  int64  \n",
            " 11  last_contact_duration       12589 non-null  float64\n",
            " 12  num_contacts_in_campaign    12589 non-null  float64\n",
            " 13  num_contacts_prev_campaign  12589 non-null  int64  \n",
            " 14  prev_campaign_outcome       12589 non-null  int64  \n",
            " 15  term_deposit_subscribed     12589 non-null  int32  \n",
            "dtypes: float64(4), int32(1), int64(11)\n",
            "memory usage: 1.6 MB\n"
          ]
        }
      ],
      "source": [
        "test_data.info()"
      ]
    },
    {
      "cell_type": "markdown",
      "metadata": {
        "id": "NUfCuDwASNN4"
      },
      "source": [
        "THUS, WE HAVE PREDICTED THE Y VALUES, BASED ON CLUSTERING"
      ]
    },
    {
      "cell_type": "markdown",
      "metadata": {
        "id": "Bx_trWm3pBED"
      },
      "source": [
        "### **MAKING THE MODEL**"
      ]
    },
    {
      "cell_type": "markdown",
      "metadata": {
        "id": "sBcYsXdBTKtx"
      },
      "source": [
        "#### **GETTING OUR DATASETS**\n",
        "\n"
      ]
    },
    {
      "cell_type": "code",
      "execution_count": null,
      "metadata": {
        "colab": {
          "base_uri": "https://localhost:8080/",
          "height": 487
        },
        "id": "txfFoIJPb_Tn",
        "outputId": "42334682-e4eb-46e4-a8fa-9d6e3085cb61"
      },
      "outputs": [
        {
          "output_type": "execute_result",
          "data": {
            "text/plain": [
              "       customer_age  job_type  marital  education  default  balance  \\\n",
              "0              28.0         4        2          2        0    285.0   \n",
              "1              34.0         1        1          1        0    934.0   \n",
              "2              46.0         9        1          1        0    656.0   \n",
              "3              34.0         7        2          1        0      2.0   \n",
              "4              41.0         1        1          0        0   1352.0   \n",
              "...             ...       ...      ...        ...      ...      ...   \n",
              "13559          29.0         4        2          2        0    717.0   \n",
              "13560          39.0         1        1          1        0    604.0   \n",
              "13561          45.0         1        1          0        0    237.0   \n",
              "13562          52.0         0        1          0        0    241.0   \n",
              "13563          51.0         9        1          3        0    368.0   \n",
              "\n",
              "       housing_loan  personal_loan  communication_type  day_of_month  month  \\\n",
              "0                 1              0                   2            26      6   \n",
              "1                 0              1                   0            18      9   \n",
              "2                 0              0                   0             5      3   \n",
              "3                 1              0                   2            20      8   \n",
              "4                 1              0                   0            13      8   \n",
              "...             ...            ...                 ...           ...    ...   \n",
              "13559             1              0                   0            15      6   \n",
              "13560             1              0                   1            10      5   \n",
              "13561             1              0                   2            16      8   \n",
              "13562             1              0                   0            13      8   \n",
              "13563             1              0                   0            15      5   \n",
              "\n",
              "       last_contact_duration  num_contacts_in_campaign  \\\n",
              "0                      303.0                       4.0   \n",
              "1                      143.0                       2.0   \n",
              "2                      101.0                       4.0   \n",
              "3                      127.0                       3.0   \n",
              "4                       49.0                       2.0   \n",
              "...                      ...                       ...   \n",
              "13559                   94.0                       1.0   \n",
              "13560                  155.0                       1.0   \n",
              "13561                  231.0                       4.0   \n",
              "13562                  243.0                       2.0   \n",
              "13563                  102.0                       2.0   \n",
              "\n",
              "       num_contacts_prev_campaign  prev_campaign_outcome  \\\n",
              "0                               0                      3   \n",
              "1                               1                      1   \n",
              "2                               0                      3   \n",
              "3                               0                      3   \n",
              "4                               0                      3   \n",
              "...                           ...                    ...   \n",
              "13559                           0                      3   \n",
              "13560                           0                      3   \n",
              "13561                           0                      3   \n",
              "13562                           5                      0   \n",
              "13563                           0                      3   \n",
              "\n",
              "       term_deposit_subscribed  \n",
              "0                            0  \n",
              "1                            0  \n",
              "2                            0  \n",
              "3                            0  \n",
              "4                            0  \n",
              "...                        ...  \n",
              "13559                        0  \n",
              "13560                        0  \n",
              "13561                        0  \n",
              "13562                        1  \n",
              "13563                        0  \n",
              "\n",
              "[41799 rows x 16 columns]"
            ],
            "text/html": [
              "\n",
              "  <div id=\"df-3d8f764a-0ce9-475b-bd03-bebe67302eab\">\n",
              "    <div class=\"colab-df-container\">\n",
              "      <div>\n",
              "<style scoped>\n",
              "    .dataframe tbody tr th:only-of-type {\n",
              "        vertical-align: middle;\n",
              "    }\n",
              "\n",
              "    .dataframe tbody tr th {\n",
              "        vertical-align: top;\n",
              "    }\n",
              "\n",
              "    .dataframe thead th {\n",
              "        text-align: right;\n",
              "    }\n",
              "</style>\n",
              "<table border=\"1\" class=\"dataframe\">\n",
              "  <thead>\n",
              "    <tr style=\"text-align: right;\">\n",
              "      <th></th>\n",
              "      <th>customer_age</th>\n",
              "      <th>job_type</th>\n",
              "      <th>marital</th>\n",
              "      <th>education</th>\n",
              "      <th>default</th>\n",
              "      <th>balance</th>\n",
              "      <th>housing_loan</th>\n",
              "      <th>personal_loan</th>\n",
              "      <th>communication_type</th>\n",
              "      <th>day_of_month</th>\n",
              "      <th>month</th>\n",
              "      <th>last_contact_duration</th>\n",
              "      <th>num_contacts_in_campaign</th>\n",
              "      <th>num_contacts_prev_campaign</th>\n",
              "      <th>prev_campaign_outcome</th>\n",
              "      <th>term_deposit_subscribed</th>\n",
              "    </tr>\n",
              "  </thead>\n",
              "  <tbody>\n",
              "    <tr>\n",
              "      <th>0</th>\n",
              "      <td>28.0</td>\n",
              "      <td>4</td>\n",
              "      <td>2</td>\n",
              "      <td>2</td>\n",
              "      <td>0</td>\n",
              "      <td>285.0</td>\n",
              "      <td>1</td>\n",
              "      <td>0</td>\n",
              "      <td>2</td>\n",
              "      <td>26</td>\n",
              "      <td>6</td>\n",
              "      <td>303.0</td>\n",
              "      <td>4.0</td>\n",
              "      <td>0</td>\n",
              "      <td>3</td>\n",
              "      <td>0</td>\n",
              "    </tr>\n",
              "    <tr>\n",
              "      <th>1</th>\n",
              "      <td>34.0</td>\n",
              "      <td>1</td>\n",
              "      <td>1</td>\n",
              "      <td>1</td>\n",
              "      <td>0</td>\n",
              "      <td>934.0</td>\n",
              "      <td>0</td>\n",
              "      <td>1</td>\n",
              "      <td>0</td>\n",
              "      <td>18</td>\n",
              "      <td>9</td>\n",
              "      <td>143.0</td>\n",
              "      <td>2.0</td>\n",
              "      <td>1</td>\n",
              "      <td>1</td>\n",
              "      <td>0</td>\n",
              "    </tr>\n",
              "    <tr>\n",
              "      <th>2</th>\n",
              "      <td>46.0</td>\n",
              "      <td>9</td>\n",
              "      <td>1</td>\n",
              "      <td>1</td>\n",
              "      <td>0</td>\n",
              "      <td>656.0</td>\n",
              "      <td>0</td>\n",
              "      <td>0</td>\n",
              "      <td>0</td>\n",
              "      <td>5</td>\n",
              "      <td>3</td>\n",
              "      <td>101.0</td>\n",
              "      <td>4.0</td>\n",
              "      <td>0</td>\n",
              "      <td>3</td>\n",
              "      <td>0</td>\n",
              "    </tr>\n",
              "    <tr>\n",
              "      <th>3</th>\n",
              "      <td>34.0</td>\n",
              "      <td>7</td>\n",
              "      <td>2</td>\n",
              "      <td>1</td>\n",
              "      <td>0</td>\n",
              "      <td>2.0</td>\n",
              "      <td>1</td>\n",
              "      <td>0</td>\n",
              "      <td>2</td>\n",
              "      <td>20</td>\n",
              "      <td>8</td>\n",
              "      <td>127.0</td>\n",
              "      <td>3.0</td>\n",
              "      <td>0</td>\n",
              "      <td>3</td>\n",
              "      <td>0</td>\n",
              "    </tr>\n",
              "    <tr>\n",
              "      <th>4</th>\n",
              "      <td>41.0</td>\n",
              "      <td>1</td>\n",
              "      <td>1</td>\n",
              "      <td>0</td>\n",
              "      <td>0</td>\n",
              "      <td>1352.0</td>\n",
              "      <td>1</td>\n",
              "      <td>0</td>\n",
              "      <td>0</td>\n",
              "      <td>13</td>\n",
              "      <td>8</td>\n",
              "      <td>49.0</td>\n",
              "      <td>2.0</td>\n",
              "      <td>0</td>\n",
              "      <td>3</td>\n",
              "      <td>0</td>\n",
              "    </tr>\n",
              "    <tr>\n",
              "      <th>...</th>\n",
              "      <td>...</td>\n",
              "      <td>...</td>\n",
              "      <td>...</td>\n",
              "      <td>...</td>\n",
              "      <td>...</td>\n",
              "      <td>...</td>\n",
              "      <td>...</td>\n",
              "      <td>...</td>\n",
              "      <td>...</td>\n",
              "      <td>...</td>\n",
              "      <td>...</td>\n",
              "      <td>...</td>\n",
              "      <td>...</td>\n",
              "      <td>...</td>\n",
              "      <td>...</td>\n",
              "      <td>...</td>\n",
              "    </tr>\n",
              "    <tr>\n",
              "      <th>13559</th>\n",
              "      <td>29.0</td>\n",
              "      <td>4</td>\n",
              "      <td>2</td>\n",
              "      <td>2</td>\n",
              "      <td>0</td>\n",
              "      <td>717.0</td>\n",
              "      <td>1</td>\n",
              "      <td>0</td>\n",
              "      <td>0</td>\n",
              "      <td>15</td>\n",
              "      <td>6</td>\n",
              "      <td>94.0</td>\n",
              "      <td>1.0</td>\n",
              "      <td>0</td>\n",
              "      <td>3</td>\n",
              "      <td>0</td>\n",
              "    </tr>\n",
              "    <tr>\n",
              "      <th>13560</th>\n",
              "      <td>39.0</td>\n",
              "      <td>1</td>\n",
              "      <td>1</td>\n",
              "      <td>1</td>\n",
              "      <td>0</td>\n",
              "      <td>604.0</td>\n",
              "      <td>1</td>\n",
              "      <td>0</td>\n",
              "      <td>1</td>\n",
              "      <td>10</td>\n",
              "      <td>5</td>\n",
              "      <td>155.0</td>\n",
              "      <td>1.0</td>\n",
              "      <td>0</td>\n",
              "      <td>3</td>\n",
              "      <td>0</td>\n",
              "    </tr>\n",
              "    <tr>\n",
              "      <th>13561</th>\n",
              "      <td>45.0</td>\n",
              "      <td>1</td>\n",
              "      <td>1</td>\n",
              "      <td>0</td>\n",
              "      <td>0</td>\n",
              "      <td>237.0</td>\n",
              "      <td>1</td>\n",
              "      <td>0</td>\n",
              "      <td>2</td>\n",
              "      <td>16</td>\n",
              "      <td>8</td>\n",
              "      <td>231.0</td>\n",
              "      <td>4.0</td>\n",
              "      <td>0</td>\n",
              "      <td>3</td>\n",
              "      <td>0</td>\n",
              "    </tr>\n",
              "    <tr>\n",
              "      <th>13562</th>\n",
              "      <td>52.0</td>\n",
              "      <td>0</td>\n",
              "      <td>1</td>\n",
              "      <td>0</td>\n",
              "      <td>0</td>\n",
              "      <td>241.0</td>\n",
              "      <td>1</td>\n",
              "      <td>0</td>\n",
              "      <td>0</td>\n",
              "      <td>13</td>\n",
              "      <td>8</td>\n",
              "      <td>243.0</td>\n",
              "      <td>2.0</td>\n",
              "      <td>5</td>\n",
              "      <td>0</td>\n",
              "      <td>1</td>\n",
              "    </tr>\n",
              "    <tr>\n",
              "      <th>13563</th>\n",
              "      <td>51.0</td>\n",
              "      <td>9</td>\n",
              "      <td>1</td>\n",
              "      <td>3</td>\n",
              "      <td>0</td>\n",
              "      <td>368.0</td>\n",
              "      <td>1</td>\n",
              "      <td>0</td>\n",
              "      <td>0</td>\n",
              "      <td>15</td>\n",
              "      <td>5</td>\n",
              "      <td>102.0</td>\n",
              "      <td>2.0</td>\n",
              "      <td>0</td>\n",
              "      <td>3</td>\n",
              "      <td>0</td>\n",
              "    </tr>\n",
              "  </tbody>\n",
              "</table>\n",
              "<p>41799 rows × 16 columns</p>\n",
              "</div>\n",
              "      <button class=\"colab-df-convert\" onclick=\"convertToInteractive('df-3d8f764a-0ce9-475b-bd03-bebe67302eab')\"\n",
              "              title=\"Convert this dataframe to an interactive table.\"\n",
              "              style=\"display:none;\">\n",
              "        \n",
              "  <svg xmlns=\"http://www.w3.org/2000/svg\" height=\"24px\"viewBox=\"0 0 24 24\"\n",
              "       width=\"24px\">\n",
              "    <path d=\"M0 0h24v24H0V0z\" fill=\"none\"/>\n",
              "    <path d=\"M18.56 5.44l.94 2.06.94-2.06 2.06-.94-2.06-.94-.94-2.06-.94 2.06-2.06.94zm-11 1L8.5 8.5l.94-2.06 2.06-.94-2.06-.94L8.5 2.5l-.94 2.06-2.06.94zm10 10l.94 2.06.94-2.06 2.06-.94-2.06-.94-.94-2.06-.94 2.06-2.06.94z\"/><path d=\"M17.41 7.96l-1.37-1.37c-.4-.4-.92-.59-1.43-.59-.52 0-1.04.2-1.43.59L10.3 9.45l-7.72 7.72c-.78.78-.78 2.05 0 2.83L4 21.41c.39.39.9.59 1.41.59.51 0 1.02-.2 1.41-.59l7.78-7.78 2.81-2.81c.8-.78.8-2.07 0-2.86zM5.41 20L4 18.59l7.72-7.72 1.47 1.35L5.41 20z\"/>\n",
              "  </svg>\n",
              "      </button>\n",
              "      \n",
              "  <style>\n",
              "    .colab-df-container {\n",
              "      display:flex;\n",
              "      flex-wrap:wrap;\n",
              "      gap: 12px;\n",
              "    }\n",
              "\n",
              "    .colab-df-convert {\n",
              "      background-color: #E8F0FE;\n",
              "      border: none;\n",
              "      border-radius: 50%;\n",
              "      cursor: pointer;\n",
              "      display: none;\n",
              "      fill: #1967D2;\n",
              "      height: 32px;\n",
              "      padding: 0 0 0 0;\n",
              "      width: 32px;\n",
              "    }\n",
              "\n",
              "    .colab-df-convert:hover {\n",
              "      background-color: #E2EBFA;\n",
              "      box-shadow: 0px 1px 2px rgba(60, 64, 67, 0.3), 0px 1px 3px 1px rgba(60, 64, 67, 0.15);\n",
              "      fill: #174EA6;\n",
              "    }\n",
              "\n",
              "    [theme=dark] .colab-df-convert {\n",
              "      background-color: #3B4455;\n",
              "      fill: #D2E3FC;\n",
              "    }\n",
              "\n",
              "    [theme=dark] .colab-df-convert:hover {\n",
              "      background-color: #434B5C;\n",
              "      box-shadow: 0px 1px 3px 1px rgba(0, 0, 0, 0.15);\n",
              "      filter: drop-shadow(0px 1px 2px rgba(0, 0, 0, 0.3));\n",
              "      fill: #FFFFFF;\n",
              "    }\n",
              "  </style>\n",
              "\n",
              "      <script>\n",
              "        const buttonEl =\n",
              "          document.querySelector('#df-3d8f764a-0ce9-475b-bd03-bebe67302eab button.colab-df-convert');\n",
              "        buttonEl.style.display =\n",
              "          google.colab.kernel.accessAllowed ? 'block' : 'none';\n",
              "\n",
              "        async function convertToInteractive(key) {\n",
              "          const element = document.querySelector('#df-3d8f764a-0ce9-475b-bd03-bebe67302eab');\n",
              "          const dataTable =\n",
              "            await google.colab.kernel.invokeFunction('convertToInteractive',\n",
              "                                                     [key], {});\n",
              "          if (!dataTable) return;\n",
              "\n",
              "          const docLinkHtml = 'Like what you see? Visit the ' +\n",
              "            '<a target=\"_blank\" href=https://colab.research.google.com/notebooks/data_table.ipynb>data table notebook</a>'\n",
              "            + ' to learn more about interactive tables.';\n",
              "          element.innerHTML = '';\n",
              "          dataTable['output_type'] = 'display_data';\n",
              "          await google.colab.output.renderOutput(dataTable, element);\n",
              "          const docLink = document.createElement('div');\n",
              "          docLink.innerHTML = docLinkHtml;\n",
              "          element.appendChild(docLink);\n",
              "        }\n",
              "      </script>\n",
              "    </div>\n",
              "  </div>\n",
              "  "
            ]
          },
          "metadata": {},
          "execution_count": 93
        }
      ],
      "source": [
        "data = train_data.copy()\n",
        "data.append(test_data)"
      ]
    },
    {
      "cell_type": "markdown",
      "metadata": {
        "id": "CzR7zBkjTeEz"
      },
      "source": [
        "#### **SPLITTING THE DATASET**"
      ]
    },
    {
      "cell_type": "code",
      "execution_count": null,
      "metadata": {
        "id": "j619yXSCcFmM"
      },
      "outputs": [],
      "source": [
        "# GETTING FEATURES AND LABEL\n",
        "X = data.iloc[:, :-1].values\n",
        "Y = data.iloc[:, -1].values.reshape(-1,1)"
      ]
    },
    {
      "cell_type": "code",
      "execution_count": null,
      "metadata": {
        "id": "5W0FjdLRT1wA"
      },
      "outputs": [],
      "source": [
        "# GETTING TRAINING DATA\n",
        "X_train = train_data.iloc[:, :-1].values\n",
        "Y_train = train_data.iloc[:, -1].values.reshape(-1,1)"
      ]
    },
    {
      "cell_type": "code",
      "execution_count": null,
      "metadata": {
        "id": "8z0nxeDAUkUH"
      },
      "outputs": [],
      "source": [
        "# GETTING TESTING DATA\n",
        "X_test = test_data.iloc[:, :-1].values\n",
        "Y_test = test_data.iloc[:, -1].values.reshape(-1,1) "
      ]
    },
    {
      "cell_type": "markdown",
      "metadata": {
        "id": "B7FtVyf5Tumz"
      },
      "source": [
        "#### **BUILDING THE MODEL**"
      ]
    },
    {
      "cell_type": "markdown",
      "metadata": {
        "id": "VAYmykrEhcT_"
      },
      "source": [
        "**BUILDING RANDOM FOREST CLASSIFIER**"
      ]
    },
    {
      "cell_type": "code",
      "execution_count": null,
      "metadata": {
        "id": "ink7LiVGZ_6r"
      },
      "outputs": [],
      "source": [
        "# IMPORT RANDOM FOREST CLASSIFIER\n",
        "from sklearn.ensemble import RandomForestClassifier"
      ]
    },
    {
      "cell_type": "code",
      "execution_count": null,
      "metadata": {
        "colab": {
          "base_uri": "https://localhost:8080/"
        },
        "id": "9eqDlP29X7qR",
        "outputId": "cd4784e7-5291-4434-dc79-4aed03024a1d"
      },
      "outputs": [
        {
          "output_type": "stream",
          "name": "stderr",
          "text": [
            "/usr/local/lib/python3.7/dist-packages/ipykernel_launcher.py:2: DataConversionWarning: A column-vector y was passed when a 1d array was expected. Please change the shape of y to (n_samples,), for example using ravel().\n",
            "  \n"
          ]
        }
      ],
      "source": [
        "RF = RandomForestClassifier(n_estimators=1000)\n",
        "RF = RF.fit(X_train, Y_train)\n",
        "\n",
        "# TRAINING \n",
        "Y_train_pred = RF.predict(X_train)\n",
        "\n",
        "# TEST \n",
        "Y_test_pred = RF.predict(X_test)"
      ]
    },
    {
      "cell_type": "code",
      "execution_count": null,
      "metadata": {
        "colab": {
          "base_uri": "https://localhost:8080/"
        },
        "id": "7JB_xaN9YHWF",
        "outputId": "09c2bf67-a59a-44f6-dccc-5413a5f4e02b"
      },
      "outputs": [
        {
          "output_type": "stream",
          "name": "stdout",
          "text": [
            "ACCURACY ON TRAINING DATA IS: 1.0\n",
            "ACCURACY ON TESTING DATA IS: 0.8304869330367781\n"
          ]
        }
      ],
      "source": [
        "# CHECKING PERFORMANCE\n",
        "from sklearn.metrics import accuracy_score\n",
        "train_acc = accuracy_score(Y_train,Y_train_pred)  #ACCURACY SCORE ON TRAINING DATA\n",
        "print(\"ACCURACY ON TRAINING DATA IS:\",train_acc)\n",
        "\n",
        "test_acc = accuracy_score(Y_test,Y_test_pred)  #ACCURACY SCORE ON TESTING DATA\n",
        "print(\"ACCURACY ON TESTING DATA IS:\",test_acc)"
      ]
    },
    {
      "cell_type": "code",
      "execution_count": null,
      "metadata": {
        "colab": {
          "base_uri": "https://localhost:8080/"
        },
        "id": "0sqLrMnXW8Za",
        "outputId": "2f21fd7d-1a32-4ecb-d410-1bde167e716b"
      },
      "outputs": [
        {
          "output_type": "stream",
          "name": "stdout",
          "text": [
            "F1 SCORE IS: 0.7970118392985398\n"
          ]
        }
      ],
      "source": [
        "# F1 SCORE\n",
        "from sklearn.metrics import f1_score\n",
        "f1 = f1_score(Y_test, Y_test_pred, average='weighted')\n",
        "print(\"F1 SCORE IS:\",f1)"
      ]
    },
    {
      "cell_type": "markdown",
      "metadata": {
        "id": "-6WVFYX6hkOY"
      },
      "source": [
        "BUILDING RANDOM FOREST CLASSIFIER USING K-FOLD CROSS VALIDATION"
      ]
    },
    {
      "cell_type": "code",
      "execution_count": null,
      "metadata": {
        "id": "UBP3eWJiTS4e"
      },
      "outputs": [],
      "source": [
        "from sklearn.model_selection import cross_val_score, RepeatedStratifiedKFold"
      ]
    },
    {
      "cell_type": "code",
      "execution_count": null,
      "metadata": {
        "colab": {
          "base_uri": "https://localhost:8080/"
        },
        "id": "5I3Fm65ATmyq",
        "outputId": "13d2f9ab-2a8e-40f9-f928-fe93508d53ae"
      },
      "outputs": [
        {
          "output_type": "stream",
          "name": "stdout",
          "text": [
            "ACCURACY AFTER K-FOLD CROSS VALIDATION: 0.919\n"
          ]
        }
      ],
      "source": [
        "# DEFINING MODEL\n",
        "model = RandomForestClassifier(n_estimators=1000)\n",
        "\n",
        "# DEFINING EVAULATING METHOD\n",
        "cv = RepeatedStratifiedKFold(n_splits=10, n_repeats=3, random_state=1)\n",
        "\n",
        "# EVAULATING MODEL\n",
        "scores = cross_val_score(model, X, Y, scoring='accuracy', cv=cv, n_jobs=-1)\n",
        "\n",
        "# PERFORMANCE\n",
        "print('ACCURACY AFTER K-FOLD CROSS VALIDATION: %.3f' % np.mean(scores))"
      ]
    },
    {
      "cell_type": "markdown",
      "metadata": {
        "id": "ihxPQkgIl97J"
      },
      "source": [
        "**THUS, OUR MODEL IS BUILD WITH ACCURACY OF:**\n",
        "\n",
        "- **83.024% WITHOUT CROSS VALIDATION**\n",
        "- **91.9% WITH CROSS VALIDATION**"
      ]
    }
  ],
  "metadata": {
    "accelerator": "GPU",
    "colab": {
      "collapsed_sections": [
        "LEW7Qb3uJYOm",
        "aBI5cmQ5jX94",
        "1Pb8xHd-K90K",
        "smOTwPCLMk5I"
      ],
      "name": "ML MINI PROJECT.ipynb",
      "provenance": [],
      "include_colab_link": true
    },
    "kernelspec": {
      "display_name": "Python 3",
      "name": "python3"
    },
    "language_info": {
      "name": "python"
    }
  },
  "nbformat": 4,
  "nbformat_minor": 0
}