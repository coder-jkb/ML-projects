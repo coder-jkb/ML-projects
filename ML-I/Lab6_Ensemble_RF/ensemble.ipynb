{
 "cells": [
  {
   "cell_type": "code",
   "execution_count": 1,
   "metadata": {},
   "outputs": [],
   "source": [
    "import numpy as np\n",
    "import pandas as pd"
   ]
  },
  {
   "cell_type": "code",
   "execution_count": 2,
   "metadata": {},
   "outputs": [
    {
     "data": {
      "text/html": [
       "<div>\n",
       "<style scoped>\n",
       "    .dataframe tbody tr th:only-of-type {\n",
       "        vertical-align: middle;\n",
       "    }\n",
       "\n",
       "    .dataframe tbody tr th {\n",
       "        vertical-align: top;\n",
       "    }\n",
       "\n",
       "    .dataframe thead th {\n",
       "        text-align: right;\n",
       "    }\n",
       "</style>\n",
       "<table border=\"1\" class=\"dataframe\">\n",
       "  <thead>\n",
       "    <tr style=\"text-align: right;\">\n",
       "      <th></th>\n",
       "      <th>Id</th>\n",
       "      <th>SepalLengthCm</th>\n",
       "      <th>SepalWidthCm</th>\n",
       "      <th>PetalLengthCm</th>\n",
       "      <th>PetalWidthCm</th>\n",
       "      <th>Species</th>\n",
       "    </tr>\n",
       "  </thead>\n",
       "  <tbody>\n",
       "    <tr>\n",
       "      <th>0</th>\n",
       "      <td>1</td>\n",
       "      <td>5.1</td>\n",
       "      <td>3.5</td>\n",
       "      <td>1.4</td>\n",
       "      <td>0.2</td>\n",
       "      <td>Iris-setosa</td>\n",
       "    </tr>\n",
       "    <tr>\n",
       "      <th>1</th>\n",
       "      <td>2</td>\n",
       "      <td>4.9</td>\n",
       "      <td>3.0</td>\n",
       "      <td>1.4</td>\n",
       "      <td>0.2</td>\n",
       "      <td>Iris-setosa</td>\n",
       "    </tr>\n",
       "    <tr>\n",
       "      <th>2</th>\n",
       "      <td>3</td>\n",
       "      <td>4.7</td>\n",
       "      <td>3.2</td>\n",
       "      <td>1.3</td>\n",
       "      <td>0.2</td>\n",
       "      <td>Iris-setosa</td>\n",
       "    </tr>\n",
       "    <tr>\n",
       "      <th>3</th>\n",
       "      <td>4</td>\n",
       "      <td>4.6</td>\n",
       "      <td>3.1</td>\n",
       "      <td>1.5</td>\n",
       "      <td>0.2</td>\n",
       "      <td>Iris-setosa</td>\n",
       "    </tr>\n",
       "    <tr>\n",
       "      <th>4</th>\n",
       "      <td>5</td>\n",
       "      <td>5.0</td>\n",
       "      <td>3.6</td>\n",
       "      <td>1.4</td>\n",
       "      <td>0.2</td>\n",
       "      <td>Iris-setosa</td>\n",
       "    </tr>\n",
       "  </tbody>\n",
       "</table>\n",
       "</div>"
      ],
      "text/plain": [
       "   Id  SepalLengthCm  SepalWidthCm  PetalLengthCm  PetalWidthCm      Species\n",
       "0   1            5.1           3.5            1.4           0.2  Iris-setosa\n",
       "1   2            4.9           3.0            1.4           0.2  Iris-setosa\n",
       "2   3            4.7           3.2            1.3           0.2  Iris-setosa\n",
       "3   4            4.6           3.1            1.5           0.2  Iris-setosa\n",
       "4   5            5.0           3.6            1.4           0.2  Iris-setosa"
      ]
     },
     "execution_count": 2,
     "metadata": {},
     "output_type": "execute_result"
    }
   ],
   "source": [
    "iris = pd.read_csv('iris.csv')\n",
    "iris.head()"
   ]
  },
  {
   "cell_type": "code",
   "execution_count": 3,
   "metadata": {},
   "outputs": [
    {
     "name": "stdout",
     "output_type": "stream",
     "text": [
      "<class 'pandas.core.frame.DataFrame'>\n",
      "RangeIndex: 150 entries, 0 to 149\n",
      "Data columns (total 6 columns):\n",
      " #   Column         Non-Null Count  Dtype  \n",
      "---  ------         --------------  -----  \n",
      " 0   Id             150 non-null    int64  \n",
      " 1   SepalLengthCm  150 non-null    float64\n",
      " 2   SepalWidthCm   150 non-null    float64\n",
      " 3   PetalLengthCm  150 non-null    float64\n",
      " 4   PetalWidthCm   150 non-null    float64\n",
      " 5   Species        150 non-null    object \n",
      "dtypes: float64(4), int64(1), object(1)\n",
      "memory usage: 7.2+ KB\n"
     ]
    }
   ],
   "source": [
    "iris.info()"
   ]
  },
  {
   "cell_type": "code",
   "execution_count": 6,
   "metadata": {},
   "outputs": [],
   "source": [
    "iris.drop('Id',axis=1,inplace=True)"
   ]
  },
  {
   "cell_type": "markdown",
   "metadata": {},
   "source": [
    "## *DT FROM SCRATCH*"
   ]
  },
  {
   "cell_type": "code",
   "execution_count": 12,
   "metadata": {},
   "outputs": [],
   "source": [
    "class Node:\n",
    "    def __init__(self, feature_index=None, threshold=None,\n",
    "                left=None, right=None,info_gain=None,value=None):\n",
    "        # decision node atributes\n",
    "        self.feature_index = feature_index\n",
    "        self.threshold = threshold\n",
    "        self.left = left\n",
    "        self.right = right\n",
    "        self.info_gain = info_gain\n",
    "\n",
    "        # leaf node attribute\n",
    "        self.value = value\n",
    "\n",
    "class DecisionTreeClassifier_scratch:\n",
    "    def __init__(self,min_samples_split=2,max_depth=2,mode='gini'):\n",
    "\n",
    "        # initializing the root of the tree\n",
    "        # tge root will be used to traverse through the tree\n",
    "        self.root = None\n",
    "        self.mode = mode\n",
    "\n",
    "        # stopping conditions\n",
    "        # if number of samples is less than min_samples_split \n",
    "        #       then consider it as leaf node (no more splitting)\n",
    "\n",
    "        self.min_samples_split=min_samples_split\n",
    "\n",
    "        # if depth reaches the max_depth then dont split the tree further\n",
    "        self.max_depth=max_depth\n",
    "\n",
    "    def build_tree(self,data,curr_depth=0):\n",
    "        # Build the tree recursively\n",
    "        #   all rows and columns from starting index to secondlast index\n",
    "        X = data[:,:-1] # trainig features\n",
    "        y = data[:,-1] # (target) feature to be classified \n",
    "        no_samples, no_features = np.shape(X) # number of samples , number of features\n",
    "\n",
    "        # split untill stopping conditions are met\n",
    "        if no_samples >=self.min_samples_split and curr_depth <= self.max_depth:\n",
    "            # find the best split\n",
    "            # best split is a dictionary returned by the best_split function\n",
    "            best_split = self.get_best_split(data, no_samples, no_features)\n",
    "            #   all rows and last column\n",
    "\n",
    "            # zero information gain means that node is already pure (leaf), \n",
    "            # hence info gain must be positive for spliting\n",
    "\n",
    "            if best_split['info_gain'] > 0:\n",
    "\n",
    "                # reursion\n",
    "                lst = self.build_tree(best_split[\"left_data\"], curr_depth+1)  # left sub tree\n",
    "                rst = self.build_tree(best_split[\"right_data\"], curr_depth+1) # right sub tree\n",
    "\n",
    "                return Node(best_split[\"feature_index\"], \n",
    "                            best_split[\"threshold\"], \n",
    "                            lst, rst, \n",
    "                            best_split[\"info_gain\"]) # as its not a leat node we donot pass 'value' \n",
    "\n",
    "        # if splitting conditions is not met ... we have reached a leaf node\n",
    "        # compute leaf value\n",
    "        leafValue = self.calc_leaf_value(y)\n",
    "        return Node(value = leafValue)\n",
    "\n",
    "\n",
    "    def get_best_split(self, data, no_samples, no_features):\n",
    "        best_split = {}\n",
    "        max_info_gain = -float('inf') # selected minimum value for max info gain : -ve infinity\n",
    "\n",
    "        # iterate over all features\n",
    "        for fi in range(no_features):\n",
    "            feature_value = data[:,fi]\n",
    "            possible_thresholds = np.unique(feature_value)\n",
    "            # threshhold values are real num and \n",
    "            # it is practically impossible to iterate through all the threshhold values\n",
    "            # thus we make a finite list of possible_thresholds\n",
    "            for th in possible_thresholds:\n",
    "\n",
    "                # splitting the data into left_data and right_data\n",
    "                left_data, right_data = self.split(data,fi,th)\n",
    "\n",
    "                # ensuring that any of the and right_data is not empty\n",
    "                if len(left_data) > 0 and len(right_data) > 0:\n",
    "                    y = data[:,-1]\n",
    "                    left_y = left_data[:,-1]\n",
    "                    right_y = right_data[:,-1]\n",
    "\n",
    "                    # computing the info gain based on the mode specified (default gini)\n",
    "                    curr_info_gain = self.compute_info_gain(y, left_y, right_y, self.mode)\n",
    "\n",
    "                    # if we get higher information gain than previous then we select that split\n",
    "                    if curr_info_gain > max_info_gain:\n",
    "                        best_split['feature_index'] = fi\n",
    "                        best_split['threshold'] = th\n",
    "                        best_split['left_data'] = left_data\n",
    "                        best_split['right_data'] = right_data\n",
    "                        best_split['info_gain'] = curr_info_gain\n",
    "                        max_info_gain = curr_info_gain\n",
    "\n",
    "        return best_split\n",
    "\n",
    "\n",
    "    def split(self, data, feature_index, threshold):\n",
    "\n",
    "        # split the into left child and right child based on threshhold\n",
    "        left_data = np.array([row for row in data if row[feature_index] <= threshold])\n",
    "        right_data = np.array([row for row in data if row[feature_index] > threshold])\n",
    "        return left_data, right_data\n",
    "\n",
    "    def compute_info_gain(self, parent, left, right, mode='entropy'):\n",
    "        # computing left weight (wl) & right weight (wr)\n",
    "        wl = len(left)/len(parent)\n",
    "        wr = len(right)/len(parent)\n",
    "\n",
    "        if mode == 'entropy':\n",
    "            # ig = information gain\n",
    "            ig = self.entropy(parent) - ( wl*self.entropy(left) + wr*self.entropy(right) )\n",
    "        else:\n",
    "            ig = self.gini_index(parent) - ( wl*self.gini_index(left) + wr*self.gini_index(right) )\n",
    "\n",
    "        return ig\n",
    "\n",
    "    def entropy(self, y):\n",
    "        entropy = 0\n",
    "        labels = np.unique(y) # class labels\n",
    "        for l in labels:\n",
    "            p = len(y[y == l]) / len(y)\n",
    "            entropy += -p * np.log2(p)\n",
    "        return entropy\n",
    "\n",
    "    def gini_index(self,y):\n",
    "        g = 0\n",
    "        labels = np.unique(y) # class labels\n",
    "        for l in labels:\n",
    "            p = len(y[y == l]) / len(y)\n",
    "            g += p**2\n",
    "        gi = 1 - g\n",
    "        return gi\n",
    "\n",
    "    def calc_leaf_value(self,y):\n",
    "        y = list(y)\n",
    "        return max(y, key=y.count)\n",
    "\n",
    "    def print_tree(self,tree=None,indent=\"  \"):\n",
    "        if not tree:\n",
    "            tree = self.root\n",
    "        if tree.value is not None: # print value of leaf node\n",
    "            print(tree.value)\n",
    "\n",
    "        else:\n",
    "            print(f\"X_ {tree.feature_index} <=  {tree.threshold} ? Info gain = {tree.info_gain}\")\n",
    "            print(f\"{indent}left:\",end='')\n",
    "            self.print_tree(tree.left, indent+indent)\n",
    "            print(f\"{indent}right:\",end='')\n",
    "            self.print_tree(tree.right, indent+indent)\n",
    "\n",
    "    def fit(self, X, y):\n",
    "        data = np.concatenate((X,y),axis=1)\n",
    "        self.root = self.build_tree(data)\n",
    "\n",
    "    def predict(self,X):\n",
    "        # predict set of values\n",
    "        predictions = [self.make_predictions(x, self.root) for x in X]\n",
    "        return np.array(predictions).reshape(-1,1)\n",
    "\n",
    "    def make_predictions(self,x,tree):\n",
    "        # to predict a single data point\n",
    "\n",
    "        if tree.value != None: # leaf node\n",
    "            return tree.value \n",
    "        feature_val = x[tree.feature_index] # extracting feature value at a giveb feature index\n",
    "        if feature_val <= tree.threshold:\n",
    "            return self.make_predictions(x,tree.left)\n",
    "        else:\n",
    "            return self.make_predictions(x,tree.right)        "
   ]
  },
  {
   "cell_type": "code",
   "execution_count": 13,
   "metadata": {},
   "outputs": [],
   "source": [
    "from sklearn.model_selection import train_test_split\n",
    "X = iris.iloc[:,:-1].values\n",
    "y = iris.iloc[:,-1].values.reshape(-1,1)\n",
    "X_train, X_test, y_train, y_test = train_test_split(X, y,test_size=0.2, random_state=1)"
   ]
  },
  {
   "cell_type": "code",
   "execution_count": 35,
   "metadata": {},
   "outputs": [
    {
     "name": "stdout",
     "output_type": "stream",
     "text": [
      "X_ 2 <=  1.9 ? Info gain = 0.3298816872427983\n",
      "  left:Iris-setosa\n",
      "  right:X_ 3 <=  1.6 ? Info gain = 0.3832877944691655\n",
      "    left:X_ 2 <=  4.9 ? Info gain = 0.13999999999999996\n",
      "        left:Iris-versicolor\n",
      "        right:X_ 0 <=  6.0 ? Info gain = 0.11999999999999983\n",
      "                left:Iris-virginica\n",
      "                right:Iris-virginica\n",
      "    right:X_ 2 <=  4.8 ? Info gain = 0.011005353955978708\n",
      "        left:X_ 1 <=  3.0 ? Info gain = 0.375\n",
      "                left:Iris-virginica\n",
      "                right:Iris-versicolor\n",
      "        right:Iris-virginica\n"
     ]
    }
   ],
   "source": [
    "model = DecisionTreeClassifier_scratch(min_samples_split=2, max_depth=3, mode='gini')\n",
    "model.fit(X_train,y_train)\n",
    "model.print_tree()"
   ]
  },
  {
   "cell_type": "code",
   "execution_count": 36,
   "metadata": {},
   "outputs": [],
   "source": [
    "from sklearn.metrics import accuracy_score"
   ]
  },
  {
   "cell_type": "code",
   "execution_count": 37,
   "metadata": {},
   "outputs": [],
   "source": [
    "y_pred_train = model.predict(X_train)\n",
    "y_pred_test = model.predict(X_test)"
   ]
  },
  {
   "cell_type": "code",
   "execution_count": 38,
   "metadata": {},
   "outputs": [],
   "source": [
    "test_acc = accuracy_score(y_test, y_pred_test)*100\n",
    "train_acc = accuracy_score(y_train, y_pred_train)*100"
   ]
  },
  {
   "cell_type": "code",
   "execution_count": 39,
   "metadata": {},
   "outputs": [
    {
     "name": "stdout",
     "output_type": "stream",
     "text": [
      "train accuracy 99.16666666666667%\n",
      "test accuracy 96.66666666666667%\n"
     ]
    }
   ],
   "source": [
    "print(f\"train accuracy {train_acc}%\")\n",
    "print(f\"test accuracy {test_acc}%\")"
   ]
  },
  {
   "cell_type": "markdown",
   "metadata": {},
   "source": [
    "## *Random forest*"
   ]
  },
  {
   "cell_type": "code",
   "execution_count": 40,
   "metadata": {},
   "outputs": [],
   "source": [
    "from sklearn.ensemble import RandomForestClassifier"
   ]
  },
  {
   "cell_type": "code",
   "execution_count": 41,
   "metadata": {},
   "outputs": [
    {
     "name": "stderr",
     "output_type": "stream",
     "text": [
      "<ipython-input-41-884d89bd1594>:2: DataConversionWarning: A column-vector y was passed when a 1d array was expected. Please change the shape of y to (n_samples,), for example using ravel().\n",
      "  rf = rf.fit(X_train, y_train)\n"
     ]
    },
    {
     "name": "stdout",
     "output_type": "stream",
     "text": [
      "train accuracy 100.0%\n",
      "test accuracy 96.66666666666667%\n"
     ]
    }
   ],
   "source": [
    "rf = RandomForestClassifier(n_estimators=100)\n",
    "rf = rf.fit(X_train, y_train)\n",
    "\n",
    "y_pred_train = rf.predict(X_train)\n",
    "y_pred_test = rf.predict(X_test)\n",
    "\n",
    "test_acc = accuracy_score(y_test, y_pred_test)*100\n",
    "train_acc = accuracy_score(y_train, y_pred_train)*100\n",
    "\n",
    "print(f\"train accuracy {train_acc}%\")\n",
    "print(f\"test accuracy {test_acc}%\")"
   ]
  },
  {
   "cell_type": "code",
   "execution_count": 48,
   "metadata": {},
   "outputs": [],
   "source": [
    "from sklearn.tree import DecisionTreeClassifier "
   ]
  },
  {
   "cell_type": "code",
   "execution_count": 59,
   "metadata": {},
   "outputs": [],
   "source": [
    "iris_model = DecisionTreeClassifier()\n",
    "X_train, X_test, y_train, y_test = train_test_split(X, y,test_size=0.2, random_state=1)\n",
    "iris_model.fit(X_train,y_train)\n",
    "\n",
    "train_pred = iris_model.predict(X_train)\n",
    "test_pred = iris_model.predict(X_test)"
   ]
  },
  {
   "cell_type": "code",
   "execution_count": 60,
   "metadata": {},
   "outputs": [
    {
     "data": {
      "text/plain": [
       "1.0"
      ]
     },
     "execution_count": 60,
     "metadata": {},
     "output_type": "execute_result"
    }
   ],
   "source": [
    "# train accuracy\n",
    "accuracy_score(y_train, train_pred)"
   ]
  },
  {
   "cell_type": "code",
   "execution_count": 61,
   "metadata": {},
   "outputs": [
    {
     "data": {
      "text/plain": [
       "0.9666666666666667"
      ]
     },
     "execution_count": 61,
     "metadata": {},
     "output_type": "execute_result"
    }
   ],
   "source": [
    "accuracy_score(y_test, test_pred)"
   ]
  },
  {
   "cell_type": "code",
   "execution_count": 62,
   "metadata": {},
   "outputs": [],
   "source": [
    "train_acc_list = []\n",
    "test_acc_list = []\n",
    "# depth from 2 to 20\n",
    "depths = range(1,21)\n",
    "for depth in depths:\n",
    "    # make model (of required depth) and fit that model\n",
    "    model = DecisionTreeClassifier(max_depth=depth)\n",
    "    model = model.fit(X_train, y_train)\n",
    "\n",
    "    # predict train and test labels\n",
    "    y_pred_train = model.predict(X_train)\n",
    "    y_pred_test = model.predict(X_test)\n",
    "\n",
    "    # calc accuracy of train and test and keep appending in seperate lists\n",
    "    train_acc_list.append( accuracy_score(y_train, y_pred_train) )\n",
    "    test_acc_list.append( accuracy_score(y_test, y_pred_test) )"
   ]
  },
  {
   "cell_type": "code",
   "execution_count": 63,
   "metadata": {},
   "outputs": [
    {
     "name": "stdout",
     "output_type": "stream",
     "text": [
      "[0.6916666666666667, 0.9583333333333334, 0.9833333333333333, 0.9916666666666667, 1.0, 1.0, 1.0, 1.0, 1.0, 1.0, 1.0, 1.0, 1.0, 1.0, 1.0, 1.0, 1.0, 1.0, 1.0, 1.0]\n",
      "[0.5666666666666667, 0.9666666666666667, 0.9666666666666667, 0.9666666666666667, 0.9666666666666667, 0.9666666666666667, 0.9666666666666667, 0.9666666666666667, 0.9666666666666667, 0.9666666666666667, 0.9666666666666667, 0.9666666666666667, 0.9666666666666667, 0.9666666666666667, 0.9666666666666667, 0.9666666666666667, 0.9666666666666667, 0.9666666666666667, 0.9666666666666667, 0.9666666666666667]\n"
     ]
    }
   ],
   "source": [
    "print(train_acc_list)\n",
    "print(test_acc_list)"
   ]
  },
  {
   "cell_type": "code",
   "execution_count": 57,
   "metadata": {},
   "outputs": [],
   "source": [
    "import matplotlib.pyplot as plt\n",
    "plt.style.use('ggplot')\n",
    "%matplotlib inline"
   ]
  },
  {
   "cell_type": "code",
   "execution_count": 64,
   "metadata": {},
   "outputs": [
    {
     "data": {
      "image/png": "[encoded data removed]",
      "text/plain": [
       "<Figure size 504x504 with 1 Axes>"
      ]
     },
     "metadata": {
      "needs_background": "light"
     },
     "output_type": "display_data"
    }
   ],
   "source": [
    "depth_list = range(1,21)\n",
    "fig = plt.figure(figsize=(7,7))\n",
    "\n",
    "plt.plot(depth_list, train_acc_list, label='Train Accuracy', color='black')\n",
    "plt.plot(depth_list, test_acc_list, label='Test Accuracy', color='blue')\n",
    "\n",
    "plt.xlabel('Max depth')\n",
    "plt.ylabel('Accuracy')\n",
    "\n",
    "plt.legend()\n",
    "\n",
    "plt.show()"
   ]
  },
  {
   "cell_type": "code",
   "execution_count": 42,
   "metadata": {},
   "outputs": [
    {
     "data": {
      "text/plain": [
       "Index(['SepalLengthCm', 'SepalWidthCm', 'PetalLengthCm', 'PetalWidthCm',\n",
       "       'Species'],\n",
       "      dtype='object')"
      ]
     },
     "execution_count": 42,
     "metadata": {},
     "output_type": "execute_result"
    }
   ],
   "source": [
    "iris.columns"
   ]
  },
  {
   "cell_type": "markdown",
   "metadata": {},
   "source": [
    "### feature importance"
   ]
  },
  {
   "cell_type": "code",
   "execution_count": 47,
   "metadata": {},
   "outputs": [
    {
     "data": {
      "text/plain": [
       "PetalLengthCm    0.476940\n",
       "PetalWidthCm     0.366544\n",
       "SepalLengthCm    0.124420\n",
       "SepalWidthCm     0.032097\n",
       "dtype: float64"
      ]
     },
     "execution_count": 47,
     "metadata": {},
     "output_type": "execute_result"
    }
   ],
   "source": [
    "feature_imp = pd.Series(rf.feature_importances_, index = iris.columns[:-1])\n",
    "feature_imp.sort_values(ascending=False)"
   ]
  },
  {
   "cell_type": "markdown",
   "metadata": {},
   "source": [
    "## *Random forest from scratch*"
   ]
  },
  {
   "cell_type": "code",
   "execution_count": null,
   "metadata": {},
   "outputs": [],
   "source": [
    "def Random_forest(train, test, max_depth, )"
   ]
  },
  {
   "cell_type": "markdown",
   "metadata": {},
   "source": [
    "## sonar dataset"
   ]
  },
  {
   "cell_type": "code",
   "execution_count": 66,
   "metadata": {},
   "outputs": [
    {
     "name": "stdout",
     "output_type": "stream",
     "text": [
      "<class 'pandas.core.frame.DataFrame'>\n",
      "RangeIndex: 207 entries, 0 to 206\n",
      "Data columns (total 61 columns):\n",
      " #   Column  Non-Null Count  Dtype  \n",
      "---  ------  --------------  -----  \n",
      " 0   0.0200  207 non-null    float64\n",
      " 1   0.0371  207 non-null    float64\n",
      " 2   0.0428  207 non-null    float64\n",
      " 3   0.0207  207 non-null    float64\n",
      " 4   0.0954  207 non-null    float64\n",
      " 5   0.0986  207 non-null    float64\n",
      " 6   0.1539  207 non-null    float64\n",
      " 7   0.1601  207 non-null    float64\n",
      " 8   0.3109  207 non-null    float64\n",
      " 9   0.2111  207 non-null    float64\n",
      " 10  0.1609  207 non-null    float64\n",
      " 11  0.1582  207 non-null    float64\n",
      " 12  0.2238  207 non-null    float64\n",
      " 13  0.0645  207 non-null    float64\n",
      " 14  0.0660  207 non-null    float64\n",
      " 15  0.2273  207 non-null    float64\n",
      " 16  0.3100  207 non-null    float64\n",
      " 17  0.2999  207 non-null    float64\n",
      " 18  0.5078  207 non-null    float64\n",
      " 19  0.4797  207 non-null    float64\n",
      " 20  0.5783  207 non-null    float64\n",
      " 21  0.5071  207 non-null    float64\n",
      " 22  0.4328  207 non-null    float64\n",
      " 23  0.5550  207 non-null    float64\n",
      " 24  0.6711  207 non-null    float64\n",
      " 25  0.6415  207 non-null    float64\n",
      " 26  0.7104  207 non-null    float64\n",
      " 27  0.8080  207 non-null    float64\n",
      " 28  0.6791  207 non-null    float64\n",
      " 29  0.3857  207 non-null    float64\n",
      " 30  0.1307  207 non-null    float64\n",
      " 31  0.2604  207 non-null    float64\n",
      " 32  0.5121  207 non-null    float64\n",
      " 33  0.7547  207 non-null    float64\n",
      " 34  0.8537  207 non-null    float64\n",
      " 35  0.8507  207 non-null    float64\n",
      " 36  0.6692  207 non-null    float64\n",
      " 37  0.6097  207 non-null    float64\n",
      " 38  0.4943  207 non-null    float64\n",
      " 39  0.2744  207 non-null    float64\n",
      " 40  0.0510  207 non-null    float64\n",
      " 41  0.2834  207 non-null    float64\n",
      " 42  0.2825  207 non-null    float64\n",
      " 43  0.4256  207 non-null    float64\n",
      " 44  0.2641  207 non-null    float64\n",
      " 45  0.1386  207 non-null    float64\n",
      " 46  0.1051  207 non-null    float64\n",
      " 47  0.1343  207 non-null    float64\n",
      " 48  0.0383  207 non-null    float64\n",
      " 49  0.0324  207 non-null    float64\n",
      " 50  0.0232  207 non-null    float64\n",
      " 51  0.0027  207 non-null    float64\n",
      " 52  0.0065  207 non-null    float64\n",
      " 53  0.0159  207 non-null    float64\n",
      " 54  0.0072  207 non-null    float64\n",
      " 55  0.0167  207 non-null    float64\n",
      " 56  0.0180  207 non-null    float64\n",
      " 57  0.0084  207 non-null    float64\n",
      " 58  0.0090  207 non-null    float64\n",
      " 59  0.0032  207 non-null    float64\n",
      " 60  R       207 non-null    object \n",
      "dtypes: float64(60), object(1)\n",
      "memory usage: 98.8+ KB\n"
     ]
    }
   ],
   "source": [
    "sr = pd.read_csv(\"sonar.csv\")\n",
    "sr.info()"
   ]
  },
  {
   "cell_type": "code",
   "execution_count": null,
   "metadata": {},
   "outputs": [],
   "source": []
  }
 ],
 "metadata": {
  "interpreter": {
   "hash": "60f5decb5d5f75cee078769f31acc91db8399f71b0160f2efe6eadfe23786558"
  },
  "kernelspec": {
   "display_name": "Python 3.9.1 64-bit",
   "language": "python",
   "name": "python3"
  },
  "language_info": {
   "codemirror_mode": {
    "name": "ipython",
    "version": 3
   },
   "file_extension": ".py",
   "mimetype": "text/x-python",
   "name": "python",
   "nbconvert_exporter": "python",
   "pygments_lexer": "ipython3",
   "version": "3.9.1"
  },
  "orig_nbformat": 4
 },
 "nbformat": 4,
 "nbformat_minor": 2
}
