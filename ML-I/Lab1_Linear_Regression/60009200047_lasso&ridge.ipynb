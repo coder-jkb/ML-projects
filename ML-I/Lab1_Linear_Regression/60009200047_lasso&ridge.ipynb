{
 "cells": [
  {
   "cell_type": "markdown",
   "metadata": {},
   "source": [
    "### Lasso & Ridge normalization on linear regression (on Generated Dataset)\n",
    "\n",
    "### Jay Bhanushali\n",
    "\n",
    "### 60009200047\n",
    "\n",
    "### K2 Batch"
   ]
  },
  {
   "cell_type": "code",
   "execution_count": 2,
   "metadata": {},
   "outputs": [],
   "source": [
    "import numpy as np\n",
    "import pandas as pd\n",
    "import matplotlib.pyplot as plt\n",
    "import seaborn as sns\n",
    "%matplotlib inline\n",
    "plt.style.use('ggplot')\n",
    "plt.rcParams['figure.figsize'] = (10,8)"
   ]
  },
  {
   "cell_type": "markdown",
   "metadata": {},
   "source": [
    "Generated data (Single feature)"
   ]
  },
  {
   "cell_type": "code",
   "execution_count": 3,
   "metadata": {},
   "outputs": [
    {
     "data": {
      "text/plain": [
       "Text(0.5, 1.0, 'X vs y')"
      ]
     },
     "execution_count": 3,
     "metadata": {},
     "output_type": "execute_result"
    },
    {
     "data": {
      "image/png": "[encoded data removed]",
      "text/plain": [
       "<Figure size 720x576 with 1 Axes>"
      ]
     },
     "metadata": {},
     "output_type": "display_data"
    }
   ],
   "source": [
    "# Generate random data\n",
    "\n",
    "X = np.arange(0,100) # integers from 0 to 99 (to generate 100 datapoints)\n",
    "\n",
    "noise = np.random.uniform(-5,5, size=(100,))\n",
    "\n",
    "y = 0.3*X + 7 + noise\n",
    "\n",
    "df=pd.DataFrame( {'X' : X , 'y':y} )\n",
    "#plot the data\n",
    "\n",
    "ax = sns.scatterplot(x = \"X\", y = \"y\", data = df)\n",
    "ax.set_xlabel(\"X\")\n",
    "ax.set_ylabel(\"y\")\n",
    "ax.set_title(\"X vs y\")\n"
   ]
  },
  {
   "cell_type": "code",
   "execution_count": 4,
   "metadata": {},
   "outputs": [
    {
     "data": {
      "text/html": [
       "<div>\n",
       "<style scoped>\n",
       "    .dataframe tbody tr th:only-of-type {\n",
       "        vertical-align: middle;\n",
       "    }\n",
       "\n",
       "    .dataframe tbody tr th {\n",
       "        vertical-align: top;\n",
       "    }\n",
       "\n",
       "    .dataframe thead th {\n",
       "        text-align: right;\n",
       "    }\n",
       "</style>\n",
       "<table border=\"1\" class=\"dataframe\">\n",
       "  <thead>\n",
       "    <tr style=\"text-align: right;\">\n",
       "      <th></th>\n",
       "      <th>X</th>\n",
       "      <th>y</th>\n",
       "    </tr>\n",
       "  </thead>\n",
       "  <tbody>\n",
       "    <tr>\n",
       "      <th>0</th>\n",
       "      <td>0</td>\n",
       "      <td>11.226871</td>\n",
       "    </tr>\n",
       "    <tr>\n",
       "      <th>1</th>\n",
       "      <td>1</td>\n",
       "      <td>9.139687</td>\n",
       "    </tr>\n",
       "    <tr>\n",
       "      <th>2</th>\n",
       "      <td>2</td>\n",
       "      <td>5.747928</td>\n",
       "    </tr>\n",
       "    <tr>\n",
       "      <th>3</th>\n",
       "      <td>3</td>\n",
       "      <td>10.198610</td>\n",
       "    </tr>\n",
       "    <tr>\n",
       "      <th>4</th>\n",
       "      <td>4</td>\n",
       "      <td>7.065772</td>\n",
       "    </tr>\n",
       "    <tr>\n",
       "      <th>...</th>\n",
       "      <td>...</td>\n",
       "      <td>...</td>\n",
       "    </tr>\n",
       "    <tr>\n",
       "      <th>95</th>\n",
       "      <td>95</td>\n",
       "      <td>32.042256</td>\n",
       "    </tr>\n",
       "    <tr>\n",
       "      <th>96</th>\n",
       "      <td>96</td>\n",
       "      <td>38.492526</td>\n",
       "    </tr>\n",
       "    <tr>\n",
       "      <th>97</th>\n",
       "      <td>97</td>\n",
       "      <td>32.967889</td>\n",
       "    </tr>\n",
       "    <tr>\n",
       "      <th>98</th>\n",
       "      <td>98</td>\n",
       "      <td>36.707074</td>\n",
       "    </tr>\n",
       "    <tr>\n",
       "      <th>99</th>\n",
       "      <td>99</td>\n",
       "      <td>36.178386</td>\n",
       "    </tr>\n",
       "  </tbody>\n",
       "</table>\n",
       "<p>100 rows × 2 columns</p>\n",
       "</div>"
      ],
      "text/plain": [
       "     X          y\n",
       "0    0  11.226871\n",
       "1    1   9.139687\n",
       "2    2   5.747928\n",
       "3    3  10.198610\n",
       "4    4   7.065772\n",
       "..  ..        ...\n",
       "95  95  32.042256\n",
       "96  96  38.492526\n",
       "97  97  32.967889\n",
       "98  98  36.707074\n",
       "99  99  36.178386\n",
       "\n",
       "[100 rows x 2 columns]"
      ]
     },
     "execution_count": 4,
     "metadata": {},
     "output_type": "execute_result"
    }
   ],
   "source": [
    "df"
   ]
  },
  {
   "cell_type": "markdown",
   "metadata": {},
   "source": [
    "Function for root mean square error"
   ]
  },
  {
   "cell_type": "code",
   "execution_count": 5,
   "metadata": {},
   "outputs": [],
   "source": [
    "def rmse(y, y_hat):\n",
    "    y, y_hat = np.squeeze(y), np.squeeze(y_hat)\n",
    "    n = len(y)\n",
    "    error = np.sqrt( (1/n) * np.sum( (y-y_hat)**2 ) )\n",
    "    return error\n"
   ]
  },
  {
   "cell_type": "code",
   "execution_count": 6,
   "metadata": {},
   "outputs": [],
   "source": [
    "from sklearn.linear_model import LinearRegression, Lasso, Ridge"
   ]
  },
  {
   "cell_type": "code",
   "execution_count": 7,
   "metadata": {},
   "outputs": [],
   "source": [
    "#Linear\n",
    "def LinearRegressionModel(df):\n",
    "    X=df.X.values.reshape(-1,1)\n",
    "    y=df.y.values.reshape(-1,1)\n",
    "\n",
    "    model = LinearRegression().fit(X , y)\n",
    "    y_hat = model.predict(X)   \n",
    "\n",
    "    error = rmse(y,y_hat)\n",
    "    return error"
   ]
  },
  {
   "cell_type": "code",
   "execution_count": 8,
   "metadata": {},
   "outputs": [],
   "source": [
    "#Lasso\n",
    "def LassoRidge(df):\n",
    "    X=df.X.values.reshape(-1,1)\n",
    "    y=df.y.values.reshape(-1,1)\n",
    "\n",
    "    lasso_model = Lasso(alpha=0.01).fit(X , y)\n",
    "    ridge_model = Ridge(alpha=0.01).fit(X , y)\n",
    "\n",
    "    y_hat_lasso = lasso_model.predict(X)   \n",
    "    y_hat_ridge = ridge_model.predict(X)   \n",
    "\n",
    "    lasso_error = rmse(y,y_hat_lasso)\n",
    "    ridge_error = rmse(y,y_hat_ridge)\n",
    "    return lasso_error, ridge_error"
   ]
  },
  {
   "cell_type": "code",
   "execution_count": 9,
   "metadata": {},
   "outputs": [
    {
     "name": "stdout",
     "output_type": "stream",
     "text": [
      "Root mean square errors:\n",
      "\n",
      "Linear Regression: 2.8716002629848547\n",
      "Lasso Regression: 2.871600283881217\n",
      "Ridge Regression: 2.8716002629850474\n"
     ]
    }
   ],
   "source": [
    "errors = []\n",
    "lr = LinearRegressionModel(df)\n",
    "lasso, ridge = LassoRidge(df)\n",
    "err = (lr, lasso, ridge)\n",
    "print(f\"Root mean square errors:\\n\\nLinear Regression: {err[0]}\\nLasso Regression: {err[1]}\\nRidge Regression: {err[2]}\")"
   ]
  },
  {
   "cell_type": "markdown",
   "metadata": {},
   "source": [
    "As we can see, RMSE is equal (up to 4 decimal places) for all three methodes. Linear performs same as Lasso and rigde for single feature"
   ]
  },
  {
   "cell_type": "markdown",
   "metadata": {},
   "source": [
    "Generating multivariate data"
   ]
  },
  {
   "cell_type": "code",
   "execution_count": 10,
   "metadata": {},
   "outputs": [
    {
     "data": {
      "text/html": [
       "<div>\n",
       "<style scoped>\n",
       "    .dataframe tbody tr th:only-of-type {\n",
       "        vertical-align: middle;\n",
       "    }\n",
       "\n",
       "    .dataframe tbody tr th {\n",
       "        vertical-align: top;\n",
       "    }\n",
       "\n",
       "    .dataframe thead th {\n",
       "        text-align: right;\n",
       "    }\n",
       "</style>\n",
       "<table border=\"1\" class=\"dataframe\">\n",
       "  <thead>\n",
       "    <tr style=\"text-align: right;\">\n",
       "      <th></th>\n",
       "      <th>X_0</th>\n",
       "      <th>X_1</th>\n",
       "      <th>X_2</th>\n",
       "      <th>X_3</th>\n",
       "      <th>y</th>\n",
       "    </tr>\n",
       "  </thead>\n",
       "  <tbody>\n",
       "    <tr>\n",
       "      <th>0</th>\n",
       "      <td>0</td>\n",
       "      <td>0</td>\n",
       "      <td>0.000000</td>\n",
       "      <td>0</td>\n",
       "      <td>11.853309</td>\n",
       "    </tr>\n",
       "    <tr>\n",
       "      <th>1</th>\n",
       "      <td>1</td>\n",
       "      <td>2</td>\n",
       "      <td>1.000000</td>\n",
       "      <td>1</td>\n",
       "      <td>13.739626</td>\n",
       "    </tr>\n",
       "    <tr>\n",
       "      <th>2</th>\n",
       "      <td>2</td>\n",
       "      <td>4</td>\n",
       "      <td>1.414214</td>\n",
       "      <td>4</td>\n",
       "      <td>13.363810</td>\n",
       "    </tr>\n",
       "    <tr>\n",
       "      <th>3</th>\n",
       "      <td>3</td>\n",
       "      <td>6</td>\n",
       "      <td>1.732051</td>\n",
       "      <td>9</td>\n",
       "      <td>23.783221</td>\n",
       "    </tr>\n",
       "    <tr>\n",
       "      <th>4</th>\n",
       "      <td>4</td>\n",
       "      <td>8</td>\n",
       "      <td>2.000000</td>\n",
       "      <td>16</td>\n",
       "      <td>27.517352</td>\n",
       "    </tr>\n",
       "    <tr>\n",
       "      <th>...</th>\n",
       "      <td>...</td>\n",
       "      <td>...</td>\n",
       "      <td>...</td>\n",
       "      <td>...</td>\n",
       "      <td>...</td>\n",
       "    </tr>\n",
       "    <tr>\n",
       "      <th>95</th>\n",
       "      <td>95</td>\n",
       "      <td>190</td>\n",
       "      <td>9.746794</td>\n",
       "      <td>9025</td>\n",
       "      <td>9122.753465</td>\n",
       "    </tr>\n",
       "    <tr>\n",
       "      <th>96</th>\n",
       "      <td>96</td>\n",
       "      <td>192</td>\n",
       "      <td>9.797959</td>\n",
       "      <td>9216</td>\n",
       "      <td>9319.982785</td>\n",
       "    </tr>\n",
       "    <tr>\n",
       "      <th>97</th>\n",
       "      <td>97</td>\n",
       "      <td>194</td>\n",
       "      <td>9.848858</td>\n",
       "      <td>9409</td>\n",
       "      <td>9514.229679</td>\n",
       "    </tr>\n",
       "    <tr>\n",
       "      <th>98</th>\n",
       "      <td>98</td>\n",
       "      <td>196</td>\n",
       "      <td>9.899495</td>\n",
       "      <td>9604</td>\n",
       "      <td>9711.852642</td>\n",
       "    </tr>\n",
       "    <tr>\n",
       "      <th>99</th>\n",
       "      <td>99</td>\n",
       "      <td>198</td>\n",
       "      <td>9.949874</td>\n",
       "      <td>9801</td>\n",
       "      <td>9910.746276</td>\n",
       "    </tr>\n",
       "  </tbody>\n",
       "</table>\n",
       "<p>100 rows × 5 columns</p>\n",
       "</div>"
      ],
      "text/plain": [
       "    X_0  X_1       X_2   X_3            y\n",
       "0     0    0  0.000000     0    11.853309\n",
       "1     1    2  1.000000     1    13.739626\n",
       "2     2    4  1.414214     4    13.363810\n",
       "3     3    6  1.732051     9    23.783221\n",
       "4     4    8  2.000000    16    27.517352\n",
       "..  ...  ...       ...   ...          ...\n",
       "95   95  190  9.746794  9025  9122.753465\n",
       "96   96  192  9.797959  9216  9319.982785\n",
       "97   97  194  9.848858  9409  9514.229679\n",
       "98   98  196  9.899495  9604  9711.852642\n",
       "99   99  198  9.949874  9801  9910.746276\n",
       "\n",
       "[100 rows x 5 columns]"
      ]
     },
     "execution_count": 10,
     "metadata": {},
     "output_type": "execute_result"
    }
   ],
   "source": [
    "# Generate random data\n",
    "\n",
    "X_0 = np.arange(0,100) # integers from 0 to 99 (to generate 100 datapoints)\n",
    "X_1 = [2*x for x in X_0] # 0, 2, 4 ... 198 (double the values of X_0)\n",
    "X_2 = [x**0.5 for x in X_0] # roots of X_0\n",
    "X_3 = [x**2 for x in X_0] # squares of X_0\n",
    "\n",
    "\n",
    "noise = np.random.uniform(-5,5, size=(100,))\n",
    "\n",
    "y = np.multiply(X_0, 0.3) + np.multiply(X_1, 0.3) + X_2 + X_3 + 7 + noise\n",
    "\n",
    "df=pd.DataFrame( {'X_0' : X_0,'X_1' : X_1, 'X_2' : X_2,'X_3' : X_3, 'y':y} )\n",
    "df"
   ]
  },
  {
   "cell_type": "code",
   "execution_count": 11,
   "metadata": {},
   "outputs": [],
   "source": [
    "X = df.iloc[:,0:4]\n",
    "y = df.y"
   ]
  },
  {
   "cell_type": "code",
   "execution_count": 12,
   "metadata": {},
   "outputs": [],
   "source": [
    "def compare_Linear_Lasso_Ridge(X,y): \n",
    "    lr_model = LinearRegression().fit(X , y)\n",
    "    lasso_model = Lasso(alpha=0.001).fit(X , y)\n",
    "    ridge_model = Ridge(alpha=0.001).fit(X , y)\n",
    "\n",
    "    y_hat_lr = lr_model.predict(X)   \n",
    "    y_hat_lasso = lasso_model.predict(X)   \n",
    "    y_hat_ridge = ridge_model.predict(X)   \n",
    "\n",
    "    lr_error = rmse(y,y_hat_lr)\n",
    "    lasso_error = rmse(y,y_hat_lasso)\n",
    "    ridge_error = rmse(y,y_hat_ridge)\n",
    "    return lr_error, lasso_error, ridge_error"
   ]
  },
  {
   "cell_type": "code",
   "execution_count": 13,
   "metadata": {},
   "outputs": [
    {
     "name": "stdout",
     "output_type": "stream",
     "text": [
      "Root mean square errors:\n",
      "\n",
      "Linear Regression: 2.8419286086870326\n",
      "Lasso Regression: 3.0680943230673545\n",
      "Ridge Regression: 2.8419286086878714\n"
     ]
    }
   ],
   "source": [
    "err = compare_Linear_Lasso_Ridge(X,y)\n",
    "print(f\"Root mean square errors:\\n\\nLinear Regression: {err[0]}\\nLasso Regression: {err[1]}\\nRidge Regression: {err[2]}\")"
   ]
  },
  {
   "cell_type": "markdown",
   "metadata": {},
   "source": []
  },
  {
   "cell_type": "code",
   "execution_count": null,
   "metadata": {},
   "outputs": [],
   "source": []
  }
 ],
 "metadata": {
  "interpreter": {
   "hash": "60f5decb5d5f75cee078769f31acc91db8399f71b0160f2efe6eadfe23786558"
  },
  "kernelspec": {
   "display_name": "Python 3.9.1 64-bit",
   "language": "python",
   "name": "python3"
  },
  "language_info": {
   "codemirror_mode": {
    "name": "ipython",
    "version": 3
   },
   "file_extension": ".py",
   "mimetype": "text/x-python",
   "name": "python",
   "nbconvert_exporter": "python",
   "pygments_lexer": "ipython3",
   "version": "3.9.1"
  },
  "orig_nbformat": 4
 },
 "nbformat": 4,
 "nbformat_minor": 2
}
