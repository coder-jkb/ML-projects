{
  "nbformat": 4,
  "nbformat_minor": 0,
  "metadata": {
    "colab": {
      "provenance": [],
      "authorship_tag": "ABX9TyP7SdLqhZPkhCjnjMFVcx1l",
      "include_colab_link": true
    },
    "kernelspec": {
      "name": "python3",
      "display_name": "Python 3"
    },
    "language_info": {
      "name": "python"
    }
  },
  "cells": [
    {
      "cell_type": "markdown",
      "metadata": {
        "id": "view-in-github",
        "colab_type": "text"
      },
      "source": [
        "<a href=\"https://colab.research.google.com/github/coder-jkb/ML-projects/blob/main/CURE_Algorithm.ipynb\" target=\"_parent\"><img src=\"https://colab.research.google.com/assets/colab-badge.svg\" alt=\"Open In Colab\"/></a>"
      ]
    },
    {
      "cell_type": "code",
      "execution_count": 1,
      "metadata": {
        "colab": {
          "base_uri": "https://localhost:8080/"
        },
        "id": "8XIQJiEwUOCH",
        "outputId": "48ef4a6b-90ac-44e0-b390-13d906c64591"
      },
      "outputs": [
        {
          "output_type": "stream",
          "name": "stdout",
          "text": [
            "Cloning into 'CURE-cluster-python'...\n",
            "remote: Enumerating objects: 57, done.\u001b[K\n",
            "remote: Counting objects: 100% (27/27), done.\u001b[K\n",
            "remote: Compressing objects: 100% (20/20), done.\u001b[K\n",
            "remote: Total 57 (delta 10), reused 22 (delta 7), pack-reused 30\u001b[K\n",
            "Receiving objects: 100% (57/57), 108.47 KiB | 881.00 KiB/s, done.\n",
            "Resolving deltas: 100% (23/23), done.\n"
          ]
        }
      ],
      "source": [
        "!git clone https://github.com/Kchu/CURE-cluster-python.git"
      ]
    },
    {
      "cell_type": "code",
      "source": [
        "!dir"
      ],
      "metadata": {
        "colab": {
          "base_uri": "https://localhost:8080/"
        },
        "id": "LA9Xr_EQU0uM",
        "outputId": "1397b29b-6ff9-4915-cb06-f3bd27ed71bf"
      },
      "execution_count": 2,
      "outputs": [
        {
          "output_type": "stream",
          "name": "stdout",
          "text": [
            "CURE-cluster-python  sample_data\n"
          ]
        }
      ]
    },
    {
      "cell_type": "code",
      "source": [
        "%cd \"CURE-cluster-python\"\n",
        "!pwd"
      ],
      "metadata": {
        "colab": {
          "base_uri": "https://localhost:8080/"
        },
        "id": "qEzYHGCBU9TZ",
        "outputId": "4a8ebc7e-cd0e-4303-d1d1-e42ed1513a6d"
      },
      "execution_count": 3,
      "outputs": [
        {
          "output_type": "stream",
          "name": "stdout",
          "text": [
            "/content/CURE-cluster-python\n",
            "/content/CURE-cluster-python\n"
          ]
        }
      ]
    },
    {
      "cell_type": "markdown",
      "source": [
        "# Implementation of CURE (Clustering Using Representatives) Algorithm"
      ],
      "metadata": {
        "id": "qbst8E40UtkC"
      }
    },
    {
      "cell_type": "code",
      "source": [
        "import numpy as np\n",
        "import scipy.spatial.distance as distance\n",
        "import sys"
      ],
      "metadata": {
        "id": "DW4i2yqWUjQV"
      },
      "execution_count": 1,
      "outputs": []
    },
    {
      "cell_type": "markdown",
      "source": [
        "## Calculate Eudlidean distance between two vectors"
      ],
      "metadata": {
        "id": "PXsXFEK2WEZH"
      }
    },
    {
      "cell_type": "code",
      "source": [
        "def dist(vecA, vecB):\n",
        "    return np.sqrt(np.power(vecA - vecB, 2).sum())\n"
      ],
      "metadata": {
        "id": "BhfPX3gVV2qv"
      },
      "execution_count": 2,
      "outputs": []
    },
    {
      "cell_type": "markdown",
      "source": [
        "## The `class` to describe the data structure and method of operation for CURE clustering."
      ],
      "metadata": {
        "id": "DPhY9TwyWJCE"
      }
    },
    {
      "cell_type": "code",
      "source": [
        "class CureCluster:\n",
        "    def __init__(self, id__, center__):\n",
        "        self.points = center__\n",
        "        self.repPoints = center__\n",
        "        self.center = center__\n",
        "        self.index = [id__]\n",
        "\n",
        "    def __repr__(self):\n",
        "        return \"Cluster \" + \" Size: \" + str(len(self.points))\n",
        "\n",
        "    # Computes and stores the centroid of this cluster, based on its points\n",
        "    def computeCentroid(self, clust):\n",
        "        totalPoints_1 = len(self.index)\n",
        "        totalPoints_2 = len(clust.index)\n",
        "        self.center = (self.center*totalPoints_1 + clust.center*totalPoints_2) / (totalPoints_1 + totalPoints_2)\n",
        "\n",
        "    # Computes and stores representative points for this cluster\n",
        "    def generateRepPoints(self, numRepPoints, alpha):\n",
        "        tempSet = None\n",
        "        for i in range(1, numRepPoints+1):\n",
        "            maxDist = 0\n",
        "            maxPoint = None\n",
        "            for p in range(0, len(self.index)):\n",
        "                if i == 1:\n",
        "                    minDist = dist(self.points[p,:], self.center)\n",
        "                else:\n",
        "                    X = np.vstack([tempSet, self.points[p, :]])\n",
        "                    tmpDist = distance.pdist(X)\n",
        "                    minDist = tmpDist.min()\n",
        "                if minDist >= maxDist:\n",
        "                    maxDist = minDist\n",
        "                    maxPoint = self.points[p,:]\n",
        "            if tempSet is None:\n",
        "                tempSet = maxPoint\n",
        "            else:\n",
        "                tempSet = np.vstack((tempSet, maxPoint))\n",
        "        for j in range(len(tempSet)):\n",
        "            if self.repPoints is None:\n",
        "                self.repPoints = tempSet[j,:] + alpha * (self.center - tempSet[j,:])\n",
        "            else:\n",
        "                self.repPoints = np.vstack((self.repPoints, tempSet[j,:] + alpha * (self.center - tempSet[j,:])))\n",
        "\n",
        "    # Computes and stores distance between this cluster and the other one.\n",
        "    def distRep(self, clust):\n",
        "        distRep = float('inf')\n",
        "        for repA in self.repPoints:\n",
        "            if type(clust.repPoints[0]) != list:\n",
        "                repB = clust.repPoints\n",
        "                distTemp = dist(repA, repB)\n",
        "                if distTemp < distRep:\n",
        "                    distRep = distTemp\n",
        "            else:\n",
        "                for repB in clust.repPoints:\n",
        "                    distTemp = dist(repA, repB)\n",
        "                    if distTemp < distRep:\n",
        "                        distRep = distTemp\n",
        "        return distRep\n",
        "\n",
        "    # Merges this cluster with the given cluster, recomputing the centroid and the representative points.\n",
        "    def mergeWithCluster(self, clust, numRepPoints, alpha):\n",
        "        self.computeCentroid(clust)\n",
        "        self.points = np.vstack((self.points, clust.points))\n",
        "        self.index = np.append(self.index, clust.index)\n",
        "        self.repPoints = None\n",
        "        self.generateRepPoints(numRepPoints, alpha)"
      ],
      "metadata": {
        "id": "IJgQYaYmWJa0"
      },
      "execution_count": 3,
      "outputs": []
    },
    {
      "cell_type": "markdown",
      "source": [
        "## The process of the CURE algorithm"
      ],
      "metadata": {
        "id": "3ZObLiSSWc1d"
      }
    },
    {
      "cell_type": "code",
      "source": [
        "def CURE(data, numRepPoints, alpha, numDesCluster):\n",
        "\n",
        "    # Initialization\n",
        "    Clusters = []\n",
        "    numCluster = len(data)\n",
        "    numPts = len(data)\n",
        "    distCluster = np.ones([len(data), len(data)])\n",
        "    distCluster = distCluster * float('inf')\n",
        "\n",
        "    for idPoint in range(len(data)):\n",
        "      newClust = CureCluster(idPoint, data[idPoint,:])\n",
        "      Clusters.append(newClust)\n",
        "\n",
        "    for row in range(0, numPts):\n",
        "      for col in range(0, row):\n",
        "        distCluster[row][col] = dist(Clusters[row].center, Clusters[col].center)\n",
        "\n",
        "    while numCluster > numDesCluster:\n",
        "      if np.mod(numCluster, 50) == 0:\n",
        "        print('Cluster count:', numCluster)\n",
        "\n",
        "      # Find a pair of closet clusters\n",
        "      minIndex = np.where(distCluster == np.min(distCluster))\n",
        "      minIndex1 = minIndex[0][0]\n",
        "      minIndex2 = minIndex[1][0]\n",
        "\n",
        "      # Merge\n",
        "      Clusters[minIndex1].mergeWithCluster(Clusters[minIndex2], numRepPoints, alpha)\n",
        "      # Update the distCluster matrix\n",
        "      for i in range(0, minIndex1):\n",
        "        distCluster[minIndex1, i] = Clusters[minIndex1].distRep(Clusters[i])\n",
        "      for i in range(minIndex1+1, numCluster):\n",
        "        distCluster[i, minIndex1] = Clusters[minIndex1].distRep(Clusters[i])\n",
        "\n",
        "      # Delete the merged cluster and its disCluster vector.\n",
        "      distCluster = np.delete(distCluster, minIndex2, axis=0)\n",
        "      distCluster = np.delete(distCluster, minIndex2, axis=1)\n",
        "      del Clusters[minIndex2]\n",
        "      numCluster = numCluster - 1\n",
        "\n",
        "    print('Cluster count:', numCluster)\n",
        "\n",
        "    # Generate sample labels\n",
        "    Label = [0] * numPts\n",
        "    for i in range(0, len(Clusters)):\n",
        "      for j in range(0, len(Clusters[i].index)):\n",
        "        Label[Clusters[i].index[j]] = i + 1\n",
        "\n",
        "    return Label"
      ],
      "metadata": {
        "id": "TlCUV-DcWerS"
      },
      "execution_count": 4,
      "outputs": []
    },
    {
      "cell_type": "markdown",
      "source": [
        "# Import Data and Execute CURE"
      ],
      "metadata": {
        "id": "6njLFg_SX-aE"
      }
    },
    {
      "cell_type": "code",
      "source": [
        "import sys,time\n",
        "import matplotlib.pyplot as plt\n",
        "from sklearn import metrics"
      ],
      "metadata": {
        "id": "KN9Mz-cZYEzE"
      },
      "execution_count": 5,
      "outputs": []
    },
    {
      "cell_type": "code",
      "source": [
        "from google.colab import drive\n",
        "drive.mount('/content/drive')"
      ],
      "metadata": {
        "colab": {
          "base_uri": "https://localhost:8080/"
        },
        "id": "_PEBxoaEbYpO",
        "outputId": "2c33226e-667f-458f-e8f1-f60124693250"
      },
      "execution_count": 6,
      "outputs": [
        {
          "output_type": "stream",
          "name": "stdout",
          "text": [
            "Mounted at /content/drive\n"
          ]
        }
      ]
    },
    {
      "cell_type": "markdown",
      "source": [
        "### **data source:** https://github.com/Kchu/CURE-cluster-python/blob/master/3clus.txt"
      ],
      "metadata": {
        "id": "2Jpq9STEbuPl"
      }
    },
    {
      "cell_type": "code",
      "source": [
        "data_set = np.loadtxt('/content/drive/MyDrive/Data4ClusteringAlgo.txt')\n",
        "data = data_set[:,0:2]\n",
        "Label_true = data_set[:,2]"
      ],
      "metadata": {
        "id": "-xMTWA6eYu3J"
      },
      "execution_count": 7,
      "outputs": []
    },
    {
      "cell_type": "code",
      "source": [
        "# The number of representative points\n",
        "numRepPoints = 5\n",
        "\n",
        "# Shrink factor\n",
        "alpha = 0.2 # 20%\n",
        "\n",
        "# Desired cluster number\n",
        "numDesCluster = 3"
      ],
      "metadata": {
        "id": "cUsMj6oNYjSh"
      },
      "execution_count": 8,
      "outputs": []
    },
    {
      "cell_type": "code",
      "source": [
        "data"
      ],
      "metadata": {
        "colab": {
          "base_uri": "https://localhost:8080/"
        },
        "id": "b1MFhJ2YZZ33",
        "outputId": "7b7b56ba-7036-4a63-fb08-0762f02407e6"
      },
      "execution_count": 9,
      "outputs": [
        {
          "output_type": "execute_result",
          "data": {
            "text/plain": [
              "array([[-1.82384621, -1.83431167],\n",
              "       [-1.65564168, -2.12637373],\n",
              "       [-1.98148426, -2.39005735],\n",
              "       ...,\n",
              "       [-1.5328432 ,  1.76827316],\n",
              "       [-1.51775958,  1.70252433],\n",
              "       [-1.49776808,  1.34129111]])"
            ]
          },
          "metadata": {},
          "execution_count": 9
        }
      ]
    },
    {
      "cell_type": "code",
      "source": [
        "Label_true"
      ],
      "metadata": {
        "colab": {
          "base_uri": "https://localhost:8080/"
        },
        "id": "YDMK_YSmZcew",
        "outputId": "fb6cbc98-9154-46de-95f1-9048f4934691"
      },
      "execution_count": 10,
      "outputs": [
        {
          "output_type": "execute_result",
          "data": {
            "text/plain": [
              "array([1., 1., 1., 1., 1., 1., 1., 1., 1., 1., 1., 1., 1., 1., 1., 1., 1.,\n",
              "       1., 1., 1., 1., 1., 1., 1., 1., 1., 1., 1., 1., 1., 1., 1., 1., 1.,\n",
              "       1., 1., 1., 1., 1., 1., 1., 1., 1., 1., 1., 1., 1., 1., 1., 1., 1.,\n",
              "       1., 1., 1., 1., 1., 1., 1., 1., 1., 1., 1., 1., 1., 1., 1., 1., 1.,\n",
              "       1., 1., 1., 1., 1., 1., 1., 1., 1., 1., 1., 1., 1., 1., 1., 1., 1.,\n",
              "       1., 1., 1., 1., 1., 1., 1., 1., 1., 1., 1., 1., 1., 1., 1., 1., 1.,\n",
              "       1., 1., 1., 1., 1., 1., 1., 1., 1., 1., 1., 1., 1., 1., 1., 1., 1.,\n",
              "       1., 1., 1., 1., 1., 1., 1., 1., 1., 1., 1., 1., 1., 1., 1., 1., 1.,\n",
              "       1., 1., 1., 1., 1., 1., 1., 1., 1., 1., 1., 1., 1., 1., 1., 1., 1.,\n",
              "       1., 1., 1., 1., 1., 1., 1., 1., 1., 1., 1., 1., 1., 1., 1., 1., 1.,\n",
              "       1., 1., 1., 1., 1., 1., 1., 1., 1., 1., 1., 1., 1., 1., 1., 1., 1.,\n",
              "       1., 1., 1., 1., 1., 1., 1., 1., 1., 1., 1., 1., 1., 2., 2., 2., 2.,\n",
              "       2., 2., 2., 2., 2., 2., 2., 2., 2., 2., 2., 2., 2., 2., 2., 2., 2.,\n",
              "       2., 2., 2., 2., 2., 2., 2., 2., 2., 2., 2., 2., 2., 2., 2., 2., 2.,\n",
              "       2., 2., 2., 2., 2., 2., 2., 2., 2., 2., 2., 2., 2., 2., 2., 2., 2.,\n",
              "       2., 2., 2., 2., 2., 2., 2., 2., 2., 2., 2., 2., 2., 2., 2., 2., 2.,\n",
              "       2., 2., 2., 2., 2., 2., 2., 2., 2., 2., 2., 2., 2., 2., 2., 2., 2.,\n",
              "       2., 2., 2., 2., 2., 2., 2., 2., 2., 2., 2., 2., 2., 2., 2., 2., 2.,\n",
              "       2., 2., 2., 2., 2., 2., 2., 2., 2., 2., 2., 2., 2., 2., 2., 2., 2.,\n",
              "       2., 2., 2., 2., 2., 2., 2., 2., 2., 2., 2., 2., 2., 2., 2., 2., 2.,\n",
              "       2., 2., 2., 2., 2., 2., 2., 2., 2., 2., 2., 2., 2., 2., 2., 2., 2.,\n",
              "       2., 2., 2., 2., 2., 2., 2., 2., 2., 2., 2., 2., 2., 2., 2., 2., 2.,\n",
              "       2., 2., 2., 2., 2., 2., 2., 2., 2., 2., 2., 2., 2., 2., 2., 2., 2.,\n",
              "       2., 2., 2., 2., 2., 2., 2., 2., 2., 3., 3., 3., 3., 3., 3., 3., 3.,\n",
              "       3., 3., 3., 3., 3., 3., 3., 3., 3., 3., 3., 3., 3., 3., 3., 3., 3.,\n",
              "       3., 3., 3., 3., 3., 3., 3., 3., 3., 3., 3., 3., 3., 3., 3., 3., 3.,\n",
              "       3., 3., 3., 3., 3., 3., 3., 3., 3., 3., 3., 3., 3., 3., 3., 3., 3.,\n",
              "       3., 3., 3., 3., 3., 3., 3., 3., 3., 3., 3., 3., 3., 3., 3., 3., 3.,\n",
              "       3., 3., 3., 3., 3., 3., 3., 3., 3., 3., 3., 3., 3., 3., 3., 3., 3.,\n",
              "       3., 3., 3., 3., 3., 3., 3., 3., 3., 3., 3., 3., 3., 3., 3., 3., 3.,\n",
              "       3., 3., 3., 3., 3., 3., 3., 3., 3., 3., 3., 3., 3., 3., 3., 3., 3.,\n",
              "       3., 3., 3., 3., 3., 3., 3., 3., 3., 3., 3., 3., 3., 3., 3., 3., 3.,\n",
              "       3., 3., 3., 3., 3., 3., 3., 3., 3., 3., 3., 3., 3., 3., 3., 3., 3.,\n",
              "       3., 3., 3., 3., 3., 3., 3., 3., 3., 3., 3., 3., 3., 3., 3., 3., 3.,\n",
              "       3., 3., 3., 3., 3., 3., 3., 3., 3., 3., 3., 3., 3., 3., 3., 3., 3.,\n",
              "       3., 3., 3., 3., 3.])"
            ]
          },
          "metadata": {},
          "execution_count": 10
        }
      ]
    },
    {
      "cell_type": "code",
      "source": [
        "print(\"Running CURE Algorithm...\")\n",
        "\n",
        "start = time.time()\n",
        "Label_pre = CURE(data, numRepPoints, alpha, numDesCluster)\n",
        "end = time.time()\n",
        "\n",
        "print(\"Completed!!\\n\")\n"
      ],
      "metadata": {
        "colab": {
          "base_uri": "https://localhost:8080/"
        },
        "id": "3w3V77kSYmUI",
        "outputId": "9a8f582b-821a-4caa-a7fe-aff2804d364b"
      },
      "execution_count": 11,
      "outputs": [
        {
          "output_type": "stream",
          "name": "stdout",
          "text": [
            "Running CURE Algorithm...\n",
            "Cluster count: 600\n",
            "Cluster count: 550\n",
            "Cluster count: 500\n",
            "Cluster count: 450\n",
            "Cluster count: 400\n",
            "Cluster count: 350\n",
            "Cluster count: 300\n",
            "Cluster count: 250\n",
            "Cluster count: 200\n",
            "Cluster count: 150\n",
            "Cluster count: 100\n",
            "Cluster count: 50\n",
            "Cluster count: 3\n",
            "Completed!!\n",
            "\n"
          ]
        }
      ]
    },
    {
      "cell_type": "code",
      "source": [
        "print(\"Execution time required: \", round(end - start,3), \"seconds\")"
      ],
      "metadata": {
        "colab": {
          "base_uri": "https://localhost:8080/"
        },
        "id": "WplAtzoeZKVz",
        "outputId": "838015f3-69f2-4fff-84af-b45c105b892d"
      },
      "execution_count": 12,
      "outputs": [
        {
          "output_type": "stream",
          "name": "stdout",
          "text": [
            "Execution time required:  15.535 seconds\n"
          ]
        }
      ]
    },
    {
      "cell_type": "code",
      "source": [
        "# Compute the NMI\n",
        "nmi = metrics.v_measure_score(Label_true, Label_pre)\n",
        "print(\"NMI =\", nmi)"
      ],
      "metadata": {
        "colab": {
          "base_uri": "https://localhost:8080/"
        },
        "id": "0c12JqaSZNmX",
        "outputId": "98dfc0c9-e80f-4f97-a05a-22ff137a8d9e"
      },
      "execution_count": 13,
      "outputs": [
        {
          "output_type": "stream",
          "name": "stdout",
          "text": [
            "NMI = 1.0\n"
          ]
        }
      ]
    },
    {
      "cell_type": "code",
      "source": [
        "# Plot the result\n",
        "\n",
        "plt.subplot(121)\n",
        "plt.scatter(data_set[:, 0], data_set[:, 1], marker='.')\n",
        "plt.text(0, 0, \"origin\")\n",
        "plt.subplot(122)\n",
        "\n",
        "scatterColors = ['black', 'blue', 'green', 'yellow', 'red', 'purple', 'orange', 'brown', 'cyan', 'brown',\n",
        "                 'chocolate', 'darkgreen', 'darkblue', 'azure', 'bisque']\n",
        "\n",
        "for i in range(data_set.shape[0]):\n",
        "    color = scatterColors[Label_pre[i]]\n",
        "    plt.scatter(data_set[i, 0], data_set[i, 1], marker='.', c=color)\n",
        "\n",
        "plt.text(0, 0, \"clusterResult\")\n",
        "plt.show()"
      ],
      "metadata": {
        "colab": {
          "base_uri": "https://localhost:8080/",
          "height": 431
        },
        "id": "IVfojA_2ZL5D",
        "outputId": "35764160-497f-44ef-edd3-cfbf2b884a76"
      },
      "execution_count": 14,
      "outputs": [
        {
          "output_type": "display_data",
          "data": {
            "text/plain": [
              "<Figure size 640x480 with 2 Axes>"
            ],
            "image/png": "[encoded data removed]"
          },
          "metadata": {}
        }
      ]
    },
    {
      "cell_type": "markdown",
      "source": [
        "## References\n",
        "* Paper: https://www.sciencedirect.com/science/article/pii/S0306437901000084\n",
        "* Reference: https://github.com/Kchu/CURE-cluster-python\n",
        "\n"
      ],
      "metadata": {
        "id": "OcKXtamHVs59"
      }
    }
  ]
}