{
 "cells": [
  {
   "cell_type": "markdown",
   "metadata": {},
   "source": [
    "### Decision Tree Classifier model from Scratch"
   ]
  },
  {
   "cell_type": "markdown",
   "metadata": {},
   "source": [
    "### Name: Jay Bhanushali, SAP ID: 60009200047, Batch: K2"
   ]
  },
  {
   "cell_type": "code",
   "execution_count": 1,
   "metadata": {},
   "outputs": [],
   "source": [
    "import numpy as np\n",
    "import pandas as pd\n",
    "import matplotlib.pyplot as plt\n",
    "plt.style.use('ggplot')\n",
    "%matplotlib inline"
   ]
  },
  {
   "cell_type": "code",
   "execution_count": 2,
   "metadata": {},
   "outputs": [],
   "source": [
    "from sklearn.tree import DecisionTreeClassifier \n",
    "from sklearn import tree\n",
    "from sklearn.metrics import accuracy_score"
   ]
  },
  {
   "cell_type": "code",
   "execution_count": 3,
   "metadata": {},
   "outputs": [
    {
     "data": {
      "text/html": [
       "<div>\n",
       "<style scoped>\n",
       "    .dataframe tbody tr th:only-of-type {\n",
       "        vertical-align: middle;\n",
       "    }\n",
       "\n",
       "    .dataframe tbody tr th {\n",
       "        vertical-align: top;\n",
       "    }\n",
       "\n",
       "    .dataframe thead th {\n",
       "        text-align: right;\n",
       "    }\n",
       "</style>\n",
       "<table border=\"1\" class=\"dataframe\">\n",
       "  <thead>\n",
       "    <tr style=\"text-align: right;\">\n",
       "      <th></th>\n",
       "      <th>outlook</th>\n",
       "      <th>temp</th>\n",
       "      <th>humidity</th>\n",
       "      <th>windy</th>\n",
       "      <th>play</th>\n",
       "    </tr>\n",
       "  </thead>\n",
       "  <tbody>\n",
       "    <tr>\n",
       "      <th>0</th>\n",
       "      <td>sunny</td>\n",
       "      <td>hot</td>\n",
       "      <td>high</td>\n",
       "      <td>False</td>\n",
       "      <td>no</td>\n",
       "    </tr>\n",
       "    <tr>\n",
       "      <th>1</th>\n",
       "      <td>sunny</td>\n",
       "      <td>hot</td>\n",
       "      <td>high</td>\n",
       "      <td>True</td>\n",
       "      <td>no</td>\n",
       "    </tr>\n",
       "    <tr>\n",
       "      <th>2</th>\n",
       "      <td>overcast</td>\n",
       "      <td>hot</td>\n",
       "      <td>high</td>\n",
       "      <td>False</td>\n",
       "      <td>yes</td>\n",
       "    </tr>\n",
       "    <tr>\n",
       "      <th>3</th>\n",
       "      <td>rainy</td>\n",
       "      <td>mild</td>\n",
       "      <td>high</td>\n",
       "      <td>False</td>\n",
       "      <td>yes</td>\n",
       "    </tr>\n",
       "    <tr>\n",
       "      <th>4</th>\n",
       "      <td>rainy</td>\n",
       "      <td>cool</td>\n",
       "      <td>normal</td>\n",
       "      <td>False</td>\n",
       "      <td>yes</td>\n",
       "    </tr>\n",
       "  </tbody>\n",
       "</table>\n",
       "</div>"
      ],
      "text/plain": [
       "    outlook  temp humidity  windy play\n",
       "0     sunny   hot     high  False   no\n",
       "1     sunny   hot     high   True   no\n",
       "2  overcast   hot     high  False  yes\n",
       "3     rainy  mild     high  False  yes\n",
       "4     rainy  cool   normal  False  yes"
      ]
     },
     "execution_count": 3,
     "metadata": {},
     "output_type": "execute_result"
    }
   ],
   "source": [
    "df = pd.read_csv(\"./PlayTennis.csv\")\n",
    "df.head()"
   ]
  },
  {
   "cell_type": "code",
   "execution_count": 4,
   "metadata": {},
   "outputs": [
    {
     "data": {
      "text/plain": [
       "<bound method DataFrame.info of      outlook  temp humidity  windy play\n",
       "0      sunny   hot     high  False   no\n",
       "1      sunny   hot     high   True   no\n",
       "2   overcast   hot     high  False  yes\n",
       "3      rainy  mild     high  False  yes\n",
       "4      rainy  cool   normal  False  yes\n",
       "5      rainy  cool   normal   True   no\n",
       "6   overcast  cool   normal   True  yes\n",
       "7      sunny  mild     high  False   no\n",
       "8      sunny  cool   normal  False  yes\n",
       "9      rainy  mild   normal  False  yes\n",
       "10     sunny  mild   normal   True  yes\n",
       "11  overcast  mild     high   True  yes\n",
       "12  overcast   hot   normal  False  yes\n",
       "13     rainy  mild     high   True   no>"
      ]
     },
     "execution_count": 4,
     "metadata": {},
     "output_type": "execute_result"
    }
   ],
   "source": [
    "df.info"
   ]
  },
  {
   "cell_type": "markdown",
   "metadata": {},
   "source": [
    "### Tree class & Node class"
   ]
  },
  {
   "cell_type": "code",
   "execution_count": 5,
   "metadata": {},
   "outputs": [],
   "source": [
    "class Node:\n",
    "    def __init__(self, feature_index=None, threshold=None,\n",
    "                left=None, right=None,info_gain=None,value=None):\n",
    "        # decision node atributes\n",
    "        self.feature_index = feature_index\n",
    "        self.threshold = threshold\n",
    "        self.left = left\n",
    "        self.right = right\n",
    "        self.info_gain = info_gain\n",
    "\n",
    "        # leaf node attribute\n",
    "        self.value = value\n",
    "\n",
    "class DecisionTreeClassifier_scratch:\n",
    "    def __init__(self,min_samples_split=2,max_depth=2,mode='gini'):\n",
    "\n",
    "        # initializing the root of the tree\n",
    "        # tge root will be used to traverse through the tree\n",
    "        self.root = None\n",
    "        self.mode = mode\n",
    "\n",
    "        # stopping conditions\n",
    "        # if number of samples is less than min_samples_split \n",
    "        #       then consider it as leaf node (no more splitting)\n",
    "\n",
    "        self.min_samples_split=min_samples_split\n",
    "\n",
    "        # if depth reaches the max_depth then dont split the tree further\n",
    "        self.max_depth=max_depth\n",
    "\n",
    "    def build_tree(self,data,curr_depth=0):\n",
    "        # Build the tree recursively\n",
    "        #   all rows and columns from starting index to secondlast index\n",
    "        X = data[:,:-1] # trainig features\n",
    "        y = data[:,-1] # (target) feature to be classified \n",
    "        no_samples, no_features = np.shape(X) # number of samples , number of features\n",
    "\n",
    "        # split untill stopping conditions are met\n",
    "        if no_samples >=self.min_samples_split and curr_depth <= self.max_depth:\n",
    "            # find the best split\n",
    "            # best split is a dictionary returned by the best_split function\n",
    "            best_split = self.get_best_split(data, no_samples, no_features)\n",
    "            #   all rows and last column\n",
    "\n",
    "            # zero information gain means that node is already pure (leaf), \n",
    "            # hence info gain must be positive for spliting\n",
    "\n",
    "            if best_split['info_gain'] > 0:\n",
    "\n",
    "                # reursion\n",
    "                lst = self.build_tree(best_split[\"left_data\"], curr_depth+1)  # left sub tree\n",
    "                rst = self.build_tree(best_split[\"right_data\"], curr_depth+1) # right sub tree\n",
    "\n",
    "                return Node(best_split[\"feature_index\"], \n",
    "                            best_split[\"threshold\"], \n",
    "                            lst, rst, \n",
    "                            best_split[\"info_gain\"]) # as its not a leat node we donot pass 'value' \n",
    "\n",
    "        # if splitting conditions is not met ... we have reached a leaf node\n",
    "        # compute leaf value\n",
    "        leafValue = self.calc_leaf_value(y)\n",
    "        return Node(value = leafValue)\n",
    "\n",
    "\n",
    "    def get_best_split(self, data, no_samples, no_features):\n",
    "        best_split = {}\n",
    "        max_info_gain = -float('inf') # selected minimum value for max info gain : -ve infinity\n",
    "\n",
    "        # iterate over all features\n",
    "        for fi in range(no_features):\n",
    "            feature_value = data[:,fi]\n",
    "            possible_thresholds = np.unique(feature_value)\n",
    "            # threshhold values are real num and \n",
    "            # it is practically impossible to iterate through all the threshhold values\n",
    "            # thus we make a finite list of possible_thresholds\n",
    "            for th in possible_thresholds:\n",
    "\n",
    "                # splitting the data into left_data and right_data\n",
    "                left_data, right_data = self.split(data,fi,th)\n",
    "\n",
    "                # ensuring that any of the and right_data is not empty\n",
    "                if len(left_data) > 0 and len(right_data) > 0:\n",
    "                    y = data[:,-1]\n",
    "                    left_y = left_data[:,-1]\n",
    "                    right_y = right_data[:,-1]\n",
    "\n",
    "                    # computing the info gain based on the mode specified (default gini)\n",
    "                    curr_info_gain = self.compute_info_gain(y, left_y, right_y, self.mode)\n",
    "\n",
    "                    # if we get higher information gain than previous then we select that split\n",
    "                    if curr_info_gain > max_info_gain:\n",
    "                        best_split['feature_index'] = fi\n",
    "                        best_split['threshold'] = th\n",
    "                        best_split['left_data'] = left_data\n",
    "                        best_split['right_data'] = right_data\n",
    "                        best_split['info_gain'] = curr_info_gain\n",
    "                        max_info_gain = curr_info_gain\n",
    "\n",
    "        return best_split\n",
    "\n",
    "\n",
    "    def split(self, data, feature_index, threshold):\n",
    "\n",
    "        # split the into left child and right child based on threshhold\n",
    "        left_data = np.array([row for row in data if row[feature_index] <= threshold])\n",
    "        right_data = np.array([row for row in data if row[feature_index] > threshold])\n",
    "        return left_data, right_data\n",
    "\n",
    "    def compute_info_gain(self, parent, left, right, mode='entropy'):\n",
    "        # computing left weight (wl) & right weight (wr)\n",
    "        wl = len(left)/len(parent)\n",
    "        wr = len(right)/len(parent)\n",
    "\n",
    "        if mode == 'entropy':\n",
    "            # ig = information gain\n",
    "            ig = self.entropy(parent) - ( wl*self.entropy(left) + wr*self.entropy(right) )\n",
    "        else:\n",
    "            ig = self.gini_index(parent) - ( wl*self.gini_index(left) + wr*self.gini_index(right) )\n",
    "\n",
    "        return ig\n",
    "\n",
    "    def entropy(self, y):\n",
    "        entropy = 0\n",
    "        labels = np.unique(y) # class labels\n",
    "        for l in labels:\n",
    "            p = len(y[y == l]) / len(y)\n",
    "            entropy += -p * np.log2(p)\n",
    "        return entropy\n",
    "\n",
    "    def gini_index(self,y):\n",
    "        g = 0\n",
    "        labels = np.unique(y) # class labels\n",
    "        for l in labels:\n",
    "            p = len(y[y == l]) / len(y)\n",
    "            g += p**2\n",
    "        gi = 1 - g\n",
    "        return gi\n",
    "\n",
    "    def calc_leaf_value(self,y):\n",
    "        y = list(y)\n",
    "        return max(y, key=y.count)\n",
    "\n",
    "    def print_tree(self,tree=None,indent=\"  \"):\n",
    "        if not tree:\n",
    "            tree = self.root\n",
    "        if tree.value is not None: # print value of leaf node\n",
    "            print(tree.value)\n",
    "\n",
    "        else:\n",
    "            print(f\"X_ {tree.feature_index} <=  {tree.threshold} ? Info gain = {tree.info_gain}\")\n",
    "            print(f\"{indent}left:\",end='')\n",
    "            self.print_tree(tree.left, indent+indent)\n",
    "            print(f\"{indent}right:\",end='')\n",
    "            self.print_tree(tree.right, indent+indent)\n",
    "\n",
    "    def fit(self, X, y):\n",
    "        data = np.concatenate((X,y),axis=1)\n",
    "        self.root = self.build_tree(data)\n",
    "\n",
    "    def predict(self,X):\n",
    "        # predict set of values\n",
    "        predictions = [self.make_predictions(x, self.root) for x in X]\n",
    "        return predictions\n",
    "\n",
    "    def make_predictions(self,x,tree):\n",
    "        # to predict a single data point\n",
    "\n",
    "        if tree.value != None: # leaf node\n",
    "            return tree.value \n",
    "        feature_val = x[tree.feature_index] # extracting feature value at a giveb feature index\n",
    "        if feature_val <= tree.threshold:\n",
    "            return self.make_predictions(x,tree.left)\n",
    "        else:\n",
    "            return self.make_predictions(x,tree.right)        "
   ]
  },
  {
   "cell_type": "markdown",
   "metadata": {},
   "source": [
    "### Train - Test Split"
   ]
  },
  {
   "cell_type": "code",
   "execution_count": 6,
   "metadata": {},
   "outputs": [],
   "source": [
    "from sklearn.model_selection import train_test_split\n",
    "X = df.iloc[:,:-1].values\n",
    "y = df.iloc[:,-1].values.reshape(-1,1)\n",
    "X_train, X_test, y_train, y_test = train_test_split(X, y,test_size=0.2, random_state=1)"
   ]
  },
  {
   "cell_type": "markdown",
   "metadata": {},
   "source": [
    "### Fit the model"
   ]
  },
  {
   "cell_type": "code",
   "execution_count": 7,
   "metadata": {},
   "outputs": [
    {
     "name": "stdout",
     "output_type": "stream",
     "text": [
      "X_ 0 <=  overcast ? Info gain = 0.09917355371900827\n",
      "  left:yes\n",
      "  right:X_ 2 <=  high ? Info gain = 0.3000000000000001\n",
      "    left:no\n",
      "    right:X_ 3 <=  False ? Info gain = 0.11999999999999983\n",
      "        left:yes\n",
      "        right:X_ 0 <=  rainy ? Info gain = 0.5\n",
      "                left:no\n",
      "                right:yes\n"
     ]
    }
   ],
   "source": [
    "model = DecisionTreeClassifier_scratch(min_samples_split=2, max_depth=3, mode='gini')\n",
    "model.fit(X_train,y_train)\n",
    "model.print_tree()"
   ]
  },
  {
   "cell_type": "code",
   "execution_count": 8,
   "metadata": {},
   "outputs": [
    {
     "data": {
      "text/plain": [
       "['outlook', 'temp', 'humidity', 'windy', 'play']"
      ]
     },
     "execution_count": 8,
     "metadata": {},
     "output_type": "execute_result"
    }
   ],
   "source": [
    "all_features = list(df.columns)\n",
    "all_features"
   ]
  },
  {
   "cell_type": "markdown",
   "metadata": {},
   "source": [
    "### Testing & testing the model"
   ]
  },
  {
   "cell_type": "markdown",
   "metadata": {},
   "source": [
    "train data result"
   ]
  },
  {
   "cell_type": "code",
   "execution_count": 9,
   "metadata": {},
   "outputs": [
    {
     "data": {
      "text/plain": [
       "1.0"
      ]
     },
     "execution_count": 9,
     "metadata": {},
     "output_type": "execute_result"
    }
   ],
   "source": [
    "y_train_pred = model.predict(X_train)\n",
    "accuracy_score(y_train, y_train_pred)"
   ]
  },
  {
   "cell_type": "markdown",
   "metadata": {},
   "source": [
    "test data result"
   ]
  },
  {
   "cell_type": "code",
   "execution_count": 10,
   "metadata": {},
   "outputs": [
    {
     "data": {
      "text/plain": [
       "0.6666666666666666"
      ]
     },
     "execution_count": 10,
     "metadata": {},
     "output_type": "execute_result"
    }
   ],
   "source": [
    "y_test_pred = model.predict(X_test) \n",
    "accuracy_score(y_test, y_test_pred)"
   ]
  },
  {
   "cell_type": "markdown",
   "metadata": {},
   "source": [
    "Accuracy on testing data is 66.66%"
   ]
  }
 ],
 "metadata": {
  "interpreter": {
   "hash": "60f5decb5d5f75cee078769f31acc91db8399f71b0160f2efe6eadfe23786558"
  },
  "kernelspec": {
   "display_name": "Python 3",
   "language": "python",
   "name": "python3"
  },
  "language_info": {
   "codemirror_mode": {
    "name": "ipython",
    "version": 3
   },
   "file_extension": ".py",
   "mimetype": "text/x-python",
   "name": "python",
   "nbconvert_exporter": "python",
   "pygments_lexer": "ipython3",
   "version": "3.9.1"
  }
 },
 "nbformat": 4,
 "nbformat_minor": 2
}
