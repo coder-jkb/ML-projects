{
 "cells": [
  {
   "cell_type": "markdown",
   "metadata": {},
   "source": [
    "### Linear Regression from scratch (on Truck Dataset)\n",
    "\n",
    "### Jay Bhanushali\n",
    "\n",
    "### 60009200047\n",
    "\n",
    "### K2 Batch"
   ]
  },
  {
   "cell_type": "code",
   "execution_count": 1,
   "metadata": {},
   "outputs": [],
   "source": [
    "import numpy as np\n",
    "import pandas as pd"
   ]
  },
  {
   "cell_type": "code",
   "execution_count": 52,
   "metadata": {},
   "outputs": [],
   "source": [
    "import matplotlib.pyplot as plt\n",
    "plt.style.use('ggplot')\n",
    "%matplotlib inline\n",
    "\n",
    "import seaborn as sns\n",
    "plt.rcParams['figure.figsize'] = (10,8)"
   ]
  },
  {
   "cell_type": "code",
   "execution_count": 5,
   "metadata": {},
   "outputs": [
    {
     "data": {
      "text/html": [
       "<div>\n",
       "<style scoped>\n",
       "    .dataframe tbody tr th:only-of-type {\n",
       "        vertical-align: middle;\n",
       "    }\n",
       "\n",
       "    .dataframe tbody tr th {\n",
       "        vertical-align: top;\n",
       "    }\n",
       "\n",
       "    .dataframe thead th {\n",
       "        text-align: right;\n",
       "    }\n",
       "</style>\n",
       "<table border=\"1\" class=\"dataframe\">\n",
       "  <thead>\n",
       "    <tr style=\"text-align: right;\">\n",
       "      <th></th>\n",
       "      <th>Population</th>\n",
       "      <th>Profit</th>\n",
       "    </tr>\n",
       "  </thead>\n",
       "  <tbody>\n",
       "    <tr>\n",
       "      <th>0</th>\n",
       "      <td>6.1101</td>\n",
       "      <td>17.5920</td>\n",
       "    </tr>\n",
       "    <tr>\n",
       "      <th>1</th>\n",
       "      <td>5.5277</td>\n",
       "      <td>9.1302</td>\n",
       "    </tr>\n",
       "    <tr>\n",
       "      <th>2</th>\n",
       "      <td>8.5186</td>\n",
       "      <td>13.6620</td>\n",
       "    </tr>\n",
       "    <tr>\n",
       "      <th>3</th>\n",
       "      <td>7.0032</td>\n",
       "      <td>11.8540</td>\n",
       "    </tr>\n",
       "    <tr>\n",
       "      <th>4</th>\n",
       "      <td>5.8598</td>\n",
       "      <td>6.8233</td>\n",
       "    </tr>\n",
       "  </tbody>\n",
       "</table>\n",
       "</div>"
      ],
      "text/plain": [
       "   Population   Profit\n",
       "0      6.1101  17.5920\n",
       "1      5.5277   9.1302\n",
       "2      8.5186  13.6620\n",
       "3      7.0032  11.8540\n",
       "4      5.8598   6.8233"
      ]
     },
     "execution_count": 5,
     "metadata": {},
     "output_type": "execute_result"
    }
   ],
   "source": [
    "df = pd.read_csv(\"food_truck_data.csv\")\n",
    "df.head()"
   ]
  },
  {
   "cell_type": "code",
   "execution_count": 6,
   "metadata": {},
   "outputs": [
    {
     "name": "stdout",
     "output_type": "stream",
     "text": [
      "<class 'pandas.core.frame.DataFrame'>\n",
      "RangeIndex: 97 entries, 0 to 96\n",
      "Data columns (total 2 columns):\n",
      " #   Column      Non-Null Count  Dtype  \n",
      "---  ------      --------------  -----  \n",
      " 0   Population  97 non-null     float64\n",
      " 1   Profit      97 non-null     float64\n",
      "dtypes: float64(2)\n",
      "memory usage: 1.6 KB\n"
     ]
    }
   ],
   "source": [
    "df.info()"
   ]
  },
  {
   "cell_type": "markdown",
   "metadata": {},
   "source": [
    "Let Population be X (training feature) & Profit (to be predicted) be the y "
   ]
  },
  {
   "cell_type": "code",
   "execution_count": 7,
   "metadata": {},
   "outputs": [],
   "source": [
    "X = df.Population\n",
    "y = df.Profit"
   ]
  },
  {
   "cell_type": "markdown",
   "metadata": {},
   "source": [
    "Take a look at the data"
   ]
  },
  {
   "cell_type": "code",
   "execution_count": 42,
   "metadata": {},
   "outputs": [
    {
     "data": {
      "text/plain": [
       "Text(0.5, 1.0, 'Scatter plot: Population v/s Profit')"
      ]
     },
     "execution_count": 42,
     "metadata": {},
     "output_type": "execute_result"
    },
    {
     "data": {
      "image/png": "[encoded data removed]",
      "text/plain": [
       "<Figure size 432x288 with 1 Axes>"
      ]
     },
     "metadata": {},
     "output_type": "display_data"
    }
   ],
   "source": [
    "ax = sns.scatterplot(x = \"Population\", y=\"Profit\", data=df)\n",
    "ax.set_xlabel(\"Population (X)\")\n",
    "ax.set_ylabel(\"Profit (y)\")\n",
    "ax.set_title(\"Scatter plot: Population v/s Profit\")"
   ]
  },
  {
   "cell_type": "markdown",
   "metadata": {},
   "source": [
    "L(theta) = theta_0 + theta_1 * X\n",
    "\n",
    "m = no of training examples\n",
    "\n",
    "X = input = population\n",
    "\n",
    "y = output = profit\n",
    "\n",
    "J(theta) = cost func\n"
   ]
  },
  {
   "cell_type": "markdown",
   "metadata": {},
   "source": [
    "2x1 matrix of theta :\n",
    "\n",
    "    theta[0] = 0 (representing theta_0)\n",
    "    \n",
    "    theta[1] = 0 (representing theta_1)\n",
    "\n",
    "    in L(theta) = theta_0 + theta_1 * X"
   ]
  },
  {
   "cell_type": "code",
   "execution_count": 33,
   "metadata": {},
   "outputs": [],
   "source": [
    "theta = np.zeros((2, 1))"
   ]
  },
  {
   "cell_type": "code",
   "execution_count": 34,
   "metadata": {},
   "outputs": [],
   "source": [
    "def cost_func(X, y, theta):\n",
    "    m = len(X)\n",
    "    y_pred = X*theta[1] + theta[0]\n",
    "    sse = (y_pred-y)**2 # sum of squared error\n",
    "    J = (1/(2*m)) * np.sum( sse )\n",
    "    return [J, y_pred]"
   ]
  },
  {
   "cell_type": "code",
   "execution_count": 35,
   "metadata": {},
   "outputs": [
    {
     "name": "stdout",
     "output_type": "stream",
     "text": [
      "32.072733877455676\n"
     ]
    }
   ],
   "source": [
    "print(cost_func(X, y, theta)[0])"
   ]
  },
  {
   "cell_type": "code",
   "execution_count": 36,
   "metadata": {},
   "outputs": [],
   "source": [
    "def grad_desc(X, y, theta, alpha, no_of_iter):\n",
    "    m = len(X)\n",
    "    costs=[] # cost in each iteration\n",
    "    dJ_dtheta = np.zeros((2,1)) # derivative of cost func WRT theta\n",
    "    for i in range(0, no_of_iter):\n",
    "        J, y_pred = cost_func(X, y, theta)\n",
    "        costs.append(J)\n",
    "        dJ_dtheta[1] = (1/m) * np.sum((y_pred - y)*X )\n",
    "        dJ_dtheta[0] = (1/m) * np.sum( (y_pred - y) )\n",
    "        theta = theta - alpha*dJ_dtheta\n",
    "        # The following computation is stored in respective positions\n",
    "        # theta[1] = theta[1] - alpha*dJ_dtheta[1]\n",
    "        # theta[0] = theta[0] - alpha*dJ_dtheta[0]\n",
    "        \n",
    "    return [theta, costs ]"
   ]
  },
  {
   "cell_type": "code",
   "execution_count": 40,
   "metadata": {},
   "outputs": [
    {
     "name": "stdout",
     "output_type": "stream",
     "text": [
      "L(x) = [-3.89571485] + [1.19302701]X \n"
     ]
    }
   ],
   "source": [
    "theta, costs = grad_desc(X, y, theta , 0.01, 2000)\n",
    "print(f\"L(x) = {theta[0]} + {theta[1]}X \")\n"
   ]
  },
  {
   "cell_type": "code",
   "execution_count": 53,
   "metadata": {},
   "outputs": [
    {
     "name": "stderr",
     "output_type": "stream",
     "text": [
      "C:\\Users\\Jay\\AppData\\Local\\Programs\\Python\\Python39\\lib\\site-packages\\seaborn\\_decorators.py:36: FutureWarning: Pass the following variables as keyword args: x, y. From version 0.12, the only valid positional argument will be `data`, and passing other arguments without an explicit keyword will result in an error or misinterpretation.\n",
      "  warnings.warn(\n"
     ]
    },
    {
     "data": {
      "image/png": "[encoded data removed]",
      "text/plain": [
       "<Figure size 720x576 with 1 Axes>"
      ]
     },
     "metadata": {
      "needs_background": "light"
     },
     "output_type": "display_data"
    }
   ],
   "source": [
    "# scatter plot\n",
    "ax = sns.scatterplot(x = \"Population\", y=\"Profit\", data=df)\n",
    "ax.set_title(\"Scatter plot: Population v/s Profit\")\n",
    "\n",
    "# Line\n",
    "theta = np.squeeze(theta)\n",
    "x_value = [x for x in range(5, 25)]\n",
    "y_value = [(x * theta[1] + theta[0]) for x in x_value]\n",
    "sns.lineplot(x_value, y_value, color = \"blue\")\n",
    "\n",
    "plt.xlabel(\"Population\")\n",
    "plt.ylabel(\"Profit\")\n",
    "plt.title(\"Linear regression Fit\");"
   ]
  },
  {
   "cell_type": "code",
   "execution_count": null,
   "metadata": {},
   "outputs": [],
   "source": []
  }
 ],
 "metadata": {
  "interpreter": {
   "hash": "60f5decb5d5f75cee078769f31acc91db8399f71b0160f2efe6eadfe23786558"
  },
  "kernelspec": {
   "display_name": "Python 3.9.1 64-bit",
   "language": "python",
   "name": "python3"
  },
  "language_info": {
   "codemirror_mode": {
    "name": "ipython",
    "version": 3
   },
   "file_extension": ".py",
   "mimetype": "text/x-python",
   "name": "python",
   "nbconvert_exporter": "python",
   "pygments_lexer": "ipython3",
   "version": "3.9.1"
  },
  "orig_nbformat": 4
 },
 "nbformat": 4,
 "nbformat_minor": 2
}
