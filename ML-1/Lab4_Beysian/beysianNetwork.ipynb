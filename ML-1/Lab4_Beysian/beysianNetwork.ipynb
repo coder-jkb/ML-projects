{
  "nbformat": 4,
  "nbformat_minor": 0,
  "metadata": {
    "colab": {
      "name": "beysianNetwork.ipynb",
      "provenance": [],
      "collapsed_sections": []
    },
    "kernelspec": {
      "name": "python3",
      "display_name": "Python 3"
    },
    "language_info": {
      "name": "python"
    }
  },
  "cells": [
    {
      "cell_type": "markdown",
      "source": [
        "# **Name: Jay Bhanushali**\n",
        "\n",
        "# **SAP: 60009200047**\n",
        "\n",
        "# **Batch: K2**"
      ],
      "metadata": {
        "id": "4vK5dKOLRcHb"
      }
    },
    {
      "cell_type": "code",
      "execution_count": 159,
      "metadata": {
        "id": "pv1FjInvjrAb"
      },
      "outputs": [],
      "source": [
        "import numpy as np\n",
        "import pandas as pd\n",
        "\n",
        "import matplotlib.pyplot as plt\n",
        "%matplotlib inline\n",
        "import seaborn as sns\n",
        "from matplotlib.pylab import rcParams\n",
        "rcParams['figure.figsize'] = 6, 6"
      ]
    },
    {
      "cell_type": "code",
      "source": [
        "from sklearn.preprocessing import LabelEncoder\n",
        "from sklearn.preprocessing import StandardScaler\n",
        "from sklearn.model_selection import train_test_split\n",
        "from sklearn.naive_bayes import GaussianNB\n",
        "from sklearn.metrics import accuracy_score, confusion_matrix, plot_confusion_matrix"
      ],
      "metadata": {
        "id": "fQP8y-wHno7U"
      },
      "execution_count": 160,
      "outputs": []
    },
    {
      "cell_type": "markdown",
      "source": [
        "# **Breast cancer dataset (Naive Bayes from scratch)**"
      ],
      "metadata": {
        "id": "sa_hF_e0Av-T"
      }
    },
    {
      "cell_type": "code",
      "source": [
        "data = pd.read_csv('/content/Breast_cancer_data.csv')\n",
        "data.head(10)"
      ],
      "metadata": {
        "colab": {
          "base_uri": "https://localhost:8080/",
          "height": 363
        },
        "id": "8wcZg7JqAu5z",
        "outputId": "b022e39e-0b67-4c55-b9dc-73a21cdeeb98"
      },
      "execution_count": 161,
      "outputs": [
        {
          "output_type": "execute_result",
          "data": {
            "text/plain": [
              "   mean_radius  mean_texture  mean_perimeter  mean_area  mean_smoothness  \\\n",
              "0        17.99         10.38          122.80     1001.0          0.11840   \n",
              "1        20.57         17.77          132.90     1326.0          0.08474   \n",
              "2        19.69         21.25          130.00     1203.0          0.10960   \n",
              "3        11.42         20.38           77.58      386.1          0.14250   \n",
              "4        20.29         14.34          135.10     1297.0          0.10030   \n",
              "5        12.45         15.70           82.57      477.1          0.12780   \n",
              "6        18.25         19.98          119.60     1040.0          0.09463   \n",
              "7        13.71         20.83           90.20      577.9          0.11890   \n",
              "8        13.00         21.82           87.50      519.8          0.12730   \n",
              "9        12.46         24.04           83.97      475.9          0.11860   \n",
              "\n",
              "   diagnosis  \n",
              "0          0  \n",
              "1          0  \n",
              "2          0  \n",
              "3          0  \n",
              "4          0  \n",
              "5          0  \n",
              "6          0  \n",
              "7          0  \n",
              "8          0  \n",
              "9          0  "
            ],
            "text/html": [
              "\n",
              "  <div id=\"df-1ed422d7-10fc-414e-b732-8bdf413439a8\">\n",
              "    <div class=\"colab-df-container\">\n",
              "      <div>\n",
              "<style scoped>\n",
              "    .dataframe tbody tr th:only-of-type {\n",
              "        vertical-align: middle;\n",
              "    }\n",
              "\n",
              "    .dataframe tbody tr th {\n",
              "        vertical-align: top;\n",
              "    }\n",
              "\n",
              "    .dataframe thead th {\n",
              "        text-align: right;\n",
              "    }\n",
              "</style>\n",
              "<table border=\"1\" class=\"dataframe\">\n",
              "  <thead>\n",
              "    <tr style=\"text-align: right;\">\n",
              "      <th></th>\n",
              "      <th>mean_radius</th>\n",
              "      <th>mean_texture</th>\n",
              "      <th>mean_perimeter</th>\n",
              "      <th>mean_area</th>\n",
              "      <th>mean_smoothness</th>\n",
              "      <th>diagnosis</th>\n",
              "    </tr>\n",
              "  </thead>\n",
              "  <tbody>\n",
              "    <tr>\n",
              "      <th>0</th>\n",
              "      <td>17.99</td>\n",
              "      <td>10.38</td>\n",
              "      <td>122.80</td>\n",
              "      <td>1001.0</td>\n",
              "      <td>0.11840</td>\n",
              "      <td>0</td>\n",
              "    </tr>\n",
              "    <tr>\n",
              "      <th>1</th>\n",
              "      <td>20.57</td>\n",
              "      <td>17.77</td>\n",
              "      <td>132.90</td>\n",
              "      <td>1326.0</td>\n",
              "      <td>0.08474</td>\n",
              "      <td>0</td>\n",
              "    </tr>\n",
              "    <tr>\n",
              "      <th>2</th>\n",
              "      <td>19.69</td>\n",
              "      <td>21.25</td>\n",
              "      <td>130.00</td>\n",
              "      <td>1203.0</td>\n",
              "      <td>0.10960</td>\n",
              "      <td>0</td>\n",
              "    </tr>\n",
              "    <tr>\n",
              "      <th>3</th>\n",
              "      <td>11.42</td>\n",
              "      <td>20.38</td>\n",
              "      <td>77.58</td>\n",
              "      <td>386.1</td>\n",
              "      <td>0.14250</td>\n",
              "      <td>0</td>\n",
              "    </tr>\n",
              "    <tr>\n",
              "      <th>4</th>\n",
              "      <td>20.29</td>\n",
              "      <td>14.34</td>\n",
              "      <td>135.10</td>\n",
              "      <td>1297.0</td>\n",
              "      <td>0.10030</td>\n",
              "      <td>0</td>\n",
              "    </tr>\n",
              "    <tr>\n",
              "      <th>5</th>\n",
              "      <td>12.45</td>\n",
              "      <td>15.70</td>\n",
              "      <td>82.57</td>\n",
              "      <td>477.1</td>\n",
              "      <td>0.12780</td>\n",
              "      <td>0</td>\n",
              "    </tr>\n",
              "    <tr>\n",
              "      <th>6</th>\n",
              "      <td>18.25</td>\n",
              "      <td>19.98</td>\n",
              "      <td>119.60</td>\n",
              "      <td>1040.0</td>\n",
              "      <td>0.09463</td>\n",
              "      <td>0</td>\n",
              "    </tr>\n",
              "    <tr>\n",
              "      <th>7</th>\n",
              "      <td>13.71</td>\n",
              "      <td>20.83</td>\n",
              "      <td>90.20</td>\n",
              "      <td>577.9</td>\n",
              "      <td>0.11890</td>\n",
              "      <td>0</td>\n",
              "    </tr>\n",
              "    <tr>\n",
              "      <th>8</th>\n",
              "      <td>13.00</td>\n",
              "      <td>21.82</td>\n",
              "      <td>87.50</td>\n",
              "      <td>519.8</td>\n",
              "      <td>0.12730</td>\n",
              "      <td>0</td>\n",
              "    </tr>\n",
              "    <tr>\n",
              "      <th>9</th>\n",
              "      <td>12.46</td>\n",
              "      <td>24.04</td>\n",
              "      <td>83.97</td>\n",
              "      <td>475.9</td>\n",
              "      <td>0.11860</td>\n",
              "      <td>0</td>\n",
              "    </tr>\n",
              "  </tbody>\n",
              "</table>\n",
              "</div>\n",
              "      <button class=\"colab-df-convert\" onclick=\"convertToInteractive('df-1ed422d7-10fc-414e-b732-8bdf413439a8')\"\n",
              "              title=\"Convert this dataframe to an interactive table.\"\n",
              "              style=\"display:none;\">\n",
              "        \n",
              "  <svg xmlns=\"http://www.w3.org/2000/svg\" height=\"24px\"viewBox=\"0 0 24 24\"\n",
              "       width=\"24px\">\n",
              "    <path d=\"M0 0h24v24H0V0z\" fill=\"none\"/>\n",
              "    <path d=\"M18.56 5.44l.94 2.06.94-2.06 2.06-.94-2.06-.94-.94-2.06-.94 2.06-2.06.94zm-11 1L8.5 8.5l.94-2.06 2.06-.94-2.06-.94L8.5 2.5l-.94 2.06-2.06.94zm10 10l.94 2.06.94-2.06 2.06-.94-2.06-.94-.94-2.06-.94 2.06-2.06.94z\"/><path d=\"M17.41 7.96l-1.37-1.37c-.4-.4-.92-.59-1.43-.59-.52 0-1.04.2-1.43.59L10.3 9.45l-7.72 7.72c-.78.78-.78 2.05 0 2.83L4 21.41c.39.39.9.59 1.41.59.51 0 1.02-.2 1.41-.59l7.78-7.78 2.81-2.81c.8-.78.8-2.07 0-2.86zM5.41 20L4 18.59l7.72-7.72 1.47 1.35L5.41 20z\"/>\n",
              "  </svg>\n",
              "      </button>\n",
              "      \n",
              "  <style>\n",
              "    .colab-df-container {\n",
              "      display:flex;\n",
              "      flex-wrap:wrap;\n",
              "      gap: 12px;\n",
              "    }\n",
              "\n",
              "    .colab-df-convert {\n",
              "      background-color: #E8F0FE;\n",
              "      border: none;\n",
              "      border-radius: 50%;\n",
              "      cursor: pointer;\n",
              "      display: none;\n",
              "      fill: #1967D2;\n",
              "      height: 32px;\n",
              "      padding: 0 0 0 0;\n",
              "      width: 32px;\n",
              "    }\n",
              "\n",
              "    .colab-df-convert:hover {\n",
              "      background-color: #E2EBFA;\n",
              "      box-shadow: 0px 1px 2px rgba(60, 64, 67, 0.3), 0px 1px 3px 1px rgba(60, 64, 67, 0.15);\n",
              "      fill: #174EA6;\n",
              "    }\n",
              "\n",
              "    [theme=dark] .colab-df-convert {\n",
              "      background-color: #3B4455;\n",
              "      fill: #D2E3FC;\n",
              "    }\n",
              "\n",
              "    [theme=dark] .colab-df-convert:hover {\n",
              "      background-color: #434B5C;\n",
              "      box-shadow: 0px 1px 3px 1px rgba(0, 0, 0, 0.15);\n",
              "      filter: drop-shadow(0px 1px 2px rgba(0, 0, 0, 0.3));\n",
              "      fill: #FFFFFF;\n",
              "    }\n",
              "  </style>\n",
              "\n",
              "      <script>\n",
              "        const buttonEl =\n",
              "          document.querySelector('#df-1ed422d7-10fc-414e-b732-8bdf413439a8 button.colab-df-convert');\n",
              "        buttonEl.style.display =\n",
              "          google.colab.kernel.accessAllowed ? 'block' : 'none';\n",
              "\n",
              "        async function convertToInteractive(key) {\n",
              "          const element = document.querySelector('#df-1ed422d7-10fc-414e-b732-8bdf413439a8');\n",
              "          const dataTable =\n",
              "            await google.colab.kernel.invokeFunction('convertToInteractive',\n",
              "                                                     [key], {});\n",
              "          if (!dataTable) return;\n",
              "\n",
              "          const docLinkHtml = 'Like what you see? Visit the ' +\n",
              "            '<a target=\"_blank\" href=https://colab.research.google.com/notebooks/data_table.ipynb>data table notebook</a>'\n",
              "            + ' to learn more about interactive tables.';\n",
              "          element.innerHTML = '';\n",
              "          dataTable['output_type'] = 'display_data';\n",
              "          await google.colab.output.renderOutput(dataTable, element);\n",
              "          const docLink = document.createElement('div');\n",
              "          docLink.innerHTML = docLinkHtml;\n",
              "          element.appendChild(docLink);\n",
              "        }\n",
              "      </script>\n",
              "    </div>\n",
              "  </div>\n",
              "  "
            ]
          },
          "metadata": {},
          "execution_count": 161
        }
      ]
    },
    {
      "cell_type": "code",
      "source": [
        "data.info()"
      ],
      "metadata": {
        "colab": {
          "base_uri": "https://localhost:8080/",
          "height": 0
        },
        "id": "tB-jmq48Gqpj",
        "outputId": "bc2a4279-b720-4490-8dc5-5472df8af94d"
      },
      "execution_count": 162,
      "outputs": [
        {
          "output_type": "stream",
          "name": "stdout",
          "text": [
            "<class 'pandas.core.frame.DataFrame'>\n",
            "RangeIndex: 569 entries, 0 to 568\n",
            "Data columns (total 6 columns):\n",
            " #   Column           Non-Null Count  Dtype  \n",
            "---  ------           --------------  -----  \n",
            " 0   mean_radius      569 non-null    float64\n",
            " 1   mean_texture     569 non-null    float64\n",
            " 2   mean_perimeter   569 non-null    float64\n",
            " 3   mean_area        569 non-null    float64\n",
            " 4   mean_smoothness  569 non-null    float64\n",
            " 5   diagnosis        569 non-null    int64  \n",
            "dtypes: float64(5), int64(1)\n",
            "memory usage: 26.8 KB\n"
          ]
        }
      ]
    },
    {
      "cell_type": "code",
      "source": [
        "data.describe()"
      ],
      "metadata": {
        "colab": {
          "base_uri": "https://localhost:8080/",
          "height": 300
        },
        "id": "G4a6sasfGxWn",
        "outputId": "ca62bce6-29b9-4018-91b7-add34c14a2f5"
      },
      "execution_count": 163,
      "outputs": [
        {
          "output_type": "execute_result",
          "data": {
            "text/plain": [
              "       mean_radius  mean_texture  mean_perimeter    mean_area  \\\n",
              "count   569.000000    569.000000      569.000000   569.000000   \n",
              "mean     14.127292     19.289649       91.969033   654.889104   \n",
              "std       3.524049      4.301036       24.298981   351.914129   \n",
              "min       6.981000      9.710000       43.790000   143.500000   \n",
              "25%      11.700000     16.170000       75.170000   420.300000   \n",
              "50%      13.370000     18.840000       86.240000   551.100000   \n",
              "75%      15.780000     21.800000      104.100000   782.700000   \n",
              "max      28.110000     39.280000      188.500000  2501.000000   \n",
              "\n",
              "       mean_smoothness   diagnosis  \n",
              "count       569.000000  569.000000  \n",
              "mean          0.096360    0.627417  \n",
              "std           0.014064    0.483918  \n",
              "min           0.052630    0.000000  \n",
              "25%           0.086370    0.000000  \n",
              "50%           0.095870    1.000000  \n",
              "75%           0.105300    1.000000  \n",
              "max           0.163400    1.000000  "
            ],
            "text/html": [
              "\n",
              "  <div id=\"df-8de02fed-ccba-4dac-8fb1-10f7f44d533c\">\n",
              "    <div class=\"colab-df-container\">\n",
              "      <div>\n",
              "<style scoped>\n",
              "    .dataframe tbody tr th:only-of-type {\n",
              "        vertical-align: middle;\n",
              "    }\n",
              "\n",
              "    .dataframe tbody tr th {\n",
              "        vertical-align: top;\n",
              "    }\n",
              "\n",
              "    .dataframe thead th {\n",
              "        text-align: right;\n",
              "    }\n",
              "</style>\n",
              "<table border=\"1\" class=\"dataframe\">\n",
              "  <thead>\n",
              "    <tr style=\"text-align: right;\">\n",
              "      <th></th>\n",
              "      <th>mean_radius</th>\n",
              "      <th>mean_texture</th>\n",
              "      <th>mean_perimeter</th>\n",
              "      <th>mean_area</th>\n",
              "      <th>mean_smoothness</th>\n",
              "      <th>diagnosis</th>\n",
              "    </tr>\n",
              "  </thead>\n",
              "  <tbody>\n",
              "    <tr>\n",
              "      <th>count</th>\n",
              "      <td>569.000000</td>\n",
              "      <td>569.000000</td>\n",
              "      <td>569.000000</td>\n",
              "      <td>569.000000</td>\n",
              "      <td>569.000000</td>\n",
              "      <td>569.000000</td>\n",
              "    </tr>\n",
              "    <tr>\n",
              "      <th>mean</th>\n",
              "      <td>14.127292</td>\n",
              "      <td>19.289649</td>\n",
              "      <td>91.969033</td>\n",
              "      <td>654.889104</td>\n",
              "      <td>0.096360</td>\n",
              "      <td>0.627417</td>\n",
              "    </tr>\n",
              "    <tr>\n",
              "      <th>std</th>\n",
              "      <td>3.524049</td>\n",
              "      <td>4.301036</td>\n",
              "      <td>24.298981</td>\n",
              "      <td>351.914129</td>\n",
              "      <td>0.014064</td>\n",
              "      <td>0.483918</td>\n",
              "    </tr>\n",
              "    <tr>\n",
              "      <th>min</th>\n",
              "      <td>6.981000</td>\n",
              "      <td>9.710000</td>\n",
              "      <td>43.790000</td>\n",
              "      <td>143.500000</td>\n",
              "      <td>0.052630</td>\n",
              "      <td>0.000000</td>\n",
              "    </tr>\n",
              "    <tr>\n",
              "      <th>25%</th>\n",
              "      <td>11.700000</td>\n",
              "      <td>16.170000</td>\n",
              "      <td>75.170000</td>\n",
              "      <td>420.300000</td>\n",
              "      <td>0.086370</td>\n",
              "      <td>0.000000</td>\n",
              "    </tr>\n",
              "    <tr>\n",
              "      <th>50%</th>\n",
              "      <td>13.370000</td>\n",
              "      <td>18.840000</td>\n",
              "      <td>86.240000</td>\n",
              "      <td>551.100000</td>\n",
              "      <td>0.095870</td>\n",
              "      <td>1.000000</td>\n",
              "    </tr>\n",
              "    <tr>\n",
              "      <th>75%</th>\n",
              "      <td>15.780000</td>\n",
              "      <td>21.800000</td>\n",
              "      <td>104.100000</td>\n",
              "      <td>782.700000</td>\n",
              "      <td>0.105300</td>\n",
              "      <td>1.000000</td>\n",
              "    </tr>\n",
              "    <tr>\n",
              "      <th>max</th>\n",
              "      <td>28.110000</td>\n",
              "      <td>39.280000</td>\n",
              "      <td>188.500000</td>\n",
              "      <td>2501.000000</td>\n",
              "      <td>0.163400</td>\n",
              "      <td>1.000000</td>\n",
              "    </tr>\n",
              "  </tbody>\n",
              "</table>\n",
              "</div>\n",
              "      <button class=\"colab-df-convert\" onclick=\"convertToInteractive('df-8de02fed-ccba-4dac-8fb1-10f7f44d533c')\"\n",
              "              title=\"Convert this dataframe to an interactive table.\"\n",
              "              style=\"display:none;\">\n",
              "        \n",
              "  <svg xmlns=\"http://www.w3.org/2000/svg\" height=\"24px\"viewBox=\"0 0 24 24\"\n",
              "       width=\"24px\">\n",
              "    <path d=\"M0 0h24v24H0V0z\" fill=\"none\"/>\n",
              "    <path d=\"M18.56 5.44l.94 2.06.94-2.06 2.06-.94-2.06-.94-.94-2.06-.94 2.06-2.06.94zm-11 1L8.5 8.5l.94-2.06 2.06-.94-2.06-.94L8.5 2.5l-.94 2.06-2.06.94zm10 10l.94 2.06.94-2.06 2.06-.94-2.06-.94-.94-2.06-.94 2.06-2.06.94z\"/><path d=\"M17.41 7.96l-1.37-1.37c-.4-.4-.92-.59-1.43-.59-.52 0-1.04.2-1.43.59L10.3 9.45l-7.72 7.72c-.78.78-.78 2.05 0 2.83L4 21.41c.39.39.9.59 1.41.59.51 0 1.02-.2 1.41-.59l7.78-7.78 2.81-2.81c.8-.78.8-2.07 0-2.86zM5.41 20L4 18.59l7.72-7.72 1.47 1.35L5.41 20z\"/>\n",
              "  </svg>\n",
              "      </button>\n",
              "      \n",
              "  <style>\n",
              "    .colab-df-container {\n",
              "      display:flex;\n",
              "      flex-wrap:wrap;\n",
              "      gap: 12px;\n",
              "    }\n",
              "\n",
              "    .colab-df-convert {\n",
              "      background-color: #E8F0FE;\n",
              "      border: none;\n",
              "      border-radius: 50%;\n",
              "      cursor: pointer;\n",
              "      display: none;\n",
              "      fill: #1967D2;\n",
              "      height: 32px;\n",
              "      padding: 0 0 0 0;\n",
              "      width: 32px;\n",
              "    }\n",
              "\n",
              "    .colab-df-convert:hover {\n",
              "      background-color: #E2EBFA;\n",
              "      box-shadow: 0px 1px 2px rgba(60, 64, 67, 0.3), 0px 1px 3px 1px rgba(60, 64, 67, 0.15);\n",
              "      fill: #174EA6;\n",
              "    }\n",
              "\n",
              "    [theme=dark] .colab-df-convert {\n",
              "      background-color: #3B4455;\n",
              "      fill: #D2E3FC;\n",
              "    }\n",
              "\n",
              "    [theme=dark] .colab-df-convert:hover {\n",
              "      background-color: #434B5C;\n",
              "      box-shadow: 0px 1px 3px 1px rgba(0, 0, 0, 0.15);\n",
              "      filter: drop-shadow(0px 1px 2px rgba(0, 0, 0, 0.3));\n",
              "      fill: #FFFFFF;\n",
              "    }\n",
              "  </style>\n",
              "\n",
              "      <script>\n",
              "        const buttonEl =\n",
              "          document.querySelector('#df-8de02fed-ccba-4dac-8fb1-10f7f44d533c button.colab-df-convert');\n",
              "        buttonEl.style.display =\n",
              "          google.colab.kernel.accessAllowed ? 'block' : 'none';\n",
              "\n",
              "        async function convertToInteractive(key) {\n",
              "          const element = document.querySelector('#df-8de02fed-ccba-4dac-8fb1-10f7f44d533c');\n",
              "          const dataTable =\n",
              "            await google.colab.kernel.invokeFunction('convertToInteractive',\n",
              "                                                     [key], {});\n",
              "          if (!dataTable) return;\n",
              "\n",
              "          const docLinkHtml = 'Like what you see? Visit the ' +\n",
              "            '<a target=\"_blank\" href=https://colab.research.google.com/notebooks/data_table.ipynb>data table notebook</a>'\n",
              "            + ' to learn more about interactive tables.';\n",
              "          element.innerHTML = '';\n",
              "          dataTable['output_type'] = 'display_data';\n",
              "          await google.colab.output.renderOutput(dataTable, element);\n",
              "          const docLink = document.createElement('div');\n",
              "          docLink.innerHTML = docLinkHtml;\n",
              "          element.appendChild(docLink);\n",
              "        }\n",
              "      </script>\n",
              "    </div>\n",
              "  </div>\n",
              "  "
            ]
          },
          "metadata": {},
          "execution_count": 163
        }
      ]
    },
    {
      "cell_type": "code",
      "source": [
        "data.diagnosis.hist()"
      ],
      "metadata": {
        "colab": {
          "base_uri": "https://localhost:8080/",
          "height": 391
        },
        "id": "BFHGHH0ODJRX",
        "outputId": "5195e788-92c1-415d-9446-d1fe734df7ac"
      },
      "execution_count": 164,
      "outputs": [
        {
          "output_type": "execute_result",
          "data": {
            "text/plain": [
              "<matplotlib.axes._subplots.AxesSubplot at 0x7fbae8757710>"
            ]
          },
          "metadata": {},
          "execution_count": 164
        },
        {
          "output_type": "display_data",
          "data": {
            "text/plain": [
              "<Figure size 432x432 with 1 Axes>"
            ],
            "image/png": "[encoded data removed]"
          },
          "metadata": {
            "needs_background": "light"
          }
        }
      ]
    },
    {
      "cell_type": "markdown",
      "source": [
        "This shows that there is slight imbalance between data because we have more values of *B* as compared to *M*"
      ],
      "metadata": {
        "id": "MjjlEo5RDQvP"
      }
    },
    {
      "cell_type": "code",
      "source": [
        "corr = data.iloc[:,:-1].corr(method=\"pearson\")\n",
        "cmap = sns.diverging_palette(250,354,80,60,center='dark',as_cmap=True)\n",
        "sns.heatmap(corr, vmax=1, vmin=-0.5, cmap=cmap,annot=True ,square=True, linewidths=0.2)"
      ],
      "metadata": {
        "colab": {
          "base_uri": "https://localhost:8080/",
          "height": 450
        },
        "id": "OO0kTT4MDjfS",
        "outputId": "9d524385-b83a-43b6-e79d-829cbcc2575a"
      },
      "execution_count": 165,
      "outputs": [
        {
          "output_type": "execute_result",
          "data": {
            "text/plain": [
              "<matplotlib.axes._subplots.AxesSubplot at 0x7fbae8687f50>"
            ]
          },
          "metadata": {},
          "execution_count": 165
        },
        {
          "output_type": "display_data",
          "data": {
            "text/plain": [
              "<Figure size 432x432 with 2 Axes>"
            ],
            "image/png": "[encoded data removed]"
          },
          "metadata": {
            "needs_background": "light"
          }
        }
      ]
    },
    {
      "cell_type": "markdown",
      "source": [
        "* From the above heat map it is clear that there is very high correlation between ```[mean_radius, mean_parimeter, mean_area] ``` \n",
        "\n",
        "* let's select one ```mean_radius``` column from these correlated features."
      ],
      "metadata": {
        "id": "L5_PYjqhG_Zw"
      }
    },
    {
      "cell_type": "code",
      "source": [
        "selected_cols = ['mean_radius','mean_texture','mean_smoothness','diagnosis']\n",
        "df = data[selected_cols]"
      ],
      "metadata": {
        "id": "QHqDaPsYIAT8"
      },
      "execution_count": 166,
      "outputs": []
    },
    {
      "cell_type": "code",
      "source": [
        "df"
      ],
      "metadata": {
        "colab": {
          "base_uri": "https://localhost:8080/",
          "height": 423
        },
        "id": "8F6UyQdbH__R",
        "outputId": "303e0893-9ab4-408d-d37d-68e9d620dd77"
      },
      "execution_count": 167,
      "outputs": [
        {
          "output_type": "execute_result",
          "data": {
            "text/plain": [
              "     mean_radius  mean_texture  mean_smoothness  diagnosis\n",
              "0          17.99         10.38          0.11840          0\n",
              "1          20.57         17.77          0.08474          0\n",
              "2          19.69         21.25          0.10960          0\n",
              "3          11.42         20.38          0.14250          0\n",
              "4          20.29         14.34          0.10030          0\n",
              "..           ...           ...              ...        ...\n",
              "564        21.56         22.39          0.11100          0\n",
              "565        20.13         28.25          0.09780          0\n",
              "566        16.60         28.08          0.08455          0\n",
              "567        20.60         29.33          0.11780          0\n",
              "568         7.76         24.54          0.05263          1\n",
              "\n",
              "[569 rows x 4 columns]"
            ],
            "text/html": [
              "\n",
              "  <div id=\"df-3b171dad-4bbc-4651-a0f1-fa08154a1226\">\n",
              "    <div class=\"colab-df-container\">\n",
              "      <div>\n",
              "<style scoped>\n",
              "    .dataframe tbody tr th:only-of-type {\n",
              "        vertical-align: middle;\n",
              "    }\n",
              "\n",
              "    .dataframe tbody tr th {\n",
              "        vertical-align: top;\n",
              "    }\n",
              "\n",
              "    .dataframe thead th {\n",
              "        text-align: right;\n",
              "    }\n",
              "</style>\n",
              "<table border=\"1\" class=\"dataframe\">\n",
              "  <thead>\n",
              "    <tr style=\"text-align: right;\">\n",
              "      <th></th>\n",
              "      <th>mean_radius</th>\n",
              "      <th>mean_texture</th>\n",
              "      <th>mean_smoothness</th>\n",
              "      <th>diagnosis</th>\n",
              "    </tr>\n",
              "  </thead>\n",
              "  <tbody>\n",
              "    <tr>\n",
              "      <th>0</th>\n",
              "      <td>17.99</td>\n",
              "      <td>10.38</td>\n",
              "      <td>0.11840</td>\n",
              "      <td>0</td>\n",
              "    </tr>\n",
              "    <tr>\n",
              "      <th>1</th>\n",
              "      <td>20.57</td>\n",
              "      <td>17.77</td>\n",
              "      <td>0.08474</td>\n",
              "      <td>0</td>\n",
              "    </tr>\n",
              "    <tr>\n",
              "      <th>2</th>\n",
              "      <td>19.69</td>\n",
              "      <td>21.25</td>\n",
              "      <td>0.10960</td>\n",
              "      <td>0</td>\n",
              "    </tr>\n",
              "    <tr>\n",
              "      <th>3</th>\n",
              "      <td>11.42</td>\n",
              "      <td>20.38</td>\n",
              "      <td>0.14250</td>\n",
              "      <td>0</td>\n",
              "    </tr>\n",
              "    <tr>\n",
              "      <th>4</th>\n",
              "      <td>20.29</td>\n",
              "      <td>14.34</td>\n",
              "      <td>0.10030</td>\n",
              "      <td>0</td>\n",
              "    </tr>\n",
              "    <tr>\n",
              "      <th>...</th>\n",
              "      <td>...</td>\n",
              "      <td>...</td>\n",
              "      <td>...</td>\n",
              "      <td>...</td>\n",
              "    </tr>\n",
              "    <tr>\n",
              "      <th>564</th>\n",
              "      <td>21.56</td>\n",
              "      <td>22.39</td>\n",
              "      <td>0.11100</td>\n",
              "      <td>0</td>\n",
              "    </tr>\n",
              "    <tr>\n",
              "      <th>565</th>\n",
              "      <td>20.13</td>\n",
              "      <td>28.25</td>\n",
              "      <td>0.09780</td>\n",
              "      <td>0</td>\n",
              "    </tr>\n",
              "    <tr>\n",
              "      <th>566</th>\n",
              "      <td>16.60</td>\n",
              "      <td>28.08</td>\n",
              "      <td>0.08455</td>\n",
              "      <td>0</td>\n",
              "    </tr>\n",
              "    <tr>\n",
              "      <th>567</th>\n",
              "      <td>20.60</td>\n",
              "      <td>29.33</td>\n",
              "      <td>0.11780</td>\n",
              "      <td>0</td>\n",
              "    </tr>\n",
              "    <tr>\n",
              "      <th>568</th>\n",
              "      <td>7.76</td>\n",
              "      <td>24.54</td>\n",
              "      <td>0.05263</td>\n",
              "      <td>1</td>\n",
              "    </tr>\n",
              "  </tbody>\n",
              "</table>\n",
              "<p>569 rows × 4 columns</p>\n",
              "</div>\n",
              "      <button class=\"colab-df-convert\" onclick=\"convertToInteractive('df-3b171dad-4bbc-4651-a0f1-fa08154a1226')\"\n",
              "              title=\"Convert this dataframe to an interactive table.\"\n",
              "              style=\"display:none;\">\n",
              "        \n",
              "  <svg xmlns=\"http://www.w3.org/2000/svg\" height=\"24px\"viewBox=\"0 0 24 24\"\n",
              "       width=\"24px\">\n",
              "    <path d=\"M0 0h24v24H0V0z\" fill=\"none\"/>\n",
              "    <path d=\"M18.56 5.44l.94 2.06.94-2.06 2.06-.94-2.06-.94-.94-2.06-.94 2.06-2.06.94zm-11 1L8.5 8.5l.94-2.06 2.06-.94-2.06-.94L8.5 2.5l-.94 2.06-2.06.94zm10 10l.94 2.06.94-2.06 2.06-.94-2.06-.94-.94-2.06-.94 2.06-2.06.94z\"/><path d=\"M17.41 7.96l-1.37-1.37c-.4-.4-.92-.59-1.43-.59-.52 0-1.04.2-1.43.59L10.3 9.45l-7.72 7.72c-.78.78-.78 2.05 0 2.83L4 21.41c.39.39.9.59 1.41.59.51 0 1.02-.2 1.41-.59l7.78-7.78 2.81-2.81c.8-.78.8-2.07 0-2.86zM5.41 20L4 18.59l7.72-7.72 1.47 1.35L5.41 20z\"/>\n",
              "  </svg>\n",
              "      </button>\n",
              "      \n",
              "  <style>\n",
              "    .colab-df-container {\n",
              "      display:flex;\n",
              "      flex-wrap:wrap;\n",
              "      gap: 12px;\n",
              "    }\n",
              "\n",
              "    .colab-df-convert {\n",
              "      background-color: #E8F0FE;\n",
              "      border: none;\n",
              "      border-radius: 50%;\n",
              "      cursor: pointer;\n",
              "      display: none;\n",
              "      fill: #1967D2;\n",
              "      height: 32px;\n",
              "      padding: 0 0 0 0;\n",
              "      width: 32px;\n",
              "    }\n",
              "\n",
              "    .colab-df-convert:hover {\n",
              "      background-color: #E2EBFA;\n",
              "      box-shadow: 0px 1px 2px rgba(60, 64, 67, 0.3), 0px 1px 3px 1px rgba(60, 64, 67, 0.15);\n",
              "      fill: #174EA6;\n",
              "    }\n",
              "\n",
              "    [theme=dark] .colab-df-convert {\n",
              "      background-color: #3B4455;\n",
              "      fill: #D2E3FC;\n",
              "    }\n",
              "\n",
              "    [theme=dark] .colab-df-convert:hover {\n",
              "      background-color: #434B5C;\n",
              "      box-shadow: 0px 1px 3px 1px rgba(0, 0, 0, 0.15);\n",
              "      filter: drop-shadow(0px 1px 2px rgba(0, 0, 0, 0.3));\n",
              "      fill: #FFFFFF;\n",
              "    }\n",
              "  </style>\n",
              "\n",
              "      <script>\n",
              "        const buttonEl =\n",
              "          document.querySelector('#df-3b171dad-4bbc-4651-a0f1-fa08154a1226 button.colab-df-convert');\n",
              "        buttonEl.style.display =\n",
              "          google.colab.kernel.accessAllowed ? 'block' : 'none';\n",
              "\n",
              "        async function convertToInteractive(key) {\n",
              "          const element = document.querySelector('#df-3b171dad-4bbc-4651-a0f1-fa08154a1226');\n",
              "          const dataTable =\n",
              "            await google.colab.kernel.invokeFunction('convertToInteractive',\n",
              "                                                     [key], {});\n",
              "          if (!dataTable) return;\n",
              "\n",
              "          const docLinkHtml = 'Like what you see? Visit the ' +\n",
              "            '<a target=\"_blank\" href=https://colab.research.google.com/notebooks/data_table.ipynb>data table notebook</a>'\n",
              "            + ' to learn more about interactive tables.';\n",
              "          element.innerHTML = '';\n",
              "          dataTable['output_type'] = 'display_data';\n",
              "          await google.colab.output.renderOutput(dataTable, element);\n",
              "          const docLink = document.createElement('div');\n",
              "          docLink.innerHTML = docLinkHtml;\n",
              "          element.appendChild(docLink);\n",
              "        }\n",
              "      </script>\n",
              "    </div>\n",
              "  </div>\n",
              "  "
            ]
          },
          "metadata": {},
          "execution_count": 167
        }
      ]
    },
    {
      "cell_type": "markdown",
      "source": [
        "Plotting histogram to look at distribution of data"
      ],
      "metadata": {
        "id": "4rSC3injJRX1"
      }
    },
    {
      "cell_type": "code",
      "source": [
        "fig, axes = plt.subplots(1, 3, figsize=(18, 6), sharey=True)\n",
        "sns.histplot(data, ax=axes[0], x=\"mean_radius\", kde=True, color='r')\n",
        "sns.histplot(data, ax=axes[1], x=\"mean_smoothness\", kde=True, color='g')\n",
        "sns.histplot(data, ax=axes[2], x=\"mean_texture\", color='b', kde=True)"
      ],
      "metadata": {
        "colab": {
          "base_uri": "https://localhost:8080/",
          "height": 406
        },
        "id": "B74NGSQFJPuu",
        "outputId": "4abe58ac-a27a-4e5e-bf20-8043f8da2430"
      },
      "execution_count": 168,
      "outputs": [
        {
          "output_type": "execute_result",
          "data": {
            "text/plain": [
              "<matplotlib.axes._subplots.AxesSubplot at 0x7fbae8562490>"
            ]
          },
          "metadata": {},
          "execution_count": 168
        },
        {
          "output_type": "display_data",
          "data": {
            "text/plain": [
              "<Figure size 1296x432 with 3 Axes>"
            ],
            "image/png": "[encoded data removed]"
          },
          "metadata": {
            "needs_background": "light"
          }
        }
      ]
    },
    {
      "cell_type": "markdown",
      "source": [
        "**Data is *almost* normally distributed**\n",
        "\n",
        "\n",
        "\n",
        "\n",
        "\n"
      ],
      "metadata": {
        "id": "0Z3_POYcJgPz"
      }
    },
    {
      "cell_type": "markdown",
      "source": [
        "![image.png](data:image/png;base64,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)"
      ],
      "metadata": {
        "id": "7JohdpjKVnWG"
      }
    },
    {
      "cell_type": "markdown",
      "source": [
        "Calculate P(Y=y) for all possible values of y"
      ],
      "metadata": {
        "id": "TRwpM_reMyfu"
      }
    },
    {
      "cell_type": "code",
      "source": [
        "def calculate_prior(df, Y):\n",
        "    classes = sorted(list(df[Y].unique()))\n",
        "    prior = []\n",
        "    for i in classes:\n",
        "        prior.append(len(df[df[Y]==i])/len(df))\n",
        "\n",
        "    return prior"
      ],
      "metadata": {
        "id": "rHqTn_AvJv7Q"
      },
      "execution_count": 169,
      "outputs": []
    },
    {
      "cell_type": "code",
      "source": [
        "def calculate_likelihood_gaussian(df, feat_name, feat_val, Y, label):\n",
        "    feat = list(df.columns)\n",
        "    df = df[df[Y]==label]\n",
        "    mean, std = df[feat_name].mean(), df[feat_name].std()\n",
        "    p_x_given_y = (1 / (np.sqrt(2 * np.pi) * std)) *  np.exp(-((feat_val-mean)**2 / (2 * std**2 )))\n",
        "\n",
        "    return p_x_given_y"
      ],
      "metadata": {
        "id": "zX41C8WHOSkV"
      },
      "execution_count": 170,
      "outputs": []
    },
    {
      "cell_type": "code",
      "source": [
        "def naive_bayes_gaussian(df, X, Y):\n",
        "    # get feature names\n",
        "    features = list(df.columns)[:-1]\n",
        "\n",
        "    # calculate prior\n",
        "    prior = calculate_prior(df, Y)\n",
        "\n",
        "    Y_pred = []\n",
        "    # loop over every data sample\n",
        "    for x in X:\n",
        "        # calculate likelihood\n",
        "        labels = sorted(list(df[Y].unique()))\n",
        "        likelihood = [1]*len(labels)\n",
        "        for j in range(len(labels)):\n",
        "            for i in range(len(features)):\n",
        "                likelihood[j] *= calculate_likelihood_gaussian(df, features[i], x[i], Y, labels[j])\n",
        "\n",
        "        # calculate posterior probability (numerator only)\n",
        "        post_prob = [1]*len(labels)\n",
        "        for j in range(len(labels)):\n",
        "            post_prob[j] = likelihood[j] * prior[j]\n",
        "\n",
        "        Y_pred.append(np.argmax(post_prob))\n",
        "\n",
        "    return np.array(Y_pred) "
      ],
      "metadata": {
        "id": "Oo35Wf3hOVWc"
      },
      "execution_count": 171,
      "outputs": []
    },
    {
      "cell_type": "code",
      "source": [
        "X = df.iloc[:,:-1].values\n",
        "y = df.iloc[:,-1].values.reshape(-1,1)\n",
        "X_train, X_test, y_train, y_test = train_test_split(X,y,test_size=0.3, random_state=42)"
      ],
      "metadata": {
        "id": "LdsqZKC0OuXJ"
      },
      "execution_count": 172,
      "outputs": []
    },
    {
      "cell_type": "code",
      "source": [
        "y_pred_test = naive_bayes_gaussian(df, X=X_test, Y=\"diagnosis\")\n",
        "y_pred_train = naive_bayes_gaussian(df, X=X_train, Y=\"diagnosis\")"
      ],
      "metadata": {
        "id": "vu-VOIiqPJ9X"
      },
      "execution_count": 173,
      "outputs": []
    },
    {
      "cell_type": "code",
      "source": [
        "train_acc = accuracy_score(y_train, y_pred_train)\n",
        "test_acc = accuracy_score(y_test, y_pred_test)\n",
        "print(train_acc*100, test_acc*100)"
      ],
      "metadata": {
        "colab": {
          "base_uri": "https://localhost:8080/",
          "height": 0
        },
        "id": "qEpIAUmuPIDp",
        "outputId": "1da78d0d-b15b-45fe-a15c-c997e46a96d6"
      },
      "execution_count": 174,
      "outputs": [
        {
          "output_type": "stream",
          "name": "stdout",
          "text": [
            "90.20100502512562 94.73684210526315\n"
          ]
        }
      ]
    },
    {
      "cell_type": "code",
      "source": [
        "cm = confusion_matrix(y_test, y_pred_test)\n",
        "cm"
      ],
      "metadata": {
        "colab": {
          "base_uri": "https://localhost:8080/",
          "height": 0
        },
        "id": "5JgrnhAMPGzG",
        "outputId": "1cb5b0e8-c872-418b-e1e7-515c5e6e7d1a"
      },
      "execution_count": 175,
      "outputs": [
        {
          "output_type": "execute_result",
          "data": {
            "text/plain": [
              "array([[ 55,   8],\n",
              "       [  1, 107]])"
            ]
          },
          "metadata": {},
          "execution_count": 175
        }
      ]
    },
    {
      "cell_type": "markdown",
      "source": [
        "# **Using sklearn**"
      ],
      "metadata": {
        "id": "7TnFwfSxA77P"
      }
    },
    {
      "cell_type": "markdown",
      "source": [
        "## Social_Networking_Ads "
      ],
      "metadata": {
        "id": "5hz74Rmxl_LV"
      }
    },
    {
      "cell_type": "code",
      "source": [
        "data = pd.read_csv('/content/Social_Network_Ads.csv')\n",
        "data.head()"
      ],
      "metadata": {
        "colab": {
          "base_uri": "https://localhost:8080/",
          "height": 206
        },
        "id": "k1fFXSg8j2Kv",
        "outputId": "28661964-d2f9-4f43-c724-c32f23da290f"
      },
      "execution_count": 177,
      "outputs": [
        {
          "output_type": "execute_result",
          "data": {
            "text/plain": [
              "    User ID  Gender  Age  EstimatedSalary  Purchased\n",
              "0  15624510    Male   19            19000          0\n",
              "1  15810944    Male   35            20000          0\n",
              "2  15668575  Female   26            43000          0\n",
              "3  15603246  Female   27            57000          0\n",
              "4  15804002    Male   19            76000          0"
            ],
            "text/html": [
              "\n",
              "  <div id=\"df-606c845d-d856-4622-a28a-672e6cdce8a6\">\n",
              "    <div class=\"colab-df-container\">\n",
              "      <div>\n",
              "<style scoped>\n",
              "    .dataframe tbody tr th:only-of-type {\n",
              "        vertical-align: middle;\n",
              "    }\n",
              "\n",
              "    .dataframe tbody tr th {\n",
              "        vertical-align: top;\n",
              "    }\n",
              "\n",
              "    .dataframe thead th {\n",
              "        text-align: right;\n",
              "    }\n",
              "</style>\n",
              "<table border=\"1\" class=\"dataframe\">\n",
              "  <thead>\n",
              "    <tr style=\"text-align: right;\">\n",
              "      <th></th>\n",
              "      <th>User ID</th>\n",
              "      <th>Gender</th>\n",
              "      <th>Age</th>\n",
              "      <th>EstimatedSalary</th>\n",
              "      <th>Purchased</th>\n",
              "    </tr>\n",
              "  </thead>\n",
              "  <tbody>\n",
              "    <tr>\n",
              "      <th>0</th>\n",
              "      <td>15624510</td>\n",
              "      <td>Male</td>\n",
              "      <td>19</td>\n",
              "      <td>19000</td>\n",
              "      <td>0</td>\n",
              "    </tr>\n",
              "    <tr>\n",
              "      <th>1</th>\n",
              "      <td>15810944</td>\n",
              "      <td>Male</td>\n",
              "      <td>35</td>\n",
              "      <td>20000</td>\n",
              "      <td>0</td>\n",
              "    </tr>\n",
              "    <tr>\n",
              "      <th>2</th>\n",
              "      <td>15668575</td>\n",
              "      <td>Female</td>\n",
              "      <td>26</td>\n",
              "      <td>43000</td>\n",
              "      <td>0</td>\n",
              "    </tr>\n",
              "    <tr>\n",
              "      <th>3</th>\n",
              "      <td>15603246</td>\n",
              "      <td>Female</td>\n",
              "      <td>27</td>\n",
              "      <td>57000</td>\n",
              "      <td>0</td>\n",
              "    </tr>\n",
              "    <tr>\n",
              "      <th>4</th>\n",
              "      <td>15804002</td>\n",
              "      <td>Male</td>\n",
              "      <td>19</td>\n",
              "      <td>76000</td>\n",
              "      <td>0</td>\n",
              "    </tr>\n",
              "  </tbody>\n",
              "</table>\n",
              "</div>\n",
              "      <button class=\"colab-df-convert\" onclick=\"convertToInteractive('df-606c845d-d856-4622-a28a-672e6cdce8a6')\"\n",
              "              title=\"Convert this dataframe to an interactive table.\"\n",
              "              style=\"display:none;\">\n",
              "        \n",
              "  <svg xmlns=\"http://www.w3.org/2000/svg\" height=\"24px\"viewBox=\"0 0 24 24\"\n",
              "       width=\"24px\">\n",
              "    <path d=\"M0 0h24v24H0V0z\" fill=\"none\"/>\n",
              "    <path d=\"M18.56 5.44l.94 2.06.94-2.06 2.06-.94-2.06-.94-.94-2.06-.94 2.06-2.06.94zm-11 1L8.5 8.5l.94-2.06 2.06-.94-2.06-.94L8.5 2.5l-.94 2.06-2.06.94zm10 10l.94 2.06.94-2.06 2.06-.94-2.06-.94-.94-2.06-.94 2.06-2.06.94z\"/><path d=\"M17.41 7.96l-1.37-1.37c-.4-.4-.92-.59-1.43-.59-.52 0-1.04.2-1.43.59L10.3 9.45l-7.72 7.72c-.78.78-.78 2.05 0 2.83L4 21.41c.39.39.9.59 1.41.59.51 0 1.02-.2 1.41-.59l7.78-7.78 2.81-2.81c.8-.78.8-2.07 0-2.86zM5.41 20L4 18.59l7.72-7.72 1.47 1.35L5.41 20z\"/>\n",
              "  </svg>\n",
              "      </button>\n",
              "      \n",
              "  <style>\n",
              "    .colab-df-container {\n",
              "      display:flex;\n",
              "      flex-wrap:wrap;\n",
              "      gap: 12px;\n",
              "    }\n",
              "\n",
              "    .colab-df-convert {\n",
              "      background-color: #E8F0FE;\n",
              "      border: none;\n",
              "      border-radius: 50%;\n",
              "      cursor: pointer;\n",
              "      display: none;\n",
              "      fill: #1967D2;\n",
              "      height: 32px;\n",
              "      padding: 0 0 0 0;\n",
              "      width: 32px;\n",
              "    }\n",
              "\n",
              "    .colab-df-convert:hover {\n",
              "      background-color: #E2EBFA;\n",
              "      box-shadow: 0px 1px 2px rgba(60, 64, 67, 0.3), 0px 1px 3px 1px rgba(60, 64, 67, 0.15);\n",
              "      fill: #174EA6;\n",
              "    }\n",
              "\n",
              "    [theme=dark] .colab-df-convert {\n",
              "      background-color: #3B4455;\n",
              "      fill: #D2E3FC;\n",
              "    }\n",
              "\n",
              "    [theme=dark] .colab-df-convert:hover {\n",
              "      background-color: #434B5C;\n",
              "      box-shadow: 0px 1px 3px 1px rgba(0, 0, 0, 0.15);\n",
              "      filter: drop-shadow(0px 1px 2px rgba(0, 0, 0, 0.3));\n",
              "      fill: #FFFFFF;\n",
              "    }\n",
              "  </style>\n",
              "\n",
              "      <script>\n",
              "        const buttonEl =\n",
              "          document.querySelector('#df-606c845d-d856-4622-a28a-672e6cdce8a6 button.colab-df-convert');\n",
              "        buttonEl.style.display =\n",
              "          google.colab.kernel.accessAllowed ? 'block' : 'none';\n",
              "\n",
              "        async function convertToInteractive(key) {\n",
              "          const element = document.querySelector('#df-606c845d-d856-4622-a28a-672e6cdce8a6');\n",
              "          const dataTable =\n",
              "            await google.colab.kernel.invokeFunction('convertToInteractive',\n",
              "                                                     [key], {});\n",
              "          if (!dataTable) return;\n",
              "\n",
              "          const docLinkHtml = 'Like what you see? Visit the ' +\n",
              "            '<a target=\"_blank\" href=https://colab.research.google.com/notebooks/data_table.ipynb>data table notebook</a>'\n",
              "            + ' to learn more about interactive tables.';\n",
              "          element.innerHTML = '';\n",
              "          dataTable['output_type'] = 'display_data';\n",
              "          await google.colab.output.renderOutput(dataTable, element);\n",
              "          const docLink = document.createElement('div');\n",
              "          docLink.innerHTML = docLinkHtml;\n",
              "          element.appendChild(docLink);\n",
              "        }\n",
              "      </script>\n",
              "    </div>\n",
              "  </div>\n",
              "  "
            ]
          },
          "metadata": {},
          "execution_count": 177
        }
      ]
    },
    {
      "cell_type": "code",
      "source": [
        "X = data.iloc[:, [1,2,3]]\n",
        "y = data.iloc[:, -1]\n",
        "X"
      ],
      "metadata": {
        "colab": {
          "base_uri": "https://localhost:8080/",
          "height": 423
        },
        "id": "8FDD0zR7lAoT",
        "outputId": "09e81083-b8cd-4c07-d36e-2988e630e9cb"
      },
      "execution_count": 178,
      "outputs": [
        {
          "output_type": "execute_result",
          "data": {
            "text/plain": [
              "     Gender  Age  EstimatedSalary\n",
              "0      Male   19            19000\n",
              "1      Male   35            20000\n",
              "2    Female   26            43000\n",
              "3    Female   27            57000\n",
              "4      Male   19            76000\n",
              "..      ...  ...              ...\n",
              "395  Female   46            41000\n",
              "396    Male   51            23000\n",
              "397  Female   50            20000\n",
              "398    Male   36            33000\n",
              "399  Female   49            36000\n",
              "\n",
              "[400 rows x 3 columns]"
            ],
            "text/html": [
              "\n",
              "  <div id=\"df-ccabea0b-41e9-4cbd-90b8-1cccaa5e8b5a\">\n",
              "    <div class=\"colab-df-container\">\n",
              "      <div>\n",
              "<style scoped>\n",
              "    .dataframe tbody tr th:only-of-type {\n",
              "        vertical-align: middle;\n",
              "    }\n",
              "\n",
              "    .dataframe tbody tr th {\n",
              "        vertical-align: top;\n",
              "    }\n",
              "\n",
              "    .dataframe thead th {\n",
              "        text-align: right;\n",
              "    }\n",
              "</style>\n",
              "<table border=\"1\" class=\"dataframe\">\n",
              "  <thead>\n",
              "    <tr style=\"text-align: right;\">\n",
              "      <th></th>\n",
              "      <th>Gender</th>\n",
              "      <th>Age</th>\n",
              "      <th>EstimatedSalary</th>\n",
              "    </tr>\n",
              "  </thead>\n",
              "  <tbody>\n",
              "    <tr>\n",
              "      <th>0</th>\n",
              "      <td>Male</td>\n",
              "      <td>19</td>\n",
              "      <td>19000</td>\n",
              "    </tr>\n",
              "    <tr>\n",
              "      <th>1</th>\n",
              "      <td>Male</td>\n",
              "      <td>35</td>\n",
              "      <td>20000</td>\n",
              "    </tr>\n",
              "    <tr>\n",
              "      <th>2</th>\n",
              "      <td>Female</td>\n",
              "      <td>26</td>\n",
              "      <td>43000</td>\n",
              "    </tr>\n",
              "    <tr>\n",
              "      <th>3</th>\n",
              "      <td>Female</td>\n",
              "      <td>27</td>\n",
              "      <td>57000</td>\n",
              "    </tr>\n",
              "    <tr>\n",
              "      <th>4</th>\n",
              "      <td>Male</td>\n",
              "      <td>19</td>\n",
              "      <td>76000</td>\n",
              "    </tr>\n",
              "    <tr>\n",
              "      <th>...</th>\n",
              "      <td>...</td>\n",
              "      <td>...</td>\n",
              "      <td>...</td>\n",
              "    </tr>\n",
              "    <tr>\n",
              "      <th>395</th>\n",
              "      <td>Female</td>\n",
              "      <td>46</td>\n",
              "      <td>41000</td>\n",
              "    </tr>\n",
              "    <tr>\n",
              "      <th>396</th>\n",
              "      <td>Male</td>\n",
              "      <td>51</td>\n",
              "      <td>23000</td>\n",
              "    </tr>\n",
              "    <tr>\n",
              "      <th>397</th>\n",
              "      <td>Female</td>\n",
              "      <td>50</td>\n",
              "      <td>20000</td>\n",
              "    </tr>\n",
              "    <tr>\n",
              "      <th>398</th>\n",
              "      <td>Male</td>\n",
              "      <td>36</td>\n",
              "      <td>33000</td>\n",
              "    </tr>\n",
              "    <tr>\n",
              "      <th>399</th>\n",
              "      <td>Female</td>\n",
              "      <td>49</td>\n",
              "      <td>36000</td>\n",
              "    </tr>\n",
              "  </tbody>\n",
              "</table>\n",
              "<p>400 rows × 3 columns</p>\n",
              "</div>\n",
              "      <button class=\"colab-df-convert\" onclick=\"convertToInteractive('df-ccabea0b-41e9-4cbd-90b8-1cccaa5e8b5a')\"\n",
              "              title=\"Convert this dataframe to an interactive table.\"\n",
              "              style=\"display:none;\">\n",
              "        \n",
              "  <svg xmlns=\"http://www.w3.org/2000/svg\" height=\"24px\"viewBox=\"0 0 24 24\"\n",
              "       width=\"24px\">\n",
              "    <path d=\"M0 0h24v24H0V0z\" fill=\"none\"/>\n",
              "    <path d=\"M18.56 5.44l.94 2.06.94-2.06 2.06-.94-2.06-.94-.94-2.06-.94 2.06-2.06.94zm-11 1L8.5 8.5l.94-2.06 2.06-.94-2.06-.94L8.5 2.5l-.94 2.06-2.06.94zm10 10l.94 2.06.94-2.06 2.06-.94-2.06-.94-.94-2.06-.94 2.06-2.06.94z\"/><path d=\"M17.41 7.96l-1.37-1.37c-.4-.4-.92-.59-1.43-.59-.52 0-1.04.2-1.43.59L10.3 9.45l-7.72 7.72c-.78.78-.78 2.05 0 2.83L4 21.41c.39.39.9.59 1.41.59.51 0 1.02-.2 1.41-.59l7.78-7.78 2.81-2.81c.8-.78.8-2.07 0-2.86zM5.41 20L4 18.59l7.72-7.72 1.47 1.35L5.41 20z\"/>\n",
              "  </svg>\n",
              "      </button>\n",
              "      \n",
              "  <style>\n",
              "    .colab-df-container {\n",
              "      display:flex;\n",
              "      flex-wrap:wrap;\n",
              "      gap: 12px;\n",
              "    }\n",
              "\n",
              "    .colab-df-convert {\n",
              "      background-color: #E8F0FE;\n",
              "      border: none;\n",
              "      border-radius: 50%;\n",
              "      cursor: pointer;\n",
              "      display: none;\n",
              "      fill: #1967D2;\n",
              "      height: 32px;\n",
              "      padding: 0 0 0 0;\n",
              "      width: 32px;\n",
              "    }\n",
              "\n",
              "    .colab-df-convert:hover {\n",
              "      background-color: #E2EBFA;\n",
              "      box-shadow: 0px 1px 2px rgba(60, 64, 67, 0.3), 0px 1px 3px 1px rgba(60, 64, 67, 0.15);\n",
              "      fill: #174EA6;\n",
              "    }\n",
              "\n",
              "    [theme=dark] .colab-df-convert {\n",
              "      background-color: #3B4455;\n",
              "      fill: #D2E3FC;\n",
              "    }\n",
              "\n",
              "    [theme=dark] .colab-df-convert:hover {\n",
              "      background-color: #434B5C;\n",
              "      box-shadow: 0px 1px 3px 1px rgba(0, 0, 0, 0.15);\n",
              "      filter: drop-shadow(0px 1px 2px rgba(0, 0, 0, 0.3));\n",
              "      fill: #FFFFFF;\n",
              "    }\n",
              "  </style>\n",
              "\n",
              "      <script>\n",
              "        const buttonEl =\n",
              "          document.querySelector('#df-ccabea0b-41e9-4cbd-90b8-1cccaa5e8b5a button.colab-df-convert');\n",
              "        buttonEl.style.display =\n",
              "          google.colab.kernel.accessAllowed ? 'block' : 'none';\n",
              "\n",
              "        async function convertToInteractive(key) {\n",
              "          const element = document.querySelector('#df-ccabea0b-41e9-4cbd-90b8-1cccaa5e8b5a');\n",
              "          const dataTable =\n",
              "            await google.colab.kernel.invokeFunction('convertToInteractive',\n",
              "                                                     [key], {});\n",
              "          if (!dataTable) return;\n",
              "\n",
              "          const docLinkHtml = 'Like what you see? Visit the ' +\n",
              "            '<a target=\"_blank\" href=https://colab.research.google.com/notebooks/data_table.ipynb>data table notebook</a>'\n",
              "            + ' to learn more about interactive tables.';\n",
              "          element.innerHTML = '';\n",
              "          dataTable['output_type'] = 'display_data';\n",
              "          await google.colab.output.renderOutput(dataTable, element);\n",
              "          const docLink = document.createElement('div');\n",
              "          docLink.innerHTML = docLinkHtml;\n",
              "          element.appendChild(docLink);\n",
              "        }\n",
              "      </script>\n",
              "    </div>\n",
              "  </div>\n",
              "  "
            ]
          },
          "metadata": {},
          "execution_count": 178
        }
      ]
    },
    {
      "cell_type": "code",
      "source": [
        "le = LabelEncoder()\n",
        "X.Gender = le.fit_transform(X.Gender) # Gender column\n",
        "X"
      ],
      "metadata": {
        "colab": {
          "base_uri": "https://localhost:8080/",
          "height": 528
        },
        "id": "gS6VKRRpleCZ",
        "outputId": "cd2bb85d-4c0b-4a2f-bedd-c6b2b1e98165"
      },
      "execution_count": 179,
      "outputs": [
        {
          "output_type": "stream",
          "name": "stderr",
          "text": [
            "/usr/local/lib/python3.7/dist-packages/pandas/core/generic.py:5516: SettingWithCopyWarning: \n",
            "A value is trying to be set on a copy of a slice from a DataFrame.\n",
            "Try using .loc[row_indexer,col_indexer] = value instead\n",
            "\n",
            "See the caveats in the documentation: https://pandas.pydata.org/pandas-docs/stable/user_guide/indexing.html#returning-a-view-versus-a-copy\n",
            "  self[name] = value\n"
          ]
        },
        {
          "output_type": "execute_result",
          "data": {
            "text/plain": [
              "     Gender  Age  EstimatedSalary\n",
              "0         1   19            19000\n",
              "1         1   35            20000\n",
              "2         0   26            43000\n",
              "3         0   27            57000\n",
              "4         1   19            76000\n",
              "..      ...  ...              ...\n",
              "395       0   46            41000\n",
              "396       1   51            23000\n",
              "397       0   50            20000\n",
              "398       1   36            33000\n",
              "399       0   49            36000\n",
              "\n",
              "[400 rows x 3 columns]"
            ],
            "text/html": [
              "\n",
              "  <div id=\"df-f54508e4-2bcd-4310-b6a0-ea78ceac29d9\">\n",
              "    <div class=\"colab-df-container\">\n",
              "      <div>\n",
              "<style scoped>\n",
              "    .dataframe tbody tr th:only-of-type {\n",
              "        vertical-align: middle;\n",
              "    }\n",
              "\n",
              "    .dataframe tbody tr th {\n",
              "        vertical-align: top;\n",
              "    }\n",
              "\n",
              "    .dataframe thead th {\n",
              "        text-align: right;\n",
              "    }\n",
              "</style>\n",
              "<table border=\"1\" class=\"dataframe\">\n",
              "  <thead>\n",
              "    <tr style=\"text-align: right;\">\n",
              "      <th></th>\n",
              "      <th>Gender</th>\n",
              "      <th>Age</th>\n",
              "      <th>EstimatedSalary</th>\n",
              "    </tr>\n",
              "  </thead>\n",
              "  <tbody>\n",
              "    <tr>\n",
              "      <th>0</th>\n",
              "      <td>1</td>\n",
              "      <td>19</td>\n",
              "      <td>19000</td>\n",
              "    </tr>\n",
              "    <tr>\n",
              "      <th>1</th>\n",
              "      <td>1</td>\n",
              "      <td>35</td>\n",
              "      <td>20000</td>\n",
              "    </tr>\n",
              "    <tr>\n",
              "      <th>2</th>\n",
              "      <td>0</td>\n",
              "      <td>26</td>\n",
              "      <td>43000</td>\n",
              "    </tr>\n",
              "    <tr>\n",
              "      <th>3</th>\n",
              "      <td>0</td>\n",
              "      <td>27</td>\n",
              "      <td>57000</td>\n",
              "    </tr>\n",
              "    <tr>\n",
              "      <th>4</th>\n",
              "      <td>1</td>\n",
              "      <td>19</td>\n",
              "      <td>76000</td>\n",
              "    </tr>\n",
              "    <tr>\n",
              "      <th>...</th>\n",
              "      <td>...</td>\n",
              "      <td>...</td>\n",
              "      <td>...</td>\n",
              "    </tr>\n",
              "    <tr>\n",
              "      <th>395</th>\n",
              "      <td>0</td>\n",
              "      <td>46</td>\n",
              "      <td>41000</td>\n",
              "    </tr>\n",
              "    <tr>\n",
              "      <th>396</th>\n",
              "      <td>1</td>\n",
              "      <td>51</td>\n",
              "      <td>23000</td>\n",
              "    </tr>\n",
              "    <tr>\n",
              "      <th>397</th>\n",
              "      <td>0</td>\n",
              "      <td>50</td>\n",
              "      <td>20000</td>\n",
              "    </tr>\n",
              "    <tr>\n",
              "      <th>398</th>\n",
              "      <td>1</td>\n",
              "      <td>36</td>\n",
              "      <td>33000</td>\n",
              "    </tr>\n",
              "    <tr>\n",
              "      <th>399</th>\n",
              "      <td>0</td>\n",
              "      <td>49</td>\n",
              "      <td>36000</td>\n",
              "    </tr>\n",
              "  </tbody>\n",
              "</table>\n",
              "<p>400 rows × 3 columns</p>\n",
              "</div>\n",
              "      <button class=\"colab-df-convert\" onclick=\"convertToInteractive('df-f54508e4-2bcd-4310-b6a0-ea78ceac29d9')\"\n",
              "              title=\"Convert this dataframe to an interactive table.\"\n",
              "              style=\"display:none;\">\n",
              "        \n",
              "  <svg xmlns=\"http://www.w3.org/2000/svg\" height=\"24px\"viewBox=\"0 0 24 24\"\n",
              "       width=\"24px\">\n",
              "    <path d=\"M0 0h24v24H0V0z\" fill=\"none\"/>\n",
              "    <path d=\"M18.56 5.44l.94 2.06.94-2.06 2.06-.94-2.06-.94-.94-2.06-.94 2.06-2.06.94zm-11 1L8.5 8.5l.94-2.06 2.06-.94-2.06-.94L8.5 2.5l-.94 2.06-2.06.94zm10 10l.94 2.06.94-2.06 2.06-.94-2.06-.94-.94-2.06-.94 2.06-2.06.94z\"/><path d=\"M17.41 7.96l-1.37-1.37c-.4-.4-.92-.59-1.43-.59-.52 0-1.04.2-1.43.59L10.3 9.45l-7.72 7.72c-.78.78-.78 2.05 0 2.83L4 21.41c.39.39.9.59 1.41.59.51 0 1.02-.2 1.41-.59l7.78-7.78 2.81-2.81c.8-.78.8-2.07 0-2.86zM5.41 20L4 18.59l7.72-7.72 1.47 1.35L5.41 20z\"/>\n",
              "  </svg>\n",
              "      </button>\n",
              "      \n",
              "  <style>\n",
              "    .colab-df-container {\n",
              "      display:flex;\n",
              "      flex-wrap:wrap;\n",
              "      gap: 12px;\n",
              "    }\n",
              "\n",
              "    .colab-df-convert {\n",
              "      background-color: #E8F0FE;\n",
              "      border: none;\n",
              "      border-radius: 50%;\n",
              "      cursor: pointer;\n",
              "      display: none;\n",
              "      fill: #1967D2;\n",
              "      height: 32px;\n",
              "      padding: 0 0 0 0;\n",
              "      width: 32px;\n",
              "    }\n",
              "\n",
              "    .colab-df-convert:hover {\n",
              "      background-color: #E2EBFA;\n",
              "      box-shadow: 0px 1px 2px rgba(60, 64, 67, 0.3), 0px 1px 3px 1px rgba(60, 64, 67, 0.15);\n",
              "      fill: #174EA6;\n",
              "    }\n",
              "\n",
              "    [theme=dark] .colab-df-convert {\n",
              "      background-color: #3B4455;\n",
              "      fill: #D2E3FC;\n",
              "    }\n",
              "\n",
              "    [theme=dark] .colab-df-convert:hover {\n",
              "      background-color: #434B5C;\n",
              "      box-shadow: 0px 1px 3px 1px rgba(0, 0, 0, 0.15);\n",
              "      filter: drop-shadow(0px 1px 2px rgba(0, 0, 0, 0.3));\n",
              "      fill: #FFFFFF;\n",
              "    }\n",
              "  </style>\n",
              "\n",
              "      <script>\n",
              "        const buttonEl =\n",
              "          document.querySelector('#df-f54508e4-2bcd-4310-b6a0-ea78ceac29d9 button.colab-df-convert');\n",
              "        buttonEl.style.display =\n",
              "          google.colab.kernel.accessAllowed ? 'block' : 'none';\n",
              "\n",
              "        async function convertToInteractive(key) {\n",
              "          const element = document.querySelector('#df-f54508e4-2bcd-4310-b6a0-ea78ceac29d9');\n",
              "          const dataTable =\n",
              "            await google.colab.kernel.invokeFunction('convertToInteractive',\n",
              "                                                     [key], {});\n",
              "          if (!dataTable) return;\n",
              "\n",
              "          const docLinkHtml = 'Like what you see? Visit the ' +\n",
              "            '<a target=\"_blank\" href=https://colab.research.google.com/notebooks/data_table.ipynb>data table notebook</a>'\n",
              "            + ' to learn more about interactive tables.';\n",
              "          element.innerHTML = '';\n",
              "          dataTable['output_type'] = 'display_data';\n",
              "          await google.colab.output.renderOutput(dataTable, element);\n",
              "          const docLink = document.createElement('div');\n",
              "          docLink.innerHTML = docLinkHtml;\n",
              "          element.appendChild(docLink);\n",
              "        }\n",
              "      </script>\n",
              "    </div>\n",
              "  </div>\n",
              "  "
            ]
          },
          "metadata": {},
          "execution_count": 179
        }
      ]
    },
    {
      "cell_type": "code",
      "source": [
        "sc = StandardScaler()\n",
        "X = sc.fit_transform(X)\n",
        "X"
      ],
      "metadata": {
        "colab": {
          "base_uri": "https://localhost:8080/",
          "height": 0
        },
        "id": "G1CmUdtxl6bT",
        "outputId": "59e1b129-914a-44bf-8687-9eda69a067af"
      },
      "execution_count": 180,
      "outputs": [
        {
          "output_type": "execute_result",
          "data": {
            "text/plain": [
              "array([[ 1.02020406, -1.78179743, -1.49004624],\n",
              "       [ 1.02020406, -0.25358736, -1.46068138],\n",
              "       [-0.98019606, -1.11320552, -0.78528968],\n",
              "       ...,\n",
              "       [-0.98019606,  1.17910958, -1.46068138],\n",
              "       [ 1.02020406, -0.15807423, -1.07893824],\n",
              "       [-0.98019606,  1.08359645, -0.99084367]])"
            ]
          },
          "metadata": {},
          "execution_count": 180
        }
      ]
    },
    {
      "cell_type": "code",
      "source": [
        "pd.DataFrame(X).describe"
      ],
      "metadata": {
        "colab": {
          "base_uri": "https://localhost:8080/",
          "height": 0
        },
        "id": "xnRb2KHPrpEv",
        "outputId": "aec420e8-d84d-41ea-8a39-8c78477070f3"
      },
      "execution_count": 181,
      "outputs": [
        {
          "output_type": "execute_result",
          "data": {
            "text/plain": [
              "<bound method NDFrame.describe of             0         1         2\n",
              "0    1.020204 -1.781797 -1.490046\n",
              "1    1.020204 -0.253587 -1.460681\n",
              "2   -0.980196 -1.113206 -0.785290\n",
              "3   -0.980196 -1.017692 -0.374182\n",
              "4    1.020204 -1.781797  0.183751\n",
              "..        ...       ...       ...\n",
              "395 -0.980196  0.797057 -0.844019\n",
              "396  1.020204  1.274623 -1.372587\n",
              "397 -0.980196  1.179110 -1.460681\n",
              "398  1.020204 -0.158074 -1.078938\n",
              "399 -0.980196  1.083596 -0.990844\n",
              "\n",
              "[400 rows x 3 columns]>"
            ]
          },
          "metadata": {},
          "execution_count": 181
        }
      ]
    },
    {
      "cell_type": "code",
      "source": [
        "X_train, X_test, y_train, y_test = train_test_split(X,y,test_size=0.3, random_state=42)"
      ],
      "metadata": {
        "id": "lYAwcLlfnJtO"
      },
      "execution_count": 182,
      "outputs": []
    },
    {
      "cell_type": "code",
      "source": [
        "X_train.shape"
      ],
      "metadata": {
        "colab": {
          "base_uri": "https://localhost:8080/",
          "height": 0
        },
        "id": "4BDzlu77oG5-",
        "outputId": "94ef48f7-fe0f-4f9c-b874-9f0a018bc503"
      },
      "execution_count": 183,
      "outputs": [
        {
          "output_type": "execute_result",
          "data": {
            "text/plain": [
              "(280, 3)"
            ]
          },
          "metadata": {},
          "execution_count": 183
        }
      ]
    },
    {
      "cell_type": "code",
      "source": [
        "X_test.shape"
      ],
      "metadata": {
        "colab": {
          "base_uri": "https://localhost:8080/",
          "height": 0
        },
        "id": "OfuDAx2Do6EL",
        "outputId": "115a8275-a259-4c74-e0f2-e8418014ca2e"
      },
      "execution_count": 184,
      "outputs": [
        {
          "output_type": "execute_result",
          "data": {
            "text/plain": [
              "(120, 3)"
            ]
          },
          "metadata": {},
          "execution_count": 184
        }
      ]
    },
    {
      "cell_type": "code",
      "source": [
        "model = GaussianNB()\n",
        "model.fit(X_train,y_train)\n",
        "y_pred_train = model.predict(X_train)\n",
        "y_pred_test = model.predict(X_test)"
      ],
      "metadata": {
        "id": "GSp6oFtapewG"
      },
      "execution_count": 185,
      "outputs": []
    },
    {
      "cell_type": "code",
      "source": [
        "train_acc = accuracy_score(y_train, y_pred_train)\n",
        "test_acc = accuracy_score(y_test, y_pred_test)\n",
        "print(train_acc*100, test_acc*100)"
      ],
      "metadata": {
        "colab": {
          "base_uri": "https://localhost:8080/",
          "height": 0
        },
        "id": "TKSWnuPdqgCS",
        "outputId": "af71667e-3837-47a3-f14e-e959d916c78c"
      },
      "execution_count": 186,
      "outputs": [
        {
          "output_type": "stream",
          "name": "stdout",
          "text": [
            "86.42857142857143 90.83333333333333\n"
          ]
        }
      ]
    },
    {
      "cell_type": "code",
      "source": [
        "cm = confusion_matrix(y_test, y_pred_test)\n",
        "cm"
      ],
      "metadata": {
        "colab": {
          "base_uri": "https://localhost:8080/",
          "height": 0
        },
        "id": "PCfE0dmTqUCP",
        "outputId": "e078a423-cc90-41f7-f302-3316879fb2db"
      },
      "execution_count": 187,
      "outputs": [
        {
          "output_type": "execute_result",
          "data": {
            "text/plain": [
              "array([[71,  2],\n",
              "       [ 9, 38]])"
            ]
          },
          "metadata": {},
          "execution_count": 187
        }
      ]
    },
    {
      "cell_type": "code",
      "source": [
        "plot_confusion_matrix(model, X_test, y_test)"
      ],
      "metadata": {
        "colab": {
          "base_uri": "https://localhost:8080/",
          "height": 431
        },
        "id": "CuaPulASrGuK",
        "outputId": "df612d9f-73cf-4b0e-bb40-30686825ad7c"
      },
      "execution_count": 188,
      "outputs": [
        {
          "output_type": "stream",
          "name": "stderr",
          "text": [
            "/usr/local/lib/python3.7/dist-packages/sklearn/utils/deprecation.py:87: FutureWarning: Function plot_confusion_matrix is deprecated; Function `plot_confusion_matrix` is deprecated in 1.0 and will be removed in 1.2. Use one of the class methods: ConfusionMatrixDisplay.from_predictions or ConfusionMatrixDisplay.from_estimator.\n",
            "  warnings.warn(msg, category=FutureWarning)\n"
          ]
        },
        {
          "output_type": "execute_result",
          "data": {
            "text/plain": [
              "<sklearn.metrics._plot.confusion_matrix.ConfusionMatrixDisplay at 0x7fbae83ce8d0>"
            ]
          },
          "metadata": {},
          "execution_count": 188
        },
        {
          "output_type": "display_data",
          "data": {
            "text/plain": [
              "<Figure size 432x432 with 2 Axes>"
            ],
            "image/png": "[encoded data removed]"
          },
          "metadata": {
            "needs_background": "light"
          }
        }
      ]
    },
    {
      "cell_type": "markdown",
      "source": [
        "## German creditcard dataset"
      ],
      "metadata": {
        "id": "iH-LJCtsmiXH"
      }
    },
    {
      "cell_type": "code",
      "source": [
        "data = pd.read_csv('/content/german_credit_data.csv')\n",
        "data.head()"
      ],
      "metadata": {
        "colab": {
          "base_uri": "https://localhost:8080/",
          "height": 206
        },
        "id": "3NgWi_SVmmpr",
        "outputId": "c9581053-0d43-47d9-d208-4cf1ab6696cd"
      },
      "execution_count": 189,
      "outputs": [
        {
          "output_type": "execute_result",
          "data": {
            "text/plain": [
              "   Unnamed: 0  Age     Sex  Job Housing Saving accounts Checking account  \\\n",
              "0           0   67    male    2     own             NaN           little   \n",
              "1           1   22  female    2     own          little         moderate   \n",
              "2           2   49    male    1     own          little              NaN   \n",
              "3           3   45    male    2    free          little           little   \n",
              "4           4   53    male    2    free          little           little   \n",
              "\n",
              "   Credit amount  Duration              Purpose  Risk  \n",
              "0           1169         6             radio/TV  good  \n",
              "1           5951        48             radio/TV   bad  \n",
              "2           2096        12            education  good  \n",
              "3           7882        42  furniture/equipment  good  \n",
              "4           4870        24                  car   bad  "
            ],
            "text/html": [
              "\n",
              "  <div id=\"df-4f904687-aa99-46d2-b7d0-44467d7ba19e\">\n",
              "    <div class=\"colab-df-container\">\n",
              "      <div>\n",
              "<style scoped>\n",
              "    .dataframe tbody tr th:only-of-type {\n",
              "        vertical-align: middle;\n",
              "    }\n",
              "\n",
              "    .dataframe tbody tr th {\n",
              "        vertical-align: top;\n",
              "    }\n",
              "\n",
              "    .dataframe thead th {\n",
              "        text-align: right;\n",
              "    }\n",
              "</style>\n",
              "<table border=\"1\" class=\"dataframe\">\n",
              "  <thead>\n",
              "    <tr style=\"text-align: right;\">\n",
              "      <th></th>\n",
              "      <th>Unnamed: 0</th>\n",
              "      <th>Age</th>\n",
              "      <th>Sex</th>\n",
              "      <th>Job</th>\n",
              "      <th>Housing</th>\n",
              "      <th>Saving accounts</th>\n",
              "      <th>Checking account</th>\n",
              "      <th>Credit amount</th>\n",
              "      <th>Duration</th>\n",
              "      <th>Purpose</th>\n",
              "      <th>Risk</th>\n",
              "    </tr>\n",
              "  </thead>\n",
              "  <tbody>\n",
              "    <tr>\n",
              "      <th>0</th>\n",
              "      <td>0</td>\n",
              "      <td>67</td>\n",
              "      <td>male</td>\n",
              "      <td>2</td>\n",
              "      <td>own</td>\n",
              "      <td>NaN</td>\n",
              "      <td>little</td>\n",
              "      <td>1169</td>\n",
              "      <td>6</td>\n",
              "      <td>radio/TV</td>\n",
              "      <td>good</td>\n",
              "    </tr>\n",
              "    <tr>\n",
              "      <th>1</th>\n",
              "      <td>1</td>\n",
              "      <td>22</td>\n",
              "      <td>female</td>\n",
              "      <td>2</td>\n",
              "      <td>own</td>\n",
              "      <td>little</td>\n",
              "      <td>moderate</td>\n",
              "      <td>5951</td>\n",
              "      <td>48</td>\n",
              "      <td>radio/TV</td>\n",
              "      <td>bad</td>\n",
              "    </tr>\n",
              "    <tr>\n",
              "      <th>2</th>\n",
              "      <td>2</td>\n",
              "      <td>49</td>\n",
              "      <td>male</td>\n",
              "      <td>1</td>\n",
              "      <td>own</td>\n",
              "      <td>little</td>\n",
              "      <td>NaN</td>\n",
              "      <td>2096</td>\n",
              "      <td>12</td>\n",
              "      <td>education</td>\n",
              "      <td>good</td>\n",
              "    </tr>\n",
              "    <tr>\n",
              "      <th>3</th>\n",
              "      <td>3</td>\n",
              "      <td>45</td>\n",
              "      <td>male</td>\n",
              "      <td>2</td>\n",
              "      <td>free</td>\n",
              "      <td>little</td>\n",
              "      <td>little</td>\n",
              "      <td>7882</td>\n",
              "      <td>42</td>\n",
              "      <td>furniture/equipment</td>\n",
              "      <td>good</td>\n",
              "    </tr>\n",
              "    <tr>\n",
              "      <th>4</th>\n",
              "      <td>4</td>\n",
              "      <td>53</td>\n",
              "      <td>male</td>\n",
              "      <td>2</td>\n",
              "      <td>free</td>\n",
              "      <td>little</td>\n",
              "      <td>little</td>\n",
              "      <td>4870</td>\n",
              "      <td>24</td>\n",
              "      <td>car</td>\n",
              "      <td>bad</td>\n",
              "    </tr>\n",
              "  </tbody>\n",
              "</table>\n",
              "</div>\n",
              "      <button class=\"colab-df-convert\" onclick=\"convertToInteractive('df-4f904687-aa99-46d2-b7d0-44467d7ba19e')\"\n",
              "              title=\"Convert this dataframe to an interactive table.\"\n",
              "              style=\"display:none;\">\n",
              "        \n",
              "  <svg xmlns=\"http://www.w3.org/2000/svg\" height=\"24px\"viewBox=\"0 0 24 24\"\n",
              "       width=\"24px\">\n",
              "    <path d=\"M0 0h24v24H0V0z\" fill=\"none\"/>\n",
              "    <path d=\"M18.56 5.44l.94 2.06.94-2.06 2.06-.94-2.06-.94-.94-2.06-.94 2.06-2.06.94zm-11 1L8.5 8.5l.94-2.06 2.06-.94-2.06-.94L8.5 2.5l-.94 2.06-2.06.94zm10 10l.94 2.06.94-2.06 2.06-.94-2.06-.94-.94-2.06-.94 2.06-2.06.94z\"/><path d=\"M17.41 7.96l-1.37-1.37c-.4-.4-.92-.59-1.43-.59-.52 0-1.04.2-1.43.59L10.3 9.45l-7.72 7.72c-.78.78-.78 2.05 0 2.83L4 21.41c.39.39.9.59 1.41.59.51 0 1.02-.2 1.41-.59l7.78-7.78 2.81-2.81c.8-.78.8-2.07 0-2.86zM5.41 20L4 18.59l7.72-7.72 1.47 1.35L5.41 20z\"/>\n",
              "  </svg>\n",
              "      </button>\n",
              "      \n",
              "  <style>\n",
              "    .colab-df-container {\n",
              "      display:flex;\n",
              "      flex-wrap:wrap;\n",
              "      gap: 12px;\n",
              "    }\n",
              "\n",
              "    .colab-df-convert {\n",
              "      background-color: #E8F0FE;\n",
              "      border: none;\n",
              "      border-radius: 50%;\n",
              "      cursor: pointer;\n",
              "      display: none;\n",
              "      fill: #1967D2;\n",
              "      height: 32px;\n",
              "      padding: 0 0 0 0;\n",
              "      width: 32px;\n",
              "    }\n",
              "\n",
              "    .colab-df-convert:hover {\n",
              "      background-color: #E2EBFA;\n",
              "      box-shadow: 0px 1px 2px rgba(60, 64, 67, 0.3), 0px 1px 3px 1px rgba(60, 64, 67, 0.15);\n",
              "      fill: #174EA6;\n",
              "    }\n",
              "\n",
              "    [theme=dark] .colab-df-convert {\n",
              "      background-color: #3B4455;\n",
              "      fill: #D2E3FC;\n",
              "    }\n",
              "\n",
              "    [theme=dark] .colab-df-convert:hover {\n",
              "      background-color: #434B5C;\n",
              "      box-shadow: 0px 1px 3px 1px rgba(0, 0, 0, 0.15);\n",
              "      filter: drop-shadow(0px 1px 2px rgba(0, 0, 0, 0.3));\n",
              "      fill: #FFFFFF;\n",
              "    }\n",
              "  </style>\n",
              "\n",
              "      <script>\n",
              "        const buttonEl =\n",
              "          document.querySelector('#df-4f904687-aa99-46d2-b7d0-44467d7ba19e button.colab-df-convert');\n",
              "        buttonEl.style.display =\n",
              "          google.colab.kernel.accessAllowed ? 'block' : 'none';\n",
              "\n",
              "        async function convertToInteractive(key) {\n",
              "          const element = document.querySelector('#df-4f904687-aa99-46d2-b7d0-44467d7ba19e');\n",
              "          const dataTable =\n",
              "            await google.colab.kernel.invokeFunction('convertToInteractive',\n",
              "                                                     [key], {});\n",
              "          if (!dataTable) return;\n",
              "\n",
              "          const docLinkHtml = 'Like what you see? Visit the ' +\n",
              "            '<a target=\"_blank\" href=https://colab.research.google.com/notebooks/data_table.ipynb>data table notebook</a>'\n",
              "            + ' to learn more about interactive tables.';\n",
              "          element.innerHTML = '';\n",
              "          dataTable['output_type'] = 'display_data';\n",
              "          await google.colab.output.renderOutput(dataTable, element);\n",
              "          const docLink = document.createElement('div');\n",
              "          docLink.innerHTML = docLinkHtml;\n",
              "          element.appendChild(docLink);\n",
              "        }\n",
              "      </script>\n",
              "    </div>\n",
              "  </div>\n",
              "  "
            ]
          },
          "metadata": {},
          "execution_count": 189
        }
      ]
    },
    {
      "cell_type": "code",
      "source": [
        "data.info()"
      ],
      "metadata": {
        "colab": {
          "base_uri": "https://localhost:8080/",
          "height": 0
        },
        "id": "ElyzTNEHnkKw",
        "outputId": "9cb15e6c-85b2-4e32-9b9a-f8fb8a82ba98"
      },
      "execution_count": 190,
      "outputs": [
        {
          "output_type": "stream",
          "name": "stdout",
          "text": [
            "<class 'pandas.core.frame.DataFrame'>\n",
            "RangeIndex: 1000 entries, 0 to 999\n",
            "Data columns (total 11 columns):\n",
            " #   Column            Non-Null Count  Dtype \n",
            "---  ------            --------------  ----- \n",
            " 0   Unnamed: 0        1000 non-null   int64 \n",
            " 1   Age               1000 non-null   int64 \n",
            " 2   Sex               1000 non-null   object\n",
            " 3   Job               1000 non-null   int64 \n",
            " 4   Housing           1000 non-null   object\n",
            " 5   Saving accounts   817 non-null    object\n",
            " 6   Checking account  606 non-null    object\n",
            " 7   Credit amount     1000 non-null   int64 \n",
            " 8   Duration          1000 non-null   int64 \n",
            " 9   Purpose           1000 non-null   object\n",
            " 10  Risk              1000 non-null   object\n",
            "dtypes: int64(5), object(6)\n",
            "memory usage: 86.1+ KB\n"
          ]
        }
      ]
    },
    {
      "cell_type": "code",
      "source": [
        "data.drop(['Unnamed: 0'],axis=1, inplace=True)"
      ],
      "metadata": {
        "id": "4Y4t3ut01ZLu"
      },
      "execution_count": 191,
      "outputs": []
    },
    {
      "cell_type": "code",
      "source": [
        "data.columns = data.columns.str.replace(' ','_')"
      ],
      "metadata": {
        "id": "9BcV8N3xpm_4"
      },
      "execution_count": 192,
      "outputs": []
    },
    {
      "cell_type": "code",
      "source": [
        "data.info()"
      ],
      "metadata": {
        "id": "Jp8U69PDpvpC",
        "colab": {
          "base_uri": "https://localhost:8080/",
          "height": 0
        },
        "outputId": "4868bdc0-3120-4122-f5a6-3849730f9878"
      },
      "execution_count": 193,
      "outputs": [
        {
          "output_type": "stream",
          "name": "stdout",
          "text": [
            "<class 'pandas.core.frame.DataFrame'>\n",
            "RangeIndex: 1000 entries, 0 to 999\n",
            "Data columns (total 10 columns):\n",
            " #   Column            Non-Null Count  Dtype \n",
            "---  ------            --------------  ----- \n",
            " 0   Age               1000 non-null   int64 \n",
            " 1   Sex               1000 non-null   object\n",
            " 2   Job               1000 non-null   int64 \n",
            " 3   Housing           1000 non-null   object\n",
            " 4   Saving_accounts   817 non-null    object\n",
            " 5   Checking_account  606 non-null    object\n",
            " 6   Credit_amount     1000 non-null   int64 \n",
            " 7   Duration          1000 non-null   int64 \n",
            " 8   Purpose           1000 non-null   object\n",
            " 9   Risk              1000 non-null   object\n",
            "dtypes: int64(4), object(6)\n",
            "memory usage: 78.2+ KB\n"
          ]
        }
      ]
    },
    {
      "cell_type": "markdown",
      "source": [
        "As there is vess little to no corellation among all features we can select all of them"
      ],
      "metadata": {
        "id": "q3V6DTrc99gP"
      }
    },
    {
      "cell_type": "code",
      "source": [
        "corr = data.iloc[:,:-1].corr(method=\"pearson\")\n",
        "cmap = sns.diverging_palette(250,354,80,60,center='dark',as_cmap=True)\n",
        "sns.heatmap(corr, vmax=1, vmin=-0.5, cmap=cmap, annot=True, square=True, linewidths=0.2)"
      ],
      "metadata": {
        "colab": {
          "base_uri": "https://localhost:8080/",
          "height": 378
        },
        "id": "4ybAcDnZ9Pe2",
        "outputId": "90adea15-f730-4e39-c2ff-a44f1584dabb"
      },
      "execution_count": 194,
      "outputs": [
        {
          "output_type": "execute_result",
          "data": {
            "text/plain": [
              "<matplotlib.axes._subplots.AxesSubplot at 0x7fbae83020d0>"
            ]
          },
          "metadata": {},
          "execution_count": 194
        },
        {
          "output_type": "display_data",
          "data": {
            "text/plain": [
              "<Figure size 432x432 with 2 Axes>"
            ],
            "image/png": "[encoded data removed]"
          },
          "metadata": {
            "needs_background": "light"
          }
        }
      ]
    },
    {
      "cell_type": "code",
      "source": [
        "X = data.iloc[:,:-1]\n",
        "y = data.iloc[:,-1]\n",
        "\n",
        "X"
      ],
      "metadata": {
        "colab": {
          "base_uri": "https://localhost:8080/",
          "height": 423
        },
        "id": "6JY00Bo7yNGQ",
        "outputId": "95dc432e-21b0-4a4b-e7ae-c8bda6c6a470"
      },
      "execution_count": 195,
      "outputs": [
        {
          "output_type": "execute_result",
          "data": {
            "text/plain": [
              "     Age     Sex  Job Housing Saving_accounts Checking_account  Credit_amount  \\\n",
              "0     67    male    2     own             NaN           little           1169   \n",
              "1     22  female    2     own          little         moderate           5951   \n",
              "2     49    male    1     own          little              NaN           2096   \n",
              "3     45    male    2    free          little           little           7882   \n",
              "4     53    male    2    free          little           little           4870   \n",
              "..   ...     ...  ...     ...             ...              ...            ...   \n",
              "995   31  female    1     own          little              NaN           1736   \n",
              "996   40    male    3     own          little           little           3857   \n",
              "997   38    male    2     own          little              NaN            804   \n",
              "998   23    male    2    free          little           little           1845   \n",
              "999   27    male    2     own        moderate         moderate           4576   \n",
              "\n",
              "     Duration              Purpose  \n",
              "0           6             radio/TV  \n",
              "1          48             radio/TV  \n",
              "2          12            education  \n",
              "3          42  furniture/equipment  \n",
              "4          24                  car  \n",
              "..        ...                  ...  \n",
              "995        12  furniture/equipment  \n",
              "996        30                  car  \n",
              "997        12             radio/TV  \n",
              "998        45             radio/TV  \n",
              "999        45                  car  \n",
              "\n",
              "[1000 rows x 9 columns]"
            ],
            "text/html": [
              "\n",
              "  <div id=\"df-015af860-410e-41e1-82ac-0970ac1928c3\">\n",
              "    <div class=\"colab-df-container\">\n",
              "      <div>\n",
              "<style scoped>\n",
              "    .dataframe tbody tr th:only-of-type {\n",
              "        vertical-align: middle;\n",
              "    }\n",
              "\n",
              "    .dataframe tbody tr th {\n",
              "        vertical-align: top;\n",
              "    }\n",
              "\n",
              "    .dataframe thead th {\n",
              "        text-align: right;\n",
              "    }\n",
              "</style>\n",
              "<table border=\"1\" class=\"dataframe\">\n",
              "  <thead>\n",
              "    <tr style=\"text-align: right;\">\n",
              "      <th></th>\n",
              "      <th>Age</th>\n",
              "      <th>Sex</th>\n",
              "      <th>Job</th>\n",
              "      <th>Housing</th>\n",
              "      <th>Saving_accounts</th>\n",
              "      <th>Checking_account</th>\n",
              "      <th>Credit_amount</th>\n",
              "      <th>Duration</th>\n",
              "      <th>Purpose</th>\n",
              "    </tr>\n",
              "  </thead>\n",
              "  <tbody>\n",
              "    <tr>\n",
              "      <th>0</th>\n",
              "      <td>67</td>\n",
              "      <td>male</td>\n",
              "      <td>2</td>\n",
              "      <td>own</td>\n",
              "      <td>NaN</td>\n",
              "      <td>little</td>\n",
              "      <td>1169</td>\n",
              "      <td>6</td>\n",
              "      <td>radio/TV</td>\n",
              "    </tr>\n",
              "    <tr>\n",
              "      <th>1</th>\n",
              "      <td>22</td>\n",
              "      <td>female</td>\n",
              "      <td>2</td>\n",
              "      <td>own</td>\n",
              "      <td>little</td>\n",
              "      <td>moderate</td>\n",
              "      <td>5951</td>\n",
              "      <td>48</td>\n",
              "      <td>radio/TV</td>\n",
              "    </tr>\n",
              "    <tr>\n",
              "      <th>2</th>\n",
              "      <td>49</td>\n",
              "      <td>male</td>\n",
              "      <td>1</td>\n",
              "      <td>own</td>\n",
              "      <td>little</td>\n",
              "      <td>NaN</td>\n",
              "      <td>2096</td>\n",
              "      <td>12</td>\n",
              "      <td>education</td>\n",
              "    </tr>\n",
              "    <tr>\n",
              "      <th>3</th>\n",
              "      <td>45</td>\n",
              "      <td>male</td>\n",
              "      <td>2</td>\n",
              "      <td>free</td>\n",
              "      <td>little</td>\n",
              "      <td>little</td>\n",
              "      <td>7882</td>\n",
              "      <td>42</td>\n",
              "      <td>furniture/equipment</td>\n",
              "    </tr>\n",
              "    <tr>\n",
              "      <th>4</th>\n",
              "      <td>53</td>\n",
              "      <td>male</td>\n",
              "      <td>2</td>\n",
              "      <td>free</td>\n",
              "      <td>little</td>\n",
              "      <td>little</td>\n",
              "      <td>4870</td>\n",
              "      <td>24</td>\n",
              "      <td>car</td>\n",
              "    </tr>\n",
              "    <tr>\n",
              "      <th>...</th>\n",
              "      <td>...</td>\n",
              "      <td>...</td>\n",
              "      <td>...</td>\n",
              "      <td>...</td>\n",
              "      <td>...</td>\n",
              "      <td>...</td>\n",
              "      <td>...</td>\n",
              "      <td>...</td>\n",
              "      <td>...</td>\n",
              "    </tr>\n",
              "    <tr>\n",
              "      <th>995</th>\n",
              "      <td>31</td>\n",
              "      <td>female</td>\n",
              "      <td>1</td>\n",
              "      <td>own</td>\n",
              "      <td>little</td>\n",
              "      <td>NaN</td>\n",
              "      <td>1736</td>\n",
              "      <td>12</td>\n",
              "      <td>furniture/equipment</td>\n",
              "    </tr>\n",
              "    <tr>\n",
              "      <th>996</th>\n",
              "      <td>40</td>\n",
              "      <td>male</td>\n",
              "      <td>3</td>\n",
              "      <td>own</td>\n",
              "      <td>little</td>\n",
              "      <td>little</td>\n",
              "      <td>3857</td>\n",
              "      <td>30</td>\n",
              "      <td>car</td>\n",
              "    </tr>\n",
              "    <tr>\n",
              "      <th>997</th>\n",
              "      <td>38</td>\n",
              "      <td>male</td>\n",
              "      <td>2</td>\n",
              "      <td>own</td>\n",
              "      <td>little</td>\n",
              "      <td>NaN</td>\n",
              "      <td>804</td>\n",
              "      <td>12</td>\n",
              "      <td>radio/TV</td>\n",
              "    </tr>\n",
              "    <tr>\n",
              "      <th>998</th>\n",
              "      <td>23</td>\n",
              "      <td>male</td>\n",
              "      <td>2</td>\n",
              "      <td>free</td>\n",
              "      <td>little</td>\n",
              "      <td>little</td>\n",
              "      <td>1845</td>\n",
              "      <td>45</td>\n",
              "      <td>radio/TV</td>\n",
              "    </tr>\n",
              "    <tr>\n",
              "      <th>999</th>\n",
              "      <td>27</td>\n",
              "      <td>male</td>\n",
              "      <td>2</td>\n",
              "      <td>own</td>\n",
              "      <td>moderate</td>\n",
              "      <td>moderate</td>\n",
              "      <td>4576</td>\n",
              "      <td>45</td>\n",
              "      <td>car</td>\n",
              "    </tr>\n",
              "  </tbody>\n",
              "</table>\n",
              "<p>1000 rows × 9 columns</p>\n",
              "</div>\n",
              "      <button class=\"colab-df-convert\" onclick=\"convertToInteractive('df-015af860-410e-41e1-82ac-0970ac1928c3')\"\n",
              "              title=\"Convert this dataframe to an interactive table.\"\n",
              "              style=\"display:none;\">\n",
              "        \n",
              "  <svg xmlns=\"http://www.w3.org/2000/svg\" height=\"24px\"viewBox=\"0 0 24 24\"\n",
              "       width=\"24px\">\n",
              "    <path d=\"M0 0h24v24H0V0z\" fill=\"none\"/>\n",
              "    <path d=\"M18.56 5.44l.94 2.06.94-2.06 2.06-.94-2.06-.94-.94-2.06-.94 2.06-2.06.94zm-11 1L8.5 8.5l.94-2.06 2.06-.94-2.06-.94L8.5 2.5l-.94 2.06-2.06.94zm10 10l.94 2.06.94-2.06 2.06-.94-2.06-.94-.94-2.06-.94 2.06-2.06.94z\"/><path d=\"M17.41 7.96l-1.37-1.37c-.4-.4-.92-.59-1.43-.59-.52 0-1.04.2-1.43.59L10.3 9.45l-7.72 7.72c-.78.78-.78 2.05 0 2.83L4 21.41c.39.39.9.59 1.41.59.51 0 1.02-.2 1.41-.59l7.78-7.78 2.81-2.81c.8-.78.8-2.07 0-2.86zM5.41 20L4 18.59l7.72-7.72 1.47 1.35L5.41 20z\"/>\n",
              "  </svg>\n",
              "      </button>\n",
              "      \n",
              "  <style>\n",
              "    .colab-df-container {\n",
              "      display:flex;\n",
              "      flex-wrap:wrap;\n",
              "      gap: 12px;\n",
              "    }\n",
              "\n",
              "    .colab-df-convert {\n",
              "      background-color: #E8F0FE;\n",
              "      border: none;\n",
              "      border-radius: 50%;\n",
              "      cursor: pointer;\n",
              "      display: none;\n",
              "      fill: #1967D2;\n",
              "      height: 32px;\n",
              "      padding: 0 0 0 0;\n",
              "      width: 32px;\n",
              "    }\n",
              "\n",
              "    .colab-df-convert:hover {\n",
              "      background-color: #E2EBFA;\n",
              "      box-shadow: 0px 1px 2px rgba(60, 64, 67, 0.3), 0px 1px 3px 1px rgba(60, 64, 67, 0.15);\n",
              "      fill: #174EA6;\n",
              "    }\n",
              "\n",
              "    [theme=dark] .colab-df-convert {\n",
              "      background-color: #3B4455;\n",
              "      fill: #D2E3FC;\n",
              "    }\n",
              "\n",
              "    [theme=dark] .colab-df-convert:hover {\n",
              "      background-color: #434B5C;\n",
              "      box-shadow: 0px 1px 3px 1px rgba(0, 0, 0, 0.15);\n",
              "      filter: drop-shadow(0px 1px 2px rgba(0, 0, 0, 0.3));\n",
              "      fill: #FFFFFF;\n",
              "    }\n",
              "  </style>\n",
              "\n",
              "      <script>\n",
              "        const buttonEl =\n",
              "          document.querySelector('#df-015af860-410e-41e1-82ac-0970ac1928c3 button.colab-df-convert');\n",
              "        buttonEl.style.display =\n",
              "          google.colab.kernel.accessAllowed ? 'block' : 'none';\n",
              "\n",
              "        async function convertToInteractive(key) {\n",
              "          const element = document.querySelector('#df-015af860-410e-41e1-82ac-0970ac1928c3');\n",
              "          const dataTable =\n",
              "            await google.colab.kernel.invokeFunction('convertToInteractive',\n",
              "                                                     [key], {});\n",
              "          if (!dataTable) return;\n",
              "\n",
              "          const docLinkHtml = 'Like what you see? Visit the ' +\n",
              "            '<a target=\"_blank\" href=https://colab.research.google.com/notebooks/data_table.ipynb>data table notebook</a>'\n",
              "            + ' to learn more about interactive tables.';\n",
              "          element.innerHTML = '';\n",
              "          dataTable['output_type'] = 'display_data';\n",
              "          await google.colab.output.renderOutput(dataTable, element);\n",
              "          const docLink = document.createElement('div');\n",
              "          docLink.innerHTML = docLinkHtml;\n",
              "          element.appendChild(docLink);\n",
              "        }\n",
              "      </script>\n",
              "    </div>\n",
              "  </div>\n",
              "  "
            ]
          },
          "metadata": {},
          "execution_count": 195
        }
      ]
    },
    {
      "cell_type": "code",
      "source": [
        "y"
      ],
      "metadata": {
        "colab": {
          "base_uri": "https://localhost:8080/",
          "height": 0
        },
        "id": "by5BpQ7t15aV",
        "outputId": "6c4c26d1-6186-43ff-80ce-6aaef9253c8e"
      },
      "execution_count": 196,
      "outputs": [
        {
          "output_type": "execute_result",
          "data": {
            "text/plain": [
              "0      good\n",
              "1       bad\n",
              "2      good\n",
              "3      good\n",
              "4       bad\n",
              "       ... \n",
              "995    good\n",
              "996    good\n",
              "997    good\n",
              "998     bad\n",
              "999    good\n",
              "Name: Risk, Length: 1000, dtype: object"
            ]
          },
          "metadata": {},
          "execution_count": 196
        }
      ]
    },
    {
      "cell_type": "code",
      "source": [
        "X = X.apply(LabelEncoder().fit_transform)\n",
        "X.head(10)"
      ],
      "metadata": {
        "colab": {
          "base_uri": "https://localhost:8080/",
          "height": 363
        },
        "id": "Lr2qjWGc154a",
        "outputId": "ed525e68-9a8e-4af9-e50a-1d0c30da1c0c"
      },
      "execution_count": 197,
      "outputs": [
        {
          "output_type": "execute_result",
          "data": {
            "text/plain": [
              "   Age  Sex  Job  Housing  Saving_accounts  Checking_account  Credit_amount  \\\n",
              "0   48    1    2        1                4                 0            142   \n",
              "1    3    0    2        1                0                 1            770   \n",
              "2   30    1    1        1                0                 3            390   \n",
              "3   26    1    2        0                0                 0            848   \n",
              "4   34    1    2        0                0                 0            734   \n",
              "5   16    1    1        0                4                 3            869   \n",
              "6   34    1    2        1                2                 3            533   \n",
              "7   16    1    3        2                0                 1            813   \n",
              "8   42    1    1        1                3                 3            562   \n",
              "9    9    1    3        1                0                 1            747   \n",
              "\n",
              "   Duration  Purpose  \n",
              "0         2        5  \n",
              "1        29        5  \n",
              "2         8        3  \n",
              "3        26        4  \n",
              "4        17        1  \n",
              "5        23        3  \n",
              "6        17        4  \n",
              "7        23        1  \n",
              "8         8        5  \n",
              "9        21        1  "
            ],
            "text/html": [
              "\n",
              "  <div id=\"df-104e4cf5-abe1-4dbe-9936-118559e5f618\">\n",
              "    <div class=\"colab-df-container\">\n",
              "      <div>\n",
              "<style scoped>\n",
              "    .dataframe tbody tr th:only-of-type {\n",
              "        vertical-align: middle;\n",
              "    }\n",
              "\n",
              "    .dataframe tbody tr th {\n",
              "        vertical-align: top;\n",
              "    }\n",
              "\n",
              "    .dataframe thead th {\n",
              "        text-align: right;\n",
              "    }\n",
              "</style>\n",
              "<table border=\"1\" class=\"dataframe\">\n",
              "  <thead>\n",
              "    <tr style=\"text-align: right;\">\n",
              "      <th></th>\n",
              "      <th>Age</th>\n",
              "      <th>Sex</th>\n",
              "      <th>Job</th>\n",
              "      <th>Housing</th>\n",
              "      <th>Saving_accounts</th>\n",
              "      <th>Checking_account</th>\n",
              "      <th>Credit_amount</th>\n",
              "      <th>Duration</th>\n",
              "      <th>Purpose</th>\n",
              "    </tr>\n",
              "  </thead>\n",
              "  <tbody>\n",
              "    <tr>\n",
              "      <th>0</th>\n",
              "      <td>48</td>\n",
              "      <td>1</td>\n",
              "      <td>2</td>\n",
              "      <td>1</td>\n",
              "      <td>4</td>\n",
              "      <td>0</td>\n",
              "      <td>142</td>\n",
              "      <td>2</td>\n",
              "      <td>5</td>\n",
              "    </tr>\n",
              "    <tr>\n",
              "      <th>1</th>\n",
              "      <td>3</td>\n",
              "      <td>0</td>\n",
              "      <td>2</td>\n",
              "      <td>1</td>\n",
              "      <td>0</td>\n",
              "      <td>1</td>\n",
              "      <td>770</td>\n",
              "      <td>29</td>\n",
              "      <td>5</td>\n",
              "    </tr>\n",
              "    <tr>\n",
              "      <th>2</th>\n",
              "      <td>30</td>\n",
              "      <td>1</td>\n",
              "      <td>1</td>\n",
              "      <td>1</td>\n",
              "      <td>0</td>\n",
              "      <td>3</td>\n",
              "      <td>390</td>\n",
              "      <td>8</td>\n",
              "      <td>3</td>\n",
              "    </tr>\n",
              "    <tr>\n",
              "      <th>3</th>\n",
              "      <td>26</td>\n",
              "      <td>1</td>\n",
              "      <td>2</td>\n",
              "      <td>0</td>\n",
              "      <td>0</td>\n",
              "      <td>0</td>\n",
              "      <td>848</td>\n",
              "      <td>26</td>\n",
              "      <td>4</td>\n",
              "    </tr>\n",
              "    <tr>\n",
              "      <th>4</th>\n",
              "      <td>34</td>\n",
              "      <td>1</td>\n",
              "      <td>2</td>\n",
              "      <td>0</td>\n",
              "      <td>0</td>\n",
              "      <td>0</td>\n",
              "      <td>734</td>\n",
              "      <td>17</td>\n",
              "      <td>1</td>\n",
              "    </tr>\n",
              "    <tr>\n",
              "      <th>5</th>\n",
              "      <td>16</td>\n",
              "      <td>1</td>\n",
              "      <td>1</td>\n",
              "      <td>0</td>\n",
              "      <td>4</td>\n",
              "      <td>3</td>\n",
              "      <td>869</td>\n",
              "      <td>23</td>\n",
              "      <td>3</td>\n",
              "    </tr>\n",
              "    <tr>\n",
              "      <th>6</th>\n",
              "      <td>34</td>\n",
              "      <td>1</td>\n",
              "      <td>2</td>\n",
              "      <td>1</td>\n",
              "      <td>2</td>\n",
              "      <td>3</td>\n",
              "      <td>533</td>\n",
              "      <td>17</td>\n",
              "      <td>4</td>\n",
              "    </tr>\n",
              "    <tr>\n",
              "      <th>7</th>\n",
              "      <td>16</td>\n",
              "      <td>1</td>\n",
              "      <td>3</td>\n",
              "      <td>2</td>\n",
              "      <td>0</td>\n",
              "      <td>1</td>\n",
              "      <td>813</td>\n",
              "      <td>23</td>\n",
              "      <td>1</td>\n",
              "    </tr>\n",
              "    <tr>\n",
              "      <th>8</th>\n",
              "      <td>42</td>\n",
              "      <td>1</td>\n",
              "      <td>1</td>\n",
              "      <td>1</td>\n",
              "      <td>3</td>\n",
              "      <td>3</td>\n",
              "      <td>562</td>\n",
              "      <td>8</td>\n",
              "      <td>5</td>\n",
              "    </tr>\n",
              "    <tr>\n",
              "      <th>9</th>\n",
              "      <td>9</td>\n",
              "      <td>1</td>\n",
              "      <td>3</td>\n",
              "      <td>1</td>\n",
              "      <td>0</td>\n",
              "      <td>1</td>\n",
              "      <td>747</td>\n",
              "      <td>21</td>\n",
              "      <td>1</td>\n",
              "    </tr>\n",
              "  </tbody>\n",
              "</table>\n",
              "</div>\n",
              "      <button class=\"colab-df-convert\" onclick=\"convertToInteractive('df-104e4cf5-abe1-4dbe-9936-118559e5f618')\"\n",
              "              title=\"Convert this dataframe to an interactive table.\"\n",
              "              style=\"display:none;\">\n",
              "        \n",
              "  <svg xmlns=\"http://www.w3.org/2000/svg\" height=\"24px\"viewBox=\"0 0 24 24\"\n",
              "       width=\"24px\">\n",
              "    <path d=\"M0 0h24v24H0V0z\" fill=\"none\"/>\n",
              "    <path d=\"M18.56 5.44l.94 2.06.94-2.06 2.06-.94-2.06-.94-.94-2.06-.94 2.06-2.06.94zm-11 1L8.5 8.5l.94-2.06 2.06-.94-2.06-.94L8.5 2.5l-.94 2.06-2.06.94zm10 10l.94 2.06.94-2.06 2.06-.94-2.06-.94-.94-2.06-.94 2.06-2.06.94z\"/><path d=\"M17.41 7.96l-1.37-1.37c-.4-.4-.92-.59-1.43-.59-.52 0-1.04.2-1.43.59L10.3 9.45l-7.72 7.72c-.78.78-.78 2.05 0 2.83L4 21.41c.39.39.9.59 1.41.59.51 0 1.02-.2 1.41-.59l7.78-7.78 2.81-2.81c.8-.78.8-2.07 0-2.86zM5.41 20L4 18.59l7.72-7.72 1.47 1.35L5.41 20z\"/>\n",
              "  </svg>\n",
              "      </button>\n",
              "      \n",
              "  <style>\n",
              "    .colab-df-container {\n",
              "      display:flex;\n",
              "      flex-wrap:wrap;\n",
              "      gap: 12px;\n",
              "    }\n",
              "\n",
              "    .colab-df-convert {\n",
              "      background-color: #E8F0FE;\n",
              "      border: none;\n",
              "      border-radius: 50%;\n",
              "      cursor: pointer;\n",
              "      display: none;\n",
              "      fill: #1967D2;\n",
              "      height: 32px;\n",
              "      padding: 0 0 0 0;\n",
              "      width: 32px;\n",
              "    }\n",
              "\n",
              "    .colab-df-convert:hover {\n",
              "      background-color: #E2EBFA;\n",
              "      box-shadow: 0px 1px 2px rgba(60, 64, 67, 0.3), 0px 1px 3px 1px rgba(60, 64, 67, 0.15);\n",
              "      fill: #174EA6;\n",
              "    }\n",
              "\n",
              "    [theme=dark] .colab-df-convert {\n",
              "      background-color: #3B4455;\n",
              "      fill: #D2E3FC;\n",
              "    }\n",
              "\n",
              "    [theme=dark] .colab-df-convert:hover {\n",
              "      background-color: #434B5C;\n",
              "      box-shadow: 0px 1px 3px 1px rgba(0, 0, 0, 0.15);\n",
              "      filter: drop-shadow(0px 1px 2px rgba(0, 0, 0, 0.3));\n",
              "      fill: #FFFFFF;\n",
              "    }\n",
              "  </style>\n",
              "\n",
              "      <script>\n",
              "        const buttonEl =\n",
              "          document.querySelector('#df-104e4cf5-abe1-4dbe-9936-118559e5f618 button.colab-df-convert');\n",
              "        buttonEl.style.display =\n",
              "          google.colab.kernel.accessAllowed ? 'block' : 'none';\n",
              "\n",
              "        async function convertToInteractive(key) {\n",
              "          const element = document.querySelector('#df-104e4cf5-abe1-4dbe-9936-118559e5f618');\n",
              "          const dataTable =\n",
              "            await google.colab.kernel.invokeFunction('convertToInteractive',\n",
              "                                                     [key], {});\n",
              "          if (!dataTable) return;\n",
              "\n",
              "          const docLinkHtml = 'Like what you see? Visit the ' +\n",
              "            '<a target=\"_blank\" href=https://colab.research.google.com/notebooks/data_table.ipynb>data table notebook</a>'\n",
              "            + ' to learn more about interactive tables.';\n",
              "          element.innerHTML = '';\n",
              "          dataTable['output_type'] = 'display_data';\n",
              "          await google.colab.output.renderOutput(dataTable, element);\n",
              "          const docLink = document.createElement('div');\n",
              "          docLink.innerHTML = docLinkHtml;\n",
              "          element.appendChild(docLink);\n",
              "        }\n",
              "      </script>\n",
              "    </div>\n",
              "  </div>\n",
              "  "
            ]
          },
          "metadata": {},
          "execution_count": 197
        }
      ]
    },
    {
      "cell_type": "code",
      "source": [
        "y = pd.Series(LabelEncoder().fit_transform(y),name=\"Risk\")\n",
        "y"
      ],
      "metadata": {
        "colab": {
          "base_uri": "https://localhost:8080/",
          "height": 0
        },
        "id": "4FEhJMuk3JU_",
        "outputId": "c6b1ad85-16fe-4069-986e-666d753dff5a"
      },
      "execution_count": 198,
      "outputs": [
        {
          "output_type": "execute_result",
          "data": {
            "text/plain": [
              "0      1\n",
              "1      0\n",
              "2      1\n",
              "3      1\n",
              "4      0\n",
              "      ..\n",
              "995    1\n",
              "996    1\n",
              "997    1\n",
              "998    0\n",
              "999    1\n",
              "Name: Risk, Length: 1000, dtype: int64"
            ]
          },
          "metadata": {},
          "execution_count": 198
        }
      ]
    },
    {
      "cell_type": "code",
      "source": [
        "X_train, X_test, y_train, y_test = train_test_split(X,y, test_size=0.3, random_state=0)\n",
        "print(X_train.shape, y_train.shape)\n",
        "print(y_test.shape, y_test.shape)"
      ],
      "metadata": {
        "colab": {
          "base_uri": "https://localhost:8080/",
          "height": 0
        },
        "id": "Udf2hI713njt",
        "outputId": "14a2e432-a7ff-4bc1-e581-89f3b9193973"
      },
      "execution_count": 199,
      "outputs": [
        {
          "output_type": "stream",
          "name": "stdout",
          "text": [
            "(700, 9) (700,)\n",
            "(300,) (300,)\n"
          ]
        }
      ]
    },
    {
      "cell_type": "code",
      "source": [
        "model = GaussianNB()\n",
        "model.fit(X_train,y_train)\n",
        "y_pred_train = model.predict(X_train)\n",
        "y_pred_test = model.predict(X_test)"
      ],
      "metadata": {
        "id": "86m83H5l4gIE"
      },
      "execution_count": 200,
      "outputs": []
    },
    {
      "cell_type": "code",
      "source": [
        "train_acc = accuracy_score(y_train, y_pred_train)\n",
        "test_acc = accuracy_score(y_test, y_pred_test)\n",
        "print(train_acc*100, test_acc*100)"
      ],
      "metadata": {
        "colab": {
          "base_uri": "https://localhost:8080/",
          "height": 0
        },
        "id": "rXkBHUdG44b-",
        "outputId": "52373017-a756-4fb8-a493-e5838e6fc7ef"
      },
      "execution_count": 201,
      "outputs": [
        {
          "output_type": "stream",
          "name": "stdout",
          "text": [
            "74.71428571428571 76.0\n"
          ]
        }
      ]
    },
    {
      "cell_type": "code",
      "source": [
        "cm = confusion_matrix(y_test, y_pred_test)\n",
        "cm"
      ],
      "metadata": {
        "colab": {
          "base_uri": "https://localhost:8080/",
          "height": 0
        },
        "id": "7Dfr8hJ95BWI",
        "outputId": "53038219-57f2-49f5-aca3-f29c564ec306"
      },
      "execution_count": 202,
      "outputs": [
        {
          "output_type": "execute_result",
          "data": {
            "text/plain": [
              "array([[ 50,  36],\n",
              "       [ 36, 178]])"
            ]
          },
          "metadata": {},
          "execution_count": 202
        }
      ]
    },
    {
      "cell_type": "code",
      "source": [
        "plot_confusion_matrix(model, X_test, y_test)"
      ],
      "metadata": {
        "colab": {
          "base_uri": "https://localhost:8080/",
          "height": 431
        },
        "id": "2mSO0_qK5GkF",
        "outputId": "b2f37aab-a2e9-4f19-94c2-e0201a65b787"
      },
      "execution_count": 203,
      "outputs": [
        {
          "output_type": "stream",
          "name": "stderr",
          "text": [
            "/usr/local/lib/python3.7/dist-packages/sklearn/utils/deprecation.py:87: FutureWarning: Function plot_confusion_matrix is deprecated; Function `plot_confusion_matrix` is deprecated in 1.0 and will be removed in 1.2. Use one of the class methods: ConfusionMatrixDisplay.from_predictions or ConfusionMatrixDisplay.from_estimator.\n",
            "  warnings.warn(msg, category=FutureWarning)\n"
          ]
        },
        {
          "output_type": "execute_result",
          "data": {
            "text/plain": [
              "<sklearn.metrics._plot.confusion_matrix.ConfusionMatrixDisplay at 0x7fbae8587510>"
            ]
          },
          "metadata": {},
          "execution_count": 203
        },
        {
          "output_type": "display_data",
          "data": {
            "text/plain": [
              "<Figure size 432x432 with 2 Axes>"
            ],
            "image/png": "[encoded data removed]"
          },
          "metadata": {
            "needs_background": "light"
          }
        }
      ]
    },
    {
      "cell_type": "code",
      "source": [
        ""
      ],
      "metadata": {
        "id": "FVT0zokLWNQN"
      },
      "execution_count": null,
      "outputs": []
    }
  ]
}